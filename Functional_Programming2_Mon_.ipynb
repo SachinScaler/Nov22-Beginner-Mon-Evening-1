{
  "nbformat": 4,
  "nbformat_minor": 0,
  "metadata": {
    "colab": {
      "provenance": [],
      "authorship_tag": "ABX9TyNDu0gKWm8dYfK4Ss4tNRwB",
      "include_colab_link": true
    },
    "kernelspec": {
      "name": "python3",
      "display_name": "Python 3"
    },
    "language_info": {
      "name": "python"
    },
    "gpuClass": "standard"
  },
  "cells": [
    {
      "cell_type": "markdown",
      "metadata": {
        "id": "view-in-github",
        "colab_type": "text"
      },
      "source": [
        "<a href=\"https://colab.research.google.com/github/SachinScaler/Nov22-Beginner-Mon-Evening-1/blob/main/Functional_Programming2_Mon_.ipynb\" target=\"_parent\"><img src=\"https://colab.research.google.com/assets/colab-badge.svg\" alt=\"Open In Colab\"/></a>"
      ]
    },
    {
      "cell_type": "markdown",
      "source": [
        "- sorting Quiz\n",
        "- Zip and Multizip Quiz\n",
        "- HigerOrder\n",
        "- Decorators"
      ],
      "metadata": {
        "id": "PeKM5MV1Hn9B"
      }
    },
    {
      "cell_type": "markdown",
      "source": [
        "```\n",
        "Lambda Functions is also called Anonymous\n",
        "11%\n",
        "B\n",
        "Lambda Functions can't be stored in Variable\n",
        "39% : This is not True\n",
        "C\n",
        "Lambda function takes a set of inputs and returns one or more outputs\n",
        "39%\n",
        "D\n",
        "Lambda function is a way to achieve Functional programming in python\n",
        "\n",
        "```"
      ],
      "metadata": {
        "id": "qWxryDIluB6W"
      }
    },
    {
      "cell_type": "code",
      "execution_count": 27,
      "metadata": {
        "id": "UOIC5uffHkGk",
        "colab": {
          "base_uri": "https://localhost:8080/"
        },
        "outputId": "6acc0024-3236-4137-86a6-c75bb0eb2c69"
      },
      "outputs": [
        {
          "output_type": "execute_result",
          "data": {
            "text/plain": [
              "(6, -4)"
            ]
          },
          "metadata": {},
          "execution_count": 27
        }
      ],
      "source": [
        "(lambda x,y,z:(x+y+z, x-y-z))(1,2 ,3)"
      ]
    },
    {
      "cell_type": "code",
      "source": [
        "# n*(n+1)/2 --> sum of n natural numbers\n",
        "5 * (10+1)"
      ],
      "metadata": {
        "id": "KwU4HrLIkREP",
        "colab": {
          "base_uri": "https://localhost:8080/"
        },
        "outputId": "62d8daf4-a0bc-4043-83d4-ad435be280b8"
      },
      "execution_count": 29,
      "outputs": [
        {
          "output_type": "execute_result",
          "data": {
            "text/plain": [
              "55"
            ]
          },
          "metadata": {},
          "execution_count": 29
        }
      ]
    },
    {
      "cell_type": "code",
      "source": [
        "#range(1,11) --> sum of numbers 1 to 11\n",
        "list(range(1,11))"
      ],
      "metadata": {
        "id": "fzIoFIq-l8v5",
        "colab": {
          "base_uri": "https://localhost:8080/"
        },
        "outputId": "9b002bbe-1067-479d-bca4-a8f1064c28be"
      },
      "execution_count": 30,
      "outputs": [
        {
          "output_type": "execute_result",
          "data": {
            "text/plain": [
              "[1, 2, 3, 4, 5, 6, 7, 8, 9, 10]"
            ]
          },
          "metadata": {},
          "execution_count": 30
        }
      ]
    },
    {
      "cell_type": "code",
      "source": [
        "lst = [1, 10, -3, 4, 15]\n",
        "\n",
        "def f1(x):\n",
        "    return x<6\n",
        "\n",
        "m1 = filter(f1, lst)\n",
        "print(list(m1))"
      ],
      "metadata": {
        "colab": {
          "base_uri": "https://localhost:8080/"
        },
        "id": "yALBhwV0vZyy",
        "outputId": "ff6acf67-8cf6-4299-dd5b-6cf44e0dacc0"
      },
      "execution_count": 31,
      "outputs": [
        {
          "output_type": "stream",
          "name": "stdout",
          "text": [
            "[1, -3, 4]\n"
          ]
        }
      ]
    },
    {
      "cell_type": "code",
      "source": [
        "m1 = filter(lambda x: x<6, lst)\n",
        "print(list(m1))"
      ],
      "metadata": {
        "colab": {
          "base_uri": "https://localhost:8080/"
        },
        "id": "jPQUJnSSv9MU",
        "outputId": "f5a204a7-4fd1-47a2-eaca-fa6b0e8d83c7"
      },
      "execution_count": 32,
      "outputs": [
        {
          "output_type": "stream",
          "name": "stdout",
          "text": [
            "[1, -3, 4]\n"
          ]
        }
      ]
    },
    {
      "cell_type": "markdown",
      "source": [
        "#### You can pass any function which returns a number"
      ],
      "metadata": {
        "id": "97NHnj-pwdkD"
      }
    },
    {
      "cell_type": "code",
      "source": [
        "list1 = [\"Heeello\", \"eeeel\", \"Voweels\", \"Kausach\", \"Elephant\" ]\n",
        "sorted(list1, key = lambda x: x.count('e'))"
      ],
      "metadata": {
        "colab": {
          "base_uri": "https://localhost:8080/"
        },
        "id": "uo4bKQoPwHlN",
        "outputId": "f82c2ad0-33a0-4247-d002-64434a5649e2"
      },
      "execution_count": 40,
      "outputs": [
        {
          "output_type": "execute_result",
          "data": {
            "text/plain": [
              "['Kausach', 'Elephant', 'Voweels', 'Heeello', 'eeeel']"
            ]
          },
          "metadata": {},
          "execution_count": 40
        }
      ]
    },
    {
      "cell_type": "code",
      "source": [
        "sorted(list1, key = lambda x: x.lower().count('e' or 'a'))"
      ],
      "metadata": {
        "colab": {
          "base_uri": "https://localhost:8080/"
        },
        "id": "-Goeo-q2x6Zw",
        "outputId": "c0423a78-f779-45af-afdc-ba1c3e91300b"
      },
      "execution_count": 41,
      "outputs": [
        {
          "output_type": "execute_result",
          "data": {
            "text/plain": [
              "['Kausach', 'Voweels', 'Elephant', 'Heeello', 'eeeel']"
            ]
          },
          "metadata": {},
          "execution_count": 41
        }
      ]
    },
    {
      "cell_type": "code",
      "source": [
        "sorted(list1, key = lambda x: x.lower().count('e'))"
      ],
      "metadata": {
        "colab": {
          "base_uri": "https://localhost:8080/"
        },
        "id": "V78aqhTTxoAH",
        "outputId": "d4d88e67-99ab-474c-e047-b5d3458a15ff"
      },
      "execution_count": 42,
      "outputs": [
        {
          "output_type": "execute_result",
          "data": {
            "text/plain": [
              "['Kausach', 'Voweels', 'Elephant', 'Heeello', 'eeeel']"
            ]
          },
          "metadata": {},
          "execution_count": 42
        }
      ]
    },
    {
      "cell_type": "code",
      "source": [
        "sorted(list1, key = lambda x: x.count('e') + x.count('a'))"
      ],
      "metadata": {
        "colab": {
          "base_uri": "https://localhost:8080/"
        },
        "id": "ZN0dFYWvxz58",
        "outputId": "b4ab9f85-69b6-4013-f339-eada5aaccbf6"
      },
      "execution_count": 38,
      "outputs": [
        {
          "output_type": "execute_result",
          "data": {
            "text/plain": [
              "['Kausach', 'Voweels', 'Elephant', 'Heeello', 'eeeel']"
            ]
          },
          "metadata": {},
          "execution_count": 38
        }
      ]
    },
    {
      "cell_type": "code",
      "source": [
        "['Kausach', 'Elephant', 'Voweels', 'Heeello', 'eeeel']"
      ],
      "metadata": {
        "id": "uF8P_iiWxOIS"
      },
      "execution_count": null,
      "outputs": []
    },
    {
      "cell_type": "code",
      "source": [
        "(lambda x: x.count('e'))(\"ello\")"
      ],
      "metadata": {
        "colab": {
          "base_uri": "https://localhost:8080/"
        },
        "id": "HMQGq2G8wnpB",
        "outputId": "0ae9b83c-279b-4cbf-9e8c-07af3c60464c"
      },
      "execution_count": 33,
      "outputs": [
        {
          "output_type": "execute_result",
          "data": {
            "text/plain": [
              "1"
            ]
          },
          "metadata": {},
          "execution_count": 33
        }
      ]
    },
    {
      "cell_type": "code",
      "source": [
        "list1 = [1,2,3]\n",
        "list2 = ['a', 'b', 'c']\n",
        "\n",
        "zip(list1, list2)"
      ],
      "metadata": {
        "colab": {
          "base_uri": "https://localhost:8080/"
        },
        "id": "io0XCPMrws_T",
        "outputId": "e79bcf8c-211c-4820-b7d5-851170edfa1b"
      },
      "execution_count": 43,
      "outputs": [
        {
          "output_type": "execute_result",
          "data": {
            "text/plain": [
              "<zip at 0x7f879e34b840>"
            ]
          },
          "metadata": {},
          "execution_count": 43
        }
      ]
    },
    {
      "cell_type": "code",
      "source": [
        "list(zip(list1, list2))"
      ],
      "metadata": {
        "colab": {
          "base_uri": "https://localhost:8080/"
        },
        "id": "bp4FcBGTzkit",
        "outputId": "967927e6-1b32-4a20-b855-2d367b63eb69"
      },
      "execution_count": 44,
      "outputs": [
        {
          "output_type": "execute_result",
          "data": {
            "text/plain": [
              "[(1, 'a'), (2, 'b'), (3, 'c')]"
            ]
          },
          "metadata": {},
          "execution_count": 44
        }
      ]
    },
    {
      "cell_type": "code",
      "source": [
        "set(zip(list1, list2))"
      ],
      "metadata": {
        "colab": {
          "base_uri": "https://localhost:8080/"
        },
        "id": "h9lw_Ihwzp5a",
        "outputId": "915d3a95-8de5-48f4-99ea-a04ef4917ad3"
      },
      "execution_count": 45,
      "outputs": [
        {
          "output_type": "execute_result",
          "data": {
            "text/plain": [
              "{(1, 'a'), (2, 'b'), (3, 'c')}"
            ]
          },
          "metadata": {},
          "execution_count": 45
        }
      ]
    },
    {
      "cell_type": "code",
      "source": [
        "dict(zip(list1, list2))"
      ],
      "metadata": {
        "colab": {
          "base_uri": "https://localhost:8080/"
        },
        "id": "2RB6tcxKzrx5",
        "outputId": "b72525fe-72b5-44c7-c6b4-12262ebb0991"
      },
      "execution_count": 46,
      "outputs": [
        {
          "output_type": "execute_result",
          "data": {
            "text/plain": [
              "{1: 'a', 2: 'b', 3: 'c'}"
            ]
          },
          "metadata": {},
          "execution_count": 46
        }
      ]
    },
    {
      "cell_type": "code",
      "source": [
        "list(map(list, zip(list1, list2)))"
      ],
      "metadata": {
        "colab": {
          "base_uri": "https://localhost:8080/"
        },
        "id": "X1I3smXKztpC",
        "outputId": "75c3e2bf-bda4-4668-ac37-23781bc4d6d7"
      },
      "execution_count": 48,
      "outputs": [
        {
          "output_type": "execute_result",
          "data": {
            "text/plain": [
              "[[1, 'a'], [2, 'b'], [3, 'c']]"
            ]
          },
          "metadata": {},
          "execution_count": 48
        }
      ]
    },
    {
      "cell_type": "code",
      "source": [
        "list1 = [\"A\", \"B\", \"C\", \"D\", \"E\"]\n",
        "list2 = [1,2,3,4]\n",
        "print(list(zip(list1,list2 )))"
      ],
      "metadata": {
        "colab": {
          "base_uri": "https://localhost:8080/"
        },
        "id": "YrhjjQr3z-8q",
        "outputId": "6ce8c5f1-d44c-4619-e1cc-b4bd5acd25fc"
      },
      "execution_count": 53,
      "outputs": [
        {
          "output_type": "stream",
          "name": "stdout",
          "text": [
            "[('A', 1), ('B', 2), ('C', 3), ('D', 4)]\n"
          ]
        }
      ]
    },
    {
      "cell_type": "code",
      "source": [
        "list1 = [\"A\", \"B\", \"C\", \"D\", \"E\"]\n",
        "list2 = range(1,10000)\n",
        "print(list(zip(list1,list2 )))"
      ],
      "metadata": {
        "colab": {
          "base_uri": "https://localhost:8080/"
        },
        "id": "ksuNdQiF0p8Y",
        "outputId": "6b09c676-59c5-43aa-e6f3-38aeee9fb5f1"
      },
      "execution_count": 52,
      "outputs": [
        {
          "output_type": "stream",
          "name": "stdout",
          "text": [
            "[('A', 1), ('B', 2), ('C', 3), ('D', 4), ('E', 5)]\n"
          ]
        }
      ]
    },
    {
      "cell_type": "code",
      "source": [
        "list1 = [\"A\", \"B\", \"C\", \"D\", \"E\"]\n",
        "list2 = []\n",
        "print(list(zip(list1,list2)))"
      ],
      "metadata": {
        "colab": {
          "base_uri": "https://localhost:8080/"
        },
        "id": "0A7b-gCF009r",
        "outputId": "ab7b0563-f445-4bbf-e5fb-4c29f54d01bd"
      },
      "execution_count": 54,
      "outputs": [
        {
          "output_type": "stream",
          "name": "stdout",
          "text": [
            "[]\n"
          ]
        }
      ]
    },
    {
      "cell_type": "code",
      "source": [
        "list1 = [\"A\", \"B\", \"C\"] # length 3\n",
        "list2 = [1,2,3,4] # length 4\n",
        "list3 = [\"!\", \"@\", \"#\", \"$\", \"%\"] # length 5\n",
        "list(zip(list1,list2 ,list3))"
      ],
      "metadata": {
        "colab": {
          "base_uri": "https://localhost:8080/"
        },
        "id": "rNn3FlWs1Fj6",
        "outputId": "4c0f642e-97fa-4baf-e00c-0a99c34a942e"
      },
      "execution_count": 55,
      "outputs": [
        {
          "output_type": "execute_result",
          "data": {
            "text/plain": [
              "[('A', 1, '!'), ('B', 2, '@'), ('C', 3, '#')]"
            ]
          },
          "metadata": {},
          "execution_count": 55
        }
      ]
    },
    {
      "cell_type": "code",
      "source": [
        "# Is this a HOF?\n",
        "def gen_exp(n):\n",
        "    def exp(x):\n",
        "        return x**n\n",
        "    return exp(3)\n",
        "type(gen_exp(2))\n",
        "\n",
        "## a function calling itself"
      ],
      "metadata": {
        "colab": {
          "base_uri": "https://localhost:8080/"
        },
        "id": "quIzL4gj1k_5",
        "outputId": "0a03a854-8fe7-4ee8-fdb6-3a5b8d5910ef"
      },
      "execution_count": 58,
      "outputs": [
        {
          "output_type": "execute_result",
          "data": {
            "text/plain": [
              "int"
            ]
          },
          "metadata": {},
          "execution_count": 58
        }
      ]
    },
    {
      "cell_type": "code",
      "source": [
        "# Is this a HOF?\n",
        "def gen_exp(n):\n",
        "    def exp(x):\n",
        "        return x**n\n",
        "    return exp\n",
        "type(gen_exp(2))\n",
        "## Higher Order Function"
      ],
      "metadata": {
        "colab": {
          "base_uri": "https://localhost:8080/"
        },
        "id": "B4hvl3zz2qXE",
        "outputId": "9640144c-646d-4428-d4f6-c8b6d865d968"
      },
      "execution_count": 59,
      "outputs": [
        {
          "output_type": "execute_result",
          "data": {
            "text/plain": [
              "function"
            ]
          },
          "metadata": {},
          "execution_count": 59
        }
      ]
    },
    {
      "cell_type": "code",
      "source": [
        "def exp_5(x):\n",
        "    return  x**5\n",
        "\n",
        "exp_5(2)"
      ],
      "metadata": {
        "colab": {
          "base_uri": "https://localhost:8080/"
        },
        "id": "aapz2MS43Fvi",
        "outputId": "a3344eb8-a71d-4b2c-cdf0-db584d440723"
      },
      "execution_count": 60,
      "outputs": [
        {
          "output_type": "execute_result",
          "data": {
            "text/plain": [
              "32"
            ]
          },
          "metadata": {},
          "execution_count": 60
        }
      ]
    },
    {
      "cell_type": "code",
      "source": [
        "def exp_6(x):\n",
        "    return  x**6\n",
        "\n",
        "exp_6(2)"
      ],
      "metadata": {
        "colab": {
          "base_uri": "https://localhost:8080/"
        },
        "id": "d0q6smO337Mc",
        "outputId": "db32fc6a-cdee-4701-ce01-202ab2fd7f0b"
      },
      "execution_count": 61,
      "outputs": [
        {
          "output_type": "execute_result",
          "data": {
            "text/plain": [
              "64"
            ]
          },
          "metadata": {},
          "execution_count": 61
        }
      ]
    },
    {
      "cell_type": "code",
      "source": [
        "def exp_3(x):\n",
        "    return  x**3\n",
        "\n",
        "exp_3(2)"
      ],
      "metadata": {
        "colab": {
          "base_uri": "https://localhost:8080/"
        },
        "id": "kAMIjuIy4DuP",
        "outputId": "4bcff0cf-2e1d-4602-a857-1fe9ca950467"
      },
      "execution_count": 62,
      "outputs": [
        {
          "output_type": "execute_result",
          "data": {
            "text/plain": [
              "8"
            ]
          },
          "metadata": {},
          "execution_count": 62
        }
      ]
    },
    {
      "cell_type": "code",
      "source": [
        "# HOF\n",
        "def gen_exp(n):\n",
        "    def exp(x):\n",
        "        return x**n\n",
        "    return exp\n",
        "\n",
        "exp_5 = gen_exp(5)\n",
        "type(exp_5)"
      ],
      "metadata": {
        "colab": {
          "base_uri": "https://localhost:8080/"
        },
        "id": "iqVqoJJB4GzD",
        "outputId": "5baeaa5d-b849-4182-ab3b-38ecc6e315f3"
      },
      "execution_count": 63,
      "outputs": [
        {
          "output_type": "execute_result",
          "data": {
            "text/plain": [
              "function"
            ]
          },
          "metadata": {},
          "execution_count": 63
        }
      ]
    },
    {
      "cell_type": "code",
      "source": [
        "exp_5(2)"
      ],
      "metadata": {
        "colab": {
          "base_uri": "https://localhost:8080/"
        },
        "id": "MvS58tQ34svO",
        "outputId": "2b83225e-569e-4a57-851e-6fec01acaeba"
      },
      "execution_count": 64,
      "outputs": [
        {
          "output_type": "execute_result",
          "data": {
            "text/plain": [
              "32"
            ]
          },
          "metadata": {},
          "execution_count": 64
        }
      ]
    },
    {
      "cell_type": "code",
      "source": [
        "exp_5(3)"
      ],
      "metadata": {
        "colab": {
          "base_uri": "https://localhost:8080/"
        },
        "id": "t6xb7Tt54zSh",
        "outputId": "191b877f-5ec8-4e19-a8a5-60b5f9ff34a1"
      },
      "execution_count": 65,
      "outputs": [
        {
          "output_type": "execute_result",
          "data": {
            "text/plain": [
              "243"
            ]
          },
          "metadata": {},
          "execution_count": 65
        }
      ]
    },
    {
      "cell_type": "code",
      "source": [
        "exp_6 = gen_exp(6)\n",
        "exp_6(2)"
      ],
      "metadata": {
        "colab": {
          "base_uri": "https://localhost:8080/"
        },
        "id": "byaA9r4D41JH",
        "outputId": "ca6930ee-d6e6-4664-b66d-886620de19ef"
      },
      "execution_count": 66,
      "outputs": [
        {
          "output_type": "execute_result",
          "data": {
            "text/plain": [
              "64"
            ]
          },
          "metadata": {},
          "execution_count": 66
        }
      ]
    },
    {
      "cell_type": "code",
      "source": [
        "exp_3 = gen_exp(3)\n",
        "exp_3(3)"
      ],
      "metadata": {
        "colab": {
          "base_uri": "https://localhost:8080/"
        },
        "id": "t0MmkwIG4_4T",
        "outputId": "0bb6c02a-b32d-43ff-e049-823de255e23e"
      },
      "execution_count": 67,
      "outputs": [
        {
          "output_type": "execute_result",
          "data": {
            "text/plain": [
              "27"
            ]
          },
          "metadata": {},
          "execution_count": 67
        }
      ]
    },
    {
      "cell_type": "code",
      "source": [
        "def add(y):\n",
        "    return 6+y\n",
        "\n",
        "a1 = add"
      ],
      "metadata": {
        "id": "SFnRDnr25Edb"
      },
      "execution_count": 68,
      "outputs": []
    },
    {
      "cell_type": "code",
      "source": [
        "a1(5)"
      ],
      "metadata": {
        "colab": {
          "base_uri": "https://localhost:8080/"
        },
        "id": "IeQS0BMO9j8W",
        "outputId": "bd350fa0-8378-43c4-8963-d6a168cf1463"
      },
      "execution_count": 69,
      "outputs": [
        {
          "output_type": "execute_result",
          "data": {
            "text/plain": [
              "11"
            ]
          },
          "metadata": {},
          "execution_count": 69
        }
      ]
    },
    {
      "cell_type": "code",
      "source": [
        "add(5)"
      ],
      "metadata": {
        "colab": {
          "base_uri": "https://localhost:8080/"
        },
        "id": "-6bgzgSm9lYD",
        "outputId": "358848a0-ee9b-46d5-bc8f-5cc35ce22e02"
      },
      "execution_count": 70,
      "outputs": [
        {
          "output_type": "execute_result",
          "data": {
            "text/plain": [
              "11"
            ]
          },
          "metadata": {},
          "execution_count": 70
        }
      ]
    },
    {
      "cell_type": "code",
      "source": [],
      "metadata": {
        "id": "QVk0eK2_9m_8"
      },
      "execution_count": 71,
      "outputs": []
    },
    {
      "cell_type": "code",
      "source": [
        "def foo():\n",
        "    print(\"Hi How are You?\")\n",
        "\n",
        "foo()"
      ],
      "metadata": {
        "colab": {
          "base_uri": "https://localhost:8080/"
        },
        "id": "L-LEMVtF99NQ",
        "outputId": "4294f332-511f-4709-ae13-0fd4304d0316"
      },
      "execution_count": 73,
      "outputs": [
        {
          "output_type": "stream",
          "name": "stdout",
          "text": [
            "Hi How are You?\n"
          ]
        }
      ]
    },
    {
      "cell_type": "code",
      "source": [
        "def bar():\n",
        "    print(\"Nov22 Mon is my favourite batch\")\n",
        "bar()"
      ],
      "metadata": {
        "colab": {
          "base_uri": "https://localhost:8080/"
        },
        "id": "E01-Wi0__-r6",
        "outputId": "effea963-3f76-46b5-94eb-559d0382cf3a"
      },
      "execution_count": 76,
      "outputs": [
        {
          "output_type": "stream",
          "name": "stdout",
          "text": [
            "Nov22 Mon is my favourite batch\n"
          ]
        }
      ]
    },
    {
      "cell_type": "code",
      "source": [
        "def foo():\n",
        "    print(\"-\"*50)\n",
        "    print(\"Hi How are You?\")\n",
        "    print(\"-\"*50)\n",
        "foo()"
      ],
      "metadata": {
        "colab": {
          "base_uri": "https://localhost:8080/"
        },
        "id": "ZYZ1STkyAHCx",
        "outputId": "80d914ce-e3e2-480f-91b2-abc9ff758cd2"
      },
      "execution_count": 80,
      "outputs": [
        {
          "output_type": "stream",
          "name": "stdout",
          "text": [
            "--------------------------------------------------\n",
            "Hi How are You?\n",
            "--------------------------------------------------\n"
          ]
        }
      ]
    },
    {
      "cell_type": "code",
      "source": [
        "\"\"\"\n",
        "--------------------------------------------------\n",
        "Nov22 Mon is my favourite batch\n",
        "--------------------------------------------------\n",
        "\"\"\"\n",
        "\n",
        "def bar():\n",
        "    print(\"-\"*50)\n",
        "    print(\"Nov22 Mon is my favourite batch\")\n",
        "    print(\"-\"*50)\n",
        "\n",
        "bar()"
      ],
      "metadata": {
        "colab": {
          "base_uri": "https://localhost:8080/"
        },
        "id": "eLNGsLV9AlFe",
        "outputId": "3585a4d7-b9a2-4356-eb63-49772b8e6118"
      },
      "execution_count": 81,
      "outputs": [
        {
          "output_type": "stream",
          "name": "stdout",
          "text": [
            "--------------------------------------------------\n",
            "Nov22 Mon is my favourite batch\n",
            "--------------------------------------------------\n"
          ]
        }
      ]
    },
    {
      "cell_type": "code",
      "source": [
        "def foo():\n",
        "    print(\"Hi How are You?\")\n",
        "\n",
        "def bar():\n",
        "    print(\"Nov22 Mon is my favourite batch\")\n",
        "foo()"
      ],
      "metadata": {
        "colab": {
          "base_uri": "https://localhost:8080/"
        },
        "id": "y6fJhbjYCUc8",
        "outputId": "fb53fa23-c2e4-475f-cddd-d7c08fbc2908"
      },
      "execution_count": 85,
      "outputs": [
        {
          "output_type": "stream",
          "name": "stdout",
          "text": [
            "Hi How are You?\n"
          ]
        }
      ]
    },
    {
      "cell_type": "code",
      "source": [
        "# 100 other functions which were supposed to do the same thing\n",
        "def add_dashes(func): \n",
        "    def inner():\n",
        "        print(\"-\"*50)\n",
        "        func() # foo()\n",
        "        print(\"-\"*50)\n",
        "    return inner\n",
        "#Is this an HOF? Yes it's returning inner funct"
      ],
      "metadata": {
        "id": "oYEyf4MxAzVL"
      },
      "execution_count": 86,
      "outputs": []
    },
    {
      "cell_type": "code",
      "source": [
        "new_foo = add_dashes(foo)"
      ],
      "metadata": {
        "id": "IP53rBaEB_YQ"
      },
      "execution_count": 87,
      "outputs": []
    },
    {
      "cell_type": "code",
      "source": [
        "new_foo()"
      ],
      "metadata": {
        "colab": {
          "base_uri": "https://localhost:8080/"
        },
        "id": "Wvm7nhqkCJ9c",
        "outputId": "803fb9de-c7da-4d64-c647-9be345cf655b"
      },
      "execution_count": 88,
      "outputs": [
        {
          "output_type": "stream",
          "name": "stdout",
          "text": [
            "--------------------------------------------------\n",
            "Hi How are You?\n",
            "--------------------------------------------------\n"
          ]
        }
      ]
    },
    {
      "cell_type": "code",
      "source": [
        "new_bar = add_dashes(bar)"
      ],
      "metadata": {
        "id": "tmJGtH-TCMj2"
      },
      "execution_count": 89,
      "outputs": []
    },
    {
      "cell_type": "code",
      "source": [
        "new_bar()"
      ],
      "metadata": {
        "colab": {
          "base_uri": "https://localhost:8080/"
        },
        "id": "L65sWmNnCem_",
        "outputId": "462d9266-0dc1-4628-b334-4404f8b66ae5"
      },
      "execution_count": 90,
      "outputs": [
        {
          "output_type": "stream",
          "name": "stdout",
          "text": [
            "--------------------------------------------------\n",
            "Nov22 Mon is my favourite batch\n",
            "--------------------------------------------------\n"
          ]
        }
      ]
    },
    {
      "cell_type": "code",
      "source": [
        "def zipzap():\n",
        "    print(\"I do zip zap\")\n",
        "zipzap()"
      ],
      "metadata": {
        "colab": {
          "base_uri": "https://localhost:8080/"
        },
        "id": "7t5hHhfvCfr-",
        "outputId": "ba587a1e-2843-4d73-df50-ab5d380879b8"
      },
      "execution_count": 91,
      "outputs": [
        {
          "output_type": "stream",
          "name": "stdout",
          "text": [
            "I do zip zap\n"
          ]
        }
      ]
    },
    {
      "cell_type": "code",
      "source": [
        "new_zz = add_dashes(zipzap)\n",
        "type(new_zz)"
      ],
      "metadata": {
        "colab": {
          "base_uri": "https://localhost:8080/"
        },
        "id": "sJT43QP3Cmyq",
        "outputId": "e152dc2a-05ef-4887-b8e7-04183fbfe156"
      },
      "execution_count": 92,
      "outputs": [
        {
          "output_type": "execute_result",
          "data": {
            "text/plain": [
              "function"
            ]
          },
          "metadata": {},
          "execution_count": 92
        }
      ]
    },
    {
      "cell_type": "code",
      "source": [
        "new_zz()"
      ],
      "metadata": {
        "colab": {
          "base_uri": "https://localhost:8080/"
        },
        "id": "tQJ8UTitCwUa",
        "outputId": "46e23e2c-40a2-4d73-9d2f-98edf9b7978e"
      },
      "execution_count": 93,
      "outputs": [
        {
          "output_type": "stream",
          "name": "stdout",
          "text": [
            "--------------------------------------------------\n",
            "I do zip zap\n",
            "--------------------------------------------------\n"
          ]
        }
      ]
    },
    {
      "cell_type": "code",
      "source": [
        "def print_hw():\n",
        "    print(\"Hello World\")\n",
        "\n",
        "print_hw()"
      ],
      "metadata": {
        "colab": {
          "base_uri": "https://localhost:8080/"
        },
        "id": "xS4QXPz7Cxq5",
        "outputId": "c4af3091-43d7-4664-df28-d08290095201"
      },
      "execution_count": 97,
      "outputs": [
        {
          "output_type": "stream",
          "name": "stdout",
          "text": [
            "Hello World\n"
          ]
        }
      ]
    },
    {
      "cell_type": "code",
      "source": [
        "new_pw = add_dashes(print_hw)\n",
        "new_pw()"
      ],
      "metadata": {
        "colab": {
          "base_uri": "https://localhost:8080/"
        },
        "id": "vK6OJ1jmEDQC",
        "outputId": "9daf0ea4-fdd0-40af-b67a-504137b494c3"
      },
      "execution_count": 98,
      "outputs": [
        {
          "output_type": "stream",
          "name": "stdout",
          "text": [
            "--------------------------------------------------\n",
            "Hello World\n",
            "--------------------------------------------------\n"
          ]
        }
      ]
    },
    {
      "cell_type": "code",
      "source": [
        "@add_dashes\n",
        "def print_hw():\n",
        "    print(\"Hello World\")\n",
        "\n",
        "print_hw()"
      ],
      "metadata": {
        "colab": {
          "base_uri": "https://localhost:8080/"
        },
        "id": "LKVBtAmGEnEk",
        "outputId": "a67b65a8-c630-449f-c984-18ca3e2117be"
      },
      "execution_count": 99,
      "outputs": [
        {
          "output_type": "stream",
          "name": "stdout",
          "text": [
            "--------------------------------------------------\n",
            "Hello World\n",
            "--------------------------------------------------\n"
          ]
        }
      ]
    },
    {
      "cell_type": "code",
      "source": [
        "@add_dashes\n",
        "# @other decor\n",
        "def what():\n",
        "    print(\"Whaattttt!!!!!\")\n",
        "\n",
        "what()"
      ],
      "metadata": {
        "colab": {
          "base_uri": "https://localhost:8080/"
        },
        "id": "rf23hsFaEwsA",
        "outputId": "ac9e85fc-750f-48a5-e072-fcc23fa18eb3"
      },
      "execution_count": 100,
      "outputs": [
        {
          "output_type": "stream",
          "name": "stdout",
          "text": [
            "--------------------------------------------------\n",
            "Whaattttt!!!!!\n",
            "--------------------------------------------------\n"
          ]
        }
      ]
    },
    {
      "cell_type": "code",
      "source": [
        "# it's adding extra common functionality to other function"
      ],
      "metadata": {
        "id": "ufzpTk9uE7az"
      },
      "execution_count": null,
      "outputs": []
    },
    {
      "cell_type": "code",
      "source": [
        "def pretty(func):\n",
        "    def internal_func():\n",
        "        print(\"*\" * 50)\n",
        "        func() # calling function stored in arg func\n",
        "        print(\"*\" * 50)\n",
        "    return internal_func\n",
        "\n",
        "@pretty\n",
        "@add_dashes\n",
        "def what():\n",
        "    print(\"Whaattttt!!!!!\")"
      ],
      "metadata": {
        "id": "kLVFvbluFqo3"
      },
      "execution_count": 107,
      "outputs": []
    },
    {
      "cell_type": "code",
      "source": [
        "what()"
      ],
      "metadata": {
        "colab": {
          "base_uri": "https://localhost:8080/"
        },
        "id": "s32aqH5pF9lz",
        "outputId": "69452e6e-91b0-4353-fba7-1c61a78fff31"
      },
      "execution_count": 108,
      "outputs": [
        {
          "output_type": "stream",
          "name": "stdout",
          "text": [
            "**************************************************\n",
            "--------------------------------------------------\n",
            "Whaattttt!!!!!\n",
            "--------------------------------------------------\n",
            "**************************************************\n"
          ]
        }
      ]
    },
    {
      "cell_type": "markdown",
      "source": [
        "HW: Create decorator which print \"-\" n number of times. N is argument \n",
        "\n",
        "takes function with name and print Hello Name"
      ],
      "metadata": {
        "id": "1-FvOdhcGa86"
      }
    },
    {
      "cell_type": "code",
      "source": [
        "def func1(name):\n",
        "    print(\"Hello: \", name)"
      ],
      "metadata": {
        "id": "gw8zy1S1GHCi"
      },
      "execution_count": 109,
      "outputs": []
    },
    {
      "cell_type": "code",
      "source": [
        "func1(\"Sachin\")"
      ],
      "metadata": {
        "colab": {
          "base_uri": "https://localhost:8080/"
        },
        "id": "D2ewkI1qHG2r",
        "outputId": "866b5f20-ee77-4646-f6f2-541a597d2f93"
      },
      "execution_count": 110,
      "outputs": [
        {
          "output_type": "stream",
          "name": "stdout",
          "text": [
            "Hello:  Sachin\n"
          ]
        }
      ]
    },
    {
      "cell_type": "code",
      "source": [
        "def dec(name, n):\n",
        "    print(\"*\"*n)\n",
        "    print(\"Hello: \", name)\n",
        "    print(\"*\"*n)\n",
        "dec(\"Sachin\", 10)"
      ],
      "metadata": {
        "colab": {
          "base_uri": "https://localhost:8080/"
        },
        "id": "3I6Ge9wOHJBI",
        "outputId": "62129c8f-ccc6-43e6-a065-f4fcb835aae6"
      },
      "execution_count": 111,
      "outputs": [
        {
          "output_type": "stream",
          "name": "stdout",
          "text": [
            "**********\n",
            "Hello:  Sachin\n",
            "**********\n"
          ]
        }
      ]
    },
    {
      "cell_type": "code",
      "source": [],
      "metadata": {
        "id": "Y_SNRHq_HU-4"
      },
      "execution_count": null,
      "outputs": []
    }
  ]
}