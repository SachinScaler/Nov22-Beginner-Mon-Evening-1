{
  "nbformat": 4,
  "nbformat_minor": 0,
  "metadata": {
    "colab": {
      "provenance": [],
      "authorship_tag": "ABX9TyMOqehhUuM3wp48mxc71pp1",
      "include_colab_link": true
    },
    "kernelspec": {
      "name": "python3",
      "display_name": "Python 3"
    },
    "language_info": {
      "name": "python"
    },
    "gpuClass": "standard"
  },
  "cells": [
    {
      "cell_type": "markdown",
      "metadata": {
        "id": "view-in-github",
        "colab_type": "text"
      },
      "source": [
        "<a href=\"https://colab.research.google.com/github/SachinScaler/Nov22-Beginner-Mon-Evening-1/blob/main/OOP_Part_3_Mon.ipynb\" target=\"_parent\"><img src=\"https://colab.research.google.com/assets/colab-badge.svg\" alt=\"Open In Colab\"/></a>"
      ]
    },
    {
      "cell_type": "markdown",
      "source": [
        "- Access Specifier"
      ],
      "metadata": {
        "id": "u9JnbOJxhVB9"
      }
    },
    {
      "cell_type": "code",
      "execution_count": null,
      "metadata": {
        "id": "0HoHWv2We2JZ"
      },
      "outputs": [],
      "source": [
        "class BankAccount:\n",
        "  def __init__(self, name, id, balance):\n",
        "    self.name =name\n",
        "    self.id = id\n",
        "    self.balance = balance\n",
        "\n",
        "  def show_balance(self):\n",
        "    return self.name + \" has a balance of \" + str(self.balance)\n",
        "\n",
        "ac1= BankAccount(\"Ravi\", 100, 1000000)\n"
      ]
    },
    {
      "cell_type": "code",
      "source": [
        "print(ac1.balance)"
      ],
      "metadata": {
        "colab": {
          "base_uri": "https://localhost:8080/"
        },
        "id": "n_qNSZDwhqlx",
        "outputId": "745ab1e8-9252-42d4-f6dd-219809030727"
      },
      "execution_count": null,
      "outputs": [
        {
          "output_type": "stream",
          "name": "stdout",
          "text": [
            "1000000\n"
          ]
        }
      ]
    },
    {
      "cell_type": "code",
      "source": [
        "ac1.show_balance()"
      ],
      "metadata": {
        "colab": {
          "base_uri": "https://localhost:8080/",
          "height": 36
        },
        "id": "aGZNeabuhtww",
        "outputId": "2349df8d-ed8b-4be0-b104-a949c76aeb9e"
      },
      "execution_count": null,
      "outputs": [
        {
          "output_type": "execute_result",
          "data": {
            "text/plain": [
              "'Ravi has a balance of 1000000'"
            ],
            "application/vnd.google.colaboratory.intrinsic+json": {
              "type": "string"
            }
          },
          "metadata": {},
          "execution_count": 6
        }
      ]
    },
    {
      "cell_type": "code",
      "source": [
        "ac1.balance = 100000000000000000000000"
      ],
      "metadata": {
        "id": "J7Bj2LstiDAT"
      },
      "execution_count": null,
      "outputs": []
    },
    {
      "cell_type": "code",
      "source": [
        "print(ac1.balance)"
      ],
      "metadata": {
        "colab": {
          "base_uri": "https://localhost:8080/"
        },
        "id": "hVHDwt17iJcf",
        "outputId": "ca05a627-27ae-4efb-c094-9000798dabf8"
      },
      "execution_count": null,
      "outputs": [
        {
          "output_type": "stream",
          "name": "stdout",
          "text": [
            "100000000000000000000000\n"
          ]
        }
      ]
    },
    {
      "cell_type": "code",
      "source": [
        "ac1.show_balance()"
      ],
      "metadata": {
        "colab": {
          "base_uri": "https://localhost:8080/",
          "height": 36
        },
        "id": "zY7NC8MTiOBu",
        "outputId": "9eb1ceaf-9de2-4f59-92a3-2dcd3eeb7f73"
      },
      "execution_count": null,
      "outputs": [
        {
          "output_type": "execute_result",
          "data": {
            "text/plain": [
              "'Ravi has a balance of 100000000000000000000000'"
            ],
            "application/vnd.google.colaboratory.intrinsic+json": {
              "type": "string"
            }
          },
          "metadata": {},
          "execution_count": 9
        }
      ]
    },
    {
      "cell_type": "markdown",
      "source": [
        "### Private Varible:\n",
        "- We can make our sensitive variables Private"
      ],
      "metadata": {
        "id": "m-9QmTRGihvx"
      }
    },
    {
      "cell_type": "code",
      "source": [
        "class BankAccount:\n",
        "  def __init__(self, name, id, balance):\n",
        "    self.name =name\n",
        "    self.id = id\n",
        "    self.__balance = balance\n",
        "\n",
        "  def show_balance(self):\n",
        "    return self.name + \" has a balance of \" + str(self.__balance)\n",
        "\n",
        "  def deposit(self, amount):\n",
        "    self.__balance+=amount\n",
        "\n",
        "ac1= BankAccount(\"Ravi\", 100, 1000000)"
      ],
      "metadata": {
        "id": "OjdGRsf8iQEG"
      },
      "execution_count": null,
      "outputs": []
    },
    {
      "cell_type": "code",
      "source": [
        "print(ac1.balance)"
      ],
      "metadata": {
        "colab": {
          "base_uri": "https://localhost:8080/",
          "height": 168
        },
        "id": "MtUULwOaiumQ",
        "outputId": "439456cf-67d6-4614-908a-4d2a11f4b3ac"
      },
      "execution_count": null,
      "outputs": [
        {
          "output_type": "error",
          "ename": "AttributeError",
          "evalue": "ignored",
          "traceback": [
            "\u001b[0;31m---------------------------------------------------------------------------\u001b[0m",
            "\u001b[0;31mAttributeError\u001b[0m                            Traceback (most recent call last)",
            "\u001b[0;32m<ipython-input-20-d7fa24edc767>\u001b[0m in \u001b[0;36m<module>\u001b[0;34m\u001b[0m\n\u001b[0;32m----> 1\u001b[0;31m \u001b[0mprint\u001b[0m\u001b[0;34m(\u001b[0m\u001b[0mac1\u001b[0m\u001b[0;34m.\u001b[0m\u001b[0mbalance\u001b[0m\u001b[0;34m)\u001b[0m\u001b[0;34m\u001b[0m\u001b[0;34m\u001b[0m\u001b[0m\n\u001b[0m",
            "\u001b[0;31mAttributeError\u001b[0m: 'BankAccount' object has no attribute 'balance'"
          ]
        }
      ]
    },
    {
      "cell_type": "code",
      "source": [
        "print(ac1.__balance)"
      ],
      "metadata": {
        "colab": {
          "base_uri": "https://localhost:8080/",
          "height": 168
        },
        "id": "2_Su2jvGix3K",
        "outputId": "187812a0-9d40-4514-cab5-d06c3f0fbe7b"
      },
      "execution_count": null,
      "outputs": [
        {
          "output_type": "error",
          "ename": "AttributeError",
          "evalue": "ignored",
          "traceback": [
            "\u001b[0;31m---------------------------------------------------------------------------\u001b[0m",
            "\u001b[0;31mAttributeError\u001b[0m                            Traceback (most recent call last)",
            "\u001b[0;32m<ipython-input-21-bf9d1481255c>\u001b[0m in \u001b[0;36m<module>\u001b[0;34m\u001b[0m\n\u001b[0;32m----> 1\u001b[0;31m \u001b[0mprint\u001b[0m\u001b[0;34m(\u001b[0m\u001b[0mac1\u001b[0m\u001b[0;34m.\u001b[0m\u001b[0m__balance\u001b[0m\u001b[0;34m)\u001b[0m\u001b[0;34m\u001b[0m\u001b[0;34m\u001b[0m\u001b[0m\n\u001b[0m",
            "\u001b[0;31mAttributeError\u001b[0m: 'BankAccount' object has no attribute '__balance'"
          ]
        }
      ]
    },
    {
      "cell_type": "code",
      "source": [
        "ac1.show_balance()"
      ],
      "metadata": {
        "colab": {
          "base_uri": "https://localhost:8080/",
          "height": 36
        },
        "id": "-8a0ZyTii1ni",
        "outputId": "b55475d7-351c-44df-e6f4-ad830791c086"
      },
      "execution_count": null,
      "outputs": [
        {
          "output_type": "execute_result",
          "data": {
            "text/plain": [
              "'Ravi has a balance of 1000000'"
            ],
            "application/vnd.google.colaboratory.intrinsic+json": {
              "type": "string"
            }
          },
          "metadata": {},
          "execution_count": 22
        }
      ]
    },
    {
      "cell_type": "code",
      "source": [
        "# Can we change value of private variable inside the class?"
      ],
      "metadata": {
        "id": "nR90n9DejNYH"
      },
      "execution_count": null,
      "outputs": []
    },
    {
      "cell_type": "code",
      "source": [
        "ac1.deposit(99)"
      ],
      "metadata": {
        "id": "nD2BITlEj6DG"
      },
      "execution_count": null,
      "outputs": []
    },
    {
      "cell_type": "code",
      "source": [
        "ac1.show_balance()"
      ],
      "metadata": {
        "colab": {
          "base_uri": "https://localhost:8080/",
          "height": 36
        },
        "id": "j2C9gfTbj9Cq",
        "outputId": "0fa22985-b67b-4e27-84d3-a22b1b09e976"
      },
      "execution_count": null,
      "outputs": [
        {
          "output_type": "execute_result",
          "data": {
            "text/plain": [
              "'Ravi has a balance of 1000099'"
            ],
            "application/vnd.google.colaboratory.intrinsic+json": {
              "type": "string"
            }
          },
          "metadata": {},
          "execution_count": 24
        }
      ]
    },
    {
      "cell_type": "markdown",
      "source": [
        "#### `__dict__` shows all the instance variables of an object in dictionary format"
      ],
      "metadata": {
        "id": "dXGesUp4kHlj"
      }
    },
    {
      "cell_type": "code",
      "source": [
        "ac1.__dict__"
      ],
      "metadata": {
        "colab": {
          "base_uri": "https://localhost:8080/"
        },
        "id": "65vLF5K7j-n-",
        "outputId": "4312612c-6101-49c0-d9fd-f8eca409fddb"
      },
      "execution_count": null,
      "outputs": [
        {
          "output_type": "execute_result",
          "data": {
            "text/plain": [
              "{'name': 'Ravi', 'id': 100, '_BankAccount__balance': 1000099}"
            ]
          },
          "metadata": {},
          "execution_count": 25
        }
      ]
    },
    {
      "cell_type": "code",
      "source": [
        "# loophole, if you know the class name you can still access private variables\n",
        "ac1._BankAccount__balance = 0"
      ],
      "metadata": {
        "id": "yipdYN_7kPsH"
      },
      "execution_count": null,
      "outputs": []
    },
    {
      "cell_type": "code",
      "source": [
        "ac1.show_balance()"
      ],
      "metadata": {
        "colab": {
          "base_uri": "https://localhost:8080/",
          "height": 36
        },
        "id": "jrS-X8f8kg3E",
        "outputId": "6b99b2d3-3ab1-4992-ebf8-ba125e3f9414"
      },
      "execution_count": null,
      "outputs": [
        {
          "output_type": "execute_result",
          "data": {
            "text/plain": [
              "'Ravi has a balance of 0'"
            ],
            "application/vnd.google.colaboratory.intrinsic+json": {
              "type": "string"
            }
          },
          "metadata": {},
          "execution_count": 27
        }
      ]
    },
    {
      "cell_type": "markdown",
      "source": [
        "#### We DON'T have TRUE PRIVATE ACCESS SPECIFIER\n",
        "\n",
        "#### Private Variables Can't be inherited"
      ],
      "metadata": {
        "id": "Jry9AHZKkroC"
      }
    },
    {
      "cell_type": "code",
      "source": [
        "### Quiz 1\n",
        "\n",
        "class A:\n",
        "  x =10\n",
        "\n",
        "class B(A):\n",
        "  y = 20\n",
        "\n",
        "obj = B()\n",
        "print(obj.y)"
      ],
      "metadata": {
        "colab": {
          "base_uri": "https://localhost:8080/"
        },
        "id": "GKzOm1bskiF2",
        "outputId": "73e626b6-3995-4449-8891-96fda539fe51"
      },
      "execution_count": null,
      "outputs": [
        {
          "output_type": "stream",
          "name": "stdout",
          "text": [
            "20\n"
          ]
        }
      ]
    },
    {
      "cell_type": "code",
      "source": [
        "### Quiz 1\n",
        "\n",
        "class A:\n",
        "  x =10\n",
        "\n",
        "  def some_method(self):\n",
        "    print(\"In Class A\")\n",
        "\n",
        "class B(A):\n",
        "  A.x = 100\n",
        "  y = 20\n",
        "\n",
        "obj = B()\n",
        "print(obj.x)"
      ],
      "metadata": {
        "colab": {
          "base_uri": "https://localhost:8080/"
        },
        "id": "KB8_aQqqmgSo",
        "outputId": "b7e77111-9814-49ca-f1b8-8496cd9cee1b"
      },
      "execution_count": null,
      "outputs": [
        {
          "output_type": "stream",
          "name": "stdout",
          "text": [
            "100\n"
          ]
        }
      ]
    },
    {
      "cell_type": "code",
      "source": [
        "obj.some_method()"
      ],
      "metadata": {
        "colab": {
          "base_uri": "https://localhost:8080/"
        },
        "id": "Rt-xJIBzm6R-",
        "outputId": "5f87adae-e5d6-40cd-8c05-a2f68655b73c"
      },
      "execution_count": null,
      "outputs": [
        {
          "output_type": "stream",
          "name": "stdout",
          "text": [
            "In Class A\n"
          ]
        }
      ]
    },
    {
      "cell_type": "code",
      "source": [
        "class A:\n",
        "  __x =10\n",
        "\n",
        "class B(A):\n",
        "  y = 20\n",
        "\n",
        "obj = B()\n",
        "print(obj.__x)"
      ],
      "metadata": {
        "colab": {
          "base_uri": "https://localhost:8080/",
          "height": 204
        },
        "id": "ddIxQhTXnEUB",
        "outputId": "7e0ccf9d-9a5a-475b-de30-dd3019ffe367"
      },
      "execution_count": null,
      "outputs": [
        {
          "output_type": "error",
          "ename": "AttributeError",
          "evalue": "ignored",
          "traceback": [
            "\u001b[0;31m---------------------------------------------------------------------------\u001b[0m",
            "\u001b[0;31mAttributeError\u001b[0m                            Traceback (most recent call last)",
            "\u001b[0;32m<ipython-input-37-5dd916f1fd9e>\u001b[0m in \u001b[0;36m<module>\u001b[0;34m\u001b[0m\n\u001b[1;32m      6\u001b[0m \u001b[0;34m\u001b[0m\u001b[0m\n\u001b[1;32m      7\u001b[0m \u001b[0mobj\u001b[0m \u001b[0;34m=\u001b[0m \u001b[0mB\u001b[0m\u001b[0;34m(\u001b[0m\u001b[0;34m)\u001b[0m\u001b[0;34m\u001b[0m\u001b[0;34m\u001b[0m\u001b[0m\n\u001b[0;32m----> 8\u001b[0;31m \u001b[0mprint\u001b[0m\u001b[0;34m(\u001b[0m\u001b[0mobj\u001b[0m\u001b[0;34m.\u001b[0m\u001b[0m__x\u001b[0m\u001b[0;34m)\u001b[0m\u001b[0;34m\u001b[0m\u001b[0;34m\u001b[0m\u001b[0m\n\u001b[0m",
            "\u001b[0;31mAttributeError\u001b[0m: 'B' object has no attribute '__x'"
          ]
        }
      ]
    },
    {
      "cell_type": "code",
      "source": [
        "# class A:\n",
        "#   _x =10\n",
        "\n",
        "# class B(A):\n",
        "#   y = 20\n",
        "\n",
        "# obj = B()\n",
        "# print(obj._x)"
      ],
      "metadata": {
        "id": "aFAenDxxndJA"
      },
      "execution_count": null,
      "outputs": []
    },
    {
      "cell_type": "code",
      "source": [
        "class A:\n",
        "  __x =10\n",
        "\n",
        "class B(A):\n",
        "  y = 20\n",
        "  A._A__x=100\n",
        "\n",
        "obj = B()\n",
        "A._A__x"
      ],
      "metadata": {
        "colab": {
          "base_uri": "https://localhost:8080/"
        },
        "id": "-GjcS5HIn4Ve",
        "outputId": "a3def9a1-dbce-4879-9afc-df7eb995f697"
      },
      "execution_count": null,
      "outputs": [
        {
          "output_type": "execute_result",
          "data": {
            "text/plain": [
              "100"
            ]
          },
          "metadata": {},
          "execution_count": 44
        }
      ]
    },
    {
      "cell_type": "code",
      "source": [
        "class A:\n",
        "  x = 9\n",
        "\n",
        "class B(A):\n",
        "  x=99\n",
        "\n",
        "class C(B):\n",
        "  x = 999\n",
        "\n",
        "c = C()\n",
        "print(c.x)"
      ],
      "metadata": {
        "colab": {
          "base_uri": "https://localhost:8080/"
        },
        "id": "tRpNjtlFolTG",
        "outputId": "7f6841c7-136f-4cf5-dced-5111f60c75a0"
      },
      "execution_count": null,
      "outputs": [
        {
          "output_type": "stream",
          "name": "stdout",
          "text": [
            "999\n"
          ]
        }
      ]
    },
    {
      "cell_type": "code",
      "source": [
        "class A:\n",
        "  x = 9\n",
        "\n",
        "class B(A):\n",
        "  x=99\n",
        "\n",
        "class C(B):\n",
        "  pass\n",
        "\n",
        "c = C()\n",
        "print(c.x)"
      ],
      "metadata": {
        "colab": {
          "base_uri": "https://localhost:8080/"
        },
        "id": "Qe78Tt0XpqBy",
        "outputId": "f9a18542-6b4a-47a9-a879-1037dfddb823"
      },
      "execution_count": null,
      "outputs": [
        {
          "output_type": "stream",
          "name": "stdout",
          "text": [
            "99\n"
          ]
        }
      ]
    },
    {
      "cell_type": "markdown",
      "source": [
        "\n",
        "- 9 yes\n",
        "- 99 No"
      ],
      "metadata": {
        "id": "_IqSuS1Ip909"
      }
    },
    {
      "cell_type": "code",
      "source": [
        "class A:\n",
        "  x = 9\n",
        "  y = 100\n",
        "\n",
        "class B(A):\n",
        "  x=99\n",
        "\n",
        "class C(B):\n",
        "  pass\n",
        "\n",
        "c = C()\n",
        "print(c.y)"
      ],
      "metadata": {
        "colab": {
          "base_uri": "https://localhost:8080/"
        },
        "id": "k353WoeVp1y3",
        "outputId": "73622c14-1098-4c02-85d3-5292f0144c76"
      },
      "execution_count": null,
      "outputs": [
        {
          "output_type": "stream",
          "name": "stdout",
          "text": [
            "100\n"
          ]
        }
      ]
    },
    {
      "cell_type": "code",
      "source": [
        "class A:\n",
        "  x = 9\n",
        "  y = 100\n",
        "\n",
        "class B(A):\n",
        "  x=99\n",
        "\n",
        "class C(B):\n",
        "  pass\n",
        "\n",
        "c = C()\n",
        "print(c.z)"
      ],
      "metadata": {
        "colab": {
          "base_uri": "https://localhost:8080/",
          "height": 204
        },
        "id": "tOmlhG6wqEU6",
        "outputId": "062c9680-5959-41e6-f254-b16b3cdfc9f1"
      },
      "execution_count": null,
      "outputs": [
        {
          "output_type": "error",
          "ename": "AttributeError",
          "evalue": "ignored",
          "traceback": [
            "\u001b[0;31m---------------------------------------------------------------------------\u001b[0m",
            "\u001b[0;31mAttributeError\u001b[0m                            Traceback (most recent call last)",
            "\u001b[0;32m<ipython-input-50-b92359e3d762>\u001b[0m in \u001b[0;36m<module>\u001b[0;34m\u001b[0m\n\u001b[1;32m     10\u001b[0m \u001b[0;34m\u001b[0m\u001b[0m\n\u001b[1;32m     11\u001b[0m \u001b[0mc\u001b[0m \u001b[0;34m=\u001b[0m \u001b[0mC\u001b[0m\u001b[0;34m(\u001b[0m\u001b[0;34m)\u001b[0m\u001b[0;34m\u001b[0m\u001b[0;34m\u001b[0m\u001b[0m\n\u001b[0;32m---> 12\u001b[0;31m \u001b[0mprint\u001b[0m\u001b[0;34m(\u001b[0m\u001b[0mc\u001b[0m\u001b[0;34m.\u001b[0m\u001b[0mz\u001b[0m\u001b[0;34m)\u001b[0m\u001b[0;34m\u001b[0m\u001b[0;34m\u001b[0m\u001b[0m\n\u001b[0m",
            "\u001b[0;31mAttributeError\u001b[0m: 'C' object has no attribute 'z'"
          ]
        }
      ]
    },
    {
      "cell_type": "code",
      "source": [],
      "metadata": {
        "id": "SFcZRn7DqUwm"
      },
      "execution_count": null,
      "outputs": []
    },
    {
      "cell_type": "markdown",
      "source": [
        "### Multiple Inheritance\n"
      ],
      "metadata": {
        "id": "Tirey7eIq8-D"
      }
    },
    {
      "cell_type": "code",
      "source": [
        "class A:\n",
        "  x = 9\n",
        "  y = 100\n",
        "\n",
        "class B:\n",
        "  x=99\n",
        "\n",
        "class C(B,A):\n",
        "  pass\n",
        "\n",
        "c = C()\n",
        "print(c.x)"
      ],
      "metadata": {
        "colab": {
          "base_uri": "https://localhost:8080/"
        },
        "id": "IXsm8Fgsq_-3",
        "outputId": "a484e426-00db-4b5e-bdd5-3855b8eb4b3b"
      },
      "execution_count": null,
      "outputs": [
        {
          "output_type": "stream",
          "name": "stdout",
          "text": [
            "99\n"
          ]
        }
      ]
    },
    {
      "cell_type": "code",
      "source": [
        "print(c.y)"
      ],
      "metadata": {
        "colab": {
          "base_uri": "https://localhost:8080/"
        },
        "id": "AGq2GyqTrR8b",
        "outputId": "166d7d25-9838-4c02-9994-885c63580886"
      },
      "execution_count": null,
      "outputs": [
        {
          "output_type": "stream",
          "name": "stdout",
          "text": [
            "100\n"
          ]
        }
      ]
    },
    {
      "cell_type": "code",
      "source": [
        "class Student:\n",
        "    def __init__(self,roll,marks):\n",
        "        self.roll = roll\n",
        "        self.marks = marks\n",
        "    def display(self):\n",
        "        print('Roll:', self.roll,'Marks:',self.marks, end=\" \")\n",
        "\n",
        "student1 = Student(34,'A')\n",
        "student1.age = 17\n",
        "print(student1.display(), 'Age:',student1.age)"
      ],
      "metadata": {
        "id": "nzIsPrDHrez4"
      },
      "execution_count": null,
      "outputs": []
    },
    {
      "cell_type": "code",
      "source": [
        "def Func1(a):\n",
        "  print(a)\n",
        "  return a\n",
        "\n",
        "print(Func1(10))"
      ],
      "metadata": {
        "colab": {
          "base_uri": "https://localhost:8080/"
        },
        "id": "4how2lMjvNhH",
        "outputId": "c19d8ade-103f-4e60-f9a6-c99c763e4f94"
      },
      "execution_count": null,
      "outputs": [
        {
          "output_type": "stream",
          "name": "stdout",
          "text": [
            "10\n",
            "None\n"
          ]
        }
      ]
    },
    {
      "cell_type": "code",
      "source": [
        "class A:\n",
        "  pass\n",
        "class B(A):\n",
        "  pass\n",
        "class C(B):\n",
        "  pass\n",
        "class D(A):\n",
        "  pass\n",
        "class E(C,D):\n",
        "  pass"
      ],
      "metadata": {
        "id": "XDL24n9_vUnm"
      },
      "execution_count": null,
      "outputs": []
    },
    {
      "cell_type": "code",
      "source": [
        "### \"Method Resolution Order\"\n",
        "E.__mro__"
      ],
      "metadata": {
        "colab": {
          "base_uri": "https://localhost:8080/"
        },
        "id": "Ssa70I0gwEp_",
        "outputId": "355a2bf1-6b81-4989-8a66-e5abd56ca7e8"
      },
      "execution_count": null,
      "outputs": [
        {
          "output_type": "execute_result",
          "data": {
            "text/plain": [
              "(__main__.E, __main__.C, __main__.B, __main__.D, __main__.A, object)"
            ]
          },
          "metadata": {},
          "execution_count": 57
        }
      ]
    },
    {
      "cell_type": "code",
      "source": [
        "### Which of the following is false with respect to the following python code?\n",
        "class Student: \n",
        "  def __init__(random, id, age): \n",
        "    random.id = id \n",
        "    random.age = age\n",
        "\n",
        "  def __str__(self) :\n",
        "    return \"Call print object\"\n",
        "    \n",
        "s1 = Student(1, 5000)"
      ],
      "metadata": {
        "id": "d83k2ynewORQ"
      },
      "execution_count": 58,
      "outputs": []
    },
    {
      "cell_type": "code",
      "source": [
        "print(s1)"
      ],
      "metadata": {
        "colab": {
          "base_uri": "https://localhost:8080/"
        },
        "id": "auNv8ZSt0N7u",
        "outputId": "2b26a2b7-f6aa-4ddb-816b-933d5b11b3f5"
      },
      "execution_count": 59,
      "outputs": [
        {
          "output_type": "stream",
          "name": "stdout",
          "text": [
            "Call print object\n"
          ]
        }
      ]
    },
    {
      "cell_type": "code",
      "source": [
        "class A:\n",
        "    counter= 0\n",
        "    def __init__(self):\n",
        "      A.counter+=1\n",
        "\n",
        "A() # object created\n",
        "obj1 = A() # 2nd Object\n",
        "A()\n",
        "print(A.counter)"
      ],
      "metadata": {
        "colab": {
          "base_uri": "https://localhost:8080/"
        },
        "id": "NeHet9se0O_I",
        "outputId": "bc704370-2d69-42bd-ca39-0feb6b150625"
      },
      "execution_count": 63,
      "outputs": [
        {
          "output_type": "stream",
          "name": "stdout",
          "text": [
            "3\n"
          ]
        }
      ]
    },
    {
      "cell_type": "code",
      "source": [
        "class A:\n",
        "    counter= 0\n",
        "    def __init__(self):\n",
        "      self.counter+=1\n",
        "\n",
        "A() # object created\n",
        "obj1 = A() # 2nd Object\n",
        "A()\n",
        "print(A.counter)"
      ],
      "metadata": {
        "colab": {
          "base_uri": "https://localhost:8080/"
        },
        "id": "5WfdYjqy1DM2",
        "outputId": "28300d5b-624b-4b01-c68b-0b2209d0e352"
      },
      "execution_count": 64,
      "outputs": [
        {
          "output_type": "stream",
          "name": "stdout",
          "text": [
            "0\n"
          ]
        }
      ]
    },
    {
      "cell_type": "markdown",
      "source": [
        "### Let's say id start with 1000, 1001, 1002, 1003"
      ],
      "metadata": {
        "id": "lPkELQ4e1NlE"
      }
    },
    {
      "cell_type": "code",
      "source": [
        "class BankAccount:\n",
        "  def __init__(self, name, id, balance):\n",
        "    self.name =name\n",
        "    self.id = id\n",
        "    self.balance = balance\n",
        "\n",
        "  def show_balance(self):\n",
        "    return self.name + \" has a balance of \" + str(self.balance)\n",
        "\n",
        "ac1= BankAccount(\"Ravi\", 100, 1000000)\n",
        "\n",
        "ac2= BankAccount(\"Ganesan\", 101, 1000000)\n"
      ],
      "metadata": {
        "id": "3bYrrox90gvn"
      },
      "execution_count": 65,
      "outputs": []
    },
    {
      "cell_type": "code",
      "source": [
        "ac3= BankAccount(\"Sachin\", 103, 1000000)"
      ],
      "metadata": {
        "id": "6hCGD-ne1ei5"
      },
      "execution_count": 66,
      "outputs": []
    },
    {
      "cell_type": "code",
      "source": [
        "class BankAccount:\n",
        "  id = 100\n",
        "  def __init__(self, name, balance):\n",
        "    self.name =name\n",
        "    self.id = BankAccount.id\n",
        "    self.balance = balance\n",
        "    BankAccount.id+=1\n",
        "\n",
        "  def show_balance(self):\n",
        "    return self.name + \" has a balance of \" + str(self.balance)\n",
        "\n",
        "ac1= BankAccount(\"Ravi\", 1000000)\n",
        "\n",
        "ac2= BankAccount(\"Ganesan\", 1000000)\n"
      ],
      "metadata": {
        "id": "E7-U6jlA1hZD"
      },
      "execution_count": 68,
      "outputs": []
    },
    {
      "cell_type": "code",
      "source": [
        "ac1.id"
      ],
      "metadata": {
        "colab": {
          "base_uri": "https://localhost:8080/"
        },
        "id": "FEXGgrJ81t-G",
        "outputId": "f55ad042-4b0d-47cc-f254-3a094f4720e7"
      },
      "execution_count": 69,
      "outputs": [
        {
          "output_type": "execute_result",
          "data": {
            "text/plain": [
              "100"
            ]
          },
          "metadata": {},
          "execution_count": 69
        }
      ]
    },
    {
      "cell_type": "code",
      "source": [
        "ac2.id"
      ],
      "metadata": {
        "colab": {
          "base_uri": "https://localhost:8080/"
        },
        "id": "k0BuiLpL1zys",
        "outputId": "a968d732-f9c3-47c6-a280-740e05e217fa"
      },
      "execution_count": 70,
      "outputs": [
        {
          "output_type": "execute_result",
          "data": {
            "text/plain": [
              "101"
            ]
          },
          "metadata": {},
          "execution_count": 70
        }
      ]
    },
    {
      "cell_type": "code",
      "source": [
        "ac3= BankAccount(\"Sachin\", 1000000)"
      ],
      "metadata": {
        "id": "dLcs4TTN11GC"
      },
      "execution_count": 71,
      "outputs": []
    },
    {
      "cell_type": "code",
      "source": [
        "ac3.id"
      ],
      "metadata": {
        "colab": {
          "base_uri": "https://localhost:8080/"
        },
        "id": "av9LqUYX13hE",
        "outputId": "e47946b0-6ba6-4148-e807-33598fec5faf"
      },
      "execution_count": 72,
      "outputs": [
        {
          "output_type": "execute_result",
          "data": {
            "text/plain": [
              "102"
            ]
          },
          "metadata": {},
          "execution_count": 72
        }
      ]
    },
    {
      "cell_type": "markdown",
      "source": [
        "- Distance between two points\n",
        "- Equation of line\n",
        "- Slope\n",
        "- Pythagoras theorem\n",
        "- Angle between two lines\n"
      ],
      "metadata": {
        "id": "pziCMVVL2G69"
      }
    },
    {
      "cell_type": "code",
      "source": [
        "### all 4 pillars at one place\n",
        "class Animal:\n",
        "  def __init__(self, species):\n",
        "    self.species = species \n",
        "\n",
        "class Mammal(Animal):\n",
        "  def __init__(self, species,leg_count):\n",
        "    super().__init__(species)\n",
        "    self.leg_count=leg_count\n",
        "\n",
        "  def eating_habit(self):\n",
        "      return \"All eating\"\n",
        "\n",
        "class Tiger(Mammal):\n",
        "    def __init__(self, species,leg_count,stripes):\n",
        "      super().__init__(species,leg_count)\n",
        "      self.stripes=stripes \n",
        "    \n",
        "    # overriden method of mammal class\n",
        "    def eating_habit(self):\n",
        "      return \"Carnivorous\"\n",
        "\n",
        "\n",
        "class Human(Mammal):\n",
        "    nationality = \"Human\"\n",
        "    def __init__(self, species,leg_count,knows_ml, id):\n",
        "      super().__init__(species,leg_count)\n",
        "      self.knows_ml=knows_ml\n",
        "      self.__id = id\n",
        "\n",
        "    # overloaded method of mammal class\n",
        "    def eating_habit(self, food):\n",
        "      return \"Eats: \", food\n",
        "\n",
        "### Pillars\n",
        "# 1. Encapsulation: packing methods and attributes into a single entity class\n",
        "# 2. Abstraction: We hide irrelevant details. We can call method without even knowing what logic is inside that\n",
        "# 3. polymorphism: Two methods with same name but different behaviour\n",
        "# 4. Inheritance  "
      ],
      "metadata": {
        "id": "YovoGVWB14tE"
      },
      "execution_count": 85,
      "outputs": []
    },
    {
      "cell_type": "code",
      "source": [
        "h1 = Human(\"Homosapiens\", 2, \"A bit\", 101)"
      ],
      "metadata": {
        "id": "r_yjbgQa4za1"
      },
      "execution_count": 88,
      "outputs": []
    },
    {
      "cell_type": "code",
      "source": [
        "h1.eating_habit(\"Rice\")"
      ],
      "metadata": {
        "colab": {
          "base_uri": "https://localhost:8080/"
        },
        "id": "ABNXvJiB4zwM",
        "outputId": "1ba3f9f4-7e0b-46f7-ab88-175d0852f7db"
      },
      "execution_count": 82,
      "outputs": [
        {
          "output_type": "execute_result",
          "data": {
            "text/plain": [
              "('Eats: ', 'Rice')"
            ]
          },
          "metadata": {},
          "execution_count": 82
        }
      ]
    },
    {
      "cell_type": "code",
      "source": [
        "t1= Tiger(\"Cat\", 4, \"BlackStripes\")"
      ],
      "metadata": {
        "id": "MwUhINQp5D8V"
      },
      "execution_count": 83,
      "outputs": []
    },
    {
      "cell_type": "code",
      "source": [
        "t1.eating_habit()"
      ],
      "metadata": {
        "colab": {
          "base_uri": "https://localhost:8080/",
          "height": 36
        },
        "id": "XFKBIppB5uRo",
        "outputId": "701ee0f4-6c62-421b-a069-0b2bd5c6f1f4"
      },
      "execution_count": 84,
      "outputs": [
        {
          "output_type": "execute_result",
          "data": {
            "text/plain": [
              "'Carnivorous'"
            ],
            "application/vnd.google.colaboratory.intrinsic+json": {
              "type": "string"
            }
          },
          "metadata": {},
          "execution_count": 84
        }
      ]
    },
    {
      "cell_type": "code",
      "source": [
        "Human.nationality "
      ],
      "metadata": {
        "colab": {
          "base_uri": "https://localhost:8080/",
          "height": 36
        },
        "id": "McyY5RMy5wc1",
        "outputId": "71184a80-71dc-40b1-fd7f-04edd8919590"
      },
      "execution_count": 86,
      "outputs": [
        {
          "output_type": "execute_result",
          "data": {
            "text/plain": [
              "'Human'"
            ],
            "application/vnd.google.colaboratory.intrinsic+json": {
              "type": "string"
            }
          },
          "metadata": {},
          "execution_count": 86
        }
      ]
    },
    {
      "cell_type": "code",
      "source": [
        "h1.nationality"
      ],
      "metadata": {
        "colab": {
          "base_uri": "https://localhost:8080/",
          "height": 36
        },
        "id": "uzq1_yU1626Z",
        "outputId": "00d38052-adec-4a39-df2e-b10361b927d9"
      },
      "execution_count": 89,
      "outputs": [
        {
          "output_type": "execute_result",
          "data": {
            "text/plain": [
              "'Human'"
            ],
            "application/vnd.google.colaboratory.intrinsic+json": {
              "type": "string"
            }
          },
          "metadata": {},
          "execution_count": 89
        }
      ]
    },
    {
      "cell_type": "code",
      "source": [
        "class A:\n",
        "  def get_random(shubham):\n",
        "    print(id(shubham))\n",
        "\n",
        "a = A()"
      ],
      "metadata": {
        "id": "yMlfqIuT64z1"
      },
      "execution_count": 93,
      "outputs": []
    },
    {
      "cell_type": "code",
      "source": [
        "print(id(a))"
      ],
      "metadata": {
        "colab": {
          "base_uri": "https://localhost:8080/"
        },
        "id": "jRmpLnkB7QeS",
        "outputId": "4cf3fef6-ef01-4e59-b389-1f287f6425e2"
      },
      "execution_count": 94,
      "outputs": [
        {
          "output_type": "stream",
          "name": "stdout",
          "text": [
            "140019631808128\n"
          ]
        }
      ]
    },
    {
      "cell_type": "code",
      "source": [
        "a.get_random()"
      ],
      "metadata": {
        "colab": {
          "base_uri": "https://localhost:8080/"
        },
        "id": "_RhjqdKD7TyO",
        "outputId": "99bd5972-c74b-4862-fad7-bb80a3227b73"
      },
      "execution_count": 95,
      "outputs": [
        {
          "output_type": "stream",
          "name": "stdout",
          "text": [
            "140019631808128\n"
          ]
        }
      ]
    },
    {
      "cell_type": "code",
      "source": [
        "class A:\n",
        "  var = 20  \n",
        "  def __init__(self,a):\n",
        "    self.a = a  \n",
        "class B(A):\n",
        "  def __init__(self, name,id):\n",
        "    super().__init__(name)\n",
        "    self.id = id\n",
        "obj1 = B(\"Sachin\",10)"
      ],
      "metadata": {
        "id": "zXcFh41b7aVs"
      },
      "execution_count": 103,
      "outputs": []
    },
    {
      "cell_type": "code",
      "source": [
        "obj1.a"
      ],
      "metadata": {
        "colab": {
          "base_uri": "https://localhost:8080/",
          "height": 36
        },
        "id": "LH0bmUgK9cj4",
        "outputId": "96fcc514-2872-4d10-8499-a3056b32fd4b"
      },
      "execution_count": 104,
      "outputs": [
        {
          "output_type": "execute_result",
          "data": {
            "text/plain": [
              "'Sachin'"
            ],
            "application/vnd.google.colaboratory.intrinsic+json": {
              "type": "string"
            }
          },
          "metadata": {},
          "execution_count": 104
        }
      ]
    },
    {
      "cell_type": "code",
      "source": [
        "obj1.id"
      ],
      "metadata": {
        "colab": {
          "base_uri": "https://localhost:8080/"
        },
        "id": "97W9Tnsv9ehP",
        "outputId": "8455b967-b4ab-4a35-e6ad-5b298bf655bc"
      },
      "execution_count": 105,
      "outputs": [
        {
          "output_type": "execute_result",
          "data": {
            "text/plain": [
              "10"
            ]
          },
          "metadata": {},
          "execution_count": 105
        }
      ]
    },
    {
      "cell_type": "code",
      "source": [
        "class Student:\n",
        "  pass\n",
        "\n",
        "class Instructor(Student):\n",
        "  pass"
      ],
      "metadata": {
        "id": "wP7hkHEh75IY"
      },
      "execution_count": 100,
      "outputs": []
    },
    {
      "cell_type": "code",
      "source": [],
      "metadata": {
        "id": "n-2eSsjW8fbJ"
      },
      "execution_count": null,
      "outputs": []
    }
  ]
}