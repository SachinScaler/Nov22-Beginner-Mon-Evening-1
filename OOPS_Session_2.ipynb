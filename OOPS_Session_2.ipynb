{
  "nbformat": 4,
  "nbformat_minor": 0,
  "metadata": {
    "colab": {
      "provenance": [],
      "authorship_tag": "ABX9TyMlgxoWmN+LWijridWlVBQ2",
      "include_colab_link": true
    },
    "kernelspec": {
      "name": "python3",
      "display_name": "Python 3"
    },
    "language_info": {
      "name": "python"
    },
    "gpuClass": "standard"
  },
  "cells": [
    {
      "cell_type": "markdown",
      "metadata": {
        "id": "view-in-github",
        "colab_type": "text"
      },
      "source": [
        "<a href=\"https://colab.research.google.com/github/SachinScaler/Nov22-Beginner-Mon-Evening-1/blob/main/OOPS_Session_2.ipynb\" target=\"_parent\"><img src=\"https://colab.research.google.com/assets/colab-badge.svg\" alt=\"Open In Colab\"/></a>"
      ]
    },
    {
      "cell_type": "code",
      "execution_count": 1,
      "metadata": {
        "colab": {
          "base_uri": "https://localhost:8080/"
        },
        "id": "SmiTOf_WMe-4",
        "outputId": "00e29f7a-20d2-4665-a841-46bba8277569"
      },
      "outputs": [
        {
          "output_type": "stream",
          "name": "stdout",
          "text": [
            "New object Created!\n",
            "New object Created!\n",
            "New object Created!\n",
            "New object Created!\n",
            "<__main__.A object at 0x7f4fb4ae4370>\n"
          ]
        }
      ],
      "source": [
        "class A:\n",
        "    def __init__(self):\n",
        "      print(\"New object Created!\")\n",
        "\n",
        "A() #line 1\n",
        "\n",
        "obj1 = A() # line 2\n",
        "\n",
        "if A(): #line 3\n",
        "    print(A()) #line 4\n",
        "\n",
        "# 4 objects would be created"
      ]
    },
    {
      "cell_type": "code",
      "source": [
        "print(id(A()))\n",
        "print(id(A()))"
      ],
      "metadata": {
        "colab": {
          "base_uri": "https://localhost:8080/"
        },
        "id": "U5U2dOTdPF26",
        "outputId": "b109bbf8-d65d-4374-f165-10a3081c81f8"
      },
      "execution_count": 2,
      "outputs": [
        {
          "output_type": "stream",
          "name": "stdout",
          "text": [
            "New object Created!\n",
            "139980310464784\n",
            "New object Created!\n",
            "139980310466464\n"
          ]
        }
      ]
    },
    {
      "cell_type": "code",
      "source": [
        "class Random:\n",
        "    def __init__(self, a = \"default value stored!\"):\n",
        "        self.a = a\n",
        " \n",
        "    def display(self):\n",
        "        print(self.a)\n",
        "        \n",
        "r = Random()\n",
        "r.display()"
      ],
      "metadata": {
        "colab": {
          "base_uri": "https://localhost:8080/"
        },
        "id": "v-ozAtvXPpsl",
        "outputId": "59da7626-b794-4bea-94a5-c7421a725071"
      },
      "execution_count": 5,
      "outputs": [
        {
          "output_type": "stream",
          "name": "stdout",
          "text": [
            "default value stored!\n"
          ]
        }
      ]
    },
    {
      "cell_type": "code",
      "source": [
        "class A:\n",
        "    def __init__(self, name):\n",
        "        self.name = name\n",
        "    \n",
        "a1 = A(\"Bunty\")\n",
        "a2 = A(\"Bunty\")\n",
        "\n",
        "print(id(a1) == id(a2))"
      ],
      "metadata": {
        "colab": {
          "base_uri": "https://localhost:8080/"
        },
        "id": "rhWYdb0kQqtw",
        "outputId": "b6052ed3-dca3-4758-f123-3c103e62a6ec"
      },
      "execution_count": 7,
      "outputs": [
        {
          "output_type": "stream",
          "name": "stdout",
          "text": [
            "False\n"
          ]
        }
      ]
    },
    {
      "cell_type": "code",
      "source": [
        "class MyCustomClass:\n",
        "  def show_id(self):\n",
        "    return id(self)\n",
        "\n",
        "a1 = MyCustomClass()\n",
        "print(id(a1))\n",
        "print(a1.show_id())"
      ],
      "metadata": {
        "colab": {
          "base_uri": "https://localhost:8080/"
        },
        "id": "wxcKbonrRP8Y",
        "outputId": "32b0e7ac-99f7-43f6-c735-a175ca725be9"
      },
      "execution_count": 9,
      "outputs": [
        {
          "output_type": "stream",
          "name": "stdout",
          "text": [
            "139979567009264\n",
            "139979567009264\n"
          ]
        }
      ]
    },
    {
      "cell_type": "code",
      "source": [],
      "metadata": {
        "id": "o_SvNBc4Rlwx"
      },
      "execution_count": null,
      "outputs": []
    },
    {
      "cell_type": "markdown",
      "source": [
        "### Static Variable or Class Variables:\n",
        "\n",
        "Static Variable are variable which belong to Class instead of Object"
      ],
      "metadata": {
        "id": "bywOi1jRSfkP"
      }
    },
    {
      "cell_type": "code",
      "source": [
        "class A:\n",
        "  var = \"Hello\"\n",
        "\n",
        "  def __init__(self, name):\n",
        "    self.name = name\n",
        "a = A(\"Sachin\")"
      ],
      "metadata": {
        "id": "z1CNRKKzSqKJ"
      },
      "execution_count": 12,
      "outputs": []
    },
    {
      "cell_type": "code",
      "source": [
        "A.var"
      ],
      "metadata": {
        "colab": {
          "base_uri": "https://localhost:8080/",
          "height": 35
        },
        "id": "fek__whQTNQr",
        "outputId": "09178c15-3cfe-4cf6-8ef9-b36519cb4d25"
      },
      "execution_count": 13,
      "outputs": [
        {
          "output_type": "execute_result",
          "data": {
            "text/plain": [
              "'Hello'"
            ],
            "application/vnd.google.colaboratory.intrinsic+json": {
              "type": "string"
            }
          },
          "metadata": {},
          "execution_count": 13
        }
      ]
    },
    {
      "cell_type": "code",
      "source": [
        "A.name?"
      ],
      "metadata": {
        "colab": {
          "base_uri": "https://localhost:8080/"
        },
        "id": "WOM6v4drTgDl",
        "outputId": "3f8ba562-dca8-48ff-83bc-b00e584318c8"
      },
      "execution_count": 14,
      "outputs": [
        {
          "output_type": "stream",
          "name": "stdout",
          "text": [
            "Object `A.name` not found.\n"
          ]
        }
      ]
    },
    {
      "cell_type": "code",
      "source": [
        "a.var"
      ],
      "metadata": {
        "colab": {
          "base_uri": "https://localhost:8080/",
          "height": 35
        },
        "id": "uUmJO2jHTmgb",
        "outputId": "696ad986-9966-4d89-a00f-4abf0abdb8fa"
      },
      "execution_count": 15,
      "outputs": [
        {
          "output_type": "execute_result",
          "data": {
            "text/plain": [
              "'Hello'"
            ],
            "application/vnd.google.colaboratory.intrinsic+json": {
              "type": "string"
            }
          },
          "metadata": {},
          "execution_count": 15
        }
      ]
    },
    {
      "cell_type": "code",
      "source": [
        "class Employee:\n",
        "  company_name = \"Scaler\"\n",
        "\n",
        "\n",
        "  def __init__(self, id, name):\n",
        "    self.name = name\n",
        "    self.id = id\n",
        "\n",
        "e1 = Employee(1, 'A')"
      ],
      "metadata": {
        "id": "aHEpR7BMTtbL"
      },
      "execution_count": 19,
      "outputs": []
    },
    {
      "cell_type": "code",
      "source": [
        "print(e1.company_name)\n",
        "print(e1.name)\n",
        "print(e1.id)"
      ],
      "metadata": {
        "colab": {
          "base_uri": "https://localhost:8080/"
        },
        "id": "NL6V1gu2ULx3",
        "outputId": "7d3b49fe-a142-4615-8e50-bda8584ea7ad"
      },
      "execution_count": 20,
      "outputs": [
        {
          "output_type": "stream",
          "name": "stdout",
          "text": [
            "Scaler\n",
            "A\n",
            "1\n"
          ]
        }
      ]
    },
    {
      "cell_type": "code",
      "source": [
        "e2 = Employee(2, 'B')\n",
        "print(e2.company_name)\n",
        "print(e2.name)\n",
        "print(e2.id)"
      ],
      "metadata": {
        "colab": {
          "base_uri": "https://localhost:8080/"
        },
        "id": "d7uAaQWpUVsP",
        "outputId": "9af5c891-3ba8-4514-c183-3850b2564a0c"
      },
      "execution_count": 21,
      "outputs": [
        {
          "output_type": "stream",
          "name": "stdout",
          "text": [
            "Scaler\n",
            "B\n",
            "2\n"
          ]
        }
      ]
    },
    {
      "cell_type": "code",
      "source": [
        "# OVERWRITE WITH CLASS\n",
        "Employee.company_name = \"InterviewBit\"\n",
        "print(e1.company_name)\n",
        "print(e2.company_name)"
      ],
      "metadata": {
        "colab": {
          "base_uri": "https://localhost:8080/"
        },
        "id": "5pKCYzrLUfUj",
        "outputId": "3d82958b-f39a-427d-a110-df12f369665d"
      },
      "execution_count": 22,
      "outputs": [
        {
          "output_type": "stream",
          "name": "stdout",
          "text": [
            "InterviewBit\n",
            "InterviewBit\n"
          ]
        }
      ]
    },
    {
      "cell_type": "code",
      "source": [
        "# OVERWRITE CLASS VARIABLE USING OBJECT\n",
        "e1.company_name = \"Amazon\"\n",
        "print(Employee.company_name)\n",
        "print(e1.company_name) # a new instance variable is created only for\n",
        "                        # e1 when class variable is IMMUTABLE\n",
        "print(e2.company_name)"
      ],
      "metadata": {
        "colab": {
          "base_uri": "https://localhost:8080/"
        },
        "id": "QsdNqRndVSo-",
        "outputId": "d7dbbd9c-19f2-48ea-ffd6-d3853cacb7d3"
      },
      "execution_count": 23,
      "outputs": [
        {
          "output_type": "stream",
          "name": "stdout",
          "text": [
            "InterviewBit\n",
            "Amazon\n",
            "InterviewBit\n"
          ]
        }
      ]
    },
    {
      "cell_type": "code",
      "source": [
        "class Employee:\n",
        "  company_name = [\"INTERVEIWBIT\"] # L S D\n",
        "\n",
        "\n",
        "  def __init__(self, id, name):\n",
        "    self.name = name\n",
        "    self.id = id\n",
        "\n",
        "e1 = Employee(1, 'A')\n",
        "e2 = Employee(2, 'B')\n"
      ],
      "metadata": {
        "id": "1RtMrq1kVjGx"
      },
      "execution_count": 24,
      "outputs": []
    },
    {
      "cell_type": "code",
      "source": [
        "print(Employee.company_name)\n",
        "print(e1.company_name) \n",
        "print(e2.company_name)"
      ],
      "metadata": {
        "colab": {
          "base_uri": "https://localhost:8080/"
        },
        "id": "zxfaO2-RWpro",
        "outputId": "204b91fe-3952-4153-af89-898649fbf5c8"
      },
      "execution_count": 25,
      "outputs": [
        {
          "output_type": "stream",
          "name": "stdout",
          "text": [
            "['INTERVEIWBIT']\n",
            "['INTERVEIWBIT']\n",
            "['INTERVEIWBIT']\n"
          ]
        }
      ]
    },
    {
      "cell_type": "code",
      "source": [
        "# update using class variable with class\n",
        "Employee.company_name.append(\"Interview\")\n",
        "print(Employee.company_name)\n",
        "print(e1.company_name) \n",
        "print(e2.company_name)"
      ],
      "metadata": {
        "colab": {
          "base_uri": "https://localhost:8080/"
        },
        "id": "THHKURY-WvAW",
        "outputId": "b6d6c3ae-4841-40da-a2ad-89256ac3accf"
      },
      "execution_count": 26,
      "outputs": [
        {
          "output_type": "stream",
          "name": "stdout",
          "text": [
            "['INTERVEIWBIT', 'Interview']\n",
            "['INTERVEIWBIT', 'Interview']\n",
            "['INTERVEIWBIT', 'Interview']\n"
          ]
        }
      ]
    },
    {
      "cell_type": "code",
      "source": [
        "# update using class variable with object\n",
        "e1.company_name.append(\"Scaler\")\n",
        "print(Employee.company_name)\n",
        "print(e1.company_name) \n",
        "print(e2.company_name)"
      ],
      "metadata": {
        "colab": {
          "base_uri": "https://localhost:8080/"
        },
        "id": "-I-vKO6RW_C_",
        "outputId": "414b7da7-dbdb-4998-91ae-865d02218fa2"
      },
      "execution_count": 27,
      "outputs": [
        {
          "output_type": "stream",
          "name": "stdout",
          "text": [
            "['INTERVEIWBIT', 'Interview', 'Scaler']\n",
            "['INTERVEIWBIT', 'Interview', 'Scaler']\n",
            "['INTERVEIWBIT', 'Interview', 'Scaler']\n"
          ]
        }
      ]
    },
    {
      "cell_type": "markdown",
      "source": [
        "Point 1: If class Variable is update using `ClassName` then the change would reflect everywhere.\n",
        "\n",
        "Point2: If class Variable is update using `Object` then the change only reflect to the particular object if class variable is IMMUTABLE. (This would create instance varialble specific to the object)\n",
        "\n",
        "\n",
        "Point3: If class Variable is update using `Object` then the change would reflect everywhere if class variable is Mutable."
      ],
      "metadata": {
        "id": "srfmdeFNXaD8"
      }
    },
    {
      "cell_type": "code",
      "source": [
        "class A:\n",
        "    counter=0 ## immutable\n",
        "    def __init__(self):\n",
        "      self.counter+=1\n",
        "\n",
        "obj1 = A()\n",
        "obj2 = A()\n",
        "print(A.counter)"
      ],
      "metadata": {
        "colab": {
          "base_uri": "https://localhost:8080/"
        },
        "id": "HUIceqV4ZWj0",
        "outputId": "b79e043e-c1a9-4448-bb88-1785b7e40eb0"
      },
      "execution_count": 94,
      "outputs": [
        {
          "output_type": "stream",
          "name": "stdout",
          "text": [
            "0\n"
          ]
        }
      ]
    },
    {
      "cell_type": "code",
      "source": [
        "class A:\n",
        "    counter=0 \n",
        "    def __init__(self):\n",
        "      self.counter+=1\n",
        "\n",
        "A()\n",
        "\n",
        "obj1 = A()\n",
        "\n",
        "if A():\n",
        "    print(A.counter)"
      ],
      "metadata": {
        "colab": {
          "base_uri": "https://localhost:8080/"
        },
        "id": "3tUs8iW3XO7m",
        "outputId": "a34028ce-3478-4f19-b504-ae9f1fad7076"
      },
      "execution_count": 31,
      "outputs": [
        {
          "output_type": "stream",
          "name": "stdout",
          "text": [
            "0\n"
          ]
        }
      ]
    },
    {
      "cell_type": "code",
      "source": [
        "obj1.counter"
      ],
      "metadata": {
        "colab": {
          "base_uri": "https://localhost:8080/"
        },
        "id": "s7P0KYwmZNpa",
        "outputId": "fb85de92-9d70-4955-b356-c3ad5600c2a6"
      },
      "execution_count": 32,
      "outputs": [
        {
          "output_type": "execute_result",
          "data": {
            "text/plain": [
              "1"
            ]
          },
          "metadata": {},
          "execution_count": 32
        }
      ]
    },
    {
      "cell_type": "code",
      "source": [
        "class A:\n",
        "    counter= 0 # immutable\n",
        "    def __init__(self):\n",
        "      A.counter+=1\n",
        "\n",
        "A()\n",
        "\n",
        "obj1 = A()\n",
        "\n",
        "if A():\n",
        "    print(A.counter)"
      ],
      "metadata": {
        "colab": {
          "base_uri": "https://localhost:8080/"
        },
        "id": "j8KqX7POZRPv",
        "outputId": "0726e773-f8ab-4563-ee35-6ce8975ed569"
      },
      "execution_count": 34,
      "outputs": [
        {
          "output_type": "stream",
          "name": "stdout",
          "text": [
            "3\n"
          ]
        }
      ]
    },
    {
      "cell_type": "code",
      "source": [
        "obj1.counter"
      ],
      "metadata": {
        "colab": {
          "base_uri": "https://localhost:8080/"
        },
        "id": "AESkeWs1aC5-",
        "outputId": "920b0987-e2f6-4647-cc6c-441eb5876f56"
      },
      "execution_count": 35,
      "outputs": [
        {
          "output_type": "execute_result",
          "data": {
            "text/plain": [
              "3"
            ]
          },
          "metadata": {},
          "execution_count": 35
        }
      ]
    },
    {
      "cell_type": "code",
      "source": [
        "# 10:08"
      ],
      "metadata": {
        "id": "7TqR63fuaPZq"
      },
      "execution_count": null,
      "outputs": []
    },
    {
      "cell_type": "markdown",
      "source": [
        "#### Pillars of OOPS:\n",
        "- Encapsulation\n",
        "- Abstraction\n",
        "- Polymorphishm: `one thing  many forms`\n",
        "- Inhertiance"
      ],
      "metadata": {
        "id": "pjS8_IOMdpZv"
      }
    },
    {
      "cell_type": "code",
      "source": [
        "1 + 2 # matmethical summation"
      ],
      "metadata": {
        "colab": {
          "base_uri": "https://localhost:8080/"
        },
        "id": "jnVTMu_wd9pO",
        "outputId": "32997d03-8aab-4b87-f433-aad62122806a"
      },
      "execution_count": 36,
      "outputs": [
        {
          "output_type": "execute_result",
          "data": {
            "text/plain": [
              "3"
            ]
          },
          "metadata": {},
          "execution_count": 36
        }
      ]
    },
    {
      "cell_type": "code",
      "source": [
        "'a' + 'b' # concatenation"
      ],
      "metadata": {
        "colab": {
          "base_uri": "https://localhost:8080/",
          "height": 35
        },
        "id": "Pm658K_ReBrX",
        "outputId": "df2e2868-c774-4c20-e2da-688ed1f2c434"
      },
      "execution_count": 37,
      "outputs": [
        {
          "output_type": "execute_result",
          "data": {
            "text/plain": [
              "'ab'"
            ],
            "application/vnd.google.colaboratory.intrinsic+json": {
              "type": "string"
            }
          },
          "metadata": {},
          "execution_count": 37
        }
      ]
    },
    {
      "cell_type": "markdown",
      "source": [
        "`+` operator shows different behaviour based on operand class"
      ],
      "metadata": {
        "id": "shp6WlH0eOCG"
      }
    },
    {
      "cell_type": "code",
      "source": [
        "[1,2, 3] + [4]"
      ],
      "metadata": {
        "colab": {
          "base_uri": "https://localhost:8080/"
        },
        "id": "mqr2bdo3eE3w",
        "outputId": "4a54914c-07d7-4b14-e657-f8694bbac36f"
      },
      "execution_count": 39,
      "outputs": [
        {
          "output_type": "execute_result",
          "data": {
            "text/plain": [
              "[1, 2, 3, 4]"
            ]
          },
          "metadata": {},
          "execution_count": 39
        }
      ]
    },
    {
      "cell_type": "code",
      "source": [
        "class DSMLInstructor:\n",
        "  def teaches(self):\n",
        "    print(\"Instructor teaches Data Science and ML\")\n",
        "\n",
        "\n",
        "class AcademyInstructor:\n",
        "  def teaches(self):\n",
        "    print(\"Instructor teaches Software Development\")\n",
        "\n",
        "\n",
        "t1 = DSMLInstructor()\n",
        "t2 = AcademyInstructor()"
      ],
      "metadata": {
        "id": "4YKvjtQ9eZhj"
      },
      "execution_count": 40,
      "outputs": []
    },
    {
      "cell_type": "code",
      "source": [
        "t1.teaches()"
      ],
      "metadata": {
        "colab": {
          "base_uri": "https://localhost:8080/"
        },
        "id": "ctQAEvRZfCgi",
        "outputId": "729265f0-c4d3-437d-8dc4-ad4f85e61fa1"
      },
      "execution_count": 41,
      "outputs": [
        {
          "output_type": "stream",
          "name": "stdout",
          "text": [
            "Instructor teaches Data Science and ML\n"
          ]
        }
      ]
    },
    {
      "cell_type": "code",
      "source": [
        "t2.teaches()"
      ],
      "metadata": {
        "colab": {
          "base_uri": "https://localhost:8080/"
        },
        "id": "NzAg6sJYfHPU",
        "outputId": "d4b53db8-e80a-425e-edcb-5db25a2b54eb"
      },
      "execution_count": 42,
      "outputs": [
        {
          "output_type": "stream",
          "name": "stdout",
          "text": [
            "Instructor teaches Software Development\n"
          ]
        }
      ]
    },
    {
      "cell_type": "markdown",
      "source": [],
      "metadata": {
        "id": "1naOuXUmfiqu"
      }
    },
    {
      "cell_type": "code",
      "source": [
        "class DSMLInstructor:\n",
        "  def teaches(self):\n",
        "    print(\"Instructor teaches Data Science and ML\")\n",
        "\n",
        "\n",
        "class AcademyInstructor:\n",
        "  def teaches(self, world):\n",
        "    print(\"Instructor teaches Software Development\")\n",
        "\n",
        "\n",
        "t1 = DSMLInstructor()\n",
        "t2 = AcademyInstructor()\n",
        "t1.teaches()\n",
        "t2.teaches(\"Bye\")"
      ],
      "metadata": {
        "colab": {
          "base_uri": "https://localhost:8080/"
        },
        "id": "jGhMMZK1fNik",
        "outputId": "1dbc9146-1e2b-4293-a500-c3d917988929"
      },
      "execution_count": 44,
      "outputs": [
        {
          "output_type": "stream",
          "name": "stdout",
          "text": [
            "Instructor teaches Data Science and ML\n",
            "Instructor teaches Software Development\n"
          ]
        }
      ]
    },
    {
      "cell_type": "markdown",
      "source": [
        "#### magic methods: __init__, __eq__, __add__"
      ],
      "metadata": {
        "id": "Bx0qRZDhgDxY"
      }
    },
    {
      "cell_type": "code",
      "source": [
        "class DSMLInstructor:\n",
        "\n",
        "  def __init__(self):\n",
        "    print(\"Creating instructors\")\n",
        "  def teaches(self):\n",
        "    print(\"Instructor teaches Data Science and ML\")\n",
        "\n",
        "\n",
        "t1 = DSMLInstructor()\n",
        "dir(t1)"
      ],
      "metadata": {
        "colab": {
          "base_uri": "https://localhost:8080/"
        },
        "id": "c43w1edSgC4T",
        "outputId": "ab5b769c-b8d8-4826-8cb5-a6946ff7a61d"
      },
      "execution_count": 46,
      "outputs": [
        {
          "output_type": "stream",
          "name": "stdout",
          "text": [
            "Creating instructors\n"
          ]
        },
        {
          "output_type": "execute_result",
          "data": {
            "text/plain": [
              "['__class__',\n",
              " '__delattr__',\n",
              " '__dict__',\n",
              " '__dir__',\n",
              " '__doc__',\n",
              " '__eq__',\n",
              " '__format__',\n",
              " '__ge__',\n",
              " '__getattribute__',\n",
              " '__gt__',\n",
              " '__hash__',\n",
              " '__init__',\n",
              " '__init_subclass__',\n",
              " '__le__',\n",
              " '__lt__',\n",
              " '__module__',\n",
              " '__ne__',\n",
              " '__new__',\n",
              " '__reduce__',\n",
              " '__reduce_ex__',\n",
              " '__repr__',\n",
              " '__setattr__',\n",
              " '__sizeof__',\n",
              " '__str__',\n",
              " '__subclasshook__',\n",
              " '__weakref__',\n",
              " 'teaches']"
            ]
          },
          "metadata": {},
          "execution_count": 46
        }
      ]
    },
    {
      "cell_type": "code",
      "source": [
        "class DSMLInstructor:\n",
        "\n",
        "  def __init__(self, name):\n",
        "    self.name = name\n",
        "\n",
        "  def teaches(self):\n",
        "    print(\"Instructor teaches Data Science and ML\")\n",
        "\n",
        "\n",
        "\n",
        "t1 = DSMLInstructor(\"Sachin\")\n",
        "print(t1)"
      ],
      "metadata": {
        "colab": {
          "base_uri": "https://localhost:8080/"
        },
        "id": "UJgiDNTof5XJ",
        "outputId": "67d91255-a601-4467-e179-6ed7c39845c1"
      },
      "execution_count": 50,
      "outputs": [
        {
          "output_type": "stream",
          "name": "stdout",
          "text": [
            "<__main__.DSMLInstructor object at 0x7f4f88469f40>\n"
          ]
        }
      ]
    },
    {
      "cell_type": "code",
      "source": [
        "class DSMLInstructor:\n",
        "\n",
        "  def __init__(self, name):\n",
        "    self.name = name\n",
        "\n",
        "  def teaches(self):\n",
        "    print(\"Instructor teaches Data Science and ML\")\n",
        "\n",
        "  # changes the behavious of print function\n",
        "  def __str__(self):\n",
        "    return \"Instructor name is: \" + self.name\n",
        "\n",
        "t1 = DSMLInstructor(\"Sachin\")\n",
        "print(t1)"
      ],
      "metadata": {
        "colab": {
          "base_uri": "https://localhost:8080/"
        },
        "id": "W7v12xGJhIfJ",
        "outputId": "98b934a8-40a1-4463-90ff-cec04f4063d4"
      },
      "execution_count": 51,
      "outputs": [
        {
          "output_type": "stream",
          "name": "stdout",
          "text": [
            "Instructor name is: Sachin\n"
          ]
        }
      ]
    },
    {
      "cell_type": "code",
      "source": [
        "class DSMLInstructor:\n",
        "\n",
        "  def __init__(self, name):\n",
        "    self.name = name\n",
        "\n",
        "  def teaches(self):\n",
        "    print(\"Instructor teaches Data Science and ML\")\n",
        "\n",
        "  # changes the behavious of print function\n",
        "  def __str__(self):\n",
        "    return \"Instructor name is: \" + self.name\n",
        "\n",
        "t1 = DSMLInstructor(\"Sachin\")"
      ],
      "metadata": {
        "id": "FoCqf-qhh4ae"
      },
      "execution_count": 59,
      "outputs": []
    },
    {
      "cell_type": "code",
      "source": [
        "t2 = DSMLInstructor(\"Sachin\")"
      ],
      "metadata": {
        "id": "LGJKQ0IaiBFA"
      },
      "execution_count": 60,
      "outputs": []
    },
    {
      "cell_type": "code",
      "source": [
        "t1==t2"
      ],
      "metadata": {
        "colab": {
          "base_uri": "https://localhost:8080/"
        },
        "id": "GtUIEJKsioeA",
        "outputId": "2f55ee53-f199-4e46-bc67-a34624261b8a"
      },
      "execution_count": 61,
      "outputs": [
        {
          "output_type": "execute_result",
          "data": {
            "text/plain": [
              "False"
            ]
          },
          "metadata": {},
          "execution_count": 61
        }
      ]
    },
    {
      "cell_type": "code",
      "source": [
        "class DSMLInstructor:\n",
        "\n",
        "  def __init__(self, name):\n",
        "    self.name = name\n",
        "\n",
        "  def teaches(self):\n",
        "    print(\"Instructor teaches Data Science and ML\")\n",
        "\n",
        "  # changes the behavious of print function\n",
        "  def __str__(self):\n",
        "    return \"Instructor name is: \" + self.name\n",
        "\n",
        "\n",
        "  def __eq__(self, other_object):\n",
        "    return self.name==other_object.name\n",
        "\n",
        "t1 = DSMLInstructor(\"Sachin\")\n",
        "t2 = DSMLInstructor(\"Sachin\")"
      ],
      "metadata": {
        "id": "t1o23bvsixKf"
      },
      "execution_count": 62,
      "outputs": []
    },
    {
      "cell_type": "code",
      "source": [
        "t1==t2"
      ],
      "metadata": {
        "colab": {
          "base_uri": "https://localhost:8080/"
        },
        "id": "mU0DvhoYi-0b",
        "outputId": "5972a287-3c12-402d-9425-a5af533843f8"
      },
      "execution_count": 63,
      "outputs": [
        {
          "output_type": "execute_result",
          "data": {
            "text/plain": [
              "True"
            ]
          },
          "metadata": {},
          "execution_count": 63
        }
      ]
    },
    {
      "cell_type": "code",
      "source": [
        "t3 = DSMLInstructor(\"A\")\n",
        "t4 = DSMLInstructor(\"B\")\n",
        "t3==t4"
      ],
      "metadata": {
        "colab": {
          "base_uri": "https://localhost:8080/"
        },
        "id": "YDEOttJajE3M",
        "outputId": "69eee068-793d-4d1f-d388-22b3a508d06b"
      },
      "execution_count": 64,
      "outputs": [
        {
          "output_type": "execute_result",
          "data": {
            "text/plain": [
              "False"
            ]
          },
          "metadata": {},
          "execution_count": 64
        }
      ]
    },
    {
      "cell_type": "code",
      "source": [
        "dir(t1)"
      ],
      "metadata": {
        "colab": {
          "base_uri": "https://localhost:8080/"
        },
        "id": "gNydVTH-jNba",
        "outputId": "21e91d2a-e176-4124-870d-a489e19e8b42"
      },
      "execution_count": 65,
      "outputs": [
        {
          "output_type": "execute_result",
          "data": {
            "text/plain": [
              "['__class__',\n",
              " '__delattr__',\n",
              " '__dict__',\n",
              " '__dir__',\n",
              " '__doc__',\n",
              " '__eq__',\n",
              " '__format__',\n",
              " '__ge__',\n",
              " '__getattribute__',\n",
              " '__gt__',\n",
              " '__hash__',\n",
              " '__init__',\n",
              " '__init_subclass__',\n",
              " '__le__',\n",
              " '__lt__',\n",
              " '__module__',\n",
              " '__ne__',\n",
              " '__new__',\n",
              " '__reduce__',\n",
              " '__reduce_ex__',\n",
              " '__repr__',\n",
              " '__setattr__',\n",
              " '__sizeof__',\n",
              " '__str__',\n",
              " '__subclasshook__',\n",
              " '__weakref__',\n",
              " 'name',\n",
              " 'teaches']"
            ]
          },
          "metadata": {},
          "execution_count": 65
        }
      ]
    },
    {
      "cell_type": "markdown",
      "source": [
        "### Homework: Try overiding `__add__,  __lt__, __call__`"
      ],
      "metadata": {
        "id": "LwiAuuGcjTmp"
      }
    },
    {
      "cell_type": "code",
      "source": [],
      "metadata": {
        "id": "YpLgr4N7jRQg"
      },
      "execution_count": null,
      "outputs": []
    },
    {
      "cell_type": "markdown",
      "source": [
        "#### Inhertance"
      ],
      "metadata": {
        "id": "7MsrrZ7ejvl9"
      }
    },
    {
      "cell_type": "code",
      "source": [
        "class Parent:\n",
        "  def __init__(self):\n",
        "    print(\"Inside Parent Class\")\n",
        "\n",
        "class Child(Parent):\n",
        "  def __init__(self):\n",
        "    print(\"Inside Child Class\")"
      ],
      "metadata": {
        "id": "pbXUIutujy_y"
      },
      "execution_count": 66,
      "outputs": []
    },
    {
      "cell_type": "code",
      "source": [
        "p1 = Parent()"
      ],
      "metadata": {
        "colab": {
          "base_uri": "https://localhost:8080/"
        },
        "id": "VCXF-iyXmY9n",
        "outputId": "66daddd5-ca36-464b-cbe3-9634e4efd67e"
      },
      "execution_count": 67,
      "outputs": [
        {
          "output_type": "stream",
          "name": "stdout",
          "text": [
            "Inside Parent Class\n"
          ]
        }
      ]
    },
    {
      "cell_type": "code",
      "source": [
        "c1 = Child()"
      ],
      "metadata": {
        "colab": {
          "base_uri": "https://localhost:8080/"
        },
        "id": "NtyIu-_hmlNd",
        "outputId": "ea1982a7-7f43-4ee7-ed53-34b246fd83a9"
      },
      "execution_count": 68,
      "outputs": [
        {
          "output_type": "stream",
          "name": "stdout",
          "text": [
            "Inside Child Class\n"
          ]
        }
      ]
    },
    {
      "cell_type": "code",
      "source": [
        "class Parent:\n",
        "  def __init__(self):\n",
        "    print(\"Inside Parent Class\")\n",
        "\n",
        "class Child(Parent):\n",
        "\n",
        "  def __init__(self):\n",
        "    #Parent.__init__(self)\n",
        "    super().__init__()\n",
        "    print(\"Inside Child Class\")\n",
        "c1 = Child()"
      ],
      "metadata": {
        "colab": {
          "base_uri": "https://localhost:8080/"
        },
        "id": "2zzoHccLmwXq",
        "outputId": "0aa220ac-fd6f-45d8-879b-beafaa87889b"
      },
      "execution_count": 73,
      "outputs": [
        {
          "output_type": "stream",
          "name": "stdout",
          "text": [
            "Inside Parent Class\n",
            "Inside Child Class\n"
          ]
        }
      ]
    },
    {
      "cell_type": "code",
      "source": [
        "class ScalerMember:\n",
        "  def __init__(self,name):\n",
        "    self.name = name\n",
        "\n",
        "class Student(ScalerMember):\n",
        "  def __init__(self, name, batch):\n",
        "    self.batch = batch\n",
        "\n",
        "class Staff(ScalerMember):\n",
        "  def __init__(self, name, salary):\n",
        "    self.salary = salary \n",
        "\n",
        "\n",
        "class Teacher(Staff):\n",
        "  def __init__(self, name, salary, subject):\n",
        "    self.subject = subject \n"
      ],
      "metadata": {
        "id": "nDdelcnYm4tu"
      },
      "execution_count": 75,
      "outputs": []
    },
    {
      "cell_type": "code",
      "source": [
        "st1 = Student(\"Ravi\", \"Nov22\")"
      ],
      "metadata": {
        "id": "Hv6uUZrTodHS"
      },
      "execution_count": 76,
      "outputs": []
    },
    {
      "cell_type": "code",
      "source": [
        "st1.batch"
      ],
      "metadata": {
        "colab": {
          "base_uri": "https://localhost:8080/",
          "height": 35
        },
        "id": "IAHHnDzspIbA",
        "outputId": "543b74cb-6d7c-42c8-cb2f-2d25ec02ddf3"
      },
      "execution_count": 77,
      "outputs": [
        {
          "output_type": "execute_result",
          "data": {
            "text/plain": [
              "'Nov22'"
            ],
            "application/vnd.google.colaboratory.intrinsic+json": {
              "type": "string"
            }
          },
          "metadata": {},
          "execution_count": 77
        }
      ]
    },
    {
      "cell_type": "code",
      "source": [
        "st1.name"
      ],
      "metadata": {
        "colab": {
          "base_uri": "https://localhost:8080/",
          "height": 164
        },
        "id": "Lr2ZFVUypJ7P",
        "outputId": "8f3aacb1-cfde-4d9f-abef-9607f1292607"
      },
      "execution_count": 78,
      "outputs": [
        {
          "output_type": "error",
          "ename": "AttributeError",
          "evalue": "ignored",
          "traceback": [
            "\u001b[0;31m---------------------------------------------------------------------------\u001b[0m",
            "\u001b[0;31mAttributeError\u001b[0m                            Traceback (most recent call last)",
            "\u001b[0;32m<ipython-input-78-8aaedc67b03f>\u001b[0m in \u001b[0;36m<module>\u001b[0;34m\u001b[0m\n\u001b[0;32m----> 1\u001b[0;31m \u001b[0mst1\u001b[0m\u001b[0;34m.\u001b[0m\u001b[0mname\u001b[0m\u001b[0;34m\u001b[0m\u001b[0;34m\u001b[0m\u001b[0m\n\u001b[0m",
            "\u001b[0;31mAttributeError\u001b[0m: 'Student' object has no attribute 'name'"
          ]
        }
      ]
    },
    {
      "cell_type": "code",
      "source": [
        "class ScalerMember:\n",
        "  def __init__(self,name):\n",
        "    self.name = name\n",
        "\n",
        "class Student(ScalerMember):\n",
        "  def __init__(self, name, batch):\n",
        "    super().__init__(name)\n",
        "    self.batch = batch\n",
        "\n",
        "class Staff(ScalerMember):\n",
        "  def __init__(self, name, salary):\n",
        "    super().__init__(name)\n",
        "    self.salary = salary \n",
        "\n",
        "\n",
        "class Teacher(Staff):\n",
        "  def __init__(self, name, salary, subject):\n",
        "    super().__init__(name, salary)\n",
        "    self.subject = subject \n",
        "\n",
        "\n",
        "st1 = Student(\"Ravi\", \"Nov22\")\n",
        "print(st1.name, st1.batch)"
      ],
      "metadata": {
        "colab": {
          "base_uri": "https://localhost:8080/"
        },
        "id": "BPncyY3bpQIf",
        "outputId": "eb959773-3409-44fd-9eec-436666302196"
      },
      "execution_count": 89,
      "outputs": [
        {
          "output_type": "stream",
          "name": "stdout",
          "text": [
            "Ravi Nov22\n"
          ]
        }
      ]
    },
    {
      "cell_type": "code",
      "source": [
        "t1 = Teacher(\"Sachin\", 10, \"DSML\")"
      ],
      "metadata": {
        "id": "8B3dPgvJpk7r"
      },
      "execution_count": 90,
      "outputs": []
    },
    {
      "cell_type": "code",
      "source": [
        "t1.name"
      ],
      "metadata": {
        "colab": {
          "base_uri": "https://localhost:8080/",
          "height": 35
        },
        "id": "2fryl6RfpwH2",
        "outputId": "78a0df18-a286-40a7-8b4e-95cd30d9a638"
      },
      "execution_count": 91,
      "outputs": [
        {
          "output_type": "execute_result",
          "data": {
            "text/plain": [
              "'Sachin'"
            ],
            "application/vnd.google.colaboratory.intrinsic+json": {
              "type": "string"
            }
          },
          "metadata": {},
          "execution_count": 91
        }
      ]
    },
    {
      "cell_type": "code",
      "source": [
        "t1.salary"
      ],
      "metadata": {
        "colab": {
          "base_uri": "https://localhost:8080/"
        },
        "id": "UDU74tRYp-4r",
        "outputId": "44cf7b56-b0f2-472c-c0f0-7f59266f42dd"
      },
      "execution_count": 92,
      "outputs": [
        {
          "output_type": "execute_result",
          "data": {
            "text/plain": [
              "10"
            ]
          },
          "metadata": {},
          "execution_count": 92
        }
      ]
    },
    {
      "cell_type": "code",
      "source": [
        "t1.subject"
      ],
      "metadata": {
        "colab": {
          "base_uri": "https://localhost:8080/",
          "height": 35
        },
        "id": "Cj6r0I08qBm5",
        "outputId": "69f9a69a-ced9-4b29-e700-98936d2ef4e5"
      },
      "execution_count": 93,
      "outputs": [
        {
          "output_type": "execute_result",
          "data": {
            "text/plain": [
              "'DSML'"
            ],
            "application/vnd.google.colaboratory.intrinsic+json": {
              "type": "string"
            }
          },
          "metadata": {},
          "execution_count": 93
        }
      ]
    },
    {
      "cell_type": "code",
      "source": [],
      "metadata": {
        "id": "wLTmCoPyqD6W"
      },
      "execution_count": null,
      "outputs": []
    },
    {
      "cell_type": "markdown",
      "source": [
        "### Multiple Inheritance\n",
        "### Private Variable\n",
        "### can we have example for relating polymorphism and inheritence??in above examples\n"
      ],
      "metadata": {
        "id": "8DQuEwK6rDw-"
      }
    },
    {
      "cell_type": "code",
      "source": [
        "mutable = [], {,}, {\"A\":\"B\"}\n",
        "\n",
        "immutable = 'int', 'str'\n",
        "\n",
        "class A:\n",
        "  var1 = 1 # static var or class var\n",
        "  def someMethod(self, name, id):\n",
        "    self.var2= name # instance variable\n",
        "    var3= id  # local variable"
      ],
      "metadata": {
        "id": "FUzZkRG1rMpC"
      },
      "execution_count": null,
      "outputs": []
    }
  ]
}