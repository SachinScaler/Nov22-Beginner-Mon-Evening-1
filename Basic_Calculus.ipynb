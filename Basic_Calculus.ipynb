{
  "nbformat": 4,
  "nbformat_minor": 0,
  "metadata": {
    "colab": {
      "provenance": [],
      "authorship_tag": "ABX9TyMHf6fkMuxDKovYHbbwPTaB",
      "include_colab_link": true
    },
    "kernelspec": {
      "name": "python3",
      "display_name": "Python 3"
    },
    "language_info": {
      "name": "python"
    }
  },
  "cells": [
    {
      "cell_type": "markdown",
      "metadata": {
        "id": "view-in-github",
        "colab_type": "text"
      },
      "source": [
        "<a href=\"https://colab.research.google.com/github/SachinScaler/Nov22-Beginner-Mon-Evening-1/blob/main/Basic_Calculus.ipynb\" target=\"_parent\"><img src=\"https://colab.research.google.com/assets/colab-badge.svg\" alt=\"Open In Colab\"/></a>"
      ]
    },
    {
      "cell_type": "code",
      "execution_count": 4,
      "metadata": {
        "colab": {
          "base_uri": "https://localhost:8080/"
        },
        "id": "keGAuZQTB9Xg",
        "outputId": "167aa286-9e98-45bc-8a06-5e4be94cc845"
      },
      "outputs": [
        {
          "output_type": "stream",
          "name": "stdout",
          "text": [
            "N\n",
            "E\n",
            "E\n",
            "E\n"
          ]
        }
      ],
      "source": [
        "l1 = [2, 0, \"hello\", None]\n",
        "\n",
        "for e in l1:\n",
        "    try:\n",
        "        result = 5 / int(e) # \"Hello\"\n",
        "        print(\"N\")\n",
        "    except Exception as ex: # generic excpet block\n",
        "        print(\"E\")\n",
        "    except ZeroDivisionError as z:\n",
        "        print(\"Z\")"
      ]
    },
    {
      "cell_type": "code",
      "source": [
        "l1 = [2, 0, \"hello\", None]\n",
        "\n",
        "for e in l1:\n",
        "    try:\n",
        "        result = 5 / int(e) # 2-N, 0->Z, \"Hello\": E, None: E\n",
        "        print(\"N\")\n",
        "    except ZeroDivisionError as z:\n",
        "        print(\"Z\")\n",
        "    except Exception as ex:\n",
        "        print(\"E\")"
      ],
      "metadata": {
        "colab": {
          "base_uri": "https://localhost:8080/"
        },
        "id": "5ahrAwpqD2bj",
        "outputId": "e58fcffe-7b3e-469f-995c-44897e4709c7"
      },
      "execution_count": 5,
      "outputs": [
        {
          "output_type": "stream",
          "name": "stdout",
          "text": [
            "N\n",
            "Z\n",
            "E\n",
            "E\n"
          ]
        }
      ]
    },
    {
      "cell_type": "code",
      "source": [
        "int(\"A\")"
      ],
      "metadata": {
        "colab": {
          "base_uri": "https://localhost:8080/",
          "height": 168
        },
        "id": "lCJH9wSkEihT",
        "outputId": "e16179ed-ce08-45f3-fc4a-8993754ee402"
      },
      "execution_count": 2,
      "outputs": [
        {
          "output_type": "error",
          "ename": "ValueError",
          "evalue": "ignored",
          "traceback": [
            "\u001b[0;31m---------------------------------------------------------------------------\u001b[0m",
            "\u001b[0;31mValueError\u001b[0m                                Traceback (most recent call last)",
            "\u001b[0;32m<ipython-input-2-51b62aeb0293>\u001b[0m in \u001b[0;36m<cell line: 1>\u001b[0;34m()\u001b[0m\n\u001b[0;32m----> 1\u001b[0;31m \u001b[0mint\u001b[0m\u001b[0;34m(\u001b[0m\u001b[0;34m\"A\"\u001b[0m\u001b[0;34m)\u001b[0m\u001b[0;34m\u001b[0m\u001b[0;34m\u001b[0m\u001b[0m\n\u001b[0m",
            "\u001b[0;31mValueError\u001b[0m: invalid literal for int() with base 10: 'A'"
          ]
        }
      ]
    },
    {
      "cell_type": "code",
      "source": [
        "5/\"A\""
      ],
      "metadata": {
        "colab": {
          "base_uri": "https://localhost:8080/",
          "height": 168
        },
        "id": "9Pjy_cyPEjtx",
        "outputId": "84a4514a-d0a0-4252-dae6-4d762ad61f6f"
      },
      "execution_count": 3,
      "outputs": [
        {
          "output_type": "error",
          "ename": "TypeError",
          "evalue": "ignored",
          "traceback": [
            "\u001b[0;31m---------------------------------------------------------------------------\u001b[0m",
            "\u001b[0;31mTypeError\u001b[0m                                 Traceback (most recent call last)",
            "\u001b[0;32m<ipython-input-3-f5fdd751c4f9>\u001b[0m in \u001b[0;36m<cell line: 1>\u001b[0;34m()\u001b[0m\n\u001b[0;32m----> 1\u001b[0;31m \u001b[0;36m5\u001b[0m\u001b[0;34m/\u001b[0m\u001b[0;34m\"A\"\u001b[0m\u001b[0;34m\u001b[0m\u001b[0;34m\u001b[0m\u001b[0m\n\u001b[0m",
            "\u001b[0;31mTypeError\u001b[0m: unsupported operand type(s) for /: 'int' and 'str'"
          ]
        }
      ]
    },
    {
      "cell_type": "code",
      "source": [],
      "metadata": {
        "id": "q0Hj1fQiEmfG"
      },
      "execution_count": null,
      "outputs": []
    },
    {
      "cell_type": "code",
      "source": [
        "a = 0\n",
        "\n",
        "try:\n",
        "    5/a\n",
        "    print(\"In Try\") # line1 \n",
        "except:\n",
        "    print(\"In Except\") # line 2\n",
        "\n",
        "finally:\n",
        "    print(\"Inside Finally\") # line 3"
      ],
      "metadata": {
        "colab": {
          "base_uri": "https://localhost:8080/"
        },
        "id": "rCr5Q9z_GlfI",
        "outputId": "74bf64b5-4e0f-4953-a81b-5c64d7d2c1ae"
      },
      "execution_count": 7,
      "outputs": [
        {
          "output_type": "stream",
          "name": "stdout",
          "text": [
            "In Except\n",
            "Inside Finally\n"
          ]
        }
      ]
    },
    {
      "cell_type": "code",
      "source": [
        "a = 0\n",
        "\n",
        "try:\n",
        "    5/a\n",
        "    print(\"In Try\") # line1 \n",
        "except:\n",
        "    print(\"In Except\") # line 2\n",
        "\n",
        "print(\"I am from try Inside Finally\")  # line 3"
      ],
      "metadata": {
        "colab": {
          "base_uri": "https://localhost:8080/"
        },
        "id": "Z3JB7vyKG_Wa",
        "outputId": "c9356554-ccf6-4250-82c5-60aa2b32b64e"
      },
      "execution_count": 9,
      "outputs": [
        {
          "output_type": "stream",
          "name": "stdout",
          "text": [
            "In Except\n",
            "Inside Finally\n"
          ]
        }
      ]
    },
    {
      "cell_type": "code",
      "source": [
        "a = \"A\"\n",
        "try:\n",
        "    5/a\n",
        "    print(\"In Try\") # line1 \n",
        "except ZeroDivisionError:\n",
        "    print(\"In Except\") # line 2\n",
        "\n",
        "finally:\n",
        "    print(\"Inside Finally\") # line 3"
      ],
      "metadata": {
        "colab": {
          "base_uri": "https://localhost:8080/",
          "height": 257
        },
        "id": "3a7I9falHKBE",
        "outputId": "e9e0719f-ea6f-4229-8fa1-ff44eaf1de7f"
      },
      "execution_count": 14,
      "outputs": [
        {
          "output_type": "stream",
          "name": "stdout",
          "text": [
            "Inside Finally\n"
          ]
        },
        {
          "output_type": "error",
          "ename": "TypeError",
          "evalue": "ignored",
          "traceback": [
            "\u001b[0;31m---------------------------------------------------------------------------\u001b[0m",
            "\u001b[0;31mTypeError\u001b[0m                                 Traceback (most recent call last)",
            "\u001b[0;32m<ipython-input-14-6f3d627cd065>\u001b[0m in \u001b[0;36m<cell line: 2>\u001b[0;34m()\u001b[0m\n\u001b[1;32m      1\u001b[0m \u001b[0ma\u001b[0m \u001b[0;34m=\u001b[0m \u001b[0;34m\"A\"\u001b[0m\u001b[0;34m\u001b[0m\u001b[0;34m\u001b[0m\u001b[0m\n\u001b[1;32m      2\u001b[0m \u001b[0;32mtry\u001b[0m\u001b[0;34m:\u001b[0m\u001b[0;34m\u001b[0m\u001b[0;34m\u001b[0m\u001b[0m\n\u001b[0;32m----> 3\u001b[0;31m     \u001b[0;36m5\u001b[0m\u001b[0;34m/\u001b[0m\u001b[0ma\u001b[0m\u001b[0;34m\u001b[0m\u001b[0;34m\u001b[0m\u001b[0m\n\u001b[0m\u001b[1;32m      4\u001b[0m     \u001b[0mprint\u001b[0m\u001b[0;34m(\u001b[0m\u001b[0;34m\"In Try\"\u001b[0m\u001b[0;34m)\u001b[0m \u001b[0;31m# line1\u001b[0m\u001b[0;34m\u001b[0m\u001b[0;34m\u001b[0m\u001b[0m\n\u001b[1;32m      5\u001b[0m \u001b[0;32mexcept\u001b[0m \u001b[0mZeroDivisionError\u001b[0m\u001b[0;34m:\u001b[0m\u001b[0;34m\u001b[0m\u001b[0;34m\u001b[0m\u001b[0m\n",
            "\u001b[0;31mTypeError\u001b[0m: unsupported operand type(s) for /: 'int' and 'str'"
          ]
        }
      ]
    },
    {
      "cell_type": "code",
      "source": [
        "a = \"A\"\n",
        "\n",
        "try:\n",
        "    5/a\n",
        "    print(\"In Try\") # line1 \n",
        "except ZeroDivisionError:\n",
        "    print(\"In Except\") # line 2\n",
        "print(\"Inside Finally\") # line 3"
      ],
      "metadata": {
        "colab": {
          "base_uri": "https://localhost:8080/",
          "height": 239
        },
        "id": "zlAjO8YtHsgC",
        "outputId": "f20f2bd5-7ab0-4da3-b82a-e3da34b418e9"
      },
      "execution_count": 15,
      "outputs": [
        {
          "output_type": "error",
          "ename": "TypeError",
          "evalue": "ignored",
          "traceback": [
            "\u001b[0;31m---------------------------------------------------------------------------\u001b[0m",
            "\u001b[0;31mTypeError\u001b[0m                                 Traceback (most recent call last)",
            "\u001b[0;32m<ipython-input-15-ba44e430c1f4>\u001b[0m in \u001b[0;36m<cell line: 3>\u001b[0;34m()\u001b[0m\n\u001b[1;32m      2\u001b[0m \u001b[0;34m\u001b[0m\u001b[0m\n\u001b[1;32m      3\u001b[0m \u001b[0;32mtry\u001b[0m\u001b[0;34m:\u001b[0m\u001b[0;34m\u001b[0m\u001b[0;34m\u001b[0m\u001b[0m\n\u001b[0;32m----> 4\u001b[0;31m     \u001b[0;36m5\u001b[0m\u001b[0;34m/\u001b[0m\u001b[0ma\u001b[0m\u001b[0;34m\u001b[0m\u001b[0;34m\u001b[0m\u001b[0m\n\u001b[0m\u001b[1;32m      5\u001b[0m     \u001b[0mprint\u001b[0m\u001b[0;34m(\u001b[0m\u001b[0;34m\"In Try\"\u001b[0m\u001b[0;34m)\u001b[0m \u001b[0;31m# line1\u001b[0m\u001b[0;34m\u001b[0m\u001b[0;34m\u001b[0m\u001b[0m\n\u001b[1;32m      6\u001b[0m \u001b[0;32mexcept\u001b[0m \u001b[0mZeroDivisionError\u001b[0m\u001b[0;34m:\u001b[0m\u001b[0;34m\u001b[0m\u001b[0;34m\u001b[0m\u001b[0m\n",
            "\u001b[0;31mTypeError\u001b[0m: unsupported operand type(s) for /: 'int' and 'str'"
          ]
        }
      ]
    },
    {
      "cell_type": "code",
      "source": [
        "def somefunct():\n",
        "    try:\n",
        "        age = int(input())\n",
        "        print(age)\n",
        "        return age # before this finally will get executed\n",
        "    except:\n",
        "        return \"SomeErrorOccured\"\n",
        "    finally:\n",
        "        return (\"taking age as input\")\n",
        "\n",
        "somefunct()"
      ],
      "metadata": {
        "colab": {
          "base_uri": "https://localhost:8080/",
          "height": 71
        },
        "id": "fAoUN8eWH1Hy",
        "outputId": "656486eb-6202-4f23-828e-87739b008f9e"
      },
      "execution_count": 20,
      "outputs": [
        {
          "output_type": "stream",
          "name": "stdout",
          "text": [
            "18\n",
            "18\n"
          ]
        },
        {
          "output_type": "execute_result",
          "data": {
            "text/plain": [
              "'taking age as input'"
            ],
            "application/vnd.google.colaboratory.intrinsic+json": {
              "type": "string"
            }
          },
          "metadata": {},
          "execution_count": 20
        }
      ]
    },
    {
      "cell_type": "code",
      "source": [
        "def somefunct():\n",
        "    try:\n",
        "        age = int(input())\n",
        "        return age\n",
        "    except:\n",
        "        return \"SomeErrorOccured\"\n",
        "    \n",
        "    print(\"taking age as input\")\n",
        "\n",
        "somefunct()"
      ],
      "metadata": {
        "colab": {
          "base_uri": "https://localhost:8080/"
        },
        "id": "J7wQpGf9JD2p",
        "outputId": "0c5901da-a589-4f89-992e-ff84cf8df1d0"
      },
      "execution_count": 17,
      "outputs": [
        {
          "name": "stdout",
          "output_type": "stream",
          "text": [
            "21\n"
          ]
        },
        {
          "output_type": "execute_result",
          "data": {
            "text/plain": [
              "21"
            ]
          },
          "metadata": {},
          "execution_count": 17
        }
      ]
    },
    {
      "cell_type": "markdown",
      "source": [
        "- clear the resources:\n",
        "- Closing the files\n",
        "    w"
      ],
      "metadata": {
        "id": "rafwcg4fKVix"
      }
    },
    {
      "cell_type": "code",
      "source": [
        "try: \n",
        "    # open some file\n",
        "\n",
        "except:\n",
        "\n",
        "\n",
        "finally:\n",
        "    #close the the file"
      ],
      "metadata": {
        "id": "7RE2Dt51JLXQ"
      },
      "execution_count": null,
      "outputs": []
    },
    {
      "cell_type": "markdown",
      "source": [
        "### Creating and Raising Custom Exception"
      ],
      "metadata": {
        "id": "yYuMml4mLDXX"
      }
    },
    {
      "cell_type": "code",
      "source": [
        "age = int(input())\n",
        "\n",
        "\n",
        "if age<18:\n",
        "    raise Exception(\"Age must be greater than 18\")"
      ],
      "metadata": {
        "colab": {
          "base_uri": "https://localhost:8080/",
          "height": 221
        },
        "id": "2D05P2rMLKT5",
        "outputId": "5d5ae5de-04ea-45a4-f6cc-81313430d6ad"
      },
      "execution_count": 32,
      "outputs": [
        {
          "name": "stdout",
          "output_type": "stream",
          "text": [
            "10\n"
          ]
        },
        {
          "output_type": "error",
          "ename": "Exception",
          "evalue": "ignored",
          "traceback": [
            "\u001b[0;31m---------------------------------------------------------------------------\u001b[0m",
            "\u001b[0;31mException\u001b[0m                                 Traceback (most recent call last)",
            "\u001b[0;32m<ipython-input-32-ae084b379308>\u001b[0m in \u001b[0;36m<cell line: 4>\u001b[0;34m()\u001b[0m\n\u001b[1;32m      3\u001b[0m \u001b[0;34m\u001b[0m\u001b[0m\n\u001b[1;32m      4\u001b[0m \u001b[0;32mif\u001b[0m \u001b[0mage\u001b[0m\u001b[0;34m<\u001b[0m\u001b[0;36m18\u001b[0m\u001b[0;34m:\u001b[0m\u001b[0;34m\u001b[0m\u001b[0;34m\u001b[0m\u001b[0m\n\u001b[0;32m----> 5\u001b[0;31m     \u001b[0;32mraise\u001b[0m \u001b[0mException\u001b[0m\u001b[0;34m(\u001b[0m\u001b[0;34m\"Age must be greater than 18\"\u001b[0m\u001b[0;34m)\u001b[0m\u001b[0;34m\u001b[0m\u001b[0;34m\u001b[0m\u001b[0m\n\u001b[0m",
            "\u001b[0;31mException\u001b[0m: Age must be greater than 18"
          ]
        }
      ]
    },
    {
      "cell_type": "code",
      "source": [
        "# creating our own customException\n",
        "\n",
        "class InvalidAge(Exception):\n",
        "    pass\n",
        "\n",
        "age = int(input())\n",
        "\n",
        "if age<18:\n",
        "    raise InvalidAge\n"
      ],
      "metadata": {
        "colab": {
          "base_uri": "https://localhost:8080/",
          "height": 221
        },
        "id": "NbRsHw1ELVRJ",
        "outputId": "5e5ab61c-85ff-4c82-ca02-8eda297f7003"
      },
      "execution_count": 34,
      "outputs": [
        {
          "name": "stdout",
          "output_type": "stream",
          "text": [
            "17\n"
          ]
        },
        {
          "output_type": "error",
          "ename": "InvalidAge",
          "evalue": "ignored",
          "traceback": [
            "\u001b[0;31m---------------------------------------------------------------------------\u001b[0m",
            "\u001b[0;31mInvalidAge\u001b[0m                                Traceback (most recent call last)",
            "\u001b[0;32m<ipython-input-34-5aa177c54a83>\u001b[0m in \u001b[0;36m<cell line: 8>\u001b[0;34m()\u001b[0m\n\u001b[1;32m      7\u001b[0m \u001b[0;34m\u001b[0m\u001b[0m\n\u001b[1;32m      8\u001b[0m \u001b[0;32mif\u001b[0m \u001b[0mage\u001b[0m\u001b[0;34m<\u001b[0m\u001b[0;36m18\u001b[0m\u001b[0;34m:\u001b[0m\u001b[0;34m\u001b[0m\u001b[0;34m\u001b[0m\u001b[0m\n\u001b[0;32m----> 9\u001b[0;31m     \u001b[0;32mraise\u001b[0m \u001b[0mInvalidAge\u001b[0m\u001b[0;34m\u001b[0m\u001b[0;34m\u001b[0m\u001b[0m\n\u001b[0m",
            "\u001b[0;31mInvalidAge\u001b[0m: "
          ]
        }
      ]
    },
    {
      "cell_type": "code",
      "source": [
        "# creating our own customException\n",
        "\n",
        "class InvalidAge(Exception):\n",
        "    def __init__(self, message):\n",
        "        super().__init__(message)\n",
        "\n",
        "age =(input())\n",
        "\n",
        "if age.isnumeric():\n",
        "    age = int(age) \n",
        "else:\n",
        "    raise InvalidAge(\"Age must be a number\")\n",
        "    \n",
        "if age<18:\n",
        "    raise InvalidAge(\"AGE MUST BE GREATER THAN OR EQUAL TO 18\")\n"
      ],
      "metadata": {
        "colab": {
          "base_uri": "https://localhost:8080/",
          "height": 257
        },
        "id": "SdJww3f4LeJQ",
        "outputId": "9d4466f4-6679-4643-8003-682199b5b44b"
      },
      "execution_count": 44,
      "outputs": [
        {
          "name": "stdout",
          "output_type": "stream",
          "text": [
            "abc\n"
          ]
        },
        {
          "output_type": "error",
          "ename": "InvalidAge",
          "evalue": "ignored",
          "traceback": [
            "\u001b[0;31m---------------------------------------------------------------------------\u001b[0m",
            "\u001b[0;31mInvalidAge\u001b[0m                                Traceback (most recent call last)",
            "\u001b[0;32m<ipython-input-44-451171200f22>\u001b[0m in \u001b[0;36m<cell line: 9>\u001b[0;34m()\u001b[0m\n\u001b[1;32m     10\u001b[0m     \u001b[0mage\u001b[0m \u001b[0;34m=\u001b[0m \u001b[0mint\u001b[0m\u001b[0;34m(\u001b[0m\u001b[0mage\u001b[0m\u001b[0;34m)\u001b[0m\u001b[0;34m\u001b[0m\u001b[0;34m\u001b[0m\u001b[0m\n\u001b[1;32m     11\u001b[0m \u001b[0;32melse\u001b[0m\u001b[0;34m:\u001b[0m\u001b[0;34m\u001b[0m\u001b[0;34m\u001b[0m\u001b[0m\n\u001b[0;32m---> 12\u001b[0;31m     \u001b[0;32mraise\u001b[0m \u001b[0mInvalidAge\u001b[0m\u001b[0;34m(\u001b[0m\u001b[0;34m\"Age must be a number\"\u001b[0m\u001b[0;34m)\u001b[0m\u001b[0;34m\u001b[0m\u001b[0;34m\u001b[0m\u001b[0m\n\u001b[0m\u001b[1;32m     13\u001b[0m \u001b[0;34m\u001b[0m\u001b[0m\n\u001b[1;32m     14\u001b[0m \u001b[0;34m\u001b[0m\u001b[0m\n",
            "\u001b[0;31mInvalidAge\u001b[0m: Age must be a number"
          ]
        }
      ]
    },
    {
      "cell_type": "code",
      "source": [
        "# creating our own customException\n",
        "\n",
        "class InvalidAge(Exception):\n",
        "    def __init__(self, message):\n",
        "        super().__init__(message)\n",
        "\n",
        "age =(input())\n",
        "\n",
        "try: \n",
        "    if age.isnumeric():\n",
        "        age = int(age) \n",
        "    else:\n",
        "        raise InvalidAge(\"Age must be a number\")\n",
        "        \n",
        "    if age<18:\n",
        "        raise InvalidAge(\"AGE MUST BE GREATER THAN OR EQUAL TO 18\")\n",
        "\n",
        "except InvalidAge as e:\n",
        "    print(str(e))\n"
      ],
      "metadata": {
        "colab": {
          "base_uri": "https://localhost:8080/"
        },
        "id": "q_BvGDf4NSLB",
        "outputId": "6e8c0998-b09d-4b64-bd50-7bda76806751"
      },
      "execution_count": 47,
      "outputs": [
        {
          "output_type": "stream",
          "name": "stdout",
          "text": [
            "'dscafds\n",
            "Age must be a number\n"
          ]
        }
      ]
    },
    {
      "cell_type": "markdown",
      "source": [
        "HW: Create a password validator function which ensures that password mustbe alphanumeric.\n",
        "- if numeric is missing, should raise customError printing(Password must have atleast one Number)\n",
        "\n",
        "- if char is missing, should raise customError printing(Password must have atleast one Char)"
      ],
      "metadata": {
        "id": "eN5T2IHoOuC3"
      }
    },
    {
      "cell_type": "code",
      "source": [
        "try:\n",
        "    1/\"A\"\n",
        "\n",
        "except:\n",
        "    try:\n",
        "        1/0\n",
        "\n",
        "    except:\n",
        "        print(\"Error inside exception. Please change code\")"
      ],
      "metadata": {
        "colab": {
          "base_uri": "https://localhost:8080/"
        },
        "id": "-cbxLjH5N_ty",
        "outputId": "c754d56d-d5e0-4294-dc20-1d5d48956239"
      },
      "execution_count": 50,
      "outputs": [
        {
          "output_type": "stream",
          "name": "stdout",
          "text": [
            "Error inside exception. Please change code\n"
          ]
        }
      ]
    },
    {
      "cell_type": "code",
      "source": [
        "import math\n",
        "math.e**100\n"
      ],
      "metadata": {
        "colab": {
          "base_uri": "https://localhost:8080/"
        },
        "id": "f8ukVZpsPl6k",
        "outputId": "fa8f1e95-5b78-4d9b-c9dd-49431fc6d13d"
      },
      "execution_count": 57,
      "outputs": [
        {
          "output_type": "execute_result",
          "data": {
            "text/plain": [
              "2.6881171418161212e+43"
            ]
          },
          "metadata": {},
          "execution_count": 57
        }
      ]
    },
    {
      "cell_type": "code",
      "source": [],
      "metadata": {
        "id": "yCCAg3BHY9Dq"
      },
      "execution_count": null,
      "outputs": []
    }
  ]
}