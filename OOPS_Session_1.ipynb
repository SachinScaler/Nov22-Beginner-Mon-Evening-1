{
  "nbformat": 4,
  "nbformat_minor": 0,
  "metadata": {
    "colab": {
      "provenance": [],
      "authorship_tag": "ABX9TyPX1h6TojJSTMx0fpvvZyJT",
      "include_colab_link": true
    },
    "kernelspec": {
      "name": "python3",
      "display_name": "Python 3"
    },
    "language_info": {
      "name": "python"
    },
    "gpuClass": "standard"
  },
  "cells": [
    {
      "cell_type": "markdown",
      "metadata": {
        "id": "view-in-github",
        "colab_type": "text"
      },
      "source": [
        "<a href=\"https://colab.research.google.com/github/SachinScaler/Nov22-Beginner-Mon-Evening-1/blob/main/OOPS_Session_1.ipynb\" target=\"_parent\"><img src=\"https://colab.research.google.com/assets/colab-badge.svg\" alt=\"Open In Colab\"/></a>"
      ]
    },
    {
      "cell_type": "code",
      "execution_count": null,
      "metadata": {
        "colab": {
          "base_uri": "https://localhost:8080/"
        },
        "id": "EAmNVILx6ErL",
        "outputId": "23180e2a-cdfb-4e6b-fc5a-339dd356d4df"
      },
      "outputs": [
        {
          "output_type": "stream",
          "name": "stdout",
          "text": [
            "1100\n"
          ]
        }
      ],
      "source": [
        "# bankaccount\n",
        "account_number = 100\n",
        "customer_name = \"Sachin\"\n",
        "acc_balance = 1000\n",
        "\n",
        "def deposit(curr_balance, amount):\n",
        "  return curr_balance+amount\n",
        "\n",
        "acc_balance = deposit(acc_balance, 100)\n",
        "print(acc_balance)\n",
        "\n",
        "# - 1000 \n",
        "# - 100"
      ]
    },
    {
      "cell_type": "markdown",
      "source": [],
      "metadata": {
        "id": "XvHcNeGs_I99"
      }
    },
    {
      "cell_type": "code",
      "source": [
        "acc_balance = deposit(acc_balance, 500)\n",
        "print(acc_balance)"
      ],
      "metadata": {
        "colab": {
          "base_uri": "https://localhost:8080/"
        },
        "id": "2R1H4OyK-KTF",
        "outputId": "c79457f7-71ce-47d0-8c45-e87c482993ba"
      },
      "execution_count": null,
      "outputs": [
        {
          "output_type": "stream",
          "name": "stdout",
          "text": [
            "1600\n"
          ]
        }
      ]
    },
    {
      "cell_type": "code",
      "source": [
        "c1_account_number = 101\n",
        "c1_customer_name = \"Ankit\"\n",
        "c1_acc_balance = 500\n",
        "\n",
        "c1_acc_balance = deposit(c1_acc_balance, 500)\n",
        "print(c1_acc_balance)"
      ],
      "metadata": {
        "colab": {
          "base_uri": "https://localhost:8080/"
        },
        "id": "fypjDTyX-ncn",
        "outputId": "c59e409f-1850-4e5c-9252-d48778135079"
      },
      "execution_count": null,
      "outputs": [
        {
          "output_type": "stream",
          "name": "stdout",
          "text": [
            "1000\n"
          ]
        }
      ]
    },
    {
      "cell_type": "code",
      "source": [
        "### creating empty class\n",
        "class BankAccount:\n",
        "  pass\n",
        "\n",
        "\n",
        "# creating new customer called c1\n",
        "c1 = BankAccount()"
      ],
      "metadata": {
        "id": "PYXhX1-f_EU5"
      },
      "execution_count": null,
      "outputs": []
    },
    {
      "cell_type": "code",
      "source": [],
      "metadata": {
        "id": "OIwfyt7eAhf-"
      },
      "execution_count": null,
      "outputs": []
    },
    {
      "cell_type": "code",
      "source": [
        "c2 = BankAccount()\n"
      ],
      "metadata": {
        "id": "HSdQ7XUj_qAL"
      },
      "execution_count": null,
      "outputs": []
    },
    {
      "cell_type": "code",
      "source": [
        "print(type(c1))"
      ],
      "metadata": {
        "colab": {
          "base_uri": "https://localhost:8080/"
        },
        "id": "7alNwCKiAldb",
        "outputId": "3c5dc0d9-183c-4f20-8688-7dce058d76c8"
      },
      "execution_count": null,
      "outputs": [
        {
          "output_type": "stream",
          "name": "stdout",
          "text": [
            "<class '__main__.BankAccount'>\n"
          ]
        }
      ]
    },
    {
      "cell_type": "code",
      "source": [
        "print(type(c2))"
      ],
      "metadata": {
        "colab": {
          "base_uri": "https://localhost:8080/"
        },
        "id": "vQftwXMBBnK8",
        "outputId": "f6185684-1343-4622-fe6e-ab94b4998dbb"
      },
      "execution_count": null,
      "outputs": [
        {
          "output_type": "stream",
          "name": "stdout",
          "text": [
            "<class '__main__.BankAccount'>\n"
          ]
        }
      ]
    },
    {
      "cell_type": "code",
      "source": [
        "print(id(c1))\n",
        "print(id(c2))"
      ],
      "metadata": {
        "colab": {
          "base_uri": "https://localhost:8080/"
        },
        "id": "q34Y8G-EBtFG",
        "outputId": "023258c6-396c-4b0a-aaba-302eee8d9bc9"
      },
      "execution_count": null,
      "outputs": [
        {
          "output_type": "stream",
          "name": "stdout",
          "text": [
            "139912231794480\n",
            "139912232067520\n"
          ]
        }
      ]
    },
    {
      "cell_type": "markdown",
      "source": [
        "### isinstance(), tell you if an object is of certain type/class"
      ],
      "metadata": {
        "id": "YWu6na4mAwiX"
      }
    },
    {
      "cell_type": "code",
      "source": [
        "a = 10\n",
        "print(type(a))"
      ],
      "metadata": {
        "colab": {
          "base_uri": "https://localhost:8080/"
        },
        "id": "TMMxLgq0AtL7",
        "outputId": "ec2e5454-38b2-4a41-c0a9-dbbad6363be7"
      },
      "execution_count": null,
      "outputs": [
        {
          "output_type": "stream",
          "name": "stdout",
          "text": [
            "<class 'int'>\n"
          ]
        }
      ]
    },
    {
      "cell_type": "code",
      "source": [
        "isinstance(a, str)"
      ],
      "metadata": {
        "colab": {
          "base_uri": "https://localhost:8080/"
        },
        "id": "M0QujiXtA5Ky",
        "outputId": "7f8a2a9b-ad9d-47e3-f7e8-9ff7660ea6fe"
      },
      "execution_count": null,
      "outputs": [
        {
          "output_type": "execute_result",
          "data": {
            "text/plain": [
              "False"
            ]
          },
          "metadata": {},
          "execution_count": 10
        }
      ]
    },
    {
      "cell_type": "code",
      "source": [
        "isinstance(a, int)"
      ],
      "metadata": {
        "colab": {
          "base_uri": "https://localhost:8080/"
        },
        "id": "gP-gP-c6BBc-",
        "outputId": "e1d7d586-7136-4e49-c433-2a7542a7af24"
      },
      "execution_count": null,
      "outputs": [
        {
          "output_type": "execute_result",
          "data": {
            "text/plain": [
              "True"
            ]
          },
          "metadata": {},
          "execution_count": 12
        }
      ]
    },
    {
      "cell_type": "markdown",
      "source": [
        "- c1 and c2 are also called object of the class BankAccount."
      ],
      "metadata": {
        "id": "jhlLIv9eAV4u"
      }
    },
    {
      "cell_type": "code",
      "source": [
        "isinstance(c1, int)"
      ],
      "metadata": {
        "colab": {
          "base_uri": "https://localhost:8080/"
        },
        "id": "77fLSBvKALhP",
        "outputId": "8f5870cd-d478-432e-8bfe-b68368626c42"
      },
      "execution_count": null,
      "outputs": [
        {
          "output_type": "execute_result",
          "data": {
            "text/plain": [
              "False"
            ]
          },
          "metadata": {},
          "execution_count": 16
        }
      ]
    },
    {
      "cell_type": "code",
      "source": [
        "isinstance(c1, BankAccount)"
      ],
      "metadata": {
        "colab": {
          "base_uri": "https://localhost:8080/"
        },
        "id": "5zWumG7qB_Ti",
        "outputId": "564c460d-687f-40a4-c85c-5c44f5f72771"
      },
      "execution_count": null,
      "outputs": [
        {
          "output_type": "execute_result",
          "data": {
            "text/plain": [
              "True"
            ]
          },
          "metadata": {},
          "execution_count": 17
        }
      ]
    },
    {
      "cell_type": "markdown",
      "source": [
        "#### c1 and c2 are instance of class bankaccount\n",
        "#### Instantiation: Process of creating objects: BankAccount()"
      ],
      "metadata": {
        "id": "otU8928eCIps"
      }
    },
    {
      "cell_type": "code",
      "source": [
        "c1 = BankAccount()\n",
        "BankAccount() # creates object but there is no reference variable to store this\n",
        "c2 = BankAccount()\n",
        "# there are 3 objects "
      ],
      "metadata": {
        "id": "a4m0cMVQCHQz"
      },
      "execution_count": null,
      "outputs": []
    },
    {
      "cell_type": "code",
      "source": [
        "class Student:\n",
        "  pass\n",
        "\n",
        "s1 = Student()\n",
        "s2 = Student()\n",
        "s3 = Student()"
      ],
      "metadata": {
        "id": "Btdfmg1lCDu2"
      },
      "execution_count": null,
      "outputs": []
    },
    {
      "cell_type": "code",
      "source": [
        "def func():\n",
        "  pass"
      ],
      "metadata": {
        "id": "sIzBcXerDdJp"
      },
      "execution_count": null,
      "outputs": []
    },
    {
      "cell_type": "code",
      "source": [
        "c1 = BankAccount()\n",
        "\n",
        "# properties: are also known as instance variable\n",
        "c1.account_id = 100\n",
        "c1.balance = 1000\n",
        "c1.name = \"Sachin\""
      ],
      "metadata": {
        "id": "x5LEcb5DDjX5"
      },
      "execution_count": null,
      "outputs": []
    },
    {
      "cell_type": "code",
      "source": [
        "c2 = BankAccount()\n",
        "\n",
        "# Instance variables: 4\n",
        "c2.account_id = 101\n",
        "c2.balance = 500\n",
        "c2.name = \"Ankit\"\n",
        "c2.pancard = \"FWKPP5322Q\""
      ],
      "metadata": {
        "id": "6lBZ_U8UD3VS"
      },
      "execution_count": null,
      "outputs": []
    },
    {
      "cell_type": "code",
      "source": [],
      "metadata": {
        "id": "YM7eBO1zEsIx"
      },
      "execution_count": null,
      "outputs": []
    },
    {
      "cell_type": "code",
      "source": [
        "print(c1.name, c1.balance)"
      ],
      "metadata": {
        "colab": {
          "base_uri": "https://localhost:8080/"
        },
        "id": "tPnvL2dFD_t7",
        "outputId": "b50ee948-59fc-4b3e-d0cf-6504b019b360"
      },
      "execution_count": null,
      "outputs": [
        {
          "output_type": "stream",
          "name": "stdout",
          "text": [
            "Sachin 1000\n"
          ]
        }
      ]
    },
    {
      "cell_type": "code",
      "source": [
        "print(c2.name, c2.balance)"
      ],
      "metadata": {
        "colab": {
          "base_uri": "https://localhost:8080/"
        },
        "id": "kSkhr6IAEC1h",
        "outputId": "90326897-740e-45d3-98f3-f35b05c84003"
      },
      "execution_count": null,
      "outputs": [
        {
          "output_type": "stream",
          "name": "stdout",
          "text": [
            "Ankit 500\n"
          ]
        }
      ]
    },
    {
      "cell_type": "code",
      "source": [
        "print(c1.pancard)"
      ],
      "metadata": {
        "colab": {
          "base_uri": "https://localhost:8080/",
          "height": 164
        },
        "id": "62LlX5kBEG3b",
        "outputId": "c0d77060-d506-4666-8b5d-b48091578c39"
      },
      "execution_count": null,
      "outputs": [
        {
          "output_type": "error",
          "ename": "AttributeError",
          "evalue": "ignored",
          "traceback": [
            "\u001b[0;31m---------------------------------------------------------------------------\u001b[0m",
            "\u001b[0;31mAttributeError\u001b[0m                            Traceback (most recent call last)",
            "\u001b[0;32m<ipython-input-26-702166c9edd2>\u001b[0m in \u001b[0;36m<module>\u001b[0;34m\u001b[0m\n\u001b[0;32m----> 1\u001b[0;31m \u001b[0mprint\u001b[0m\u001b[0;34m(\u001b[0m\u001b[0mc1\u001b[0m\u001b[0;34m.\u001b[0m\u001b[0mpancard\u001b[0m\u001b[0;34m)\u001b[0m\u001b[0;34m\u001b[0m\u001b[0;34m\u001b[0m\u001b[0m\n\u001b[0m",
            "\u001b[0;31mAttributeError\u001b[0m: 'BankAccount' object has no attribute 'pancard'"
          ]
        }
      ]
    },
    {
      "cell_type": "code",
      "source": [
        "print(c2.pancard)"
      ],
      "metadata": {
        "colab": {
          "base_uri": "https://localhost:8080/"
        },
        "id": "gln0SVRtExTE",
        "outputId": "3f6d38dd-9512-4027-d848-b7008c0adfc9"
      },
      "execution_count": null,
      "outputs": [
        {
          "output_type": "stream",
          "name": "stdout",
          "text": [
            "FWKPP5322Q\n"
          ]
        }
      ]
    },
    {
      "cell_type": "code",
      "source": [
        "class BankAccount:\n",
        "\n",
        "  def show_balance(self):\n",
        "    print(self.name)\n",
        "    print(self.balance)\n",
        "\n",
        "c1 = BankAccount()\n",
        "c1.account_id = 100\n",
        "c1.balance = 1000\n",
        "c1.name = \"Sachin\" "
      ],
      "metadata": {
        "id": "yFvEspBeE2hp"
      },
      "execution_count": null,
      "outputs": []
    },
    {
      "cell_type": "code",
      "source": [
        "BankAccount.show_balance(c1)"
      ],
      "metadata": {
        "colab": {
          "base_uri": "https://localhost:8080/"
        },
        "id": "ZULx7IKBFkhR",
        "outputId": "b8cc583e-dcb1-4ee4-d64c-1d160b99c6e9"
      },
      "execution_count": null,
      "outputs": [
        {
          "output_type": "stream",
          "name": "stdout",
          "text": [
            "Sachin\n",
            "1000\n"
          ]
        }
      ]
    },
    {
      "cell_type": "code",
      "source": [
        "c2.account_id = 101\n",
        "c2.balance = 500\n",
        "c2.name = \"navin\"\n",
        "\n",
        "BankAccount.show_balance(c2)"
      ],
      "metadata": {
        "colab": {
          "base_uri": "https://localhost:8080/"
        },
        "id": "hH-0OdKFFq5R",
        "outputId": "9a9c3291-ad17-4b9b-fb18-b1148304a856"
      },
      "execution_count": null,
      "outputs": [
        {
          "output_type": "stream",
          "name": "stdout",
          "text": [
            "navin\n",
            "500\n"
          ]
        }
      ]
    },
    {
      "cell_type": "code",
      "source": [
        "BankAccount.show_balance()"
      ],
      "metadata": {
        "colab": {
          "base_uri": "https://localhost:8080/",
          "height": 164
        },
        "id": "0WC0UYHtF-JR",
        "outputId": "4c9fd521-07bb-4fe1-97a2-b8778dcd687c"
      },
      "execution_count": null,
      "outputs": [
        {
          "output_type": "error",
          "ename": "TypeError",
          "evalue": "ignored",
          "traceback": [
            "\u001b[0;31m---------------------------------------------------------------------------\u001b[0m",
            "\u001b[0;31mTypeError\u001b[0m                                 Traceback (most recent call last)",
            "\u001b[0;32m<ipython-input-33-45f1be4e858e>\u001b[0m in \u001b[0;36m<module>\u001b[0;34m\u001b[0m\n\u001b[0;32m----> 1\u001b[0;31m \u001b[0mBankAccount\u001b[0m\u001b[0;34m.\u001b[0m\u001b[0mshow_balance\u001b[0m\u001b[0;34m(\u001b[0m\u001b[0;34m)\u001b[0m\u001b[0;34m\u001b[0m\u001b[0;34m\u001b[0m\u001b[0m\n\u001b[0m",
            "\u001b[0;31mTypeError\u001b[0m: show_balance() missing 1 required positional argument: 'self'"
          ]
        }
      ]
    },
    {
      "cell_type": "code",
      "source": [
        "# def funct(a):\n",
        "#   print(a)\n",
        "\n",
        "# b = 20\n",
        "# funct(b)"
      ],
      "metadata": {
        "id": "L795EfsJGLDP"
      },
      "execution_count": null,
      "outputs": []
    },
    {
      "cell_type": "code",
      "source": [
        "c1.show_balance() # BankAccount.show_balance(c1)"
      ],
      "metadata": {
        "colab": {
          "base_uri": "https://localhost:8080/"
        },
        "id": "Vgx5h22UGaa6",
        "outputId": "6c939195-ac12-4034-cb1f-eaa36172fa64"
      },
      "execution_count": null,
      "outputs": [
        {
          "output_type": "stream",
          "name": "stdout",
          "text": [
            "Sachin\n",
            "1000\n"
          ]
        }
      ]
    },
    {
      "cell_type": "code",
      "source": [
        "class BankAccount:\n",
        "  def show_balance(self):\n",
        "    print(self.name)\n",
        "    print(self.balance)\n",
        "\n",
        "\n",
        "c1 = BankAccount()\n",
        "c1.account_id = 100\n",
        "c1.balance = 1000\n",
        "c1.name = \"Sachin\" \n",
        "\n",
        "c2 = BankAccount()\n",
        "c2.account_id = 101\n",
        "c2.balance = 500\n",
        "c2.name = \"Ravi\"\n",
        "\n",
        "\n",
        "print(\"approach 1 of calling method\")\n",
        "BankAccount.show_balance(c2)\n",
        "\n",
        "print(\"approach 2 of calling method\")\n",
        "c2.show_balance() \n",
        "\n",
        "\n",
        "# change self to customer in above class and \n",
        "\n",
        "\n",
        "# approach 1 and 2\n"
      ],
      "metadata": {
        "colab": {
          "base_uri": "https://localhost:8080/"
        },
        "id": "2PFv3cf1HgSk",
        "outputId": "a8ca57c0-a7a0-4aa1-afaf-9b82becbf9c0"
      },
      "execution_count": 1,
      "outputs": [
        {
          "output_type": "stream",
          "name": "stdout",
          "text": [
            "approach 1 of calling method\n",
            "Ravi\n",
            "500\n",
            "approach 2 of calling method\n",
            "Ravi\n",
            "500\n"
          ]
        }
      ]
    },
    {
      "cell_type": "code",
      "source": [
        "class Student:\n",
        "  def function(self):\n",
        "    print(\"inside Class student\")\n",
        "\n",
        "s1 = Student()\n",
        "\n",
        "#Student.function()"
      ],
      "metadata": {
        "id": "K-1ZLMRxIhU_"
      },
      "execution_count": null,
      "outputs": []
    },
    {
      "cell_type": "code",
      "source": [
        "Student.function(s1)"
      ],
      "metadata": {
        "colab": {
          "base_uri": "https://localhost:8080/"
        },
        "id": "6-4pTVgFNKp0",
        "outputId": "0de67d73-9ca2-4dab-c3c9-0bfd2fad3aee"
      },
      "execution_count": null,
      "outputs": [
        {
          "output_type": "stream",
          "name": "stdout",
          "text": [
            "inside Class student\n"
          ]
        }
      ]
    },
    {
      "cell_type": "code",
      "source": [
        "s1.function()"
      ],
      "metadata": {
        "colab": {
          "base_uri": "https://localhost:8080/"
        },
        "id": "f9YxCY9KNQcY",
        "outputId": "1148f896-a66b-4588-a72e-6dad80a4087c"
      },
      "execution_count": null,
      "outputs": [
        {
          "output_type": "stream",
          "name": "stdout",
          "text": [
            "inside Class student\n"
          ]
        }
      ]
    },
    {
      "cell_type": "code",
      "source": [],
      "metadata": {
        "id": "CACdnqEbNfSK"
      },
      "execution_count": null,
      "outputs": []
    },
    {
      "cell_type": "markdown",
      "source": [
        "### Initializer:"
      ],
      "metadata": {
        "id": "X8ASGSEVN-wb"
      }
    },
    {
      "cell_type": "code",
      "source": [
        "# acc_id, name, balance\n",
        "class BankAccount:\n",
        "  def __init__(self, acc_id, name, balance):\n",
        "    self.acc_id = acc_id\n",
        "    self.name = name\n",
        "    self.balance = balance\n",
        "\n",
        "  def show_balance(self):\n",
        "    print(\"Balance for \", self.name,  \"is \", self.balance)\n"
      ],
      "metadata": {
        "id": "Nxljqh_AOAbE"
      },
      "execution_count": null,
      "outputs": []
    },
    {
      "cell_type": "code",
      "source": [
        "c1 = BankAccount(101, \"Sachin\",1000)"
      ],
      "metadata": {
        "id": "Pcutzv6sO3Fb"
      },
      "execution_count": null,
      "outputs": []
    },
    {
      "cell_type": "code",
      "source": [
        "c1.acc_id"
      ],
      "metadata": {
        "colab": {
          "base_uri": "https://localhost:8080/"
        },
        "id": "Vw5yZtk7PJ9N",
        "outputId": "d407343d-9ee2-42cb-af1f-81726d54ecf5"
      },
      "execution_count": null,
      "outputs": [
        {
          "output_type": "execute_result",
          "data": {
            "text/plain": [
              "101"
            ]
          },
          "metadata": {},
          "execution_count": 66
        }
      ]
    },
    {
      "cell_type": "code",
      "source": [
        "c1.name"
      ],
      "metadata": {
        "colab": {
          "base_uri": "https://localhost:8080/",
          "height": 35
        },
        "id": "qDGdl1c5PPMp",
        "outputId": "24c4c325-5582-4f1f-9e28-0543cdb9a094"
      },
      "execution_count": null,
      "outputs": [
        {
          "output_type": "execute_result",
          "data": {
            "text/plain": [
              "'Sachin'"
            ],
            "application/vnd.google.colaboratory.intrinsic+json": {
              "type": "string"
            }
          },
          "metadata": {},
          "execution_count": 67
        }
      ]
    },
    {
      "cell_type": "code",
      "source": [
        "c1.balance"
      ],
      "metadata": {
        "colab": {
          "base_uri": "https://localhost:8080/"
        },
        "id": "JoJbsxdbPSVz",
        "outputId": "93551a0b-3aca-45d3-8aaa-c581e9949b8e"
      },
      "execution_count": null,
      "outputs": [
        {
          "output_type": "execute_result",
          "data": {
            "text/plain": [
              "1000"
            ]
          },
          "metadata": {},
          "execution_count": 68
        }
      ]
    },
    {
      "cell_type": "code",
      "source": [
        "c2 = BankAccount(102, \"Ankit\",500)"
      ],
      "metadata": {
        "id": "KXE2vrXFPTux"
      },
      "execution_count": null,
      "outputs": []
    },
    {
      "cell_type": "code",
      "source": [
        "c3 = BankAccount()"
      ],
      "metadata": {
        "colab": {
          "base_uri": "https://localhost:8080/",
          "height": 164
        },
        "id": "Tj9HAXg8Pexx",
        "outputId": "d613216d-4756-41a2-ab2e-d9c48b18ab42"
      },
      "execution_count": null,
      "outputs": [
        {
          "output_type": "error",
          "ename": "TypeError",
          "evalue": "ignored",
          "traceback": [
            "\u001b[0;31m---------------------------------------------------------------------------\u001b[0m",
            "\u001b[0;31mTypeError\u001b[0m                                 Traceback (most recent call last)",
            "\u001b[0;32m<ipython-input-70-c3df23e900f3>\u001b[0m in \u001b[0;36m<module>\u001b[0;34m\u001b[0m\n\u001b[0;32m----> 1\u001b[0;31m \u001b[0mc3\u001b[0m \u001b[0;34m=\u001b[0m \u001b[0mBankAccount\u001b[0m\u001b[0;34m(\u001b[0m\u001b[0;34m)\u001b[0m\u001b[0;34m\u001b[0m\u001b[0;34m\u001b[0m\u001b[0m\n\u001b[0m",
            "\u001b[0;31mTypeError\u001b[0m: __init__() missing 3 required positional arguments: 'acc_id', 'name', and 'balance'"
          ]
        }
      ]
    },
    {
      "cell_type": "code",
      "source": [
        "c1.show_balance()"
      ],
      "metadata": {
        "colab": {
          "base_uri": "https://localhost:8080/"
        },
        "id": "FExR7G8HP8TZ",
        "outputId": "5a5fccf9-a013-4091-f132-22e7739aff1d"
      },
      "execution_count": null,
      "outputs": [
        {
          "output_type": "stream",
          "name": "stdout",
          "text": [
            "Balance for  Sachin is  1000\n"
          ]
        }
      ]
    },
    {
      "cell_type": "code",
      "source": [
        "c2.show_balance()"
      ],
      "metadata": {
        "colab": {
          "base_uri": "https://localhost:8080/"
        },
        "id": "IkhTHx0xQOXK",
        "outputId": "297cbf5e-6393-432e-973a-b91c78116532"
      },
      "execution_count": null,
      "outputs": [
        {
          "output_type": "stream",
          "name": "stdout",
          "text": [
            "Balance for  Ankit is  500\n"
          ]
        }
      ]
    },
    {
      "cell_type": "markdown",
      "source": [
        "### Initializer : Assign common set of mandatory properties to each instance of class"
      ],
      "metadata": {
        "id": "qfFScmT-QYJS"
      }
    },
    {
      "cell_type": "markdown",
      "source": [
        "- instance/object c1\n",
        "- properties/ instance variables = c1.name\n"
      ],
      "metadata": {
        "id": "fN39DqlTQ3JI"
      }
    },
    {
      "cell_type": "code",
      "source": [
        "# student class: rollNo, stream, name, age\n",
        "class Student:\n",
        "  def __init__(self, rollno, stream, name, age):\n",
        "    self.rollno = rollno\n",
        "    self.stream = stream\n",
        "    self.name = name\n",
        "    self.age = age\n",
        "\n",
        "  def print_name_and_rollno(self):\n",
        "    print(self.name) #S1.NAME\n",
        "    print(self.rollno)\n",
        "\n",
        "s1 = Student(1, \"CSE\", \"Ankit\", 10000)"
      ],
      "metadata": {
        "id": "5-iR0cY2QQar"
      },
      "execution_count": null,
      "outputs": []
    },
    {
      "cell_type": "code",
      "source": [
        "s2  = Student(2, \"IT\", \"Vivek\", 20000)"
      ],
      "metadata": {
        "id": "wahnu-inR-YB"
      },
      "execution_count": null,
      "outputs": []
    },
    {
      "cell_type": "code",
      "source": [
        "s1.print_name_and_rollno()"
      ],
      "metadata": {
        "colab": {
          "base_uri": "https://localhost:8080/"
        },
        "id": "RnB050uOSJyJ",
        "outputId": "9581aa3a-a955-4d54-c20e-090889f90968"
      },
      "execution_count": null,
      "outputs": [
        {
          "output_type": "stream",
          "name": "stdout",
          "text": [
            "Ankit\n",
            "1\n"
          ]
        }
      ]
    },
    {
      "cell_type": "code",
      "source": [
        "s2.print_name_and_rollno()"
      ],
      "metadata": {
        "colab": {
          "base_uri": "https://localhost:8080/"
        },
        "id": "rWwqlovhSUuL",
        "outputId": "3c563812-132e-48aa-c877-2b4da76d1ea1"
      },
      "execution_count": null,
      "outputs": [
        {
          "output_type": "stream",
          "name": "stdout",
          "text": [
            "Vivek\n",
            "2\n"
          ]
        }
      ]
    },
    {
      "cell_type": "markdown",
      "source": [
        "### Pillars of OOP:\n",
        "- Encapsulation: Hiding Data and Methods inside class\n",
        "\n",
        "- Abstraction: Hiding irrelevant details or code to use the code\n",
        "\n",
        "for Next Class\n",
        "- Polymorphism\n",
        "- Inheritance\n",
        "\n",
        "\n",
        "\n",
        "Class Variable and difference between instance Variables vs Class Variables"
      ],
      "metadata": {
        "id": "-Gg3wwgESrRB"
      }
    },
    {
      "cell_type": "code",
      "source": [
        "print(c2)"
      ],
      "metadata": {
        "colab": {
          "base_uri": "https://localhost:8080/"
        },
        "id": "6VhRtHO6SZ98",
        "outputId": "25953ebb-5840-4d88-ce38-7f4b0d008870"
      },
      "execution_count": null,
      "outputs": [
        {
          "output_type": "stream",
          "name": "stdout",
          "text": [
            "<__main__.BankAccount object at 0x7f3fae7727f0>\n"
          ]
        }
      ]
    },
    {
      "cell_type": "code",
      "source": [
        "c2.show_balance()"
      ],
      "metadata": {
        "colab": {
          "base_uri": "https://localhost:8080/"
        },
        "id": "Qb_HUyK4Un0B",
        "outputId": "78812c6f-eb5a-469e-b06a-85f584541659"
      },
      "execution_count": null,
      "outputs": [
        {
          "output_type": "stream",
          "name": "stdout",
          "text": [
            "Balance for  Ankit is  500\n"
          ]
        }
      ]
    },
    {
      "cell_type": "markdown",
      "source": [
        "\n",
        "Inheritance"
      ],
      "metadata": {
        "id": "bAB6t-PWVCkw"
      }
    },
    {
      "cell_type": "code",
      "source": [
        "def print_hello():\n",
        "  print(\"Hello World\")\n",
        "\n",
        "print_hello()"
      ],
      "metadata": {
        "colab": {
          "base_uri": "https://localhost:8080/"
        },
        "id": "zm1cTGhnUtIy",
        "outputId": "06f70c07-8d47-4377-ad31-e6cfe2c7a7aa"
      },
      "execution_count": null,
      "outputs": [
        {
          "output_type": "stream",
          "name": "stdout",
          "text": [
            "Hello World\n"
          ]
        }
      ]
    },
    {
      "cell_type": "code",
      "source": [
        "print_hello(\"Sachin\")"
      ],
      "metadata": {
        "colab": {
          "base_uri": "https://localhost:8080/",
          "height": 164
        },
        "id": "0JHWAAU8WL9P",
        "outputId": "b81ef4a8-90d6-4530-8466-9d91a2587f94"
      },
      "execution_count": null,
      "outputs": [
        {
          "output_type": "error",
          "ename": "TypeError",
          "evalue": "ignored",
          "traceback": [
            "\u001b[0;31m---------------------------------------------------------------------------\u001b[0m",
            "\u001b[0;31mTypeError\u001b[0m                                 Traceback (most recent call last)",
            "\u001b[0;32m<ipython-input-80-03a76e4679d1>\u001b[0m in \u001b[0;36m<module>\u001b[0;34m\u001b[0m\n\u001b[0;32m----> 1\u001b[0;31m \u001b[0mprint_hello\u001b[0m\u001b[0;34m(\u001b[0m\u001b[0;34m\"Sachin\"\u001b[0m\u001b[0;34m)\u001b[0m\u001b[0;34m\u001b[0m\u001b[0;34m\u001b[0m\u001b[0m\n\u001b[0m",
            "\u001b[0;31mTypeError\u001b[0m: print_hello() takes 0 positional arguments but 1 was given"
          ]
        }
      ]
    },
    {
      "cell_type": "code",
      "source": [
        "def print_hello(self):\n",
        "  print(\"Hello \", self)\n",
        "\n",
        "print_hello(\"Sachin\")"
      ],
      "metadata": {
        "colab": {
          "base_uri": "https://localhost:8080/"
        },
        "id": "qe64WBiCWSZW",
        "outputId": "b73a05cd-5e12-493f-9007-3dd6ee8f9fa0"
      },
      "execution_count": null,
      "outputs": [
        {
          "output_type": "stream",
          "name": "stdout",
          "text": [
            "Hello  Sachin\n"
          ]
        }
      ]
    },
    {
      "cell_type": "code",
      "source": [
        "print_hello()"
      ],
      "metadata": {
        "colab": {
          "base_uri": "https://localhost:8080/",
          "height": 164
        },
        "id": "Z7ADjHhmWaD5",
        "outputId": "51fbcb4b-5b92-4e47-916e-2b1129879d40"
      },
      "execution_count": null,
      "outputs": [
        {
          "output_type": "error",
          "ename": "TypeError",
          "evalue": "ignored",
          "traceback": [
            "\u001b[0;31m---------------------------------------------------------------------------\u001b[0m",
            "\u001b[0;31mTypeError\u001b[0m                                 Traceback (most recent call last)",
            "\u001b[0;32m<ipython-input-82-24a2507c9d0c>\u001b[0m in \u001b[0;36m<module>\u001b[0;34m\u001b[0m\n\u001b[0;32m----> 1\u001b[0;31m \u001b[0mprint_hello\u001b[0m\u001b[0;34m(\u001b[0m\u001b[0;34m)\u001b[0m\u001b[0;34m\u001b[0m\u001b[0;34m\u001b[0m\u001b[0m\n\u001b[0m",
            "\u001b[0;31mTypeError\u001b[0m: print_hello() missing 1 required positional argument: 'name'"
          ]
        }
      ]
    },
    {
      "cell_type": "code",
      "source": [
        "c1 = BankAccount()"
      ],
      "metadata": {
        "id": "euwhWxh2We0t"
      },
      "execution_count": null,
      "outputs": []
    },
    {
      "cell_type": "code",
      "source": [
        "int a = 10\n",
        "\n",
        "a = 10"
      ],
      "metadata": {
        "id": "8TcN6lrKW4xk"
      },
      "execution_count": null,
      "outputs": []
    }
  ]
}