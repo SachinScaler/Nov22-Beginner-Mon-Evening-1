{
  "nbformat": 4,
  "nbformat_minor": 0,
  "metadata": {
    "colab": {
      "provenance": [],
      "authorship_tag": "ABX9TyOzcqEncV2SaumREWx+doaf",
      "include_colab_link": true
    },
    "kernelspec": {
      "name": "python3",
      "display_name": "Python 3"
    },
    "language_info": {
      "name": "python"
    },
    "gpuClass": "standard"
  },
  "cells": [
    {
      "cell_type": "markdown",
      "metadata": {
        "id": "view-in-github",
        "colab_type": "text"
      },
      "source": [
        "<a href=\"https://colab.research.google.com/github/SachinScaler/Nov22-Beginner-Mon-Evening-1/blob/main/OOPS_Session_1.ipynb\" target=\"_parent\"><img src=\"https://colab.research.google.com/assets/colab-badge.svg\" alt=\"Open In Colab\"/></a>"
      ]
    },
    {
      "cell_type": "code",
      "execution_count": 2,
      "metadata": {
        "colab": {
          "base_uri": "https://localhost:8080/"
        },
        "id": "EAmNVILx6ErL",
        "outputId": "4b83c9df-7d79-4b47-b56a-55659b0433e3"
      },
      "outputs": [
        {
          "output_type": "stream",
          "name": "stdout",
          "text": [
            "1100\n"
          ]
        }
      ],
      "source": [
        "# bankaccount\n",
        "account_number = 100\n",
        "customer_name = \"Sachin\"\n",
        "acc_balance = 1000\n",
        "\n",
        "def deposit(curr_balance, amount):\n",
        "  return curr_balance+amount\n",
        "\n",
        "acc_balance = deposit(acc_balance, 100)\n",
        "print(acc_balance)\n",
        "\n",
        "# - 1000 \n",
        "# - 100"
      ]
    },
    {
      "cell_type": "markdown",
      "source": [],
      "metadata": {
        "id": "XvHcNeGs_I99"
      }
    },
    {
      "cell_type": "code",
      "source": [
        "acc_balance = deposit(acc_balance, 500)\n",
        "print(acc_balance)"
      ],
      "metadata": {
        "colab": {
          "base_uri": "https://localhost:8080/"
        },
        "id": "2R1H4OyK-KTF",
        "outputId": "fa3de297-2dd1-43f8-b13c-b4f7e8be1e31"
      },
      "execution_count": 3,
      "outputs": [
        {
          "output_type": "stream",
          "name": "stdout",
          "text": [
            "1600\n"
          ]
        }
      ]
    },
    {
      "cell_type": "code",
      "source": [
        "c1_account_number = 101\n",
        "c1_customer_name = \"Ankit\"\n",
        "c1_acc_balance = 500\n",
        "\n",
        "c1_acc_balance = deposit(c1_acc_balance, 500)\n",
        "print(c1_acc_balance)"
      ],
      "metadata": {
        "colab": {
          "base_uri": "https://localhost:8080/"
        },
        "id": "fypjDTyX-ncn",
        "outputId": "fbf5ada6-5c12-404b-98d2-54644218bf66"
      },
      "execution_count": 4,
      "outputs": [
        {
          "output_type": "stream",
          "name": "stdout",
          "text": [
            "1000\n"
          ]
        }
      ]
    },
    {
      "cell_type": "code",
      "source": [
        "### creating empty class\n",
        "class BankAccount:\n",
        "  pass\n",
        "\n",
        "\n",
        "# creating new customer called c1\n",
        "c1 = BankAccount()"
      ],
      "metadata": {
        "id": "PYXhX1-f_EU5"
      },
      "execution_count": 5,
      "outputs": []
    },
    {
      "cell_type": "code",
      "source": [],
      "metadata": {
        "id": "OIwfyt7eAhf-"
      },
      "execution_count": 5,
      "outputs": []
    },
    {
      "cell_type": "code",
      "source": [
        "c2 = BankAccount()\n"
      ],
      "metadata": {
        "id": "HSdQ7XUj_qAL"
      },
      "execution_count": 6,
      "outputs": []
    },
    {
      "cell_type": "code",
      "source": [
        "print(type(c1))"
      ],
      "metadata": {
        "colab": {
          "base_uri": "https://localhost:8080/"
        },
        "id": "7alNwCKiAldb",
        "outputId": "e0597546-d25d-41f4-ff57-b9b02fcbb3f6"
      },
      "execution_count": 7,
      "outputs": [
        {
          "output_type": "stream",
          "name": "stdout",
          "text": [
            "<class '__main__.BankAccount'>\n"
          ]
        }
      ]
    },
    {
      "cell_type": "code",
      "source": [
        "print(type(c2))"
      ],
      "metadata": {
        "colab": {
          "base_uri": "https://localhost:8080/"
        },
        "id": "vQftwXMBBnK8",
        "outputId": "07cb3f76-23d1-4fd8-f962-79b461baed47"
      },
      "execution_count": 8,
      "outputs": [
        {
          "output_type": "stream",
          "name": "stdout",
          "text": [
            "<class '__main__.BankAccount'>\n"
          ]
        }
      ]
    },
    {
      "cell_type": "code",
      "source": [
        "print(id(c1))\n",
        "print(id(c2))"
      ],
      "metadata": {
        "colab": {
          "base_uri": "https://localhost:8080/"
        },
        "id": "q34Y8G-EBtFG",
        "outputId": "663a4d01-665d-46db-bccd-f8a111263b67"
      },
      "execution_count": 9,
      "outputs": [
        {
          "output_type": "stream",
          "name": "stdout",
          "text": [
            "139792969942112\n",
            "139792969942640\n"
          ]
        }
      ]
    },
    {
      "cell_type": "markdown",
      "source": [
        "### isinstance(), tell you if an object is of certain type/class"
      ],
      "metadata": {
        "id": "YWu6na4mAwiX"
      }
    },
    {
      "cell_type": "code",
      "source": [
        "a = 10\n",
        "print(type(a))"
      ],
      "metadata": {
        "colab": {
          "base_uri": "https://localhost:8080/"
        },
        "id": "TMMxLgq0AtL7",
        "outputId": "ec625b99-e47d-435d-fb38-e9258f996e00"
      },
      "execution_count": 10,
      "outputs": [
        {
          "output_type": "stream",
          "name": "stdout",
          "text": [
            "<class 'int'>\n"
          ]
        }
      ]
    },
    {
      "cell_type": "code",
      "source": [
        "isinstance(a, str)"
      ],
      "metadata": {
        "colab": {
          "base_uri": "https://localhost:8080/"
        },
        "id": "M0QujiXtA5Ky",
        "outputId": "6942859a-87b8-4854-bef4-203146455cfd"
      },
      "execution_count": 11,
      "outputs": [
        {
          "output_type": "execute_result",
          "data": {
            "text/plain": [
              "False"
            ]
          },
          "metadata": {},
          "execution_count": 11
        }
      ]
    },
    {
      "cell_type": "code",
      "source": [
        "isinstance(a, int)"
      ],
      "metadata": {
        "colab": {
          "base_uri": "https://localhost:8080/"
        },
        "id": "gP-gP-c6BBc-",
        "outputId": "e56b79e3-6a6d-4df8-9e97-77e2f670d576"
      },
      "execution_count": 12,
      "outputs": [
        {
          "output_type": "execute_result",
          "data": {
            "text/plain": [
              "True"
            ]
          },
          "metadata": {},
          "execution_count": 12
        }
      ]
    },
    {
      "cell_type": "markdown",
      "source": [
        "- c1 and c2 are also called object of the class BankAccount."
      ],
      "metadata": {
        "id": "jhlLIv9eAV4u"
      }
    },
    {
      "cell_type": "code",
      "source": [
        "isinstance(c1, int)"
      ],
      "metadata": {
        "colab": {
          "base_uri": "https://localhost:8080/"
        },
        "id": "77fLSBvKALhP",
        "outputId": "22382d73-1953-4178-ce34-ed8985dac184"
      },
      "execution_count": 13,
      "outputs": [
        {
          "output_type": "execute_result",
          "data": {
            "text/plain": [
              "False"
            ]
          },
          "metadata": {},
          "execution_count": 13
        }
      ]
    },
    {
      "cell_type": "code",
      "source": [
        "isinstance(c1, BankAccount)"
      ],
      "metadata": {
        "colab": {
          "base_uri": "https://localhost:8080/"
        },
        "id": "5zWumG7qB_Ti",
        "outputId": "d36b3244-d89d-41dd-e6f0-b87364a9a469"
      },
      "execution_count": 14,
      "outputs": [
        {
          "output_type": "execute_result",
          "data": {
            "text/plain": [
              "True"
            ]
          },
          "metadata": {},
          "execution_count": 14
        }
      ]
    },
    {
      "cell_type": "markdown",
      "source": [
        "#### c1 and c2 are instance of class bankaccount\n",
        "#### Instantiation: Process of creating objects: BankAccount()"
      ],
      "metadata": {
        "id": "otU8928eCIps"
      }
    },
    {
      "cell_type": "code",
      "source": [
        "c1 = BankAccount()\n",
        "BankAccount() # creates object but there is no reference variable to store this\n",
        "c2 = BankAccount()\n",
        "# there are 3 objects "
      ],
      "metadata": {
        "id": "a4m0cMVQCHQz"
      },
      "execution_count": 15,
      "outputs": []
    },
    {
      "cell_type": "code",
      "source": [
        "class Student:\n",
        "  pass\n",
        "\n",
        "s1 = Student()\n",
        "s2 = Student()\n",
        "s3 = Student()"
      ],
      "metadata": {
        "id": "Btdfmg1lCDu2"
      },
      "execution_count": 16,
      "outputs": []
    },
    {
      "cell_type": "code",
      "source": [
        "def func():\n",
        "  pass"
      ],
      "metadata": {
        "id": "sIzBcXerDdJp"
      },
      "execution_count": 17,
      "outputs": []
    },
    {
      "cell_type": "code",
      "source": [
        "c1 = BankAccount()\n",
        "\n",
        "# properties: are also known as instance variable\n",
        "c1.account_id = 100\n",
        "c1.balance = 1000\n",
        "c1.name = \"Sachin\""
      ],
      "metadata": {
        "id": "x5LEcb5DDjX5"
      },
      "execution_count": 18,
      "outputs": []
    },
    {
      "cell_type": "code",
      "source": [
        "c2 = BankAccount()\n",
        "\n",
        "# Instance variables: 4\n",
        "c2.account_id = 101\n",
        "c2.balance = 500\n",
        "c2.name = \"Ankit\"\n",
        "c2.pancard = \"FWKPP5322Q\""
      ],
      "metadata": {
        "id": "6lBZ_U8UD3VS"
      },
      "execution_count": 19,
      "outputs": []
    },
    {
      "cell_type": "code",
      "source": [],
      "metadata": {
        "id": "YM7eBO1zEsIx"
      },
      "execution_count": 19,
      "outputs": []
    },
    {
      "cell_type": "code",
      "source": [
        "print(c1.name, c1.balance)"
      ],
      "metadata": {
        "colab": {
          "base_uri": "https://localhost:8080/"
        },
        "id": "tPnvL2dFD_t7",
        "outputId": "0e7e1410-6e86-411b-f0ef-9fb0afa70e84"
      },
      "execution_count": 20,
      "outputs": [
        {
          "output_type": "stream",
          "name": "stdout",
          "text": [
            "Sachin 1000\n"
          ]
        }
      ]
    },
    {
      "cell_type": "code",
      "source": [
        "print(c2.name, c2.balance)"
      ],
      "metadata": {
        "colab": {
          "base_uri": "https://localhost:8080/"
        },
        "id": "kSkhr6IAEC1h",
        "outputId": "2e2bfe84-d84a-4edd-eca9-54f5cc8d003d"
      },
      "execution_count": 21,
      "outputs": [
        {
          "output_type": "stream",
          "name": "stdout",
          "text": [
            "Ankit 500\n"
          ]
        }
      ]
    },
    {
      "cell_type": "code",
      "source": [
        "print(c1.pancard)"
      ],
      "metadata": {
        "colab": {
          "base_uri": "https://localhost:8080/",
          "height": 169
        },
        "id": "62LlX5kBEG3b",
        "outputId": "2126cc76-7cc4-48e6-efee-4163c155766e"
      },
      "execution_count": 22,
      "outputs": [
        {
          "output_type": "error",
          "ename": "AttributeError",
          "evalue": "ignored",
          "traceback": [
            "\u001b[0;31m---------------------------------------------------------------------------\u001b[0m",
            "\u001b[0;31mAttributeError\u001b[0m                            Traceback (most recent call last)",
            "\u001b[0;32m<ipython-input-22-702166c9edd2>\u001b[0m in \u001b[0;36m<module>\u001b[0;34m\u001b[0m\n\u001b[0;32m----> 1\u001b[0;31m \u001b[0mprint\u001b[0m\u001b[0;34m(\u001b[0m\u001b[0mc1\u001b[0m\u001b[0;34m.\u001b[0m\u001b[0mpancard\u001b[0m\u001b[0;34m)\u001b[0m\u001b[0;34m\u001b[0m\u001b[0;34m\u001b[0m\u001b[0m\n\u001b[0m",
            "\u001b[0;31mAttributeError\u001b[0m: 'BankAccount' object has no attribute 'pancard'"
          ]
        }
      ]
    },
    {
      "cell_type": "code",
      "source": [
        "print(c2.pancard)"
      ],
      "metadata": {
        "colab": {
          "base_uri": "https://localhost:8080/"
        },
        "id": "gln0SVRtExTE",
        "outputId": "8f35aac3-e22c-4951-a065-a25f1454b08b"
      },
      "execution_count": 23,
      "outputs": [
        {
          "output_type": "stream",
          "name": "stdout",
          "text": [
            "FWKPP5322Q\n"
          ]
        }
      ]
    },
    {
      "cell_type": "code",
      "source": [
        "class BankAccount:\n",
        "\n",
        "  def show_balance(self):\n",
        "    print(self.name)\n",
        "    print(self.balance)\n",
        "\n",
        "c1 = BankAccount()\n",
        "c1.account_id = 100\n",
        "c1.balance = 1000\n",
        "c1.name = \"Sachin\" "
      ],
      "metadata": {
        "id": "yFvEspBeE2hp"
      },
      "execution_count": 24,
      "outputs": []
    },
    {
      "cell_type": "code",
      "source": [
        "BankAccount.show_balance(c1)"
      ],
      "metadata": {
        "colab": {
          "base_uri": "https://localhost:8080/"
        },
        "id": "ZULx7IKBFkhR",
        "outputId": "81566ada-135a-4ff1-a2a7-f99e7f1c50fd"
      },
      "execution_count": 25,
      "outputs": [
        {
          "output_type": "stream",
          "name": "stdout",
          "text": [
            "Sachin\n",
            "1000\n"
          ]
        }
      ]
    },
    {
      "cell_type": "code",
      "source": [
        "c2.account_id = 101\n",
        "c2.balance = 500\n",
        "c2.name = \"navin\"\n",
        "\n",
        "BankAccount.show_balance(c2)"
      ],
      "metadata": {
        "colab": {
          "base_uri": "https://localhost:8080/"
        },
        "id": "hH-0OdKFFq5R",
        "outputId": "c72ff5e4-0a5d-42bf-f99e-c34652d9a9fb"
      },
      "execution_count": 26,
      "outputs": [
        {
          "output_type": "stream",
          "name": "stdout",
          "text": [
            "navin\n",
            "500\n"
          ]
        }
      ]
    },
    {
      "cell_type": "code",
      "source": [
        "BankAccount.show_balance()"
      ],
      "metadata": {
        "colab": {
          "base_uri": "https://localhost:8080/",
          "height": 169
        },
        "id": "0WC0UYHtF-JR",
        "outputId": "299f96a1-62f5-47be-aea1-d42cc30a57c8"
      },
      "execution_count": 27,
      "outputs": [
        {
          "output_type": "error",
          "ename": "TypeError",
          "evalue": "ignored",
          "traceback": [
            "\u001b[0;31m---------------------------------------------------------------------------\u001b[0m",
            "\u001b[0;31mTypeError\u001b[0m                                 Traceback (most recent call last)",
            "\u001b[0;32m<ipython-input-27-45f1be4e858e>\u001b[0m in \u001b[0;36m<module>\u001b[0;34m\u001b[0m\n\u001b[0;32m----> 1\u001b[0;31m \u001b[0mBankAccount\u001b[0m\u001b[0;34m.\u001b[0m\u001b[0mshow_balance\u001b[0m\u001b[0;34m(\u001b[0m\u001b[0;34m)\u001b[0m\u001b[0;34m\u001b[0m\u001b[0;34m\u001b[0m\u001b[0m\n\u001b[0m",
            "\u001b[0;31mTypeError\u001b[0m: show_balance() missing 1 required positional argument: 'self'"
          ]
        }
      ]
    },
    {
      "cell_type": "code",
      "source": [
        "# def funct(a):\n",
        "#   print(a)\n",
        "\n",
        "# b = 20\n",
        "# funct(b)"
      ],
      "metadata": {
        "id": "L795EfsJGLDP"
      },
      "execution_count": null,
      "outputs": []
    },
    {
      "cell_type": "code",
      "source": [
        "c1.show_balance() # BankAccount.show_balance(c1)"
      ],
      "metadata": {
        "colab": {
          "base_uri": "https://localhost:8080/"
        },
        "id": "Vgx5h22UGaa6",
        "outputId": "cabbd9af-1a55-4f59-c3be-f410dc34f0e3"
      },
      "execution_count": 28,
      "outputs": [
        {
          "output_type": "stream",
          "name": "stdout",
          "text": [
            "Sachin\n",
            "1000\n"
          ]
        }
      ]
    },
    {
      "cell_type": "code",
      "source": [
        "class BankAccount:\n",
        "  def show_balance(self):\n",
        "    print(self.name)\n",
        "    print(self.balance)\n",
        "\n",
        "\n",
        "c1 = BankAccount()\n",
        "c1.account_id = 100\n",
        "c1.balance = 1000\n",
        "c1.name = \"Sachin\" \n",
        "\n",
        "c2 = BankAccount()\n",
        "c2.account_id = 101\n",
        "c2.balance = 500\n",
        "c2.name = \"Ravi\"\n",
        "\n",
        "\n",
        "print(\"approach 1 of calling method\")\n",
        "BankAccount.show_balance(c2)\n",
        "\n",
        "print(\"approach 2 of calling method\")\n",
        "c2.show_balance() \n",
        "\n",
        "\n",
        "# change self to customer in above class and \n",
        "\n",
        "\n",
        "# approach 1 and 2\n"
      ],
      "metadata": {
        "colab": {
          "base_uri": "https://localhost:8080/"
        },
        "id": "2PFv3cf1HgSk",
        "outputId": "9b3265b5-436b-4964-8ad9-8a3564bc5025"
      },
      "execution_count": 29,
      "outputs": [
        {
          "output_type": "stream",
          "name": "stdout",
          "text": [
            "approach 1 of calling method\n",
            "Ravi\n",
            "500\n",
            "approach 2 of calling method\n",
            "Ravi\n",
            "500\n"
          ]
        }
      ]
    },
    {
      "cell_type": "code",
      "source": [
        "class Student:\n",
        "  def function(self):\n",
        "    print(\"inside Class student\")\n",
        "\n",
        "s1 = Student()\n",
        "\n",
        "#Student.function()"
      ],
      "metadata": {
        "id": "K-1ZLMRxIhU_"
      },
      "execution_count": 30,
      "outputs": []
    },
    {
      "cell_type": "code",
      "source": [
        "Student.function(s1)"
      ],
      "metadata": {
        "colab": {
          "base_uri": "https://localhost:8080/"
        },
        "id": "6-4pTVgFNKp0",
        "outputId": "4c955cbf-8796-4ed4-ca9d-0930ba0581ab"
      },
      "execution_count": 31,
      "outputs": [
        {
          "output_type": "stream",
          "name": "stdout",
          "text": [
            "inside Class student\n"
          ]
        }
      ]
    },
    {
      "cell_type": "code",
      "source": [
        "s1.function()"
      ],
      "metadata": {
        "colab": {
          "base_uri": "https://localhost:8080/"
        },
        "id": "f9YxCY9KNQcY",
        "outputId": "ab820e98-4b83-4a2d-d775-d9971cfd62e5"
      },
      "execution_count": 32,
      "outputs": [
        {
          "output_type": "stream",
          "name": "stdout",
          "text": [
            "inside Class student\n"
          ]
        }
      ]
    },
    {
      "cell_type": "code",
      "source": [],
      "metadata": {
        "id": "CACdnqEbNfSK"
      },
      "execution_count": 32,
      "outputs": []
    },
    {
      "cell_type": "markdown",
      "source": [
        "### Initializer:"
      ],
      "metadata": {
        "id": "X8ASGSEVN-wb"
      }
    },
    {
      "cell_type": "code",
      "source": [
        "# acc_id, name, balance\n",
        "class BankAccount:\n",
        "  def __init__(self, acc_id, name, balance):\n",
        "    self.acc_id = acc_id\n",
        "    self.name = name\n",
        "    self.balance = balance\n",
        "\n",
        "  def show_balance(self):\n",
        "    print(\"Balance for \", self.name,  \"is \", self.balance)\n"
      ],
      "metadata": {
        "id": "Nxljqh_AOAbE"
      },
      "execution_count": 33,
      "outputs": []
    },
    {
      "cell_type": "code",
      "source": [
        "c1 = BankAccount(101, \"Sachin\",1000)"
      ],
      "metadata": {
        "id": "Pcutzv6sO3Fb"
      },
      "execution_count": 34,
      "outputs": []
    },
    {
      "cell_type": "code",
      "source": [
        "c1.acc_id"
      ],
      "metadata": {
        "colab": {
          "base_uri": "https://localhost:8080/"
        },
        "id": "Vw5yZtk7PJ9N",
        "outputId": "0fb7034b-0861-483e-a96d-43ffdd59cf44"
      },
      "execution_count": 35,
      "outputs": [
        {
          "output_type": "execute_result",
          "data": {
            "text/plain": [
              "101"
            ]
          },
          "metadata": {},
          "execution_count": 35
        }
      ]
    },
    {
      "cell_type": "code",
      "source": [
        "c1.name"
      ],
      "metadata": {
        "colab": {
          "base_uri": "https://localhost:8080/",
          "height": 35
        },
        "id": "qDGdl1c5PPMp",
        "outputId": "8754e2ba-e43e-44af-ad22-f4c80be6820d"
      },
      "execution_count": 36,
      "outputs": [
        {
          "output_type": "execute_result",
          "data": {
            "text/plain": [
              "'Sachin'"
            ],
            "application/vnd.google.colaboratory.intrinsic+json": {
              "type": "string"
            }
          },
          "metadata": {},
          "execution_count": 36
        }
      ]
    },
    {
      "cell_type": "code",
      "source": [
        "c1.balance"
      ],
      "metadata": {
        "colab": {
          "base_uri": "https://localhost:8080/"
        },
        "id": "JoJbsxdbPSVz",
        "outputId": "7b0c668f-4f91-4f42-a147-d71567e83473"
      },
      "execution_count": 37,
      "outputs": [
        {
          "output_type": "execute_result",
          "data": {
            "text/plain": [
              "1000"
            ]
          },
          "metadata": {},
          "execution_count": 37
        }
      ]
    },
    {
      "cell_type": "code",
      "source": [
        "c2 = BankAccount(102, \"Ankit\",500)"
      ],
      "metadata": {
        "id": "KXE2vrXFPTux"
      },
      "execution_count": 38,
      "outputs": []
    },
    {
      "cell_type": "code",
      "source": [
        "c3 = BankAccount()"
      ],
      "metadata": {
        "colab": {
          "base_uri": "https://localhost:8080/",
          "height": 169
        },
        "id": "Tj9HAXg8Pexx",
        "outputId": "a42987e2-e7b0-4dfb-c505-5ffe1f2a2da7"
      },
      "execution_count": 39,
      "outputs": [
        {
          "output_type": "error",
          "ename": "TypeError",
          "evalue": "ignored",
          "traceback": [
            "\u001b[0;31m---------------------------------------------------------------------------\u001b[0m",
            "\u001b[0;31mTypeError\u001b[0m                                 Traceback (most recent call last)",
            "\u001b[0;32m<ipython-input-39-c3df23e900f3>\u001b[0m in \u001b[0;36m<module>\u001b[0;34m\u001b[0m\n\u001b[0;32m----> 1\u001b[0;31m \u001b[0mc3\u001b[0m \u001b[0;34m=\u001b[0m \u001b[0mBankAccount\u001b[0m\u001b[0;34m(\u001b[0m\u001b[0;34m)\u001b[0m\u001b[0;34m\u001b[0m\u001b[0;34m\u001b[0m\u001b[0m\n\u001b[0m",
            "\u001b[0;31mTypeError\u001b[0m: __init__() missing 3 required positional arguments: 'acc_id', 'name', and 'balance'"
          ]
        }
      ]
    },
    {
      "cell_type": "code",
      "source": [
        "c1.show_balance()"
      ],
      "metadata": {
        "colab": {
          "base_uri": "https://localhost:8080/"
        },
        "id": "FExR7G8HP8TZ",
        "outputId": "84504661-0cb6-4689-c76a-d997438b3252"
      },
      "execution_count": 40,
      "outputs": [
        {
          "output_type": "stream",
          "name": "stdout",
          "text": [
            "Balance for  Sachin is  1000\n"
          ]
        }
      ]
    },
    {
      "cell_type": "code",
      "source": [
        "c2.show_balance()"
      ],
      "metadata": {
        "colab": {
          "base_uri": "https://localhost:8080/"
        },
        "id": "IkhTHx0xQOXK",
        "outputId": "a6c81ae4-1ed1-415d-968c-983fb0eb3685"
      },
      "execution_count": 41,
      "outputs": [
        {
          "output_type": "stream",
          "name": "stdout",
          "text": [
            "Balance for  Ankit is  500\n"
          ]
        }
      ]
    },
    {
      "cell_type": "markdown",
      "source": [
        "### Initializer : Assign common set of mandatory properties to each instance of class"
      ],
      "metadata": {
        "id": "qfFScmT-QYJS"
      }
    },
    {
      "cell_type": "markdown",
      "source": [
        "- instance/object c1\n",
        "- properties/ instance variables = c1.name\n"
      ],
      "metadata": {
        "id": "fN39DqlTQ3JI"
      }
    },
    {
      "cell_type": "code",
      "source": [
        "# student class: rollNo, stream, name, age\n",
        "class Student:\n",
        "  def __init__(self, rollno, stream, name, age):\n",
        "    self.rollno = rollno\n",
        "    self.stream = stream\n",
        "    self.name = name\n",
        "    self.age = age\n",
        "\n",
        "  def print_name_and_rollno(self):\n",
        "    print(self.name) #S1.NAME\n",
        "    print(self.rollno)\n",
        "\n",
        "s1 = Student(1, \"CSE\", \"Ankit\", 10000)"
      ],
      "metadata": {
        "id": "5-iR0cY2QQar"
      },
      "execution_count": 42,
      "outputs": []
    },
    {
      "cell_type": "code",
      "source": [
        "s2  = Student(2, \"IT\", \"Vivek\", 20000)"
      ],
      "metadata": {
        "id": "wahnu-inR-YB"
      },
      "execution_count": 43,
      "outputs": []
    },
    {
      "cell_type": "code",
      "source": [
        "s1.print_name_and_rollno()"
      ],
      "metadata": {
        "colab": {
          "base_uri": "https://localhost:8080/"
        },
        "id": "RnB050uOSJyJ",
        "outputId": "b0ade2c9-5c93-4d37-9248-83c1d38b6083"
      },
      "execution_count": 44,
      "outputs": [
        {
          "output_type": "stream",
          "name": "stdout",
          "text": [
            "Ankit\n",
            "1\n"
          ]
        }
      ]
    },
    {
      "cell_type": "code",
      "source": [
        "s2.print_name_and_rollno()"
      ],
      "metadata": {
        "colab": {
          "base_uri": "https://localhost:8080/"
        },
        "id": "rWwqlovhSUuL",
        "outputId": "149d63b4-0b19-4289-ffc3-652ce46532a1"
      },
      "execution_count": 45,
      "outputs": [
        {
          "output_type": "stream",
          "name": "stdout",
          "text": [
            "Vivek\n",
            "2\n"
          ]
        }
      ]
    },
    {
      "cell_type": "markdown",
      "source": [
        "### Pillars of OOP:\n",
        "- Encapsulation: Hiding Data and Methods inside class\n",
        "\n",
        "- Abstraction: Hiding irrelevant details or code to use the code\n",
        "\n",
        "for Next Class\n",
        "- Polymorphism\n",
        "- Inheritance\n",
        "\n",
        "\n",
        "\n",
        "Class Variable and difference between instance Variables vs Class Variables"
      ],
      "metadata": {
        "id": "-Gg3wwgESrRB"
      }
    },
    {
      "cell_type": "code",
      "source": [
        "print(c2)"
      ],
      "metadata": {
        "colab": {
          "base_uri": "https://localhost:8080/"
        },
        "id": "6VhRtHO6SZ98",
        "outputId": "731aab33-e34d-4f2e-a5bd-4c99268fb1d0"
      },
      "execution_count": 46,
      "outputs": [
        {
          "output_type": "stream",
          "name": "stdout",
          "text": [
            "<__main__.BankAccount object at 0x7f24165d7bb0>\n"
          ]
        }
      ]
    },
    {
      "cell_type": "code",
      "source": [
        "c2.show_balance()"
      ],
      "metadata": {
        "colab": {
          "base_uri": "https://localhost:8080/"
        },
        "id": "Qb_HUyK4Un0B",
        "outputId": "d8f3d9a7-752e-4077-ff16-d95eaeb23f62"
      },
      "execution_count": 47,
      "outputs": [
        {
          "output_type": "stream",
          "name": "stdout",
          "text": [
            "Balance for  Ankit is  500\n"
          ]
        }
      ]
    },
    {
      "cell_type": "markdown",
      "source": [
        "\n",
        "Inheritance"
      ],
      "metadata": {
        "id": "bAB6t-PWVCkw"
      }
    },
    {
      "cell_type": "code",
      "source": [
        "def print_hello():\n",
        "  print(\"Hello World\")\n",
        "\n",
        "print_hello()"
      ],
      "metadata": {
        "colab": {
          "base_uri": "https://localhost:8080/"
        },
        "id": "zm1cTGhnUtIy",
        "outputId": "9fa5544e-b06f-4447-b70b-03653bde5325"
      },
      "execution_count": 48,
      "outputs": [
        {
          "output_type": "stream",
          "name": "stdout",
          "text": [
            "Hello World\n"
          ]
        }
      ]
    },
    {
      "cell_type": "code",
      "source": [
        "print_hello(\"Sachin\")"
      ],
      "metadata": {
        "colab": {
          "base_uri": "https://localhost:8080/",
          "height": 169
        },
        "id": "0JHWAAU8WL9P",
        "outputId": "cdb4d889-ab57-4efe-f5ad-5887249d6e22"
      },
      "execution_count": 49,
      "outputs": [
        {
          "output_type": "error",
          "ename": "TypeError",
          "evalue": "ignored",
          "traceback": [
            "\u001b[0;31m---------------------------------------------------------------------------\u001b[0m",
            "\u001b[0;31mTypeError\u001b[0m                                 Traceback (most recent call last)",
            "\u001b[0;32m<ipython-input-49-03a76e4679d1>\u001b[0m in \u001b[0;36m<module>\u001b[0;34m\u001b[0m\n\u001b[0;32m----> 1\u001b[0;31m \u001b[0mprint_hello\u001b[0m\u001b[0;34m(\u001b[0m\u001b[0;34m\"Sachin\"\u001b[0m\u001b[0;34m)\u001b[0m\u001b[0;34m\u001b[0m\u001b[0;34m\u001b[0m\u001b[0m\n\u001b[0m",
            "\u001b[0;31mTypeError\u001b[0m: print_hello() takes 0 positional arguments but 1 was given"
          ]
        }
      ]
    },
    {
      "cell_type": "code",
      "source": [
        "def print_hello(self):\n",
        "  print(\"Hello \", self)\n",
        "\n",
        "print_hello(\"Sachin\")"
      ],
      "metadata": {
        "colab": {
          "base_uri": "https://localhost:8080/"
        },
        "id": "qe64WBiCWSZW",
        "outputId": "104e5e61-dd69-4bc8-97a2-758a8b4a3c46"
      },
      "execution_count": 52,
      "outputs": [
        {
          "output_type": "stream",
          "name": "stdout",
          "text": [
            "Hello  Sachin\n"
          ]
        }
      ]
    },
    {
      "cell_type": "code",
      "source": [
        "print_hello()"
      ],
      "metadata": {
        "colab": {
          "base_uri": "https://localhost:8080/",
          "height": 169
        },
        "id": "Z7ADjHhmWaD5",
        "outputId": "61cc7a04-a7fb-4326-918d-f0731fc1e183"
      },
      "execution_count": 53,
      "outputs": [
        {
          "output_type": "error",
          "ename": "TypeError",
          "evalue": "ignored",
          "traceback": [
            "\u001b[0;31m---------------------------------------------------------------------------\u001b[0m",
            "\u001b[0;31mTypeError\u001b[0m                                 Traceback (most recent call last)",
            "\u001b[0;32m<ipython-input-53-24a2507c9d0c>\u001b[0m in \u001b[0;36m<module>\u001b[0;34m\u001b[0m\n\u001b[0;32m----> 1\u001b[0;31m \u001b[0mprint_hello\u001b[0m\u001b[0;34m(\u001b[0m\u001b[0;34m)\u001b[0m\u001b[0;34m\u001b[0m\u001b[0;34m\u001b[0m\u001b[0m\n\u001b[0m",
            "\u001b[0;31mTypeError\u001b[0m: print_hello() missing 1 required positional argument: 'self'"
          ]
        }
      ]
    },
    {
      "cell_type": "code",
      "source": [
        "c1 = BankAccount()"
      ],
      "metadata": {
        "id": "euwhWxh2We0t",
        "colab": {
          "base_uri": "https://localhost:8080/",
          "height": 169
        },
        "outputId": "6cd04928-2ecf-427f-a928-df200b943107"
      },
      "execution_count": 55,
      "outputs": [
        {
          "output_type": "error",
          "ename": "TypeError",
          "evalue": "ignored",
          "traceback": [
            "\u001b[0;31m---------------------------------------------------------------------------\u001b[0m",
            "\u001b[0;31mTypeError\u001b[0m                                 Traceback (most recent call last)",
            "\u001b[0;32m<ipython-input-55-f1e0e60008e6>\u001b[0m in \u001b[0;36m<module>\u001b[0;34m\u001b[0m\n\u001b[0;32m----> 1\u001b[0;31m \u001b[0mc1\u001b[0m \u001b[0;34m=\u001b[0m \u001b[0mBankAccount\u001b[0m\u001b[0;34m(\u001b[0m\u001b[0;34m)\u001b[0m\u001b[0;34m\u001b[0m\u001b[0;34m\u001b[0m\u001b[0m\n\u001b[0m",
            "\u001b[0;31mTypeError\u001b[0m: __init__() missing 3 required positional arguments: 'acc_id', 'name', and 'balance'"
          ]
        }
      ]
    },
    {
      "cell_type": "code",
      "source": [
        "int a = 10\n",
        "\n",
        "a = 10"
      ],
      "metadata": {
        "id": "8TcN6lrKW4xk",
        "colab": {
          "base_uri": "https://localhost:8080/",
          "height": 133
        },
        "outputId": "c87c799b-2bf1-4c70-dc11-25e41c79c7bc"
      },
      "execution_count": 56,
      "outputs": [
        {
          "output_type": "error",
          "ename": "SyntaxError",
          "evalue": "ignored",
          "traceback": [
            "\u001b[0;36m  File \u001b[0;32m\"<ipython-input-56-5e1779319780>\"\u001b[0;36m, line \u001b[0;32m1\u001b[0m\n\u001b[0;31m    int a = 10\u001b[0m\n\u001b[0m        ^\u001b[0m\n\u001b[0;31mSyntaxError\u001b[0m\u001b[0;31m:\u001b[0m invalid syntax\n"
          ]
        }
      ]
    },
    {
      "cell_type": "code",
      "source": [],
      "metadata": {
        "id": "We2QLIlyiT7G"
      },
      "execution_count": 56,
      "outputs": []
    }
  ]
}