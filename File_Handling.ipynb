{
  "nbformat": 4,
  "nbformat_minor": 0,
  "metadata": {
    "colab": {
      "provenance": [],
      "authorship_tag": "ABX9TyO6lqN+MWQBxqDhPOppAR5o",
      "include_colab_link": true
    },
    "kernelspec": {
      "name": "python3",
      "display_name": "Python 3"
    },
    "language_info": {
      "name": "python"
    }
  },
  "cells": [
    {
      "cell_type": "markdown",
      "metadata": {
        "id": "view-in-github",
        "colab_type": "text"
      },
      "source": [
        "<a href=\"https://colab.research.google.com/github/SachinScaler/Nov22-Beginner-Mon-Evening-1/blob/main/File_Handling.ipynb\" target=\"_parent\"><img src=\"https://colab.research.google.com/assets/colab-badge.svg\" alt=\"Open In Colab\"/></a>"
      ]
    },
    {
      "cell_type": "markdown",
      "source": [
        "```\n",
        "File Handling:\n",
        "    - Open files\n",
        "    - Read-files\n",
        "    - Write-files\n",
        "    - Modes in file handling\n",
        "```"
      ],
      "metadata": {
        "id": "ewvdv5xfAC-K"
      }
    },
    {
      "cell_type": "markdown",
      "source": [
        "### File Access Modes\n",
        "\n",
        ">Access modes govern the type of operations possible in the opened file. It refers to how the file will be used once its opened. These modes also define the location of the File Handle in the file. File handle is like a cursor, which defines from where the data has to be read or written in the file. There are 6 access modes in python.\n",
        "\n",
        "- **Read Only (‘r’)** : \n",
        "    - Open text file for reading. \n",
        "    - The handle is positioned at the beginning of the file. \n",
        "    - If the file does not exists, raises I/O error.\n",
        "    - This is also the default mode in which file is opened.\n",
        "\n",
        "\n",
        "- **Read and Write (‘r+’)** : \n",
        "    - Open the file for reading and writing. = The handle is positioned at the beginning of the file.\n",
        "    -  Raises I/O error if the file does not exists.\n",
        "\n",
        "\n",
        "- **Write Only (‘w’)** : \n",
        "    - Open the file for writing. For existing file, the data is truncated and over-written. \n",
        "    - The handle is positioned at the beginning of the file. \n",
        "    - Creates the file if the file does not exists.\n",
        "\n",
        "\n",
        "- **Write and Read (‘w+’)** : \n",
        "    - Open the file for reading and writing. \n",
        "    - For existing file, data is truncated and over-written. \n",
        "    - The handle is positioned at the beginning of the file.\n",
        "     - Creates the file if the file does not exists.\n",
        "\n",
        "\n",
        "- **Append Only (‘a’)** : \n",
        "    - Open the file for writing. \n",
        "    - The file is created if it does not exist. \n",
        "    - The handle is positioned at the end of the file. \n",
        "    - The data being written will be inserted at the end, after the existing data.\n",
        "\n",
        "\n",
        "- **Append and Read (‘a+’)** : \n",
        "    - Open the file for reading and writing. \n",
        "    - The file is created if it does not exist. \n",
        "    - The handle is positioned at the end of the file. \n",
        "    - The data being written will be inserted at the end, after the existing data."
      ],
      "metadata": {
        "id": "oHnWlkhDDudq"
      }
    },
    {
      "cell_type": "markdown",
      "source": [
        "\n",
        "Read Only (‘r’) : \n",
        "\n",
        "    - Open text file for reading. \n",
        "    - The handle is positioned at the beginning of the file. \n",
        "    - If the file does not exists, raises I/O error.\n",
        "    - This is also the default mode in which file is opened."
      ],
      "metadata": {
        "id": "VR-TQU71FFbH"
      }
    },
    {
      "cell_type": "code",
      "execution_count": 1,
      "metadata": {
        "colab": {
          "base_uri": "https://localhost:8080/",
          "height": 168
        },
        "id": "_WAr24aj_gfs",
        "outputId": "c9acab7a-93d1-428a-f1e8-93dadf283cb1"
      },
      "outputs": [
        {
          "output_type": "error",
          "ename": "FileNotFoundError",
          "evalue": "ignored",
          "traceback": [
            "\u001b[0;31m---------------------------------------------------------------------------\u001b[0m",
            "\u001b[0;31mFileNotFoundError\u001b[0m                         Traceback (most recent call last)",
            "\u001b[0;32m<ipython-input-1-1d12c7752548>\u001b[0m in \u001b[0;36m<module>\u001b[0;34m\u001b[0m\n\u001b[0;32m----> 1\u001b[0;31m \u001b[0mfile\u001b[0m \u001b[0;34m=\u001b[0m \u001b[0mopen\u001b[0m\u001b[0;34m(\u001b[0m\u001b[0;34m\"demo_file.txt\"\u001b[0m\u001b[0;34m,\u001b[0m \u001b[0;34m\"r\"\u001b[0m\u001b[0;34m)\u001b[0m\u001b[0;34m\u001b[0m\u001b[0;34m\u001b[0m\u001b[0m\n\u001b[0m",
            "\u001b[0;31mFileNotFoundError\u001b[0m: [Errno 2] No such file or directory: 'demo_file.txt'"
          ]
        }
      ],
      "source": [
        "file = open(\"demo_file.txt\", \"r\")"
      ]
    },
    {
      "cell_type": "code",
      "source": [
        "# we manually created a file named demo_file.txt\n",
        "f = open(\"demo_file.txt\", \"r\")"
      ],
      "metadata": {
        "id": "KgOcSu2GEpuB"
      },
      "execution_count": 3,
      "outputs": []
    },
    {
      "cell_type": "markdown",
      "source": [
        "READ:after a file is opened in any of the modes supporting read priviledge, you can read \"All the contents of file\" using .read() method"
      ],
      "metadata": {
        "id": "JU_aQC8vFOqF"
      }
    },
    {
      "cell_type": "code",
      "source": [
        "f.read()"
      ],
      "metadata": {
        "colab": {
          "base_uri": "https://localhost:8080/",
          "height": 36
        },
        "id": "2WL34r5YFAD9",
        "outputId": "061ee425-7855-485e-f6fd-69ee314cb77e"
      },
      "execution_count": 4,
      "outputs": [
        {
          "output_type": "execute_result",
          "data": {
            "text/plain": [
              "'Hi, this is our first file'"
            ],
            "application/vnd.google.colaboratory.intrinsic+json": {
              "type": "string"
            }
          },
          "metadata": {},
          "execution_count": 4
        }
      ]
    },
    {
      "cell_type": "code",
      "source": [
        "f.read()"
      ],
      "metadata": {
        "colab": {
          "base_uri": "https://localhost:8080/",
          "height": 36
        },
        "id": "L6uUu3RKFfOS",
        "outputId": "80df4c5a-b89a-45e6-b0bd-25a8dc42422c"
      },
      "execution_count": 5,
      "outputs": [
        {
          "output_type": "execute_result",
          "data": {
            "text/plain": [
              "''"
            ],
            "application/vnd.google.colaboratory.intrinsic+json": {
              "type": "string"
            }
          },
          "metadata": {},
          "execution_count": 5
        }
      ]
    },
    {
      "cell_type": "code",
      "source": [
        "f.read()"
      ],
      "metadata": {
        "colab": {
          "base_uri": "https://localhost:8080/",
          "height": 36
        },
        "id": "nRhwP5NZGVjR",
        "outputId": "c3a02fbe-d97c-4422-915c-f60b6e9a2cf9"
      },
      "execution_count": 6,
      "outputs": [
        {
          "output_type": "execute_result",
          "data": {
            "text/plain": [
              "''"
            ],
            "application/vnd.google.colaboratory.intrinsic+json": {
              "type": "string"
            }
          },
          "metadata": {},
          "execution_count": 6
        }
      ]
    },
    {
      "cell_type": "code",
      "source": [
        "file1 = open(\"demo_file.txt\")\n",
        "file1.read()"
      ],
      "metadata": {
        "colab": {
          "base_uri": "https://localhost:8080/",
          "height": 36
        },
        "id": "PXGwxLAxGZNt",
        "outputId": "a438acaf-7975-4209-8120-d8a4b1ca748e"
      },
      "execution_count": 15,
      "outputs": [
        {
          "output_type": "execute_result",
          "data": {
            "text/plain": [
              "'Hi, this is our first file'"
            ],
            "application/vnd.google.colaboratory.intrinsic+json": {
              "type": "string"
            }
          },
          "metadata": {},
          "execution_count": 15
        }
      ]
    },
    {
      "cell_type": "markdown",
      "source": [
        "- using seek method you can reposition your cursor"
      ],
      "metadata": {
        "id": "lbu2lHkbHkoi"
      }
    },
    {
      "cell_type": "code",
      "source": [
        "f.seek(2) # we can reposition our cursor"
      ],
      "metadata": {
        "colab": {
          "base_uri": "https://localhost:8080/"
        },
        "id": "Hv1WadclGmPa",
        "outputId": "826626f2-4699-4c6e-df1c-01ea07ae784f"
      },
      "execution_count": 17,
      "outputs": [
        {
          "output_type": "execute_result",
          "data": {
            "text/plain": [
              "0"
            ]
          },
          "metadata": {},
          "execution_count": 17
        }
      ]
    },
    {
      "cell_type": "code",
      "source": [
        "f.read()"
      ],
      "metadata": {
        "colab": {
          "base_uri": "https://localhost:8080/",
          "height": 36
        },
        "id": "K2rH9RkqGzGO",
        "outputId": "ed232d46-842a-4796-9282-1ce65f6006c0"
      },
      "execution_count": 18,
      "outputs": [
        {
          "output_type": "execute_result",
          "data": {
            "text/plain": [
              "'Hi, this is our first file'"
            ],
            "application/vnd.google.colaboratory.intrinsic+json": {
              "type": "string"
            }
          },
          "metadata": {},
          "execution_count": 18
        }
      ]
    },
    {
      "cell_type": "code",
      "source": [
        "f.read()"
      ],
      "metadata": {
        "colab": {
          "base_uri": "https://localhost:8080/",
          "height": 36
        },
        "id": "WuIoWzoAG04O",
        "outputId": "3933a86e-d6b5-4ba0-ebb6-46bf303c9a35"
      },
      "execution_count": 11,
      "outputs": [
        {
          "output_type": "execute_result",
          "data": {
            "text/plain": [
              "''"
            ],
            "application/vnd.google.colaboratory.intrinsic+json": {
              "type": "string"
            }
          },
          "metadata": {},
          "execution_count": 11
        }
      ]
    },
    {
      "cell_type": "code",
      "source": [
        "file1 = open(\"demo_file.txt\")"
      ],
      "metadata": {
        "id": "3t6PcjRuHF2Z"
      },
      "execution_count": 12,
      "outputs": []
    },
    {
      "cell_type": "code",
      "source": [
        "file1.read(5)"
      ],
      "metadata": {
        "colab": {
          "base_uri": "https://localhost:8080/",
          "height": 36
        },
        "id": "q0EgGwMwHLIm",
        "outputId": "5df49ced-68be-4de4-8218-2ad58a678acb"
      },
      "execution_count": 13,
      "outputs": [
        {
          "output_type": "execute_result",
          "data": {
            "text/plain": [
              "'Hi, t'"
            ],
            "application/vnd.google.colaboratory.intrinsic+json": {
              "type": "string"
            }
          },
          "metadata": {},
          "execution_count": 13
        }
      ]
    },
    {
      "cell_type": "code",
      "source": [
        "file1.read(2)"
      ],
      "metadata": {
        "colab": {
          "base_uri": "https://localhost:8080/",
          "height": 36
        },
        "id": "wldNxMGAHO5k",
        "outputId": "2f56bc47-e549-4e0b-d297-4563b2fdae48"
      },
      "execution_count": 14,
      "outputs": [
        {
          "output_type": "execute_result",
          "data": {
            "text/plain": [
              "'hi'"
            ],
            "application/vnd.google.colaboratory.intrinsic+json": {
              "type": "string"
            }
          },
          "metadata": {},
          "execution_count": 14
        }
      ]
    },
    {
      "cell_type": "code",
      "source": [],
      "metadata": {
        "id": "sQmOwzXIHVaX"
      },
      "execution_count": null,
      "outputs": []
    },
    {
      "cell_type": "markdown",
      "source": [
        "- Always Close files:"
      ],
      "metadata": {
        "id": "DDC71LkNH07y"
      }
    },
    {
      "cell_type": "code",
      "source": [
        "file1.close()"
      ],
      "metadata": {
        "id": "Yzd2szh-H3zb"
      },
      "execution_count": 19,
      "outputs": []
    },
    {
      "cell_type": "code",
      "source": [
        "# check closed status\n",
        "file1.closed"
      ],
      "metadata": {
        "colab": {
          "base_uri": "https://localhost:8080/"
        },
        "id": "t-9skusoH7wi",
        "outputId": "d82ea8d1-4786-47bd-e4c4-c41dc92bc2ec"
      },
      "execution_count": 20,
      "outputs": [
        {
          "output_type": "execute_result",
          "data": {
            "text/plain": [
              "True"
            ]
          },
          "metadata": {},
          "execution_count": 20
        }
      ]
    },
    {
      "cell_type": "code",
      "source": [
        "f.closed"
      ],
      "metadata": {
        "colab": {
          "base_uri": "https://localhost:8080/"
        },
        "id": "hIxzjqz7Iu_r",
        "outputId": "1277b46c-c204-441b-da7a-fb84c55cece8"
      },
      "execution_count": 21,
      "outputs": [
        {
          "output_type": "execute_result",
          "data": {
            "text/plain": [
              "False"
            ]
          },
          "metadata": {},
          "execution_count": 21
        }
      ]
    },
    {
      "cell_type": "code",
      "source": [
        "f.close()"
      ],
      "metadata": {
        "id": "Rfs4aS-cI1qN"
      },
      "execution_count": 22,
      "outputs": []
    },
    {
      "cell_type": "code",
      "source": [
        "f1  = open('random.txt', 'r')"
      ],
      "metadata": {
        "colab": {
          "base_uri": "https://localhost:8080/",
          "height": 168
        },
        "id": "pyx7aR7rI50L",
        "outputId": "3f118dd1-b564-4f93-8561-c64fdbf2b5ba"
      },
      "execution_count": 23,
      "outputs": [
        {
          "output_type": "error",
          "ename": "FileNotFoundError",
          "evalue": "ignored",
          "traceback": [
            "\u001b[0;31m---------------------------------------------------------------------------\u001b[0m",
            "\u001b[0;31mFileNotFoundError\u001b[0m                         Traceback (most recent call last)",
            "\u001b[0;32m<ipython-input-23-9b53985e6383>\u001b[0m in \u001b[0;36m<module>\u001b[0;34m\u001b[0m\n\u001b[0;32m----> 1\u001b[0;31m \u001b[0mf1\u001b[0m  \u001b[0;34m=\u001b[0m \u001b[0mopen\u001b[0m\u001b[0;34m(\u001b[0m\u001b[0;34m'random.txt'\u001b[0m\u001b[0;34m,\u001b[0m \u001b[0;34m'r'\u001b[0m\u001b[0;34m)\u001b[0m\u001b[0;34m\u001b[0m\u001b[0;34m\u001b[0m\u001b[0m\n\u001b[0m",
            "\u001b[0;31mFileNotFoundError\u001b[0m: [Errno 2] No such file or directory: 'random.txt'"
          ]
        }
      ]
    },
    {
      "cell_type": "code",
      "source": [
        "f1  = open('demo/random.txt', 'r')"
      ],
      "metadata": {
        "id": "6pv0NY8wJLn1"
      },
      "execution_count": 25,
      "outputs": []
    },
    {
      "cell_type": "code",
      "source": [
        "f1.closed"
      ],
      "metadata": {
        "colab": {
          "base_uri": "https://localhost:8080/"
        },
        "id": "4UpBePC5JNgl",
        "outputId": "0e41e60d-323c-489d-b40f-235b8d93892b"
      },
      "execution_count": 26,
      "outputs": [
        {
          "output_type": "execute_result",
          "data": {
            "text/plain": [
              "False"
            ]
          },
          "metadata": {},
          "execution_count": 26
        }
      ]
    },
    {
      "cell_type": "code",
      "source": [
        "f1.close()"
      ],
      "metadata": {
        "id": "OZoAwEhlJihU"
      },
      "execution_count": 27,
      "outputs": []
    },
    {
      "cell_type": "code",
      "source": [],
      "metadata": {
        "id": "8AUpyWEUJl16"
      },
      "execution_count": null,
      "outputs": []
    },
    {
      "cell_type": "markdown",
      "source": [
        "Trick to Automatically close the file:\n",
        "Use \"Context Manager\""
      ],
      "metadata": {
        "id": "02VjvHelJpW7"
      }
    },
    {
      "cell_type": "code",
      "source": [
        "with open(\"demo_file.txt\", \"r\") as file1: # file1 = open(\"demo_file.txt\", \"r\")\n",
        "    print(file1.read())"
      ],
      "metadata": {
        "colab": {
          "base_uri": "https://localhost:8080/"
        },
        "id": "iD5NSKLyJxqG",
        "outputId": "440a455e-81a6-4f98-db7d-90d797ef26f2"
      },
      "execution_count": 29,
      "outputs": [
        {
          "output_type": "stream",
          "name": "stdout",
          "text": [
            "Hi, this is our first file\n"
          ]
        }
      ]
    },
    {
      "cell_type": "code",
      "source": [
        "with open(\"demo_file.txt\", \"r\") as file1: \n",
        "    print(file1.read(2))\n",
        "    print(file1.closed)\n",
        "    print(file1.read(3))"
      ],
      "metadata": {
        "colab": {
          "base_uri": "https://localhost:8080/"
        },
        "id": "P6oUSMIZJ9O3",
        "outputId": "cfe7db84-64e2-4f25-d01f-189a5716d344"
      },
      "execution_count": 32,
      "outputs": [
        {
          "output_type": "stream",
          "name": "stdout",
          "text": [
            "Hi\n",
            "False\n",
            ", t\n"
          ]
        }
      ]
    },
    {
      "cell_type": "code",
      "source": [
        "with open(\"demo_file.txt\", \"r\") as file1: \n",
        "    print(file1.read())\n",
        "\n",
        "print(file1.closed)\n",
        "file1.read(2)"
      ],
      "metadata": {
        "colab": {
          "base_uri": "https://localhost:8080/",
          "height": 239
        },
        "id": "iPdLBR6lLJBb",
        "outputId": "d1443702-e559-47b4-f3d3-9df16d5a736e"
      },
      "execution_count": 34,
      "outputs": [
        {
          "output_type": "stream",
          "name": "stdout",
          "text": [
            "Hi, this is our first file\n",
            "True\n"
          ]
        },
        {
          "output_type": "error",
          "ename": "ValueError",
          "evalue": "ignored",
          "traceback": [
            "\u001b[0;31m---------------------------------------------------------------------------\u001b[0m",
            "\u001b[0;31mValueError\u001b[0m                                Traceback (most recent call last)",
            "\u001b[0;32m<ipython-input-34-4b772672937a>\u001b[0m in \u001b[0;36m<module>\u001b[0;34m\u001b[0m\n\u001b[1;32m      3\u001b[0m \u001b[0;34m\u001b[0m\u001b[0m\n\u001b[1;32m      4\u001b[0m \u001b[0mprint\u001b[0m\u001b[0;34m(\u001b[0m\u001b[0mfile1\u001b[0m\u001b[0;34m.\u001b[0m\u001b[0mclosed\u001b[0m\u001b[0;34m)\u001b[0m\u001b[0;34m\u001b[0m\u001b[0;34m\u001b[0m\u001b[0m\n\u001b[0;32m----> 5\u001b[0;31m \u001b[0mfile1\u001b[0m\u001b[0;34m.\u001b[0m\u001b[0mread\u001b[0m\u001b[0;34m(\u001b[0m\u001b[0;36m2\u001b[0m\u001b[0;34m)\u001b[0m\u001b[0;34m\u001b[0m\u001b[0;34m\u001b[0m\u001b[0m\n\u001b[0m",
            "\u001b[0;31mValueError\u001b[0m: I/O operation on closed file."
          ]
        }
      ]
    },
    {
      "cell_type": "code",
      "source": [],
      "metadata": {
        "id": "TZ08x7b5LL-3"
      },
      "execution_count": null,
      "outputs": []
    },
    {
      "cell_type": "markdown",
      "source": [
        "- Read and Write (‘r+’) : \n",
        "    - Open the file for reading and writing. \n",
        "    - The handle is positioned at the beginning of the file. \n",
        "    - Raises I/O error if the file does not exists."
      ],
      "metadata": {
        "id": "03ea6m-WLy8j"
      }
    },
    {
      "cell_type": "code",
      "source": [
        "with open(\"demo_file2.txt\", 'r+') as f:\n",
        "    print(f.read())"
      ],
      "metadata": {
        "colab": {
          "base_uri": "https://localhost:8080/",
          "height": 186
        },
        "id": "GnBwZguLL80c",
        "outputId": "def013c7-85d5-4eb4-8285-5c6287aa5ebb"
      },
      "execution_count": 36,
      "outputs": [
        {
          "output_type": "error",
          "ename": "FileNotFoundError",
          "evalue": "ignored",
          "traceback": [
            "\u001b[0;31m---------------------------------------------------------------------------\u001b[0m",
            "\u001b[0;31mFileNotFoundError\u001b[0m                         Traceback (most recent call last)",
            "\u001b[0;32m<ipython-input-36-7051d1dc688b>\u001b[0m in \u001b[0;36m<module>\u001b[0;34m\u001b[0m\n\u001b[0;32m----> 1\u001b[0;31m \u001b[0;32mwith\u001b[0m \u001b[0mopen\u001b[0m\u001b[0;34m(\u001b[0m\u001b[0;34m\"demo_file2.txt\"\u001b[0m\u001b[0;34m,\u001b[0m \u001b[0;34m'r+'\u001b[0m\u001b[0;34m)\u001b[0m \u001b[0;32mas\u001b[0m \u001b[0mf\u001b[0m\u001b[0;34m:\u001b[0m\u001b[0;34m\u001b[0m\u001b[0;34m\u001b[0m\u001b[0m\n\u001b[0m\u001b[1;32m      2\u001b[0m     \u001b[0mprint\u001b[0m\u001b[0;34m(\u001b[0m\u001b[0mf\u001b[0m\u001b[0;34m.\u001b[0m\u001b[0mread\u001b[0m\u001b[0;34m(\u001b[0m\u001b[0;34m)\u001b[0m\u001b[0;34m)\u001b[0m\u001b[0;34m\u001b[0m\u001b[0;34m\u001b[0m\u001b[0m\n",
            "\u001b[0;31mFileNotFoundError\u001b[0m: [Errno 2] No such file or directory: 'demo_file2.txt'"
          ]
        }
      ]
    },
    {
      "cell_type": "code",
      "source": [
        "f = open(\"demo_file2.txt\", 'r+')\n"
      ],
      "metadata": {
        "colab": {
          "base_uri": "https://localhost:8080/",
          "height": 168
        },
        "id": "Osxpf-ExMQnn",
        "outputId": "da6e43ed-e92a-4c8f-eccf-274058c2c778"
      },
      "execution_count": 37,
      "outputs": [
        {
          "output_type": "error",
          "ename": "FileNotFoundError",
          "evalue": "ignored",
          "traceback": [
            "\u001b[0;31m---------------------------------------------------------------------------\u001b[0m",
            "\u001b[0;31mFileNotFoundError\u001b[0m                         Traceback (most recent call last)",
            "\u001b[0;32m<ipython-input-37-c6110b9ffc15>\u001b[0m in \u001b[0;36m<module>\u001b[0;34m\u001b[0m\n\u001b[0;32m----> 1\u001b[0;31m \u001b[0mf\u001b[0m \u001b[0;34m=\u001b[0m \u001b[0mopen\u001b[0m\u001b[0;34m(\u001b[0m\u001b[0;34m\"demo_file2.txt\"\u001b[0m\u001b[0;34m,\u001b[0m \u001b[0;34m'r+'\u001b[0m\u001b[0;34m)\u001b[0m\u001b[0;34m\u001b[0m\u001b[0;34m\u001b[0m\u001b[0m\n\u001b[0m",
            "\u001b[0;31mFileNotFoundError\u001b[0m: [Errno 2] No such file or directory: 'demo_file2.txt'"
          ]
        }
      ]
    },
    {
      "cell_type": "code",
      "source": [
        "f = open(\"demo_file.txt\", 'r+')"
      ],
      "metadata": {
        "id": "AmI140nvMXsd"
      },
      "execution_count": 38,
      "outputs": []
    },
    {
      "cell_type": "code",
      "source": [
        "f.read()"
      ],
      "metadata": {
        "colab": {
          "base_uri": "https://localhost:8080/",
          "height": 36
        },
        "id": "4cbCCcGBMbV4",
        "outputId": "badc7bd8-d70d-4eb4-efae-8484be3b1545"
      },
      "execution_count": 39,
      "outputs": [
        {
          "output_type": "execute_result",
          "data": {
            "text/plain": [
              "'Hi, this is our first file'"
            ],
            "application/vnd.google.colaboratory.intrinsic+json": {
              "type": "string"
            }
          },
          "metadata": {},
          "execution_count": 39
        }
      ]
    },
    {
      "cell_type": "code",
      "source": [
        "f.write(\"writing with r+\")"
      ],
      "metadata": {
        "colab": {
          "base_uri": "https://localhost:8080/"
        },
        "id": "_WumJTWGMgH5",
        "outputId": "201a0cd4-f5c4-427f-9782-da48de2df888"
      },
      "execution_count": 40,
      "outputs": [
        {
          "output_type": "execute_result",
          "data": {
            "text/plain": [
              "15"
            ]
          },
          "metadata": {},
          "execution_count": 40
        }
      ]
    },
    {
      "cell_type": "code",
      "source": [
        "f.close()"
      ],
      "metadata": {
        "id": "loqZJwReMlDf"
      },
      "execution_count": 41,
      "outputs": []
    },
    {
      "cell_type": "code",
      "source": [
        "with open(\"demo_file.txt\", 'r+') as f:\n",
        "    print(f.read())\n",
        "    f.write(\" Writing inside context Manager with r+.\")"
      ],
      "metadata": {
        "colab": {
          "base_uri": "https://localhost:8080/"
        },
        "id": "JsIKLKfaMxr3",
        "outputId": "d287405a-469e-4377-fb43-6b9880744abe"
      },
      "execution_count": 43,
      "outputs": [
        {
          "output_type": "stream",
          "name": "stdout",
          "text": [
            "Hi, this is our first filewriting with r+ Writing inside context Manager with r+.\n"
          ]
        }
      ]
    },
    {
      "cell_type": "code",
      "source": [
        "with open(\"demo_file.txt\", 'r+') as f:\n",
        "    f.write(\" do r+ \")"
      ],
      "metadata": {
        "id": "1LJ-IZixNAT_"
      },
      "execution_count": 46,
      "outputs": []
    },
    {
      "cell_type": "code",
      "source": [
        "with open(\"demo_file.txt\", 'r+') as f:\n",
        "    f.seek(0,2) # to put cursor at the end\n",
        "    f.write(\" do r+ \")"
      ],
      "metadata": {
        "colab": {
          "base_uri": "https://localhost:8080/",
          "height": 204
        },
        "id": "sjUtxJJ2NPVB",
        "outputId": "e06fcc94-ff5f-4d6b-c5eb-b74ed4cb812d"
      },
      "execution_count": 49,
      "outputs": [
        {
          "output_type": "error",
          "ename": "ValueError",
          "evalue": "ignored",
          "traceback": [
            "\u001b[0;31m---------------------------------------------------------------------------\u001b[0m",
            "\u001b[0;31mValueError\u001b[0m                                Traceback (most recent call last)",
            "\u001b[0;32m<ipython-input-49-670e4d0f465d>\u001b[0m in \u001b[0;36m<module>\u001b[0;34m\u001b[0m\n\u001b[1;32m      1\u001b[0m \u001b[0;32mwith\u001b[0m \u001b[0mopen\u001b[0m\u001b[0;34m(\u001b[0m\u001b[0;34m\"demo_file.txt\"\u001b[0m\u001b[0;34m,\u001b[0m \u001b[0;34m'r+'\u001b[0m\u001b[0;34m)\u001b[0m \u001b[0;32mas\u001b[0m \u001b[0mf\u001b[0m\u001b[0;34m:\u001b[0m\u001b[0;34m\u001b[0m\u001b[0;34m\u001b[0m\u001b[0m\n\u001b[0;32m----> 2\u001b[0;31m     \u001b[0mf\u001b[0m\u001b[0;34m.\u001b[0m\u001b[0mseek\u001b[0m\u001b[0;34m(\u001b[0m\u001b[0;36m0\u001b[0m\u001b[0;34m,\u001b[0m\u001b[0;34m-\u001b[0m\u001b[0;36m1\u001b[0m\u001b[0;34m)\u001b[0m \u001b[0;31m# to put cursor at the end\u001b[0m\u001b[0;34m\u001b[0m\u001b[0;34m\u001b[0m\u001b[0m\n\u001b[0m\u001b[1;32m      3\u001b[0m     \u001b[0mf\u001b[0m\u001b[0;34m.\u001b[0m\u001b[0mwrite\u001b[0m\u001b[0;34m(\u001b[0m\u001b[0;34m\" do r+ \"\u001b[0m\u001b[0;34m)\u001b[0m\u001b[0;34m\u001b[0m\u001b[0;34m\u001b[0m\u001b[0m\n",
            "\u001b[0;31mValueError\u001b[0m: invalid whence (-1, should be 0, 1 or 2)"
          ]
        }
      ]
    },
    {
      "cell_type": "markdown",
      "source": [
        "Write (w):\n",
        "- Open the file for writing. \n",
        "- For existing file, the data is truncated and over-written. \n",
        "- The handle is positioned at the beginning of the file. \n",
        "- Creates the file if the file does not exists."
      ],
      "metadata": {
        "id": "zq5AICPZQdXP"
      }
    },
    {
      "cell_type": "code",
      "source": [
        "fw = open(\"fileinW.txt\", 'w')"
      ],
      "metadata": {
        "id": "xbT0lSiBOSO7"
      },
      "execution_count": 50,
      "outputs": []
    },
    {
      "cell_type": "code",
      "source": [
        "fw.read()"
      ],
      "metadata": {
        "colab": {
          "base_uri": "https://localhost:8080/",
          "height": 168
        },
        "id": "NitYE6QxQ36h",
        "outputId": "2d92633e-9483-48f9-ce37-75218dcddb4c"
      },
      "execution_count": 51,
      "outputs": [
        {
          "output_type": "error",
          "ename": "UnsupportedOperation",
          "evalue": "ignored",
          "traceback": [
            "\u001b[0;31m---------------------------------------------------------------------------\u001b[0m",
            "\u001b[0;31mUnsupportedOperation\u001b[0m                      Traceback (most recent call last)",
            "\u001b[0;32m<ipython-input-51-14adc7811b3a>\u001b[0m in \u001b[0;36m<module>\u001b[0;34m\u001b[0m\n\u001b[0;32m----> 1\u001b[0;31m \u001b[0mfw\u001b[0m\u001b[0;34m.\u001b[0m\u001b[0mread\u001b[0m\u001b[0;34m(\u001b[0m\u001b[0;34m)\u001b[0m\u001b[0;34m\u001b[0m\u001b[0;34m\u001b[0m\u001b[0m\n\u001b[0m",
            "\u001b[0;31mUnsupportedOperation\u001b[0m: not readable"
          ]
        }
      ]
    },
    {
      "cell_type": "code",
      "source": [
        "fw.write(\"Writing using w Mode\")"
      ],
      "metadata": {
        "colab": {
          "base_uri": "https://localhost:8080/"
        },
        "id": "IGgTr2SBRMDI",
        "outputId": "fabba943-34e8-45f3-aa74-a6e49b99cdbd"
      },
      "execution_count": 53,
      "outputs": [
        {
          "output_type": "execute_result",
          "data": {
            "text/plain": [
              "20"
            ]
          },
          "metadata": {},
          "execution_count": 53
        }
      ]
    },
    {
      "cell_type": "code",
      "source": [
        "fw.close()"
      ],
      "metadata": {
        "id": "X92LUy7sRWih"
      },
      "execution_count": 54,
      "outputs": []
    },
    {
      "cell_type": "code",
      "source": [
        "with open(\"fileinW.txt\", 'w') as fw:\n",
        "    fw.write(\"Hello I am writinng again.\")\n"
      ],
      "metadata": {
        "id": "oGa5htQWRfmH"
      },
      "execution_count": 55,
      "outputs": []
    },
    {
      "cell_type": "code",
      "source": [
        "with open(\"fileinW.txt\", 'w') as fw:\n",
        "    fw.write(\"W Yo!\")"
      ],
      "metadata": {
        "id": "L_KDt4jJSE9i"
      },
      "execution_count": 56,
      "outputs": []
    },
    {
      "cell_type": "code",
      "source": [
        "with open(\"demo_file.txt\", 'w') as fw:\n",
        "    pass"
      ],
      "metadata": {
        "id": "bSI38vIiSVR3"
      },
      "execution_count": 59,
      "outputs": []
    },
    {
      "cell_type": "code",
      "source": [],
      "metadata": {
        "id": "oysKifSKSilt"
      },
      "execution_count": null,
      "outputs": []
    },
    {
      "cell_type": "markdown",
      "source": [
        "\n",
        "- **Write and Read (‘w+’)** : \n",
        "    - Open the file for reading and writing. \n",
        "    - For existing file, data is truncated and over-written. \n",
        "    - The handle is positioned at the beginning of the file.\n",
        "    - Creates the file if the file does not exists."
      ],
      "metadata": {
        "id": "KCWjUsEzS_IT"
      }
    },
    {
      "cell_type": "code",
      "source": [
        "with open(\"fileinw+.txt\", \"w+\") as fw1:\n",
        "    print(fw1.read())"
      ],
      "metadata": {
        "colab": {
          "base_uri": "https://localhost:8080/"
        },
        "id": "P_pqrg5nTQtz",
        "outputId": "481275a9-b83d-4b0c-b4d5-98999cd34a48"
      },
      "execution_count": 63,
      "outputs": [
        {
          "output_type": "stream",
          "name": "stdout",
          "text": [
            "\n"
          ]
        }
      ]
    },
    {
      "cell_type": "code",
      "source": [
        "with open(\"fileinw+.txt\", \"w+\") as fw1:\n",
        "    fw1.write(\"Writing with w+\")\n",
        "    print(fw1.read())"
      ],
      "metadata": {
        "colab": {
          "base_uri": "https://localhost:8080/"
        },
        "id": "6AJ4Mp_QTjSd",
        "outputId": "0618c5be-0942-4d1d-971a-cc8fddd23602"
      },
      "execution_count": 64,
      "outputs": [
        {
          "output_type": "stream",
          "name": "stdout",
          "text": [
            "\n"
          ]
        }
      ]
    },
    {
      "cell_type": "code",
      "source": [
        "a = \"w+\"\n",
        "with open(\"fileinw+.txt\", a) as fw1:\n",
        "    print(fw1.read())\n",
        "    fw1.write(\"Writing  antther string\")\n",
        "    "
      ],
      "metadata": {
        "colab": {
          "base_uri": "https://localhost:8080/"
        },
        "id": "42mrYProTxs1",
        "outputId": "15b43b6d-9eea-4204-93ce-7d8c858d95e2"
      },
      "execution_count": 66,
      "outputs": [
        {
          "output_type": "stream",
          "name": "stdout",
          "text": [
            "\n"
          ]
        }
      ]
    },
    {
      "cell_type": "code",
      "source": [],
      "metadata": {
        "id": "FaK_JkwPVPoa"
      },
      "execution_count": null,
      "outputs": []
    },
    {
      "cell_type": "markdown",
      "source": [
        "\n",
        "- **Append Only (‘a’)** : \n",
        "    - Open the file for writing. \n",
        "    - The file is created if it does not exist. \n",
        "    - The handle is positioned at the end of the file. \n",
        "    - The data being written will be inserted at the end, after the existing data."
      ],
      "metadata": {
        "id": "qBB8NenMUpoG"
      }
    },
    {
      "cell_type": "code",
      "source": [
        "with open(\"filewithAppend.text\", 'a')  as fa:\n",
        "    fa.write(\"Writing for first time\")"
      ],
      "metadata": {
        "id": "GKqpSsUoUAMB"
      },
      "execution_count": 67,
      "outputs": []
    },
    {
      "cell_type": "code",
      "source": [
        "with open(\"filewithAppend.text\", 'a')  as fa:\n",
        "    fa.write(\". Writing for Second time\")"
      ],
      "metadata": {
        "id": "yIqQZdEAV-uW"
      },
      "execution_count": 68,
      "outputs": []
    },
    {
      "cell_type": "code",
      "source": [
        "with open(\"filewithAppend.text\", 'a')  as fa:\n",
        "    fa.write(\". Writing for Second time\")\n",
        "    fa.read()"
      ],
      "metadata": {
        "colab": {
          "base_uri": "https://localhost:8080/",
          "height": 204
        },
        "id": "hlZmISf_WKNN",
        "outputId": "e1b6ca7c-2d96-40e9-95ce-171fe5c7068e"
      },
      "execution_count": 69,
      "outputs": [
        {
          "output_type": "error",
          "ename": "UnsupportedOperation",
          "evalue": "ignored",
          "traceback": [
            "\u001b[0;31m---------------------------------------------------------------------------\u001b[0m",
            "\u001b[0;31mUnsupportedOperation\u001b[0m                      Traceback (most recent call last)",
            "\u001b[0;32m<ipython-input-69-f61518aa7468>\u001b[0m in \u001b[0;36m<module>\u001b[0;34m\u001b[0m\n\u001b[1;32m      1\u001b[0m \u001b[0;32mwith\u001b[0m \u001b[0mopen\u001b[0m\u001b[0;34m(\u001b[0m\u001b[0;34m\"filewithAppend.text\"\u001b[0m\u001b[0;34m,\u001b[0m \u001b[0;34m'a'\u001b[0m\u001b[0;34m)\u001b[0m  \u001b[0;32mas\u001b[0m \u001b[0mfa\u001b[0m\u001b[0;34m:\u001b[0m\u001b[0;34m\u001b[0m\u001b[0;34m\u001b[0m\u001b[0m\n\u001b[1;32m      2\u001b[0m     \u001b[0mfa\u001b[0m\u001b[0;34m.\u001b[0m\u001b[0mwrite\u001b[0m\u001b[0;34m(\u001b[0m\u001b[0;34m\". Writing for Second time\"\u001b[0m\u001b[0;34m)\u001b[0m\u001b[0;34m\u001b[0m\u001b[0;34m\u001b[0m\u001b[0m\n\u001b[0;32m----> 3\u001b[0;31m     \u001b[0mfa\u001b[0m\u001b[0;34m.\u001b[0m\u001b[0mread\u001b[0m\u001b[0;34m(\u001b[0m\u001b[0;34m)\u001b[0m\u001b[0;34m\u001b[0m\u001b[0;34m\u001b[0m\u001b[0m\n\u001b[0m",
            "\u001b[0;31mUnsupportedOperation\u001b[0m: not readable"
          ]
        }
      ]
    },
    {
      "cell_type": "markdown",
      "source": [
        "\n",
        "- **Append and Read (‘a+’)** : \n",
        "    - Open the file for reading and writing. \n",
        "    - The file is created if it does not exist. \n",
        "    - The handle is positioned at the end of the file. \n",
        "    - The data being written will be inserted at the end, after the existing data."
      ],
      "metadata": {
        "id": "q2xFvS-_WsXm"
      }
    },
    {
      "cell_type": "code",
      "source": [
        "with open(\"filewithAppendPlus.text\", 'a+')  as fa:\n",
        "    fa.write(\"Writing for first time\")"
      ],
      "metadata": {
        "id": "zhDtdGHZWQ9A"
      },
      "execution_count": 72,
      "outputs": []
    },
    {
      "cell_type": "code",
      "source": [
        "with open(\"filewithAppendPlus.text\", 'a+')  as fa:\n",
        "    fa.write(\"Writing for second time with a+ mode\")"
      ],
      "metadata": {
        "id": "L51SgBgmW0C6"
      },
      "execution_count": 73,
      "outputs": []
    },
    {
      "cell_type": "code",
      "source": [
        "with open(\"filewithAppendPlus.text\", 'a+')  as fa:\n",
        "    print(fa.read())\n",
        "    fa.write(\"Writing for second time with a+ mode\")\n"
      ],
      "metadata": {
        "colab": {
          "base_uri": "https://localhost:8080/"
        },
        "id": "ISoZs0bbW8tx",
        "outputId": "dc51e7b0-a158-4bcf-dea2-6bf66f491834"
      },
      "execution_count": 75,
      "outputs": [
        {
          "output_type": "stream",
          "name": "stdout",
          "text": [
            "\n"
          ]
        }
      ]
    },
    {
      "cell_type": "code",
      "source": [
        "with open(\"filewithAppendPlus.text\", 'a+')  as fa:\n",
        "    fa.seek(0)\n",
        "    #print(fa.read())\n",
        "    fa.write(\"Trying to overwrite\")"
      ],
      "metadata": {
        "id": "7tBXVsI5XToz"
      },
      "execution_count": 78,
      "outputs": []
    },
    {
      "cell_type": "code",
      "source": [],
      "metadata": {
        "id": "2uTiTiSCXhPS"
      },
      "execution_count": null,
      "outputs": []
    },
    {
      "cell_type": "markdown",
      "source": [
        "RB: ReadBinary: reads file in binary mode"
      ],
      "metadata": {
        "id": "CuKhZW7CZUsJ"
      }
    },
    {
      "cell_type": "code",
      "source": [
        "with open(\"Unknown.jpg\", 'rb')  as fa:\n",
        "    print(fa.read())\n"
      ],
      "metadata": {
        "colab": {
          "base_uri": "https://localhost:8080/"
        },
        "id": "9WORkHBuZU8p",
        "outputId": "ab83b38b-c90c-46be-c09d-1163c79cff41"
      },
      "execution_count": 81,
      "outputs": [
        {
          "output_type": "stream",
          "name": "stdout",
          "text": [
            "b'\\xff\\xd8\\xff\\xe0\\x00\\x10JFIF\\x00\\x01\\x01\\x00\\x00\\x01\\x00\\x01\\x00\\x00\\xff\\xdb\\x00\\x84\\x00\\n\\x07\\x08\\x16\\x15\\x15\\x18\\x15\\x15\\x16\\x19\\x19\\x18\\x18\\x18\\x1a\\x18\\x18\\x18\\x1a\\x1a\\x1a\\x1a\\x1c\\x18\\x1c\\x19\\x19\\x19\\x1a\\x18\\x1c\\x18\\x1a\\x1c!.%\\x1c\\x1e+!\\x18\\x18&8&+/1555\\x1a$;@;4?.451\\x01\\x0c\\x0c\\x0c\\x10\\x0f\\x10\\x1e\\x12\\x12\\x1e4,$+41444444441444444444444444444444444444444444444444\\xff\\xc0\\x00\\x11\\x08\\x00\\xb1\\x01\\x1d\\x03\\x01\"\\x00\\x02\\x11\\x01\\x03\\x11\\x01\\xff\\xc4\\x00\\x1b\\x00\\x00\\x02\\x03\\x01\\x01\\x01\\x00\\x00\\x00\\x00\\x00\\x00\\x00\\x00\\x00\\x00\\x00\\x04\\x01\\x02\\x03\\x05\\x06\\x07\\xff\\xc4\\x008\\x10\\x00\\x01\\x03\\x02\\x03\\x03\\t\\x08\\x02\\x02\\x03\\x01\\x00\\x00\\x00\\x00\\x01\\x00\\x02\\x11\\x03!\\x04\\x121AQa\\x05\"Rq\\x81\\x91\\xa1\\xd1\\xf0\\x06\\x13\\x142\\x92\\xb1\\xc1\\xe1BSb\\xf1\\x15\\xb2\\xd2r\\xff\\xc4\\x00\\x19\\x01\\x00\\x03\\x01\\x01\\x01\\x00\\x00\\x00\\x00\\x00\\x00\\x00\\x00\\x00\\x00\\x00\\x00\\x01\\x02\\x03\\x04\\x05\\xff\\xc4\\x00,\\x11\\x00\\x02\\x02\\x01\\x03\\x04\\x01\\x02\\x06\\x03\\x01\\x00\\x00\\x00\\x00\\x00\\x00\\x01\\x02\\x11\\x03\\x12!1\\x04\\x13AQa\\x14\"\\x052Rq\\x91\\xa1#B\\xb1\\x15\\xff\\xda\\x00\\x0c\\x03\\x01\\x00\\x02\\x11\\x03\\x11\\x00?\\x00\\xf9;\\x1eB\\x93u\\xd0\\xc4a\\x1c5g\\x1blI\\x11\\x97P\\xb4\\x8bL\\xd6X\\xe5\\x17L\\xbd\\x18\\x82\\xd3\\xb7E\\x0c\\xa5&\\x14\\xb4\\xce\\x8a\\xcd$\\xe9c\\xb7\\x8acT\\xe8\\xd5\\x94\\x8bnLO\\x11\\xf6R\\xe6v\\xf8*\\x83?6\\xbcu\\xefP\\xf6\\x90lT\\xd35\\xd9-\\x91\\x0e\\xc3\\x83\\xb0\\xf6lK>\\x91\\t\\xdau\\xa3\\xe6)\\x87\\x80\\xe1g\\x0e\\xa3\\x1f}\\xa8\\xb6\\xb9\\x17n2V\\x8eS\\\\v\\xa9kv\\xa6+Q3\\xb3\\xacB\\xcd\\xa4\\x8b\\x15f\\x0e-=\\xcd\\x1f\\x0e\\x83\\x1c\\n\\xd2\\x9e\\x1eo \\r\\xe5e=JX\\x0c\\xc8\\x945\\xe8\\xd15{\\xa3G\\x89\\x04\\r\\x9e)\\'\\x85\\xd1c\\x01\\xd0\\xdf\\xa9.\\xfa\\x1b\\xf7\\xa4\\x82qmX\\xb53pS\\x8f\\xa2`;aX\\x06AO\\xd2\\xae\\xdc\\xa5\\x8e\\xd0\\xdd\\xa7q\\xb4\\x8e\\xa2\\x02oac\\x8av\\xa4(j\\xc0\\x8d\\xaa\\x87z\\x9a\\x8d\\x97w\\xadYO\\x9b\\xdb\\t\\x8a\\x9bto\\x87\\x12\\x08\\xe1\\xfbK\\xd4\\xa5\\x13\\xbd3A\\x86@\\x1a\\x82\\xafQ\\xb725\\x16=\\x8axf\\xee\\x1a\\xa2&\\xf0\\x0bE\\xef\\x0b\\x16\\xad^\\xdd\\xcb!\\xaa\\xa4`\\xf96-\\x90\\xb0~\\x89\\x8a;\\x95\\x1c\\xc4\\x04\\x95\\xab\\x16\\x85-*\\\\\\xd5j\"\\xe9\\xa3\\x1a\\xdc\\xb3\\xd8\\xb3Z\\xd4+8L\\xa7\\xc9W\\x85R,\\xae\\xf0\\xaaB\\teX\\xd9[\\x1b\\x054\\xd8v\\x0fE\\x0fdj\\x80\\xa7\\xc9\\x8eY],+rA\\xd2\\x1a|e$\\xc3$l\\xba\\xdd\\xf5\\xe5\\xa7\\xae\\x07\\x1e>\\xb7\\xa9h\\xd3\\x1bQve\\x89\\xa9#\\xac\\xcc%\\xc3ej\\xe6\\xd9P\\xbe\\x10&\\xed\\xdb7\\xa5\\x8a\\xeb\\xefV\\xac\\xf0~R8\\x84\\xa1i\\nJTWrUL\\x98#N\\xe5f;|\\xf6\\x1fWP\\xc7\\x91\\xbd0\\xd1\\xba|\\x10(\\xab\\xe0\\xcc\\x19:\\x9e\\xd5\\xa9a\\xdb2\\xab\\xee\\xd6\\x8d|\\xea\\x83D\\xbd\\x85&l(}\\x08\\xd2\\xebp\\xc5z\\x8c\\xb2Vk\\xa3aP\\xf8\\xb1\\x05g\\x13\\xb520\\xf2$k\\xb9U\\xb4\\x88)\\xda!\\xc2F%\\x857\\x84\\xc3N\\xabK).\\x90\\x00\\xd4\"\\xec\\xb8\\xc1\\'l_\\x13N&6[\\xadd\\xc7E\\xcd\\xf7\\xcf\\xdcq]&a\\xf3\\t\\xf0V\\xab\\x86hl\\xec\\xda\\x95\\x97\\xdao\\xeeG5\\xed\\x98\\x80{VNaM1\\xa5\\xb2\\xdb\\xc4\\xa6)\\xe1\\xc1\\xbavg\\xa1\\xc8\\xc3\\x0b\\x85\\x9b\\x9f\\x1f\\xc2*\\x8c\\x8e An\\xa28\\xa6\\xf1/\\xc9f\\xed\\x128,p\\xcc\\xcf\\r\\xd3`\\xfd\\xf8\\xa1{-\\xc5/\\xb5r[\\x00\\xeexti\\xb2H\\x0blQ\\x04\\xf3f&gk\\x8e\\xee\\xa58\\xca9\\x0bX>a\\xcewu\\x82\\xb5*@\\xb7U\\x0e\\xb97\\x8cZO\\x19\\xcd};\\xc8\\xd1eV\\x9d\\xe7bo\\x12\\xc80\\x15\\xe90\\x16:w\\xcf\\x80U{\\x1c\\xef\\x1d\\xc9\\xc4A\\x96\\xba\\xd1\\x82e\\\\\\xd1#e\\x95\\xa8\\xc2\\xa6B\\x8bN\\x98\\x95V\\xaa\\xd1\\x0b\\\\HY\\xb6\\xc14a5R(\\xf2\\xae\\xd6\\xdaVq+g\\xe9\\t\\x92\\xb7\\xb6dU@V!D&I\\xbb+e\\xd3Y\\xff\\x00K\\x17:U\\x15\\xd2\\x1d\\xb7\\xb1p\\xd8\\x04\\x9e\\x1ej\\xb4\\x9aO\\xad\\x15\\xdf\\xa1\\xec\\x8e\\xe5,f\\xa3K\\x0f\\x14\\x14\\xa3l\\x1c\\xd9\\xd3\\xf4\\xaa\\xeaM\\xde\\xac\\xd6\\xc8\\x81\\xb1/P]C-\\xaaWE\\x81\\x07T1\\xb1\\xae\\x8a\\x8dr\\xd5\\xa52S\\xb2\\xd5\\x19\\x07Px\\x85\\xad\\x07\\x81\\xda\\xb3{\\xc9\\xd4\\xcfZ\\xa0$\\x14\\x17j.\\xd0\\xcd\\x8a\\x9fv\\xb2k\\x93\\x93-\\x1aL^\\'\\xc4$\\xf65\\x8dK\\x90/\\xb0\\x1e\\xbfj\\x86\\xea\\xaf*(\\xbb\\x9c?)P\\xdc\\xb7\\xa6kI\\x97\\x89M\\xb2\\x9c\\xdb\\xb0%\\xdcoo]\\xa8mC\\xad\\xca\\x96m\\x06\\x93\\xa2\\xf5\\xe9\\xc1ZPm\\xb7+\\x13\\x9b]U\\xdbL\\x88J\\xcd\\x14>\\xeb\\\\\\x19\\xb2\\xa1i\\x1e\\x8a\\xab\\x9eI\\x8d\\x87E\\xa9\\x00\\xda\\x14\\xd5al[\\xb0z\\xb2\\xab\\x07\\x17_\\x05\\xb0\\xd8\\\\\\xce\\x01\\xdd\\xe5eX\\xf3\\xcd\\xa0\\x08\\x00p\\xd1n\\xca\\xd22\\xcc\\x1d\\x8a\\xf5Y\\x9b\\x9d\\xbc\\x00T\\xdb\\xbd\\xcd4FQ\\xfbD*S\\xdb\\x13\\xc5W\\x0c\\xfc\\xbd~I\\xe6\\xd1\\xe6\\x91u\\x830\\xc2f\\x7f*\\x94\\x8c\\xa5\\x89\\xa6\\x9a\\x19\\xccj4<\\x8b\\x8b\\x15Z\\x14\\x88$\\x02\\xaf\\x85xa;\\xb7\\x19\\xbe\\xf8M\\xb9\\xa0\\xe5-\\xd0\\xeav\\xa9n\\xb6:#\\x14\\xd5\\xbe|\\x9c\\xda\\x98bd\\x9dw,\\x98\\xdc\\xae\\x87\\xd8\\x14\\xc5!\\x99\\xd0u\\x1a\\xfe\\x96\\xf8\\x9c3I\\x07\\x86\\x9bJw[3-\\x1a\\xb7\\x89\\xcd\\xc4\\x82,.\\x06\\x9cB\\xc9\\xcc\\xd2\\x16\\xd8\\x96\\x16\\xdbv\\x9dH\\x9elw~\\x95.\\x0c%\\x1b\\x93\\xb1z\\xb4e)U\\x89\\xf7LA\\xd1,\\xe6^7\\x95Q9\\xf2E\\x11K\\x0cr\\x17\\xee0\\xb2!w\\xf1\\x18l\\x94\\xb2\\xf4\\xa0\\xf8.!j#-V^l=\\xaaO\\x9a2\\r\\x9d\\x15\\x0bS\\x98f\\\\\\xc8\\xb0\\x17\\xfc%\\xaa\\x19*\\xafs\\x99\\xc7k0!X5]\\xac\\x95\\xa3\\xa12\\x12*\\xd12z\\x96\\xd4\\x99\\x9ax\\x9b\\xf5\\x05\\x19\\'\\x9a\\xdd~\\xdd\\xabzR\\xd6F\\xb0vAQ.\\r\\xf1\\xad\\xf7\\xe0\\xc1\\xaf\\xcbm\\xe0\\xc8\\xec\\xb2J\\xae\\xabZ\\x8f+\\x02T\\xa4NI\\xf8D\\xc2\\xbbP\\xd7\\xf0V\\x10t\\xb2\\xa2\\x10 +{\\xb3\\xaa\\x1bm\\x8a\\x87E\\x834\\xe2\\x98\\xa7H\\xc7\\xe7\\xc9V\\x83\\xc0\\xb3\\x84\\x83\\xe1\\xb8\\xad\\x1c\\xc8\\x81\\xae\\xe3\\xf9\\xe0\\x936\\x82IYZ\\xad \\\\,:\\x97a\\xa1\\xa0\\x00\\xf0\\\\\\xd2\\x00\\x17m\\x8c_\\xb3T\\x8d\\\\5\\xb33N\\xb0~\\xddJS.x\\xfc\\xa2\\x8cv\\x89\\xbb\\x1d\\x12\\x01\\xfb!kL\\xde\\xdeI\\xb8\\x84\\'[\\x0e\\x1a\\x9f\\xb9\\xf2]\\x0c+\\xf34H\\xb8\\xd0\\xef\\xed\\x0b\\x97E\\xdc\\xeb\\xdc\\'\\x98@\\xd0\\t\\xd8F\\xed\\xbe\\x8a\\xceQ;p\\xcf{\\xb3\\'<\\xb1\\xf7\\x16\\x9b\\x8d\\xc9\\xe6\\x06\\xb9\\xc0f\\x00D_^\\xed\\xa9\\x1cS\\xee\\x0e\\xdf\\xba\\x9c1i2\\xe2A\\x1a\\x045hq\\x9dI\\xaf\\x164\\xec,\\\\N\\xfb\\x1d\\xde\\n\\x19\\x88\\r\\x81\\xf5\\r\\x91\\xdc\\xac\\xfcP\\x16\\x1b~\\xfb\\x8a\\xa8\\xc3\\xe7\\x12\\x08\\x96\\xea-\\xbe\\xe66\\xa9\\xf1\\xb9\\xb3j\\xff\\x00\\xc7\\xc9\\xbe!\\x82\\x0b\\xa7P#\\xaf\\x82[\\x01\\x0e&>a\\xb3\\xee\\x9b\\xa2\\xcc\\xa3-\\x88 \\xee\\x11\\xd7\\x066\\xa4h\\x0c\\xaf#C\\xbfDE\\xdah2Zi\\xd7\\xeeo[\\n\\\\\\\\@\\xb8\\xdb\\xb9\\x18v\\x16\\xd9\\xdf) j\\x08\\xf1\\x017\\x86\\xa7P\\x93?)\\x06>\\xebw\\xb1\\xa5\\xb9\\x8d\\xbe\\xd3\\xc24P\\xe5\\xe0\\xd5aMj\\xe1\\x9c*\\xed\\xca\\xf0f=~\\xd3t\\xb1D\\xba2\\xe6\\x91\\x04\\xc6\\x9f\\xa5\\x1c\\xa3\\x87&\\xe0i\\xebT\\xce\\x02\\x93\\xc3\\x08\\xcc\\xd3\\xa6\\x85\\xa7\\xecJ\\xd5\\xb4\\xe3g,#%\\x95\\xc5~\\xe73\\x18\\xcd\\x83\\xd0K>\\xa5\\xa3r\\xe9c)G\\x03\\xb7\\xa8\\xaen^\\xb4E\\xece\\x9a\\rI\\xd1\\x10H\\x17\\xfc,tsx\\x10\\xbaXv\\xff\\x00\\x88\\xedKTg8\\x98\\xdc\\xad;2\\x966\\xa9\\x9d\\x9eY\\xf9\\x04n\\x1fe\\xe7r\\xae\\xf65\\xe5\\xf4\\xdax\\x0f\\xca\\xe7\\x86@\\xd1e\\x8bdt\\xf5\\xab\\\\\\xd3^\\x90\\xae-\\xe1\\xbc\\xc6\\x9d\\xb2z\\xd2$-\\xeb0\\xca\\xad6.\\x88\\xec\\x8f.v\\xe5@\\xcavUs\\x16\\xee\\x10\\x15K\\xa1K\\x91]\\xb5FT\\x98A\\x04\\xe8Ly\\xa9\\xc4\\xd5\\x9d:\\x95\\x1e\\xf9T!\\t_\"r\\xd2\\xb4\\xa3\\x17*\\x96\\xad\\\\\\xd5D\\xd9\\x83A\\x95H\\x0bHD&^\\x92\\xa0\\x95\\xaf\\xbc\\x95\\\\\\xaar\\xa6\\n\\xd1x\\x07E\\xb3]\\x16\\xd3\\xf3\\xd8\\x97\\rZ\\tE\\x16\\x99\\xa3\\x81\\x8b\\x1b\\r\\x88\\xa5\\x8a\"\\xc7I\\x9e\\xa5U\\\\\\x88\\xa4\\xc7\\xa9\\xa7hj\\xbcj6\\xed\\xd3\\xb5,\\xf6m\\xd5X)j\\x14h\\x1c\\xac\\x8a.!6\\xdcP\\xedK8*\\x86\\x148\\xa68\\xcaQ\\xe0}\\xa70\\x91\\xdc\\xa8\\xe7o\\xff\\x00]If\\x92\\x16\\xf4\\xdef\\xf7KM\\x1aw,\\xc6\\xa3\\x881)\\xfc\\x060\\xb4\\xdbX:z\\xd5-]\\x92Vm\\xe6\\x9b\\x10G\\t\\xfc\\x80\\x87\\x14\\xd0\\xa3\\x92P\\x95\\xa6zL>%\\x8f9d\\x07\\x1d\"c\\xaa\\x0e\\x92\\xb2\\xc5`!\\xc1\\xc4\\xf3N\\xeb\\x9e\\xc0\\x90\\xc1\\xb8\\x11\\x11}\\x87\\xc9u\\xdf\\x8a\\rfCy\\x99$\\xde8\\x11\\xdc\\xb0\\x94\\\\e\\xb1\\xeaG<rC\\xee\\x15\\xa9\\x88kZ2\\x92c\\xf8\\x92{\\xe5M\\x17\\xb2\\xa0\\xbb\\x88&l\\'q\\xb8\\x85\\xcc\\xc4\\x90M\\x96\\ryi\\x90HZv\\xd3G3\\xea\\xe4\\xa5\\xba\\xd8\\xeaV\\xc4\\x11\\xccy>[/\\xc2\\x13\\xb8\\x1c3\\\\\\xc9c\\xf9\\xdc-\\xb9pkTs\\xb9\\xce$\\x93\\xa9:\\xa69?\\x10\\xf0a\\xb2=mJP\\xfbv\\x14:\\x84\\xe7mZ\\xfe\\xce\\xedL,\\xb6]\\xad\\xc4\\xda\\xe4$\\x7f\\xe3NY`\\xcd}\\xfeJ\\xef\\xc7di\\x13$\\xef\\xb0\\xf3>\\x0b\\x1c?,d6\\xea\\xd2\\xdd\\xd2\\'o\\x9a\\xc5B\\\\\\xa3\\xb2Y\\xf16\\x93\\x12|\\x8b\\x10A\\x08i\\x9bn\\xda\\xbd\\x05ZM\\xaa\\'$8\\xed\\x13\\x04.c\\xf0\\x85\\xbdCn\\xcb\\xf1\\n\\x94\\x93U\\xe4\\x97\\x85\\xa7\\xa9;D5\\xf9\\x98\\x1b\\x1b|\\x14=\\x8d2\\xd9\\xd0[qL>\\x8eF\\x12LE\\x81\\xfe&x\\xcaF\\x9b\\x0c\\xf0\\x031<=\\x10\\x94j\\x9d\\x0f\"v\\x93\\\\\\xd0\\x85q)g\\x18)\\xaa\\x86L\\xec\\x9d6\\xa5*\\x95\\xa6\\xad\\x8f:p\\xa7d9\\xea\\r\\xd4\\xd3\\xa6\\\\V\\x8f\\xa5\\x1a\\xa9\\xd5\\xb8\\xf4I\\xab\\x17\\xca\\xa1\\xcbg1FHWfN\\x02\\xe4*\\xe5[\\x12\\xaa\\x93\\x93#B6\\xf7H\\xf7k\\xa2\\xda*\\xdf\\x0e\\x9e\\xa3^\\xd1\\xcc\\x14\\x95\\xbd\\xd2\\xe9\\x0c2>\\x19=h;L\\xe7\\nj\\xc2\\x9a\\x7f\\xe1\\xd4\\xfc:z\\xc3\\xb2\\xc4\\x855\"\\x9axPZ6\\x825\\x82\\xc4\\xcep\\xa4\\xa4Q]!\\x86S\\xf0\\xc8\\xee\\x0f\\xb2\\xceo\\xb9A\\xa4\\xba\\x83\\x0c\\xa9^\\x98h.:\\x04k\\x07\\x89\\xa4s\\xbd\\xd2\\xcd\\xcfkL\\x17\\x00wJG\\x15\\xca\\xaeu\\x9a o\\xd4\\xf6\\x1e\\xe5\\xce\\xeb\\xf5\\xe4\\x93\\x99\\xcf)+\\xd8\\xee;\\x94\\x18&L\\x9e\\x03^\\xd4\\x8dNR\\'\\xe5h\\x03\\x8d\\xcaD\\xa0\\tY\\xb9\\xb1[\\x90\\xd39N\\xa3n\\xd2\\x07\\x18\\x1f\\x95f\\xf2\\x9dY\\'4\\xc8\\x8b\\x80Gq\\xdb\\xc5,\\xcas\\xc1XSP\\xe6\\xcaJ^\\xcb\\x0cuN\\x97x\\x1eJ\\xe3\\x94_3n\\xa8Y{\\xa5L\\x97\\x89\\xedMM\\x92\\xe2\\xc7\\xa8\\xf2\\x9e\\xc7\\x8e\\xd1\\xe4\\x9f\\xc3\\xe3\\xdal\\x0cu\\xd9p\\x0c)\\x9fZ\\xf8*SbR\\x94Y\\xe9\\x98\\xe0\\xfb\\x83\\x9b\\xc5_\\xdc\\x1d\\xcb\\xcda\\xf1\\x0fa\\x0ei\\x83\\xbe5\\xe0f\\xdbW\\xa0\\xe4\\xaeT\\xf7\\xae\\xca\\xf0\\x03\\xb7\\xccN\\xeb\\x15Z\\xd9\\xbe9\\xc6N\\xa5\\xc9\\xd2\\xc1b\\xdc\\xcbj7\\x1d\\xdd{\\xd7j\\x93\\xd8\\xf3\\x98F`.t6\\xdf<.\\xb9n\\xc3!\\x80\\x8d\\xfe=\\x9a,\\xa4\\x93\\xdd\\x1e\\x9e,\\xd2\\xc7\\xb3\\xdd\\x1b\\xf2\\xc7\\xc8\"$k\\xa8\\x9d\\xd6\\xde\\xb9\\xd5\\x06Zc\\xfc\\x84\\x92A\\xfc\\x05\\xdc\\xa2\\xe0Fg\\x192LZ}h\\xb1\\xc7\\xb1\\x84H\\x83\\x17\\x1df\\xf1\\xde\\xb1NQ\\xda\\xbc\\x9d\\x8fD\\xed\\xda\\xba<\\xbb\\xf2\\xcd\\x88\\xed\\xd7\\xb5`ZINc\\xa0Z/\\xe6\\xb0e\\x17\\xeb\\x107\\xfa\\xd5j\\xa4y\\xd3\\xc7\\xf7W\\xfc7\\xa42\\t\\xda\\xb2\\x14\\x9c\\xe3*\\xf4\\xc1\\x99\\'\\xd7\\xdf\\xc1ld\\xef\\x8e\\x03\\xf2ROr\\xdcn)>\\x05\\xdfH7jV\\xa3\\xc2i\\xf4\\xcf\\xab\\xac\\xfd\\xcd\\xefn\\xdb\\xad\\x139\\xe7\\x16\\xf6HT\\x03\\xb9\\x19Jl\\xc0\\xd0,\\\\\\xfe\\t\\xd9\\x8b\\x85y;\\xe2\\x92\\xbbi&2\\xa3*\\xcbQ\\xdc\\xa0\\x8cE%>\\xe9l\\x1a\\xae\\x1a\\x8dE\\xf6\\xd0\\xb8\\xa4\\xae(\\xf0[\\x86\\xab\\x00\\x96\\xa1\\xa8!\\x7fr\\xae\\xda)\\x96\\xb5h\\xc6)r)A\\x0b\\xb6\\x8a\\xd0a\\xd3-b\\xdd\\xadR\\xe6^\\x94\"0\\xcb\\x89\\xedS\\xb2Q\\x8eo8\\xc5\\xcc\\x1d$\\xe5\\x1bO\\x9a\\xf5D\\xc2\\xf2\\xbc\\xbd\\xc8\\x0f\\xaf\\\\=\\xa6Z[\\x0e\\x92\\x00n]\\x00\\xb4\\xc1\\xd7C\\xaaq\\x96\\xfb\\x9c\\xddLZ\\x83QV\\xd9\\xe3\\xf0\\xf8b\\xeb\\xc8\\x8e& \\xf5\\xef\\xb2\\xbd\\x163ipt\\xf5i&\\t\\x9b\\x1d;\\x8ak\\x94\\xf0>\\xe5\\xe2\\x9b\\x8bM\\x9aHi. \\x19\\xb0\\xb0\\xbe\\xd5J\\xcfk\\x80`cZs\\tqy\\xb0\\x8b\\x07h\\x06\\x9bn2\\x9e\\xcd\\xec\\xf1\\xb4\\xb4\\xe9\\xf2\\x07\\n\\xd7\\x06\\x86\\x1eq\\x17m\\xc9\\xb4\\x93\\xb2\\xc0\\r\\xfc:\\xd4;\\x04f\\x00\\x92$\\x96\\x8etF\\xb7\\x1b\\x15\\xa9\\x12\\xdf\\x92A\\xfe@\\x16\\x96\\x90\\xdb\\x82\\xd7I\\xbe\\xb6\\x93c\\xaa\\xe8a\\xf1@\\xfc\\xc1\\xc1\\xc22\\x00\\x04\\x1b:\\xf7\\x07\\x85\\xba\\xd4I\\x9bc\\x85\\x89a\\xb0\\x85\\xd1\\x04_f\\xe2t\\xf0Oa\\xf9?{I0l-\\xb0^\\xfb\\']\\xdfn\\x87\\'\\xe1K\\xe2\\xc2\\x1a\\xd6\\xeag\\xf8\\x98\\x1a\\x8du\\x8dg\\xc7\\xba\\xceO\\x7f\\xce\\xc1\\x935\\x80l\\x88\\x10#\\xaf\\xe5\\x9e\\xb2\\xb9\\xa5\\x96\\x8fO\\x1fL\\x9a\\xdc\\xf1\\x8f\\xe4\\xf3r\\x01\\x81rcf\\xd8\\x1b@\\xdf\\xd6\\x93~\\x14\\x92F\\xa6\\t<\\x08\\xd9:l^\\xdb\\x15\\xc9d\\x0c\\x844\\x13$8\\xda2\\x88\\x80t\\xd8\\x0c\\xf0#m\\xb8U\\xc8c\\xb9\\xe2\\xd2\\xf6\\xbb!#kdjcb\\xb8d\\xb3,\\xd8)Z8\\xed\\xc0sf\\xd1\\x12H7\\xd2H\\x83\\xf8\\x9d\\x8b*\\xade\\xa3q\\x923l6\\x91\\xa91xObqNt\\xb5\\x8d-\\x12r\\x13g\\x10\\t<\\xf8\\xb1\\xd9m\\xfb\\xd7=\\xeclf\\x04Z\\xe71\\x01\\xce?\\xca\\x06\\xe5\\xbag\\x9f(\\xd1V\\xd3k\\x89\\x8eh\\x82y\\xc6\\xc0\\xde\\xd25:E\\x94a\\x9ci\\xd4i\\x90\\x0bN\\xdd#C16\\xd5kZ\\xa3\\\\\\xd2C\\x1a\\xdd#,\\xdb~`O\\x8clX1\\x8ey\\rkIq08\\x93\\xa0\\x1b\\x95\\x19\\xf9\\xd8\\xfa.\\x1e\\x9ep\\x0e\\xcdg\\xf6\\xb6\\x14\\xe2\\xc0,y\\x07\\x00h\\xd1k\\\\I?1\\x16\\xb17 F\\xc5\\xd44\\xc5\\x8a\\xc1\\xcbs\\xdbI\\xb8\\xa6\\xd51Z\\\\\\x9e\\xf7\\\\X-\\xbf\\xe3\\xda5t\\x9e\\xb0\\xba\\x82\\xabK`F\\x9bw\\xaeUj\\x0fvnp\\xec2;V3\\xcd#\\xab\\x06\\x1cov\\xce~\\'\\x07Nf.4\\x0b\\x9f\\x89\\x12b\\x05\\xb6n\\xeb?\\x85\\xd68 \\xdd]<`\\xf9B]\\xd8V\\r\\x1c\\xde\\xe3\\xf8Q\\x19\\xbb\\xdc\\xee\\x92\\x83T\\xa8\\xe2\\xb9\\x84\\x98\\x1d\\xfb{7-\\x19E\\xfa\\x01\\xda\\xba\\x81\\x8c\\x16\\xd7\\xa8\\x1f\\xf6\\xb5c\\xa3\\xe5a\\xee\\x85\\xae\\xb3\\x91\\xe3\\xdfd\\xceH\\xe4\\xe7\\xbb\\x7f\\xae+A\\xc8\\xc7h\\xef]\\x86\\xd7#g\\x8a\\xcd\\xf8\\x97\\x9d\\x07p?\\x94w}\\x12\\xfak\\xdd\\xa3\\x93S\\x92\\x80\\xd6;\\xbc\\xfc\\x92\\xae\\xc24n\\xf0]*\\xe2\\xa1\\xfe\\'\\xc1s\\xea\\xd0y;\\xbbB\\xd23\\xf99r\\xe0i\\xec\\x8e\\xb8r\\x99^\\x0f\\xe2\\xaa\\x7fc\\xfe\\xa7y\\xa9\\xf8\\xba\\x9f\\xd8\\xff\\x00\\xa9\\xdek~\\xd7\\xc9\\xc2\\xba\\xdf\\x83\\xde\\x08V\\x95\\xe0\\xc6.\\xa7\\xf6?\\xeaw\\x9a\\xb7\\xc4\\xbf\\xa6\\xff\\x00\\xad\\xdeiv\\xfeJ\\xfa\\xdf\\x83\\xdd\\x82\\xac\\x1e\\x17\\x83\\x18\\xa7\\xf4\\xdf\\xf5\\xbb\\xcdH\\xc4\\xbf\\xa6\\xff\\x00\\xa9\\xdeh\\xedX\\xfe\\xb7\\xe0\\xf7\\xec+v/\\x9e\\x0cC\\xfao\\xfa\\x9d\\xe6\\xac1\\x0f\\xe9\\xbf\\xeaw\\x9a]\\x87\\xec\\xa5\\xd6\\xfc\\x1fHcV\\xc1\\x81|\\xd1\\xb5\\xdf\\xd3\\x7f\\xd4|\\xd6\\x8d\\xaa\\xfe\\x9b\\xbe\\xa3\\xe6\\x93\\xe9\\x9f\\xb2\\x97V\\x9f\\x8f\\xec\\xfa\\rMP\\xc6\\xaf\\x06\\xc7\\xbf\\xa4\\xee\\xf3\\xe6\\x9aa\\x7fH\\xf7\\x94\\xbb\\x0f\\xd9\\xacs\\xa9x=F3\\x91)T$\\xb9\\x8d\\xccD\\x17\\x01\\x0e\\xd25\\x1a\\xdbzH{7H\\x06\\xb7+\\xb9\\xa2\\xc712b$\\x8d\\t\\xf5\\xa5\\x971\\x8c\\x7fH\\xf7\\xad[M\\xfd/\\x14(Iy\\x1e\\x88I\\xdb\\x88\\xf3\\xbd\\x9a`\\xa6\\xf6\\xb0\\xb9\\xb9\\x84\\x90\\x00t\\x96\\xdcX\\xeb\\xa0\\x1a\\x89\\xbf\\x08\\xe4\\xd4\\xf6r\\xb3\\x18^r\\x96\\tq\\x1f)\\x02\\x05\\xf2\\xe8:\\xa7\\xf8\\xa7\\xe9\\xb5\\xdb\\xcfzf\\x99;J\\x99F^\\xca\\x8fM\\x1b\\xb5\\xb0r\\'%\\xd6\\x06@ \\x81:\\x10`\\x8d4\\xb4\\xdc^\\xd6+\\xe9>\\xcb:\\x90d8\\x00\\xe0\\xd8\\xe7\\x01a\\xb7b\\xf1xZ\\x87yJ\\xfbM\\xca\\x8f\\xa6\\xday\\\\A%\\xc2o1o5\\xc9(\\xb5$\\xd1y\\xf1j\\xc7W\\xb1\\xdc\\xe5\\xfc#\\xaa\\xd4\"\\x88-\\x10\\xe1\\x9a\\x0eX\\x9b\\x89\\x02\\xfb,\\xbcU~@\\xac\\xf7\\xf3ZM\\xe0\\x97\\x02\\xc0\\xd8\\x81\\xab\\xa0\\x18\\xbf\\xcb?-\\xa6\\xcb\\xd8U\\xaeH\\x80l,;\\x176\\xb3\\xdd\\xac\\x9f\\x1f4cR\\xe4\\xd1`\\xfb\\x14[9\\x14=\\x8a$\\xcdZ\\xba\\xc4\\x864\\x13ans\\x85\\x80\\xdd\\x1b\\x07gD{\\x1f\\x87\\x822\\x98\">k\\xc4\\xccf\\xd7\\xc7\\xc2\\xcb7\\xd5\\x7fM\\xdd\\xe7\\xcd+S\\x13[\\xa6\\xff\\x00\\xa9\\xdf\\xfa]:f\\xfc\\x98\\xbe\\x96\\x11\\xf1gR\\x9f\\xb28yi\\xc89\\xa0\\xb4\\\\\\x91}\\xf7\\xb9\\xe3\\xfaO3\\x92)\\xd3\\xf9\\x18\\xc6\\xed\\xb0\\x03]t^U\\xd8\\x9a\\xdf\\xd8\\xff\\x00\\xad\\xdf\\xfaX?\\x17_\\xfb\\x1f\\xf5\\xbb\\xcd\\x1d\\x99\\xbf\"Z\"\\xedG\\xfa=\\x9f\\xb9\\n\\r0\\xbc%Lmo\\xec\\x7f\\xd6\\xef4\\xb3\\xf1\\xb5\\xbf\\xb1\\xff\\x00[\\xfc\\xd3]<\\xbd\\x93.\\xa2\\x0b\\xc3>\\x80\\xf7\\x06\\xedJ?\\x167\\xc7`^\\x11\\xf8\\xca\\xa7Z\\x95>\\xb7y\\xac\\x9d\\x89\\xa9\\xd3\\x7f\\xd4\\xef4K\\xa4\\x94\\xb9h!\\xd7\\xe3\\x87\\xfa\\xb3\\xdc\\xbf\\x11?\\xc8\\xf6\\x8f \\xb08\\x8f\\xf2\\xf0\\xfd\\xaf\\x12q5:o\\xfa\\x9d\\xe6\\xa8q\\x0f\\xe9\\xbf\\xea>j~\\x8eK\\xc9O\\xf1H~\\x97\\xfc\\x9e\\xe0b\\x87H\\x9e\\xd1\\xf8\\n\\xce\\xc5\\x01\\xea\\xfe+\\xc2\\x1cS\\xfao\\xfa\\x9d\\xe6\\xaaqO\\xe9\\xbf\\xeaw\\x9a>\\x95\\xfb\\x0f\\xfdX\\xd7\\xe5\\x7f\\xc9\\xee\\xce9Q\\xf8\\xfe>+\\xc2\\x9cC\\xfan\\xfa\\x8f\\x9a\\xa1\\xc4?\\xa6\\xef\\xa8\\xf9\\xa6\\xbaW\\xec\\x89~+\\x1f\\xd2\\xff\\x00\\x93\\xd9U\\xc6q\\x1d\\xe9Gb\\x87K\\xc1yo|\\xfe\\x9b\\xbb\\xca\\x8fx\\xee\\x93\\xbb\\xca\\xb5\\xd3\\xd7\\x93\\x19~%\\x17\\xe0\\xa8S\\n\\x14\\x82\\xba\\xcf%\\x12\\x02\\xb2\\xa8*AJ\\x87e\\xc2\\xb0\\x0b0\\xe5`S)3V\\x95f\\xac\\x83\\x95\\xc3\\xf8\\xa6Rf\\xed+FO\\xa0R\\xc1\\xdd^\\x0bV\\xbb\\x82\\nR\\x1bc\\xff\\x00\\xd4\\xa6\\xe8\\xbf\\xd4\\xcf\\xe5s\\xd9P\\xf1\\xf0[1\\xfd}\\xcdI\\xa3hd\\xa3\\xa6\\xc7\\xfa\\x80\\xb7k\\xfa\\xfb\\x8a\\xe6\\xb2\\xb0\\x03P\\x07\\xff\\x00\\x0e\\xee\\x96\\x90\\x16\\xac\\xad;\\xa7\\x83\\x8c\\xf6\\x02Vn\\'L2\\xbb:\"\\xa2\\xb3*\\xc1\\xd5s\\xaab\\x98\\xd1w\\x0bZ\\xf3\\xdd\\xa2\\xe6V\\xe5\\xb6\\x83\\r\\x13\\xc7b\\xcaK\\xd1\\xbf\\xd4F<\\xb3\\xdaP\\xae\\xb8^\\xd9W\\x96S\\xde\\x1c\\xef\\xfa\\xfe\\x82\\xe0\\xbf\\x97\\xea\\x7f\\x18\\x1e)<V=\\xef\\x80\\xe7f\\x83+%\\x07v\\xc8\\xcb\\xd6BPj7g\\xd3\\x99\\x89\\xcc&Gz\\xab\\xdd\\xea\\xcb\\xe7\\xb4yv\\xb3D\\x07\\x03\\xd67v\\xad\\xe9\\xfbKT\\x1et\\x11\\xb8H\\xf1B\\x83F\\xcb\\xae\\xc4\\xd6\\xf6{\\x1a\\xa5%R\\xa2\\xe4\\xd2\\xf6\\x91\\x8e\\xb3\\x86^&O\\xd9o\\xf1\\xacp\\xe6\\xb8w\\xc0\\xef\\xcc\\x16\\xb1^\\xc9\\x97Q\\t~V2\\xe7\\xfa\\xba\\xc6\\xa5N\\xbe\\xd0\\x97}h\\xff\\x00^ed\\xfa\\x9c\\x07\\x0b4~\\x16\\xca\\'4\\xb30\\xaa\\xfe#\\xd7j]\\xee>\\xa4\\xfe\\x14\\xbd\\xe7\\xd4B\\xc1\\xef\\xdf\\xf7Z$r\\xcavC\\x8f\\xad\\x16o*\\x0b\\xfa\\x96n\\x7f\\x1e\\xe4\\x19\\xb9\\x12U\\n\\x0b\\x95\\tA\\x16IP\\xa0\\xb9Fd\\x89\\xb2!A\\x08%A@\\x10\\xa1L\\xa1\\x04\\x11(P\\x14\\x84\\x01*\\xc0\\xaaJ\\xa9\\xac\\x02\\x1b\\xa1\\x9b\\x050\\x95us\\xb9Q\\xcf\\'j\\x8dH,s8\\x1a\\x94|Cw\\xa4P\\x8dL,{\\xe2\\x9a7\\xa3\\xe3\\x1b\\xd1)\\x14#S\\rL|r\\x84\\x7f\\x13\\xde\\xb5g*\\x7f\\x89\\xfa\\xbfK\\x96\\x80\\x96\\xa65&\\x8e\\xa9\\xe5c\\xd1\\xef>Aa_\\x94^\\xe1\\x1a\\r\\xc3\\x8aM\\t6\\xd9z\\xa4\\xfc\\x92\\xe7\\x93\\xa9%\\x12\\xa1\\t\\x13e\\x83\\x94\\xe7TP\\x95\\x0e\\xcd3\\xaa\\xe6P\\x84\\x05\\xb0R\\xd7\\x11paB\\x13\\x10\\xd39A\\xed\\x10\\x08\\x8e\\xa0\\xaf\\xff\\x00(\\xfd\\xc3\\xc7\\xcd$\\xaaS\\xb6\\x0eR\\xf6>yD\\x9f\\xe2;\\xca\\xa7\\xc7\\x7f\\x8aM\\t\\xdb\\x16\\xa69\\xf1\\x9f\\xe2\\xa3\\xe2\\xc6\\xe3\\xe0\\x94B51[\\x1b\\xf8\\x90w\\xab\\n\\x8d;RHOS\\x0b\\x1e\\x90\\xa0\\xa4\\xda\\xf24+F\\xd6;P\\xa4\\x82\\xcd\\x94\\x15V\\xd4\\x05ZU\\xa7b\\tQ(*\\x10\\x05\\rE\\x06\\xaa\\xcd\\x0b=L\\ts\\x89P\\x84)\\x00B\\x10\\x80\\x04!\\x08\\x00B\\x10\\x80\\x04!\\x08\\x02eJ\\xaa\\x10;,\\x85\\nPP\"P\\xa1*\\x02P\\xa1D\\xa6+%\\n\\x10\\x81Y$\\xa8B\\x10 B\\x10\\x80\\x04!\\x08\\x00B\\x10\\x80\\x04!\\x08\\x00R\\x1cw\\xa8B\\x00\\xb8\\xa8\\xa7\\xde,\\xd0\\x9e\\xa6\\x00\\x84! \\x04!\\x08\\x00B\\x10\\x80\\x04!\\x08\\x00B\\x10\\x80\\x04!\\x08\\x00B\\x10\\x80$)B\\x10R\\x05\\x08B\\x06AB\\x10\\x82X!\\x08@\\x81\\x08B\\x00\\x10\\x84 \\x01\\x08B\\x00\\x10\\x84 \\x01\\x08B\\x00\\x10\\x84 \\x01\\x08B\\x00\\xff\\xd9'\n"
          ]
        }
      ]
    },
    {
      "cell_type": "code",
      "source": [
        "with open(\"Unknown.jpg\", 'rb')  as fa:\n",
        "    #print(fa.read())\n",
        "\n",
        "    with open(\"Unknown_COPY.jpg\", 'wb') as f2:\n",
        "        f2.write(fa.read())"
      ],
      "metadata": {
        "id": "2qYdx-6sZatU"
      },
      "execution_count": 83,
      "outputs": []
    },
    {
      "cell_type": "markdown",
      "source": [
        "- Implement move functionality\n"
      ],
      "metadata": {
        "id": "zwyzhI2VaQAH"
      }
    },
    {
      "cell_type": "code",
      "source": [],
      "metadata": {
        "id": "xc4hqXDPaNm2"
      },
      "execution_count": null,
      "outputs": []
    },
    {
      "cell_type": "code",
      "source": [
        "!pwd # which folder you are in"
      ],
      "metadata": {
        "colab": {
          "base_uri": "https://localhost:8080/"
        },
        "id": "7q6ESy6KaNj2",
        "outputId": "d0d1802f-2e9c-4fd2-bf10-840b94415d3a"
      },
      "execution_count": 84,
      "outputs": [
        {
          "output_type": "stream",
          "name": "stdout",
          "text": [
            "/content\n"
          ]
        }
      ]
    },
    {
      "cell_type": "code",
      "source": [
        "!ls # lists all the contents in current directory/folder"
      ],
      "metadata": {
        "colab": {
          "base_uri": "https://localhost:8080/"
        },
        "id": "BSIqghAcZ7pE",
        "outputId": "7e6d4262-4888-4f9b-e215-b95a056e6f6d"
      },
      "execution_count": 86,
      "outputs": [
        {
          "output_type": "stream",
          "name": "stdout",
          "text": [
            "demo\t       fileinW.txt\t\tsample_data\n",
            "demo_file.txt  filewithAppendPlus.text\tUnknown_COPY.jpg\n",
            "fileinw+.txt   filewithAppend.text\tUnknown.jpg\n"
          ]
        }
      ]
    },
    {
      "cell_type": "code",
      "source": [
        "import os\n",
        "os.getcwd()"
      ],
      "metadata": {
        "colab": {
          "base_uri": "https://localhost:8080/",
          "height": 36
        },
        "id": "7ts1rW5caoWJ",
        "outputId": "7d06f5e3-5df0-463d-d7c5-686f2ab2e070"
      },
      "execution_count": 88,
      "outputs": [
        {
          "output_type": "execute_result",
          "data": {
            "text/plain": [
              "'/content'"
            ],
            "application/vnd.google.colaboratory.intrinsic+json": {
              "type": "string"
            }
          },
          "metadata": {},
          "execution_count": 88
        }
      ]
    },
    {
      "cell_type": "code",
      "source": [
        "import os\n",
        "os.listdir()"
      ],
      "metadata": {
        "colab": {
          "base_uri": "https://localhost:8080/"
        },
        "id": "9XvobWwLa4nn",
        "outputId": "a7e5cd6f-6074-48e5-b835-773b843c9a8a"
      },
      "execution_count": 89,
      "outputs": [
        {
          "output_type": "execute_result",
          "data": {
            "text/plain": [
              "['.config',\n",
              " 'fileinW.txt',\n",
              " 'filewithAppendPlus.text',\n",
              " 'demo_file.txt',\n",
              " 'Unknown_COPY.jpg',\n",
              " '.ipynb_checkpoints',\n",
              " 'Unknown.jpg',\n",
              " 'demo',\n",
              " 'filewithAppend.text',\n",
              " 'fileinw+.txt',\n",
              " 'sample_data']"
            ]
          },
          "metadata": {},
          "execution_count": 89
        }
      ]
    },
    {
      "cell_type": "code",
      "source": [
        "with open(\"filewithAppendPlus.text\" , 'r') as f:\n",
        "    f.seek(5)\n",
        "    out = f.read(5)\n",
        "\n",
        "print(out)"
      ],
      "metadata": {
        "colab": {
          "base_uri": "https://localhost:8080/"
        },
        "id": "B_mBPYHjbEA-",
        "outputId": "0ff2abcc-c8b4-4db0-f70a-2de508e89e7c"
      },
      "execution_count": 90,
      "outputs": [
        {
          "output_type": "stream",
          "name": "stdout",
          "text": [
            "ng fo\n"
          ]
        }
      ]
    },
    {
      "cell_type": "code",
      "source": [
        "with open(\"filewithAppendPlus.text\" , 'r') as f:\n",
        "    out = f.read(5)\n",
        "    # append output to another file\n",
        "\n",
        "print(out)"
      ],
      "metadata": {
        "id": "T90Ki5_3bezC"
      },
      "execution_count": null,
      "outputs": []
    },
    {
      "cell_type": "markdown",
      "source": [
        "HW: Merge of content of two files in a new file"
      ],
      "metadata": {
        "id": "6JuWDFn4dDrt"
      }
    },
    {
      "cell_type": "markdown",
      "source": [
        "writelines"
      ],
      "metadata": {
        "id": "v4MVYQNrbv-6"
      }
    },
    {
      "cell_type": "code",
      "source": [
        "with open(\"newfile.text\" , 'w') as f:\n",
        "    f.writelines([\"A\\n\", \"B\\n\", \"c\\n\"])"
      ],
      "metadata": {
        "id": "Vnol5KKrbxEd"
      },
      "execution_count": 96,
      "outputs": []
    },
    {
      "cell_type": "code",
      "source": [
        "with open(\"newfile2.text\" , 'w') as f:\n",
        "    f.writelines([\"A\", \"B\", \"c\"])"
      ],
      "metadata": {
        "id": "-98LdEo1dN72"
      },
      "execution_count": 103,
      "outputs": []
    },
    {
      "cell_type": "code",
      "source": [
        "with open(\"newfile.text\" , 'w') as f:\n",
        "    f.write(\"A\\nB\\nc\\n\")"
      ],
      "metadata": {
        "id": "fXtSqKoqcBEp"
      },
      "execution_count": 99,
      "outputs": []
    },
    {
      "cell_type": "markdown",
      "source": [
        "Readlines will read all the line into a list"
      ],
      "metadata": {
        "id": "pXbvM1wOdiDA"
      }
    },
    {
      "cell_type": "code",
      "source": [
        "with open(\"newfile.text\" , 'r') as f:\n",
        "    print(f.readlines())"
      ],
      "metadata": {
        "colab": {
          "base_uri": "https://localhost:8080/"
        },
        "id": "3rKYxCLzcLfm",
        "outputId": "99e8a6d7-6b2b-425e-cd3a-0dfa1ba12d90"
      },
      "execution_count": 100,
      "outputs": [
        {
          "output_type": "stream",
          "name": "stdout",
          "text": [
            "['A\\n', 'B\\n', 'c\\n']\n"
          ]
        }
      ]
    },
    {
      "cell_type": "markdown",
      "source": [
        "readline will read single line into string"
      ],
      "metadata": {
        "id": "FY8m2GBydnAu"
      }
    },
    {
      "cell_type": "code",
      "source": [
        "# read a single line\n",
        "with open(\"newfile.text\" , 'r') as f:\n",
        "    print(f.readline()) # will read until first \\n is encountered"
      ],
      "metadata": {
        "colab": {
          "base_uri": "https://localhost:8080/"
        },
        "id": "RBas8XFhcVhH",
        "outputId": "8df2bb42-cd18-4735-980a-511592280323"
      },
      "execution_count": 105,
      "outputs": [
        {
          "output_type": "stream",
          "name": "stdout",
          "text": [
            "A\n",
            "\n"
          ]
        }
      ]
    },
    {
      "cell_type": "code",
      "source": [
        "with open(\"newfile.text\" , 'r') as f:\n",
        "    print(f.readline()) \n",
        "    print(f.readline()) "
      ],
      "metadata": {
        "colab": {
          "base_uri": "https://localhost:8080/"
        },
        "id": "BjFbHqC0dsaj",
        "outputId": "25f2b30f-4355-42a0-d576-9373494a2138"
      },
      "execution_count": 106,
      "outputs": [
        {
          "output_type": "stream",
          "name": "stdout",
          "text": [
            "A\n",
            "\n",
            "B\n",
            "\n"
          ]
        }
      ]
    },
    {
      "cell_type": "code",
      "source": [
        "with open(\"newfile.text\" , 'r') as f:\n",
        "    print(f.read().seek())"
      ],
      "metadata": {
        "colab": {
          "base_uri": "https://localhost:8080/",
          "height": 186
        },
        "id": "2vivm8m5cqqI",
        "outputId": "e9ad7799-51c9-4eed-d109-c0fe1267e254"
      },
      "execution_count": 104,
      "outputs": [
        {
          "output_type": "error",
          "ename": "AttributeError",
          "evalue": "ignored",
          "traceback": [
            "\u001b[0;31m---------------------------------------------------------------------------\u001b[0m",
            "\u001b[0;31mAttributeError\u001b[0m                            Traceback (most recent call last)",
            "\u001b[0;32m<ipython-input-104-d31fe1da8ba9>\u001b[0m in \u001b[0;36m<module>\u001b[0;34m\u001b[0m\n\u001b[1;32m      1\u001b[0m \u001b[0;32mwith\u001b[0m \u001b[0mopen\u001b[0m\u001b[0;34m(\u001b[0m\u001b[0;34m\"newfile.text\"\u001b[0m \u001b[0;34m,\u001b[0m \u001b[0;34m'r'\u001b[0m\u001b[0;34m)\u001b[0m \u001b[0;32mas\u001b[0m \u001b[0mf\u001b[0m\u001b[0;34m:\u001b[0m\u001b[0;34m\u001b[0m\u001b[0;34m\u001b[0m\u001b[0m\n\u001b[0;32m----> 2\u001b[0;31m     \u001b[0mprint\u001b[0m\u001b[0;34m(\u001b[0m\u001b[0mf\u001b[0m\u001b[0;34m.\u001b[0m\u001b[0mread\u001b[0m\u001b[0;34m(\u001b[0m\u001b[0;34m)\u001b[0m\u001b[0;34m.\u001b[0m\u001b[0mseek\u001b[0m\u001b[0;34m(\u001b[0m\u001b[0;34m)\u001b[0m\u001b[0;34m)\u001b[0m\u001b[0;34m\u001b[0m\u001b[0;34m\u001b[0m\u001b[0m\n\u001b[0m",
            "\u001b[0;31mAttributeError\u001b[0m: 'str' object has no attribute 'seek'"
          ]
        }
      ]
    },
    {
      "cell_type": "code",
      "source": [
        "with open(\"newfile.text\" , 'r') as f:\n",
        "    print(f.seek(0))\n",
        "    print(f.seek(0).read())"
      ],
      "metadata": {
        "colab": {
          "base_uri": "https://localhost:8080/",
          "height": 221
        },
        "id": "t2hs6cVDddGf",
        "outputId": "d00cb2b1-6013-4063-a555-6352918396a4"
      },
      "execution_count": 110,
      "outputs": [
        {
          "output_type": "stream",
          "name": "stdout",
          "text": [
            "0\n"
          ]
        },
        {
          "output_type": "error",
          "ename": "AttributeError",
          "evalue": "ignored",
          "traceback": [
            "\u001b[0;31m---------------------------------------------------------------------------\u001b[0m",
            "\u001b[0;31mAttributeError\u001b[0m                            Traceback (most recent call last)",
            "\u001b[0;32m<ipython-input-110-a66897eea871>\u001b[0m in \u001b[0;36m<module>\u001b[0;34m\u001b[0m\n\u001b[1;32m      1\u001b[0m \u001b[0;32mwith\u001b[0m \u001b[0mopen\u001b[0m\u001b[0;34m(\u001b[0m\u001b[0;34m\"newfile.text\"\u001b[0m \u001b[0;34m,\u001b[0m \u001b[0;34m'r'\u001b[0m\u001b[0;34m)\u001b[0m \u001b[0;32mas\u001b[0m \u001b[0mf\u001b[0m\u001b[0;34m:\u001b[0m\u001b[0;34m\u001b[0m\u001b[0;34m\u001b[0m\u001b[0m\n\u001b[1;32m      2\u001b[0m     \u001b[0mprint\u001b[0m\u001b[0;34m(\u001b[0m\u001b[0mf\u001b[0m\u001b[0;34m.\u001b[0m\u001b[0mseek\u001b[0m\u001b[0;34m(\u001b[0m\u001b[0;36m0\u001b[0m\u001b[0;34m)\u001b[0m\u001b[0;34m)\u001b[0m\u001b[0;34m\u001b[0m\u001b[0;34m\u001b[0m\u001b[0m\n\u001b[0;32m----> 3\u001b[0;31m     \u001b[0mprint\u001b[0m\u001b[0;34m(\u001b[0m\u001b[0mf\u001b[0m\u001b[0;34m.\u001b[0m\u001b[0mseek\u001b[0m\u001b[0;34m(\u001b[0m\u001b[0;36m0\u001b[0m\u001b[0;34m)\u001b[0m\u001b[0;34m.\u001b[0m\u001b[0mread\u001b[0m\u001b[0;34m(\u001b[0m\u001b[0;34m)\u001b[0m\u001b[0;34m)\u001b[0m\u001b[0;34m\u001b[0m\u001b[0;34m\u001b[0m\u001b[0m\n\u001b[0m",
            "\u001b[0;31mAttributeError\u001b[0m: 'int' object has no attribute 'read'"
          ]
        }
      ]
    },
    {
      "cell_type": "code",
      "source": [
        "import pandas\n",
        "import xlrd "
      ],
      "metadata": {
        "id": "ikfpDew0d0YJ"
      },
      "execution_count": null,
      "outputs": []
    }
  ]
}