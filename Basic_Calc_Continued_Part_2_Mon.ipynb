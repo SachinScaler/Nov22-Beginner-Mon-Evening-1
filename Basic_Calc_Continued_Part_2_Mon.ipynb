{
  "nbformat": 4,
  "nbformat_minor": 0,
  "metadata": {
    "colab": {
      "provenance": [],
      "authorship_tag": "ABX9TyNz4/wtQgTT747g6leeWc5l",
      "include_colab_link": true
    },
    "kernelspec": {
      "name": "python3",
      "display_name": "Python 3"
    },
    "language_info": {
      "name": "python"
    }
  },
  "cells": [
    {
      "cell_type": "markdown",
      "metadata": {
        "id": "view-in-github",
        "colab_type": "text"
      },
      "source": [
        "<a href=\"https://colab.research.google.com/github/SachinScaler/Nov22-Beginner-Mon-Evening-1/blob/main/Basic_Calc_Continued_Part_2_Mon.ipynb\" target=\"_parent\"><img src=\"https://colab.research.google.com/assets/colab-badge.svg\" alt=\"Open In Colab\"/></a>"
      ]
    },
    {
      "cell_type": "code",
      "source": [
        "def func1(x):\n",
        "    return x**2\n",
        "\n",
        "a = 1\n",
        "left_hand_limit = [a+i for i in [-0.1, -.01, -0.001, -.0001]]\n",
        "right_hand_limit = [a+i for i in [0.1, .01, 0.001, .0001]]\n",
        "\n",
        "print(list(map(func1, left_hand_limit)))\n",
        "print(list(map(func1, right_hand_limit)))"
      ],
      "metadata": {
        "colab": {
          "base_uri": "https://localhost:8080/"
        },
        "id": "FwwsVS2oW3IP",
        "outputId": "2f37bbe8-d43d-46ae-a03a-2c986dc3266d"
      },
      "execution_count": null,
      "outputs": [
        {
          "output_type": "stream",
          "name": "stdout",
          "text": [
            "[0.81, 0.9801, 0.998001, 0.9998000100000001]\n",
            "[1.2100000000000002, 1.0201, 1.0020009999999997, 1.00020001]\n"
          ]
        }
      ]
    },
    {
      "cell_type": "code",
      "source": [],
      "metadata": {
        "id": "CrVJ30-KcG8f"
      },
      "execution_count": null,
      "outputs": []
    },
    {
      "cell_type": "code",
      "source": [
        "def get_derivative(func, a):\n",
        "    h = 0.00001 # set this value smaller to get better results\n",
        "    d = (func(a+h)-func(a))/h\n",
        "    return d"
      ],
      "metadata": {
        "id": "eCO8ox4jccLM"
      },
      "execution_count": null,
      "outputs": []
    },
    {
      "cell_type": "code",
      "source": [
        "def parabola(x):\n",
        "    return x**2\n",
        "\n",
        "\n",
        "# calculate derivative of above function at x = 2"
      ],
      "metadata": {
        "id": "wwue33HQqTSr"
      },
      "execution_count": null,
      "outputs": []
    },
    {
      "cell_type": "code",
      "source": [
        "get_derivative(parabola, 2)"
      ],
      "metadata": {
        "colab": {
          "base_uri": "https://localhost:8080/"
        },
        "id": "FtPbKfg9qhYC",
        "outputId": "4490a51b-1dbe-4e14-b6a3-2032a33ee119"
      },
      "execution_count": null,
      "outputs": [
        {
          "output_type": "execute_result",
          "data": {
            "text/plain": [
              "4.0001000000078335"
            ]
          },
          "metadata": {},
          "execution_count": 12
        }
      ]
    },
    {
      "cell_type": "code",
      "source": [
        "import math\n",
        "def some_complicate_func(x):\n",
        "    return math.log(x**2)*(3*x**3) \n"
      ],
      "metadata": {
        "id": "Q-SSBG5rqn1Y"
      },
      "execution_count": null,
      "outputs": []
    },
    {
      "cell_type": "code",
      "source": [
        "get_derivative(some_complicate_func, 5)"
      ],
      "metadata": {
        "colab": {
          "base_uri": "https://localhost:8080/"
        },
        "id": "VCQtCDFYq7Ih",
        "outputId": "7b9f4686-56d3-44bb-eabd-1613409a5ec9"
      },
      "execution_count": null,
      "outputs": [
        {
          "output_type": "execute_result",
          "data": {
            "text/plain": [
              "874.2690457415847"
            ]
          },
          "metadata": {},
          "execution_count": 17
        }
      ]
    },
    {
      "cell_type": "code",
      "source": [
        "math.e"
      ],
      "metadata": {
        "colab": {
          "base_uri": "https://localhost:8080/"
        },
        "id": "FP0EUYVOrHpb",
        "outputId": "9c33b6d4-2a13-475e-f53d-282ff46b2087"
      },
      "execution_count": null,
      "outputs": [
        {
          "output_type": "execute_result",
          "data": {
            "text/plain": [
              "2.718281828459045"
            ]
          },
          "metadata": {},
          "execution_count": 18
        }
      ]
    },
    {
      "cell_type": "code",
      "source": [
        "def homework(x):\n",
        "    return ((math.e**(x**3))*3*(x**2))/math.log(x) + 20*x"
      ],
      "metadata": {
        "id": "Sb2sraO0ru-7"
      },
      "execution_count": null,
      "outputs": []
    },
    {
      "cell_type": "code",
      "source": [
        "get_derivative(homework,2)"
      ],
      "metadata": {
        "colab": {
          "base_uri": "https://localhost:8080/"
        },
        "id": "_Berg8lKvTP6",
        "outputId": "394d0b9a-f683-495e-8032-b3402a45422b"
      },
      "execution_count": null,
      "outputs": [
        {
          "output_type": "execute_result",
          "data": {
            "text/plain": [
              "634110.0111257401"
            ]
          },
          "metadata": {},
          "execution_count": 21
        }
      ]
    },
    {
      "cell_type": "code",
      "source": [],
      "metadata": {
        "id": "M3qKAbgEvYWu"
      },
      "execution_count": null,
      "outputs": []
    }
  ]
}