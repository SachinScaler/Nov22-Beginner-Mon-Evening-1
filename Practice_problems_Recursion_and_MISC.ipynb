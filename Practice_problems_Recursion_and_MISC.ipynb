{
  "nbformat": 4,
  "nbformat_minor": 0,
  "metadata": {
    "colab": {
      "provenance": [],
      "authorship_tag": "ABX9TyN1yxk5pfNHDEMebTqYPy6Z",
      "include_colab_link": true
    },
    "kernelspec": {
      "name": "python3",
      "display_name": "Python 3"
    },
    "language_info": {
      "name": "python"
    }
  },
  "cells": [
    {
      "cell_type": "markdown",
      "metadata": {
        "id": "view-in-github",
        "colab_type": "text"
      },
      "source": [
        "<a href=\"https://colab.research.google.com/github/SachinScaler/Nov22-Beginner-Mon-Evening-1/blob/main/Practice_problems_Recursion_and_MISC.ipynb\" target=\"_parent\"><img src=\"https://colab.research.google.com/assets/colab-badge.svg\" alt=\"Open In Colab\"/></a>"
      ]
    },
    {
      "cell_type": "markdown",
      "source": [
        "### Binary Search:\n",
        "\n",
        "Q1: Binary Search on matrix:\n",
        "\n",
        "```\n",
        "[ \n",
        "  [ 2,3,4,5],\n",
        "  [7,9,12,14]\n",
        "  [55,67,89,90]\n",
        "  [112,445,678,900]\n",
        "]\n",
        "\n",
        "Target 678\n",
        "\n",
        "Output\n",
        "3 2\n",
        "```\n",
        "\n",
        "Q2: Given a sorted array rotated by K elements, find value of K\n",
        "\n",
        "```\n",
        "Input\n",
        "6,7,8,2,3,4,5\n",
        "\n",
        "Output:\n",
        "2 # as array is rotated by 2 indexes\n",
        "```"
      ],
      "metadata": {
        "id": "oTDkl1gTTIjV"
      }
    },
    {
      "cell_type": "markdown",
      "source": [
        "## Recursion:\n",
        "\n",
        "### Easy\n",
        "\n",
        "Q1: Logs and Powers\n",
        "1. You are given a number x.\n",
        "2. You are given another number n.\n",
        "3. You are required to calculate x raised to the power n.\n",
        "\n",
        "```\n",
        "Sample Input\n",
        "2\n",
        "5\n",
        "\n",
        "Sample Output\n",
        "32\n",
        "```\n",
        "\n",
        "\n",
        "Q2: All Indices Of Array\n",
        "\n",
        "1. You are given a number n, representing the count of elements.\n",
        "2. You are given n numbers.\n",
        "3. You are given a number x. \n",
        "4. You are required to find the all indices at which x occurs in array a.\n",
        "5. Return an array of appropriate size which contains all indices at which x occurs in array a.\n",
        "\n",
        "```\n",
        "Sample Input\n",
        "N = 6\n",
        "15\n",
        "11\n",
        "40\n",
        "4\n",
        "4\n",
        "9\n",
        "x = 4\n",
        "\n",
        "Sample Output\n",
        "3\n",
        "4\n",
        "```\n",
        "\n",
        "Q3: Calculate Max and Min of Array using recursion.\n",
        "\n",
        "```\n",
        "\n",
        "Sample Input\n",
        "N = 6\n",
        "15\n",
        "11\n",
        "40\n",
        "4\n",
        "4\n",
        "9\n",
        "\n",
        "Sample Output\n",
        "max 40\n",
        "min 4\n",
        "```\n",
        "\n",
        "\n",
        "\n",
        "\n",
        "### Medium and Hard\n",
        "\n",
        "\n",
        "Q1: Words\n",
        "1. You are given a word (may have one character repeat more than once).\n",
        "2. You are required to generate and print all arrangements of these characters. \n",
        "\n",
        "```\n",
        "Sample Input\n",
        "aabb\n",
        "\n",
        "Sample Output\n",
        "aabb\n",
        "abab\n",
        "abba\n",
        "baab\n",
        "baba\n",
        "bbaa\n",
        "```\n",
        "\n",
        "Q2: Coin Change 1\n",
        "1. You are given a number n, representing the count of coins.\n",
        "2. You are given n numbers, representing the denominations of n coins.\n",
        "3. You are given a number \"amt\".\n",
        "4. You are required to calculate and print the combinations of the n coins (non-duplicate) using which the amount \"amt\" can be paid.\n",
        "\n",
        "```\n",
        "Sample Input\n",
        "5\n",
        "2\n",
        "3\n",
        "5\n",
        "6\n",
        "7\n",
        "12\n",
        "\n",
        "Sample Output\n",
        "2-3-7-.\n",
        "5-7-.\n",
        "```\n",
        "\n"
      ],
      "metadata": {
        "id": "q9ChRCkONsaq"
      }
    },
    {
      "cell_type": "code",
      "source": [],
      "metadata": {
        "id": "xZj0gZrLUOSw"
      },
      "execution_count": null,
      "outputs": []
    },
    {
      "cell_type": "markdown",
      "source": [
        "\n",
        "Q3: Coin Change 2\n",
        "\n",
        "1. You are given a number n, representing the count of coins.\n",
        "2. You are given n numbers, representing the denominations of n coins.\n",
        "3. You are given a number \"amt\".\n",
        "4. You are required to calculate and print the combinations of the n coins (same coin can be used \n",
        "     again any number of times) using which the amount \"amt\" can be paid.\n",
        "\n",
        "```\n",
        "Sample Input\n",
        "5\n",
        "2\n",
        "3\n",
        "5\n",
        "6\n",
        "7\n",
        "12\n",
        "\n",
        "Sample Output\n",
        "2-2-2-2-2-2-.\n",
        "2-2-2-3-3-.\n",
        "2-2-2-6-.\n",
        "2-2-3-5-.\n",
        "2-3-7-.\n",
        "2-5-5-.\n",
        "3-3-3-3-.\n",
        "3-3-6-.\n",
        "5-7-.\n",
        "6-6-.\n",
        "```"
      ],
      "metadata": {
        "id": "iVy4u4MBUOqf"
      }
    },
    {
      "cell_type": "code",
      "source": [],
      "metadata": {
        "id": "6HQv3aspUQo0"
      },
      "execution_count": null,
      "outputs": []
    },
    {
      "cell_type": "markdown",
      "source": [
        "### Hashing:\n",
        "\n",
        "#### Easy:\n",
        "\n",
        "Q1: Highest Frequency Character\n",
        "\n",
        "1. You are given a string str.\n",
        "2. You are required to find the character with maximum frequency.\n",
        "\n",
        "```\n",
        "Sample Input\n",
        "zmszeqxllzvheqwrofgcuntypejcxovtaqbnqyqlmrwitc\n",
        "\n",
        "Sample Output\n",
        "q\n",
        "```\n",
        "\n",
        "\n",
        "#### Medium:\n",
        "Q1: Get Common Elements\n",
        "1. You are given a number n1, representing the size of array a1.\n",
        "2. You are given n1 numbers, representing elements of array a1.\n",
        "3. You are given a number n2, representing the size of array a2.\n",
        "4. You are given n2 numbers, representing elements of array a2.\n",
        "5. You are required to print all elements of a2 which are also present in a1 (in order of their occurence in a2). Make sure to not print duplicates (a2 may have same value present many times).\n",
        "\n",
        "```\n",
        "Sample Input\n",
        "9 \n",
        "5\n",
        "5\n",
        "9\n",
        "8\n",
        "5\n",
        "5\n",
        "8\n",
        "0\n",
        "3\n",
        "18\n",
        "9\n",
        "7\n",
        "1\n",
        "0\n",
        "3\n",
        "6\n",
        "5\n",
        "9\n",
        "1\n",
        "1\n",
        "8\n",
        "0\n",
        "2\n",
        "4\n",
        "2\n",
        "9\n",
        "1\n",
        "5\n",
        "Sample Output\n",
        "9\n",
        "0\n",
        "3\n",
        "5\n",
        "8\n",
        "```\n"
      ],
      "metadata": {
        "id": "Myz6yIGXOehP"
      }
    },
    {
      "cell_type": "code",
      "source": [
        "# code for parsing input in format described above\n",
        "n1 = int(input())\n",
        "a1 = []\n",
        "for i in range(n1):\n",
        "  a1.append(int(input()))\n",
        "\n",
        "\n",
        "n2 = int(input())\n",
        "a2 = []\n",
        "for i in range(n2):\n",
        "  a2.append(int(input()))\n",
        "\n",
        "print(\"n1: \", n1)\n",
        "print(\"a1: \", a1)\n",
        "\n",
        "print(\"n2: \", n2)\n",
        "print(\"a2: \", a2)"
      ],
      "metadata": {
        "colab": {
          "base_uri": "https://localhost:8080/"
        },
        "id": "u28n5xEJOaRl",
        "outputId": "6cf6c5a6-e158-4bde-bfb3-2163aeb1c117"
      },
      "execution_count": null,
      "outputs": [
        {
          "output_type": "stream",
          "name": "stdout",
          "text": [
            "3\n",
            "54\n",
            "67\n",
            "22\n",
            "5\n",
            "78\n",
            "89\n",
            "54\n",
            "22\n",
            "90\n",
            "n1:  3\n",
            "a1:  [54, 67, 22]\n",
            "n2:  5\n",
            "a2:  [78, 89, 54, 22, 90]\n"
          ]
        }
      ]
    },
    {
      "cell_type": "code",
      "source": [
        "n1 = 9\n",
        "a1 = [5, 5, 9, 8, 5, 5, 8, 0, 3]\n",
        "\n",
        "n2 = 18\n",
        "a2 = [9, 7, 1, 0, 3, 6, 5, 9, 1, 1,8, 0, 2, 4, 2, 9, 1, 5]\n",
        "\n",
        "def getCommon(n1,a1,n2,a2):\n",
        "  commonElements = set(a1) & set(a2)\n",
        "\n",
        "  for num in a2: # to maintain order of a2, loop over a2\n",
        "    if num in commonElements:\n",
        "      print(num)\n",
        "      commonElements.remove(num)# to avoid repetition\n",
        "getCommon(n1,a1,n2,a2)   "
      ],
      "metadata": {
        "colab": {
          "base_uri": "https://localhost:8080/"
        },
        "id": "vYHRyWbXO5KX",
        "outputId": "cd23ea6b-6e0c-4a83-c431-5d20c5c7b3d8"
      },
      "execution_count": null,
      "outputs": [
        {
          "output_type": "stream",
          "name": "stdout",
          "text": [
            "9\n",
            "0\n",
            "3\n",
            "5\n",
            "8\n"
          ]
        }
      ]
    },
    {
      "cell_type": "markdown",
      "source": [
        "\n",
        "Q2: K Largest Element\n",
        "1. You are given a number n, representing the size of array a.\n",
        "2. You are given n numbers, representing elements of array a.\n",
        "3. You are given a number k.\n",
        "4. You are required to find and print the k largest elements of array in increasing order.\n",
        "\n",
        "```\n",
        "Sample Input\n",
        "13\n",
        "12\n",
        "62\n",
        "22\n",
        "15\n",
        "37\n",
        "99\n",
        "11\n",
        "37\n",
        "98\n",
        "67\n",
        "31\n",
        "84\n",
        "99\n",
        "4\n",
        "\n",
        "Sample Output\n",
        "84\n",
        "98\n",
        "9\n",
        "99\n",
        "```"
      ],
      "metadata": {
        "id": "_ZLHARQHOei8"
      }
    },
    {
      "cell_type": "code",
      "source": [
        "n1 = int(input())\n",
        "a1 = []\n",
        "for i in range(n1):\n",
        "  a1.append(int(input()))\n",
        "\n",
        "\n",
        "n2 = int(input())\n",
        "a2 = []\n",
        "for i in range(n2):\n",
        "  a2.append(int(input()))"
      ],
      "metadata": {
        "colab": {
          "base_uri": "https://localhost:8080/",
          "height": 387
        },
        "id": "XvrpqEnwNupn",
        "outputId": "037749bc-7823-48ea-ca91-66ce3c3fa845"
      },
      "execution_count": null,
      "outputs": [
        {
          "output_type": "error",
          "ename": "KeyboardInterrupt",
          "evalue": "ignored",
          "traceback": [
            "\u001b[0;31m---------------------------------------------------------------------------\u001b[0m",
            "\u001b[0;31mKeyboardInterrupt\u001b[0m                         Traceback (most recent call last)",
            "\u001b[0;32m<ipython-input-22-1faa194ce576>\u001b[0m in \u001b[0;36m<module>\u001b[0;34m\u001b[0m\n\u001b[0;32m----> 1\u001b[0;31m \u001b[0mn1\u001b[0m \u001b[0;34m=\u001b[0m \u001b[0mint\u001b[0m\u001b[0;34m(\u001b[0m\u001b[0minput\u001b[0m\u001b[0;34m(\u001b[0m\u001b[0;34m)\u001b[0m\u001b[0;34m)\u001b[0m\u001b[0;34m\u001b[0m\u001b[0;34m\u001b[0m\u001b[0m\n\u001b[0m\u001b[1;32m      2\u001b[0m \u001b[0ma1\u001b[0m \u001b[0;34m=\u001b[0m \u001b[0;34m[\u001b[0m\u001b[0;34m]\u001b[0m\u001b[0;34m\u001b[0m\u001b[0;34m\u001b[0m\u001b[0m\n\u001b[1;32m      3\u001b[0m \u001b[0;32mfor\u001b[0m \u001b[0mi\u001b[0m \u001b[0;32min\u001b[0m \u001b[0mrange\u001b[0m\u001b[0;34m(\u001b[0m\u001b[0mn1\u001b[0m\u001b[0;34m)\u001b[0m\u001b[0;34m:\u001b[0m\u001b[0;34m\u001b[0m\u001b[0;34m\u001b[0m\u001b[0m\n\u001b[1;32m      4\u001b[0m   \u001b[0ma1\u001b[0m\u001b[0;34m.\u001b[0m\u001b[0mappend\u001b[0m\u001b[0;34m(\u001b[0m\u001b[0mint\u001b[0m\u001b[0;34m(\u001b[0m\u001b[0minput\u001b[0m\u001b[0;34m(\u001b[0m\u001b[0;34m)\u001b[0m\u001b[0;34m)\u001b[0m\u001b[0;34m)\u001b[0m\u001b[0;34m\u001b[0m\u001b[0;34m\u001b[0m\u001b[0m\n\u001b[1;32m      5\u001b[0m \u001b[0;34m\u001b[0m\u001b[0m\n",
            "\u001b[0;32m/usr/local/lib/python3.8/dist-packages/ipykernel/kernelbase.py\u001b[0m in \u001b[0;36mraw_input\u001b[0;34m(self, prompt)\u001b[0m\n\u001b[1;32m    858\u001b[0m                 \u001b[0;34m\"raw_input was called, but this frontend does not support input requests.\"\u001b[0m\u001b[0;34m\u001b[0m\u001b[0;34m\u001b[0m\u001b[0m\n\u001b[1;32m    859\u001b[0m             )\n\u001b[0;32m--> 860\u001b[0;31m         return self._input_request(str(prompt),\n\u001b[0m\u001b[1;32m    861\u001b[0m             \u001b[0mself\u001b[0m\u001b[0;34m.\u001b[0m\u001b[0m_parent_ident\u001b[0m\u001b[0;34m,\u001b[0m\u001b[0;34m\u001b[0m\u001b[0;34m\u001b[0m\u001b[0m\n\u001b[1;32m    862\u001b[0m             \u001b[0mself\u001b[0m\u001b[0;34m.\u001b[0m\u001b[0m_parent_header\u001b[0m\u001b[0;34m,\u001b[0m\u001b[0;34m\u001b[0m\u001b[0;34m\u001b[0m\u001b[0m\n",
            "\u001b[0;32m/usr/local/lib/python3.8/dist-packages/ipykernel/kernelbase.py\u001b[0m in \u001b[0;36m_input_request\u001b[0;34m(self, prompt, ident, parent, password)\u001b[0m\n\u001b[1;32m    902\u001b[0m             \u001b[0;32mexcept\u001b[0m \u001b[0mKeyboardInterrupt\u001b[0m\u001b[0;34m:\u001b[0m\u001b[0;34m\u001b[0m\u001b[0;34m\u001b[0m\u001b[0m\n\u001b[1;32m    903\u001b[0m                 \u001b[0;31m# re-raise KeyboardInterrupt, to truncate traceback\u001b[0m\u001b[0;34m\u001b[0m\u001b[0;34m\u001b[0m\u001b[0;34m\u001b[0m\u001b[0m\n\u001b[0;32m--> 904\u001b[0;31m                 \u001b[0;32mraise\u001b[0m \u001b[0mKeyboardInterrupt\u001b[0m\u001b[0;34m(\u001b[0m\u001b[0;34m\"Interrupted by user\"\u001b[0m\u001b[0;34m)\u001b[0m \u001b[0;32mfrom\u001b[0m \u001b[0;32mNone\u001b[0m\u001b[0;34m\u001b[0m\u001b[0;34m\u001b[0m\u001b[0m\n\u001b[0m\u001b[1;32m    905\u001b[0m             \u001b[0;32mexcept\u001b[0m \u001b[0mException\u001b[0m \u001b[0;32mas\u001b[0m \u001b[0me\u001b[0m\u001b[0;34m:\u001b[0m\u001b[0;34m\u001b[0m\u001b[0;34m\u001b[0m\u001b[0m\n\u001b[1;32m    906\u001b[0m                 \u001b[0mself\u001b[0m\u001b[0;34m.\u001b[0m\u001b[0mlog\u001b[0m\u001b[0;34m.\u001b[0m\u001b[0mwarning\u001b[0m\u001b[0;34m(\u001b[0m\u001b[0;34m\"Invalid Message:\"\u001b[0m\u001b[0;34m,\u001b[0m \u001b[0mexc_info\u001b[0m\u001b[0;34m=\u001b[0m\u001b[0;32mTrue\u001b[0m\u001b[0;34m)\u001b[0m\u001b[0;34m\u001b[0m\u001b[0;34m\u001b[0m\u001b[0m\n",
            "\u001b[0;31mKeyboardInterrupt\u001b[0m: Interrupted by user"
          ]
        }
      ]
    },
    {
      "cell_type": "code",
      "execution_count": null,
      "metadata": {
        "id": "JPAgAJRXNhG5"
      },
      "outputs": [],
      "source": []
    },
    {
      "cell_type": "markdown",
      "source": [
        "Q: Hashibg+Recursion: Print Keys\n",
        "1. You are given a string str. The string str will contains numbers only, where each number stands for a key pressed on a mobile phone.\n",
        "You are required to print all the text messages that can be creates using combination of the keys pressed.\n",
        "\n",
        "2. You can used following list as the key to characters map:\n",
        "   ```\n",
        "   0 -> .;\n",
        "   1 -> abc\n",
        "   2 -> def\n",
        "   3 -> ghi\n",
        "   4 -> jkl\n",
        "   5 -> mno\n",
        "   6 -> pqrs\n",
        "   7 -> tu\n",
        "   8 -> vwx\n",
        "   9 -> yz\n",
        "   ```\n",
        "\n",
        "```\n",
        "Sample Input\n",
        "78\n",
        "Sample Output\n",
        "tv\n",
        "tw\n",
        "tx\n",
        "uv\n",
        "uw\n",
        "ux\n",
        "```"
      ],
      "metadata": {
        "id": "jz-0tFhySNgW"
      }
    },
    {
      "cell_type": "code",
      "source": [
        "def form_text_message(map, input_keys, curr_msg = \"\" ,output=[]):\n",
        "  if len(input_keys)==0:\n",
        "    output.append(curr_msg)\n",
        "  else:\n",
        "    for key in map:\n",
        "      if key == int(input_keys[0]):\n",
        "        chars = map[key]\n",
        "        for char in chars:\n",
        "          form_text_message(map, input_keys[1:], curr_msg + char ,output)\n",
        "\n",
        "      \n",
        "    return output\n",
        "\n",
        "map = {0 : \".;\", 1 : \"abc\", 2 : \"def\", 3 : \"ghi\", 4 : \"jkl\", 5 : \"mno\", 6 : \"pqrs\", 7 : \"tu\", 8 : \"vwx\", 9 : \"yz\"}\n",
        "input_keys = \"78\"\n",
        "form_text_message(map, input_keys, curr_msg = \"\" ,output=[])"
      ],
      "metadata": {
        "colab": {
          "base_uri": "https://localhost:8080/"
        },
        "id": "YziZhLBiAap8",
        "outputId": "c275c610-e5bc-4228-f1d6-e9cce80f2e90"
      },
      "execution_count": null,
      "outputs": [
        {
          "output_type": "execute_result",
          "data": {
            "text/plain": [
              "['tv', 'tw', 'tx', 'uv', 'uw', 'ux']"
            ]
          },
          "metadata": {},
          "execution_count": 21
        }
      ]
    },
    {
      "cell_type": "markdown",
      "source": [
        "Q:4 Given a Vocabulary of words and a input sentence without whitespaces: create all the valid sentences that can be formed with given vacab.\n",
        "\n",
        "```\n",
        "input format\n",
        "\n",
        "sentence: \"NLPISAMAZING\"\n",
        "vocab: [\"NLP\", \"IS\", \"AMAZING\", \"AMAZ\", \"ING\", \"NL\" ,\"PIS\"]\n",
        "\n",
        "```\n",
        "\n",
        "output\n",
        "\n",
        "```\n",
        "['NLP IS AMAZING', 'NLP IS AMAZ ING', 'NL PIS AMAZING', 'NL PIS AMAZ ING']\n",
        "```\n"
      ],
      "metadata": {
        "id": "lQ6n9w1s9qfU"
      }
    },
    {
      "cell_type": "code",
      "source": [
        "def form_sentences(vocab, input_sentence, curr_sentence = \"\", output = []):\n",
        "  if len(input_sentence)==0:\n",
        "    output.append(curr_sentence.strip(\" \"))\n",
        "  else:\n",
        "    for word in vocab:\n",
        "      length = len(word)\n",
        "      if input_sentence[:length]==word:\n",
        "        form_sentences(vocab, input_sentence[len(word):], curr_sentence+word+\" \" )\n",
        "  return output\n",
        "\n",
        "\n",
        "input_sentence = \"NLPISAMAZING\"\n",
        "vocab = [\"NLP\", \"IS\", \"AMAZING\", \"AMAZ\", \"ING\", \"NL\" ,\"PIS\"]\n",
        "form_sentences(vocab, input_sentence, curr_sentence = \"\")"
      ],
      "metadata": {
        "colab": {
          "base_uri": "https://localhost:8080/"
        },
        "id": "1d7daWRz9p0y",
        "outputId": "952880c5-c871-462f-86be-36eb6378e0ae"
      },
      "execution_count": null,
      "outputs": [
        {
          "output_type": "execute_result",
          "data": {
            "text/plain": [
              "['NLP IS AMAZING', 'NLP IS AMAZ ING', 'NL PIS AMAZING', 'NL PIS AMAZ ING']"
            ]
          },
          "metadata": {},
          "execution_count": 8
        }
      ]
    },
    {
      "cell_type": "markdown",
      "source": [
        "Q: Given a Set of Coins, find the minimum amount of Change that Can't be made with the set. (assume you can use one coin only once)\n",
        "\n",
        "```\n",
        "Sample Inputs:\n",
        "[]\n",
        "\n",
        "Sample Outputs:\n",
        "[]\n",
        "```\n",
        "\n",
        "\n",
        "BruteForce Soln: 2^n\n",
        "\n",
        "Optimized Soln: NlogN\n"
      ],
      "metadata": {
        "id": "souRLSHSlqin"
      }
    },
    {
      "cell_type": "markdown",
      "source": [
        "Q: Implement MergeSort with Recursion:"
      ],
      "metadata": {
        "id": "6UUfKCQrnzG2"
      }
    },
    {
      "cell_type": "code",
      "source": [
        "def mergeSort(arr):\n",
        "  if len(arr)<=1:\n",
        "    return arr \n",
        "  \n",
        "  l_arr = arr[:len(arr)//2]\n",
        "  r_arr = arr[len(arr)//2:]\n",
        "\n",
        "  l_arr = mergeSort(l_arr)\n",
        "  r_arr = mergeSort(r_arr)\n",
        "\n",
        "  # merge both\n",
        "  i,j = 0,0\n",
        "  merged = []\n",
        "  while i<len(l_arr) and j<len(r_arr):\n",
        "    if l_arr[i]<r_arr[j]:\n",
        "      merged.append(l_arr[i])\n",
        "      i+=1\n",
        "    else: \n",
        "      merged.append(r_arr[j])\n",
        "      j+=1\n",
        "  merged.extend(l_arr[i:])\n",
        "  merged.extend(r_arr[j:])\n",
        "\n",
        "  return merged\n",
        "\n",
        "\n",
        "arr = [2,1,3]\n",
        "mergeSort(arr)"
      ],
      "metadata": {
        "id": "C0tH-3w-4cM0",
        "colab": {
          "base_uri": "https://localhost:8080/"
        },
        "outputId": "edc2624a-31e0-4a1d-e138-8d7035179720"
      },
      "execution_count": null,
      "outputs": [
        {
          "output_type": "execute_result",
          "data": {
            "text/plain": [
              "[1, 2, 3]"
            ]
          },
          "metadata": {},
          "execution_count": 5
        }
      ]
    },
    {
      "cell_type": "markdown",
      "source": [
        "Q: Implement Modified Insertion Sort which used Binary Search to find the right spot for Element on Left Hand Side of Array."
      ],
      "metadata": {
        "id": "hGohTXocopAK"
      }
    },
    {
      "cell_type": "code",
      "source": [
        "def getSubset(arr, curr_subset = [], output = []):\n",
        "  if len(arr)==0:\n",
        "    output.append(curr_subset)\n",
        "    return \n",
        "  else:\n",
        "    getSubset(arr[1:], curr_subset+[arr[0]], output) \n",
        "    getSubset(arr[1:], curr_subset, output) \n",
        "    return output\n",
        "\n",
        "arr= [1,2,3]\n",
        "getSubset(arr)"
      ],
      "metadata": {
        "id": "LKfM9KtQniM1"
      },
      "execution_count": null,
      "outputs": []
    },
    {
      "cell_type": "code",
      "source": [],
      "metadata": {
        "colab": {
          "base_uri": "https://localhost:8080/"
        },
        "id": "RwqQFD_2p_N_",
        "outputId": "3cf2b99b-a4e0-47e7-aac4-cb551133398d"
      },
      "execution_count": null,
      "outputs": [
        {
          "output_type": "execute_result",
          "data": {
            "text/plain": [
              "[1, 2]"
            ]
          },
          "metadata": {},
          "execution_count": 6
        }
      ]
    },
    {
      "cell_type": "code",
      "source": [
        "def getSubset(arr, curr_subset = \"\", output = []):\n",
        "  if len(arr)==0:\n",
        "    output.append(curr_subset)\n",
        "    return \n",
        "  else:\n",
        "    getSubset(arr[1:], curr_subset+str(arr[0]), output) \n",
        "    getSubset(arr[1:], curr_subset, output) \n",
        "    return output\n",
        "\n",
        "arr= [1,2,3]\n",
        "getSubset(arr)"
      ],
      "metadata": {
        "colab": {
          "base_uri": "https://localhost:8080/"
        },
        "id": "LCmQDIleqA_R",
        "outputId": "ccd8bf08-f77c-4cc5-8c24-8956458e005a"
      },
      "execution_count": null,
      "outputs": [
        {
          "output_type": "execute_result",
          "data": {
            "text/plain": [
              "['123', '12', '13', '1', '23', '2', '3', '']"
            ]
          },
          "metadata": {},
          "execution_count": 12
        }
      ]
    },
    {
      "cell_type": "code",
      "source": [],
      "metadata": {
        "id": "y6EpY05QrIXl"
      },
      "execution_count": null,
      "outputs": []
    }
  ]
}