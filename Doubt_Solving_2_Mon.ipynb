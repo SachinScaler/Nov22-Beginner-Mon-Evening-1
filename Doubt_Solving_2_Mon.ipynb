{
  "nbformat": 4,
  "nbformat_minor": 0,
  "metadata": {
    "colab": {
      "provenance": [],
      "authorship_tag": "ABX9TyNgK1h7pC7jDrJJZaKwb8b4",
      "include_colab_link": true
    },
    "kernelspec": {
      "name": "python3",
      "display_name": "Python 3"
    },
    "language_info": {
      "name": "python"
    }
  },
  "cells": [
    {
      "cell_type": "markdown",
      "metadata": {
        "id": "view-in-github",
        "colab_type": "text"
      },
      "source": [
        "<a href=\"https://colab.research.google.com/github/SachinScaler/Nov22-Beginner-Mon-Evening-1/blob/main/Doubt_Solving_2_Mon.ipynb\" target=\"_parent\"><img src=\"https://colab.research.google.com/assets/colab-badge.svg\" alt=\"Open In Colab\"/></a>"
      ]
    },
    {
      "cell_type": "code",
      "execution_count": 1,
      "metadata": {
        "id": "DqOaQG2rxsKY"
      },
      "outputs": [],
      "source": [
        "import re\n",
        "# NER ML technique"
      ]
    },
    {
      "cell_type": "code",
      "source": [
        "with open(\"hello.txt\", 'r') as f:\n",
        "    output = f.read() # returning all the content\n",
        "    print(output)"
      ],
      "metadata": {
        "colab": {
          "base_uri": "https://localhost:8080/"
        },
        "id": "U3uTu95X1SL2",
        "outputId": "e676ce03-9015-4fd1-accf-19ca8f6ad0ea"
      },
      "execution_count": 13,
      "outputs": [
        {
          "output_type": "stream",
          "name": "stdout",
          "text": [
            "Hello Hello \n"
          ]
        }
      ]
    },
    {
      "cell_type": "code",
      "source": [
        "poutput"
      ],
      "metadata": {
        "colab": {
          "base_uri": "https://localhost:8080/",
          "height": 56
        },
        "id": "bW67jCj_3OHy",
        "outputId": "404d468d-a607-4b20-950d-aa1386b13407"
      },
      "execution_count": 8,
      "outputs": [
        {
          "output_type": "execute_result",
          "data": {
            "text/plain": [
              "'Hello Hello '"
            ],
            "application/vnd.google.colaboratory.intrinsic+json": {
              "type": "string"
            }
          },
          "metadata": {},
          "execution_count": 8
        }
      ]
    },
    {
      "cell_type": "code",
      "source": [
        "def function():\n",
        "    return \"Hello\"\n",
        "print(function())"
      ],
      "metadata": {
        "colab": {
          "base_uri": "https://localhost:8080/"
        },
        "id": "4w15Hqz62oxT",
        "outputId": "e6758540-0433-4aab-ffc7-876339454bb5"
      },
      "execution_count": 15,
      "outputs": [
        {
          "output_type": "stream",
          "name": "stdout",
          "text": [
            "Hello\n"
          ]
        }
      ]
    },
    {
      "cell_type": "code",
      "source": [
        "# step1 : Verify if file exist in cwd and it's name is something.py\n",
        "import os\n",
        "\n",
        "os.listdir()"
      ],
      "metadata": {
        "colab": {
          "base_uri": "https://localhost:8080/"
        },
        "id": "V7dTdIJj2y9W",
        "outputId": "5b393058-ec1a-485a-d713-a9495560ccfb"
      },
      "execution_count": 17,
      "outputs": [
        {
          "output_type": "execute_result",
          "data": {
            "text/plain": [
              "['.config', 'hello.txt', '.ipynb_checkpoints', 'sample_data']"
            ]
          },
          "metadata": {},
          "execution_count": 17
        }
      ]
    },
    {
      "cell_type": "code",
      "source": [
        "import some"
      ],
      "metadata": {
        "id": "yHDo7bHT4IsE"
      },
      "execution_count": 18,
      "outputs": []
    },
    {
      "cell_type": "code",
      "source": [
        "%%writefile mymodule.py\n",
        "# step1 : Verify if file exist in cwd and it's name is something.py\n",
        "\n",
        "import os\n",
        "a = os.listdir()"
      ],
      "metadata": {
        "colab": {
          "base_uri": "https://localhost:8080/"
        },
        "id": "kpW_QXAU4Ybc",
        "outputId": "56f643ad-986f-4724-cd8d-65e40541b3ba"
      },
      "execution_count": 19,
      "outputs": [
        {
          "output_type": "stream",
          "name": "stdout",
          "text": [
            "Writing mymodule.py\n"
          ]
        }
      ]
    },
    {
      "cell_type": "code",
      "source": [
        "import mymodule"
      ],
      "metadata": {
        "id": "gLY9DNKD-QXf"
      },
      "execution_count": 20,
      "outputs": []
    },
    {
      "cell_type": "code",
      "source": [
        "mymodule.a"
      ],
      "metadata": {
        "colab": {
          "base_uri": "https://localhost:8080/"
        },
        "id": "iIIi2z5R-fD_",
        "outputId": "90952c3a-2452-43e6-aff9-bc6e6e8debd0"
      },
      "execution_count": 21,
      "outputs": [
        {
          "output_type": "execute_result",
          "data": {
            "text/plain": [
              "['.config',\n",
              " 'some.py',\n",
              " 'hello.txt',\n",
              " 'mymodule.py',\n",
              " '.ipynb_checkpoints',\n",
              " '__pycache__',\n",
              " 'sample_data']"
            ]
          },
          "metadata": {},
          "execution_count": 21
        }
      ]
    },
    {
      "cell_type": "code",
      "source": [
        "# df/dx=((f(x+dx))/2-(f(x-dx))/2//dx"
      ],
      "metadata": {
        "id": "iIzcu07x-hXv"
      },
      "execution_count": null,
      "outputs": []
    },
    {
      "cell_type": "code",
      "source": [
        "### OOPS\n",
        "\n",
        "list1 = []\n",
        "\n",
        "list1.append(1)\n"
      ],
      "metadata": {
        "id": "_1Hvs0DG_NCA"
      },
      "execution_count": 22,
      "outputs": []
    },
    {
      "cell_type": "code",
      "source": [
        "list1.sort()"
      ],
      "metadata": {
        "id": "azW6eRRU_3so"
      },
      "execution_count": 23,
      "outputs": []
    },
    {
      "cell_type": "code",
      "source": [
        "class Car:\n",
        "    def __init__(self, registration, color, model):\n",
        "        self.__registration = registration\n",
        "        self.color = color\n",
        "        self.model = model\n",
        "        self.BrandName=\"Tata\"\n",
        "\n",
        "    # getters\n",
        "    def display_r(self):\n",
        "        return (self.__registration)\n",
        "\n",
        "    # setters\n",
        "    def set_registration(self, new_r):\n",
        "        self.__registration = new_r\n"
      ],
      "metadata": {
        "id": "ls-CJ7em_5Xv"
      },
      "execution_count": 52,
      "outputs": []
    },
    {
      "cell_type": "code",
      "source": [
        "c1 = Car(\"R101\",\"Red\", \"Nexon\")"
      ],
      "metadata": {
        "id": "pp1xkb09D_WD"
      },
      "execution_count": 53,
      "outputs": []
    },
    {
      "cell_type": "code",
      "source": [
        "c1.__registration"
      ],
      "metadata": {
        "colab": {
          "base_uri": "https://localhost:8080/",
          "height": 188
        },
        "id": "XCOsulcuEBxF",
        "outputId": "a4679813-3229-4961-d210-30d1612ec22a"
      },
      "execution_count": 46,
      "outputs": [
        {
          "output_type": "error",
          "ename": "AttributeError",
          "evalue": "ignored",
          "traceback": [
            "\u001b[0;31m---------------------------------------------------------------------------\u001b[0m",
            "\u001b[0;31mAttributeError\u001b[0m                            Traceback (most recent call last)",
            "\u001b[0;32m<ipython-input-46-1fed1a84fe3e>\u001b[0m in \u001b[0;36m<cell line: 1>\u001b[0;34m()\u001b[0m\n\u001b[0;32m----> 1\u001b[0;31m \u001b[0mc1\u001b[0m\u001b[0;34m.\u001b[0m\u001b[0m__registration\u001b[0m\u001b[0;34m\u001b[0m\u001b[0;34m\u001b[0m\u001b[0m\n\u001b[0m",
            "\u001b[0;31mAttributeError\u001b[0m: 'Car' object has no attribute '__registration'"
          ]
        }
      ]
    },
    {
      "cell_type": "code",
      "source": [
        "c1.display_r()"
      ],
      "metadata": {
        "colab": {
          "base_uri": "https://localhost:8080/"
        },
        "id": "LHxXV1RYEHMi",
        "outputId": "0de41fa5-7287-4411-b74b-f9f3a9811c10"
      },
      "execution_count": 54,
      "outputs": [
        {
          "output_type": "stream",
          "name": "stdout",
          "text": [
            "R101\n"
          ]
        }
      ]
    },
    {
      "cell_type": "code",
      "source": [
        "c1.__registration = \"R200\""
      ],
      "metadata": {
        "id": "u9nA2WmfEOTb"
      },
      "execution_count": 55,
      "outputs": []
    },
    {
      "cell_type": "code",
      "source": [
        "c1.set_registration(\"R300\")"
      ],
      "metadata": {
        "id": "DDV32an7EwVm"
      },
      "execution_count": 56,
      "outputs": []
    },
    {
      "cell_type": "code",
      "source": [
        "c1.display_r()"
      ],
      "metadata": {
        "colab": {
          "base_uri": "https://localhost:8080/"
        },
        "id": "zel738LQEWcD",
        "outputId": "75a7d55f-ea1d-4f65-d35a-09ff568d2845"
      },
      "execution_count": 57,
      "outputs": [
        {
          "output_type": "stream",
          "name": "stdout",
          "text": [
            "R300\n"
          ]
        }
      ]
    },
    {
      "cell_type": "markdown",
      "source": [
        "## Encapsulation: \n",
        "- Binding data and methods into a single entity: Class\n",
        "\n",
        "- using access specifier"
      ],
      "metadata": {
        "id": "dccOHMXmBiR_"
      }
    },
    {
      "cell_type": "code",
      "source": [
        "c1 = Car(\"R101\",\"Red\", \"Nexon\")"
      ],
      "metadata": {
        "id": "dp39ieyLARse"
      },
      "execution_count": 37,
      "outputs": []
    },
    {
      "cell_type": "code",
      "source": [],
      "metadata": {
        "id": "moVJ1vW6DjzQ"
      },
      "execution_count": null,
      "outputs": []
    },
    {
      "cell_type": "code",
      "source": [
        "c1.BrandName"
      ],
      "metadata": {
        "colab": {
          "base_uri": "https://localhost:8080/",
          "height": 56
        },
        "id": "51IGkGdYAhcb",
        "outputId": "a03aba81-c98a-4a47-ff97-1c037eeffbfa"
      },
      "execution_count": 38,
      "outputs": [
        {
          "output_type": "execute_result",
          "data": {
            "text/plain": [
              "'Tata'"
            ],
            "application/vnd.google.colaboratory.intrinsic+json": {
              "type": "string"
            }
          },
          "metadata": {},
          "execution_count": 38
        }
      ]
    },
    {
      "cell_type": "code",
      "source": [
        "c2 = Car(\"R102\",\"Blue\", \"Tiage\")"
      ],
      "metadata": {
        "id": "hpECMZ77AqhO"
      },
      "execution_count": 39,
      "outputs": []
    },
    {
      "cell_type": "code",
      "source": [
        "c1.BrandName"
      ],
      "metadata": {
        "colab": {
          "base_uri": "https://localhost:8080/",
          "height": 56
        },
        "id": "YLgZu4c2BLjD",
        "outputId": "b076ab49-4c35-44b3-f9b2-10d9502e5395"
      },
      "execution_count": 40,
      "outputs": [
        {
          "output_type": "execute_result",
          "data": {
            "text/plain": [
              "'Tata'"
            ],
            "application/vnd.google.colaboratory.intrinsic+json": {
              "type": "string"
            }
          },
          "metadata": {},
          "execution_count": 40
        }
      ]
    },
    {
      "cell_type": "code",
      "source": [
        "c2.BrandName"
      ],
      "metadata": {
        "colab": {
          "base_uri": "https://localhost:8080/",
          "height": 56
        },
        "id": "-t1foFPGBNtv",
        "outputId": "090959a2-7532-463c-c356-8f2535685c92"
      },
      "execution_count": 41,
      "outputs": [
        {
          "output_type": "execute_result",
          "data": {
            "text/plain": [
              "'Tata'"
            ],
            "application/vnd.google.colaboratory.intrinsic+json": {
              "type": "string"
            }
          },
          "metadata": {},
          "execution_count": 41
        }
      ]
    },
    {
      "cell_type": "code",
      "source": [
        "class Car2:\n",
        "    def __init__(self, registration, color, model):\n",
        "        self.registration = registration\n",
        "        self.color = color\n",
        "        self.model = model\n",
        "        a1.BrandName=\"Tata\"\n",
        "\n",
        "    def display_r(self):\n",
        "        print(self.registration)\n",
        "\n",
        "a1 = Car2(\"R101\",\"Red\", \"Nexon\")"
      ],
      "metadata": {
        "colab": {
          "base_uri": "https://localhost:8080/",
          "height": 346
        },
        "id": "UtbECRGNBRL5",
        "outputId": "1d6e48a7-4216-4c7e-8796-39a9ed795344"
      },
      "execution_count": 43,
      "outputs": [
        {
          "output_type": "error",
          "ename": "NameError",
          "evalue": "ignored",
          "traceback": [
            "\u001b[0;31m---------------------------------------------------------------------------\u001b[0m",
            "\u001b[0;31mNameError\u001b[0m                                 Traceback (most recent call last)",
            "\u001b[0;32m<ipython-input-43-d712abcd38ec>\u001b[0m in \u001b[0;36m<cell line: 11>\u001b[0;34m()\u001b[0m\n\u001b[1;32m      9\u001b[0m         \u001b[0mprint\u001b[0m\u001b[0;34m(\u001b[0m\u001b[0mself\u001b[0m\u001b[0;34m.\u001b[0m\u001b[0mregistration\u001b[0m\u001b[0;34m)\u001b[0m\u001b[0;34m\u001b[0m\u001b[0;34m\u001b[0m\u001b[0m\n\u001b[1;32m     10\u001b[0m \u001b[0;34m\u001b[0m\u001b[0m\n\u001b[0;32m---> 11\u001b[0;31m \u001b[0ma1\u001b[0m \u001b[0;34m=\u001b[0m \u001b[0mCar2\u001b[0m\u001b[0;34m(\u001b[0m\u001b[0;34m\"R101\"\u001b[0m\u001b[0;34m,\u001b[0m\u001b[0;34m\"Red\"\u001b[0m\u001b[0;34m,\u001b[0m \u001b[0;34m\"Nexon\"\u001b[0m\u001b[0;34m)\u001b[0m\u001b[0;34m\u001b[0m\u001b[0;34m\u001b[0m\u001b[0m\n\u001b[0m",
            "\u001b[0;32m<ipython-input-43-d712abcd38ec>\u001b[0m in \u001b[0;36m__init__\u001b[0;34m(self, registration, color, model)\u001b[0m\n\u001b[1;32m      4\u001b[0m         \u001b[0mself\u001b[0m\u001b[0;34m.\u001b[0m\u001b[0mcolor\u001b[0m \u001b[0;34m=\u001b[0m \u001b[0mcolor\u001b[0m\u001b[0;34m\u001b[0m\u001b[0;34m\u001b[0m\u001b[0m\n\u001b[1;32m      5\u001b[0m         \u001b[0mself\u001b[0m\u001b[0;34m.\u001b[0m\u001b[0mmodel\u001b[0m \u001b[0;34m=\u001b[0m \u001b[0mmodel\u001b[0m\u001b[0;34m\u001b[0m\u001b[0;34m\u001b[0m\u001b[0m\n\u001b[0;32m----> 6\u001b[0;31m         \u001b[0ma1\u001b[0m\u001b[0;34m.\u001b[0m\u001b[0mBrandName\u001b[0m\u001b[0;34m=\u001b[0m\u001b[0;34m\"Tata\"\u001b[0m\u001b[0;34m\u001b[0m\u001b[0;34m\u001b[0m\u001b[0m\n\u001b[0m\u001b[1;32m      7\u001b[0m \u001b[0;34m\u001b[0m\u001b[0m\n\u001b[1;32m      8\u001b[0m     \u001b[0;32mdef\u001b[0m \u001b[0mdisplay_r\u001b[0m\u001b[0;34m(\u001b[0m\u001b[0mself\u001b[0m\u001b[0;34m)\u001b[0m\u001b[0;34m:\u001b[0m\u001b[0;34m\u001b[0m\u001b[0;34m\u001b[0m\u001b[0m\n",
            "\u001b[0;31mNameError\u001b[0m: name 'a1' is not defined"
          ]
        }
      ]
    },
    {
      "cell_type": "markdown",
      "source": [
        "ABSTRACTION:\n",
        "- No need to know iternals of a method to execute.\n",
        "- 2nd Way\n",
        "https://www.scaler.com/topics/abstract-class-in-python/"
      ],
      "metadata": {
        "id": "J1_W2hHuFJPu"
      }
    },
    {
      "cell_type": "code",
      "source": [
        "c1.display_r()"
      ],
      "metadata": {
        "colab": {
          "base_uri": "https://localhost:8080/"
        },
        "id": "gIq3-xfgDO6L",
        "outputId": "531c82fa-75b3-46de-8379-6d175c4b3f94"
      },
      "execution_count": 58,
      "outputs": [
        {
          "output_type": "stream",
          "name": "stdout",
          "text": [
            "R300\n"
          ]
        }
      ]
    },
    {
      "cell_type": "markdown",
      "source": [
        "### Polymorphism"
      ],
      "metadata": {
        "id": "m-wAgZyFHRfx"
      }
    },
    {
      "cell_type": "code",
      "source": [
        "1+2"
      ],
      "metadata": {
        "colab": {
          "base_uri": "https://localhost:8080/"
        },
        "id": "tj8gavjaGsjE",
        "outputId": "6dca6c9f-8352-4940-b732-001a0f7f6dfc"
      },
      "execution_count": 59,
      "outputs": [
        {
          "output_type": "execute_result",
          "data": {
            "text/plain": [
              "3"
            ]
          },
          "metadata": {},
          "execution_count": 59
        }
      ]
    },
    {
      "cell_type": "code",
      "source": [
        "\"a\" + \"b\""
      ],
      "metadata": {
        "colab": {
          "base_uri": "https://localhost:8080/",
          "height": 56
        },
        "id": "EBTYT68mHUJM",
        "outputId": "523001f2-de3f-4c0f-929f-b2f5ecef7d27"
      },
      "execution_count": 60,
      "outputs": [
        {
          "output_type": "execute_result",
          "data": {
            "text/plain": [
              "'ab'"
            ],
            "application/vnd.google.colaboratory.intrinsic+json": {
              "type": "string"
            }
          },
          "metadata": {},
          "execution_count": 60
        }
      ]
    },
    {
      "cell_type": "code",
      "source": [
        "class Car:\n",
        "    Country=\"India\"\n",
        "    def __init__(self, registration, color, model):\n",
        "        self.registration = registration\n",
        "        self.color = color\n",
        "        self.model = model\n",
        "        self.wheel = 4\n",
        "        \n",
        "    def display_r(self):\n",
        "        print(\"Car RC No\", self.registration)\n",
        "\n",
        "class Bike:\n",
        "    Country=\"India\" # known as class variable or static variable\n",
        "    def __init__(self, registration, color, model):\n",
        "        self.registration = registration\n",
        "        self.color = color\n",
        "        self.model = model\n",
        "        self.wheel = 2\n",
        "        \n",
        "\n",
        "\n",
        "    def display_r(self):\n",
        "        print(\"Bike RC No: \",self.registration)"
      ],
      "metadata": {
        "id": "ZJgFDIaaHW41"
      },
      "execution_count": 70,
      "outputs": []
    },
    {
      "cell_type": "code",
      "source": [
        "c1 = Car(\"C101\", \"Red\", \"Tata Nexon\")\n",
        "b1 = Bike(\"B101\", \"Black\", \"Apache RTR\")"
      ],
      "metadata": {
        "id": "ll4JoBTtHmFG"
      },
      "execution_count": 71,
      "outputs": []
    },
    {
      "cell_type": "code",
      "source": [
        "c1.display_r()"
      ],
      "metadata": {
        "colab": {
          "base_uri": "https://localhost:8080/"
        },
        "id": "bYXU8BbTH8dz",
        "outputId": "cad07d1d-9a83-449f-b7d4-5b48321ede21"
      },
      "execution_count": 72,
      "outputs": [
        {
          "output_type": "stream",
          "name": "stdout",
          "text": [
            "Car RC No C101\n"
          ]
        }
      ]
    },
    {
      "cell_type": "code",
      "source": [
        "b1.display_r()"
      ],
      "metadata": {
        "colab": {
          "base_uri": "https://localhost:8080/"
        },
        "id": "ahN2JuG9IGGL",
        "outputId": "bf31c712-95fe-4a09-c3b3-1984c17377bd"
      },
      "execution_count": 69,
      "outputs": [
        {
          "output_type": "stream",
          "name": "stdout",
          "text": [
            "Bike RC No:  B101\n"
          ]
        }
      ]
    },
    {
      "cell_type": "code",
      "source": [
        "c2 = Car(\"C101\", \"Red\", \"Tata Nexon\")\n"
      ],
      "metadata": {
        "id": "dRfIKjUBIJuq"
      },
      "execution_count": 73,
      "outputs": []
    },
    {
      "cell_type": "code",
      "source": [
        "c1.Country, c2.Country "
      ],
      "metadata": {
        "colab": {
          "base_uri": "https://localhost:8080/"
        },
        "id": "yBQHeBV7Ithk",
        "outputId": "0bbb2aa2-a75c-45e5-c857-cc06a7965ad4"
      },
      "execution_count": 74,
      "outputs": [
        {
          "output_type": "execute_result",
          "data": {
            "text/plain": [
              "('India', 'India')"
            ]
          },
          "metadata": {},
          "execution_count": 74
        }
      ]
    },
    {
      "cell_type": "code",
      "source": [
        "id(c1.Country), id(c2.Country) "
      ],
      "metadata": {
        "colab": {
          "base_uri": "https://localhost:8080/"
        },
        "id": "rGQbvJijIyRM",
        "outputId": "d61793b8-d8d1-4d85-eaf1-c503f0ea6185"
      },
      "execution_count": 75,
      "outputs": [
        {
          "output_type": "execute_result",
          "data": {
            "text/plain": [
              "(140209969073136, 140209969073136)"
            ]
          },
          "metadata": {},
          "execution_count": 75
        }
      ]
    },
    {
      "cell_type": "code",
      "source": [
        "class Vehicle:\n",
        "    Country = \"India\"  # known as class variable or static variable\n",
        "    def __init__(self, registration, color, model):\n",
        "        self.registration = registration\n",
        "        self.color = color\n",
        "        self.model = model\n",
        "\n",
        "    def display_r(self):\n",
        "        print(\"RC No: \",self.registration)\n",
        "\n",
        "class Car(Vehicle):\n",
        "    def __init__(self, registration, color, model):\n",
        "        super().__init__(registration, color, model)\n",
        "        self.wheel = 4\n",
        "        \n",
        "    def display_r(self):\n",
        "        print(\"Car RC No\", self.registration)\n",
        "        super().display_r() # to execute parent method manually\n",
        "\n",
        "class Bike(Vehicle):\n",
        "    def __init__(self, registration, color, model):\n",
        "        super().__init__(registration, color, model)\n",
        "        self.wheel = 2\n"
      ],
      "metadata": {
        "id": "o4KJIJZLI10f"
      },
      "execution_count": 117,
      "outputs": []
    },
    {
      "cell_type": "code",
      "source": [
        "c1 = Car(\"C101\", \"Red\", \"Tata Nexon\")"
      ],
      "metadata": {
        "id": "PAWG5J5TJiM1"
      },
      "execution_count": 118,
      "outputs": []
    },
    {
      "cell_type": "code",
      "source": [
        "c1.registration"
      ],
      "metadata": {
        "colab": {
          "base_uri": "https://localhost:8080/",
          "height": 56
        },
        "id": "S09nbimNJlQy",
        "outputId": "87791888-490d-4058-c98d-ff0074abfd1f"
      },
      "execution_count": 119,
      "outputs": [
        {
          "output_type": "execute_result",
          "data": {
            "text/plain": [
              "'C101'"
            ],
            "application/vnd.google.colaboratory.intrinsic+json": {
              "type": "string"
            }
          },
          "metadata": {},
          "execution_count": 119
        }
      ]
    },
    {
      "cell_type": "code",
      "source": [
        "c1.display_r() "
      ],
      "metadata": {
        "colab": {
          "base_uri": "https://localhost:8080/"
        },
        "id": "V7BBXtCeJqSe",
        "outputId": "f069de9f-9f93-4486-8287-2a4c6bc8461d"
      },
      "execution_count": 120,
      "outputs": [
        {
          "output_type": "stream",
          "name": "stdout",
          "text": [
            "Car RC No C101\n",
            "RC No:  C101\n"
          ]
        }
      ]
    },
    {
      "cell_type": "code",
      "source": [
        "b1 = Bike(\"B101\", \"Red\", \"Harley\")\n",
        "b1.display_r() "
      ],
      "metadata": {
        "colab": {
          "base_uri": "https://localhost:8080/"
        },
        "id": "4rYlJ0lKKMWo",
        "outputId": "22401891-5b93-4a9a-cce0-cd16ffd7c47b"
      },
      "execution_count": 121,
      "outputs": [
        {
          "output_type": "stream",
          "name": "stdout",
          "text": [
            "RC No:  B101\n"
          ]
        }
      ]
    },
    {
      "cell_type": "code",
      "source": [
        "b1.Country"
      ],
      "metadata": {
        "colab": {
          "base_uri": "https://localhost:8080/",
          "height": 56
        },
        "id": "Waa5VeevKp9i",
        "outputId": "97154f0b-8ae2-4314-ff1e-45f4d4d9193d"
      },
      "execution_count": 97,
      "outputs": [
        {
          "output_type": "execute_result",
          "data": {
            "text/plain": [
              "'India'"
            ],
            "application/vnd.google.colaboratory.intrinsic+json": {
              "type": "string"
            }
          },
          "metadata": {},
          "execution_count": 97
        }
      ]
    },
    {
      "cell_type": "code",
      "source": [
        "c1.Country"
      ],
      "metadata": {
        "colab": {
          "base_uri": "https://localhost:8080/",
          "height": 56
        },
        "id": "K6Q7pfhhK1tm",
        "outputId": "53a1fe99-ed3f-4ef2-f38e-f226fdf8b383"
      },
      "execution_count": 98,
      "outputs": [
        {
          "output_type": "execute_result",
          "data": {
            "text/plain": [
              "'India'"
            ],
            "application/vnd.google.colaboratory.intrinsic+json": {
              "type": "string"
            }
          },
          "metadata": {},
          "execution_count": 98
        }
      ]
    },
    {
      "cell_type": "code",
      "source": [
        "class Vehicle:\n",
        "    Country = \"India\"  # known as class variable or static variable\n",
        "    __State = \"Telangana\"\n",
        "    def __init__(self, registration, color, model):\n",
        "        self.registration = registration\n",
        "        self.color = color\n",
        "        self.model = model\n",
        "\n",
        "    def display_r(self):\n",
        "        print(\"RC No: \",self.registration)\n",
        "\n",
        "class Car(Vehicle):\n",
        "    def __init__(self, registration, color, model):\n",
        "        super().__init__(registration, color, model)\n",
        "        self.wheel = 4\n",
        "        \n",
        "    def display_r(self):\n",
        "        print(\"Car RC No\", self.registration)\n",
        "        super().display_r() # to execute parent method manually\n",
        "\n",
        "class Bike(Vehicle):\n",
        "    def __init__(self, registration, color, model):\n",
        "        super().__init__(registration, color, model)\n",
        "        self.wheel = 2\n",
        "\n",
        "    def print_statics(self):\n",
        "        print(self.Country)\n",
        "        print(self.__State)\n"
      ],
      "metadata": {
        "id": "426cUaqdK3Sz"
      },
      "execution_count": 109,
      "outputs": []
    },
    {
      "cell_type": "code",
      "source": [
        "b1 = Bike(\"B101\", \"Red\", \"Harley\")\n",
        "c1 = Car(\"C101\", \"Red\", \"Tata Nexon\")"
      ],
      "metadata": {
        "id": "E6q_iHneLIUp"
      },
      "execution_count": 110,
      "outputs": []
    },
    {
      "cell_type": "code",
      "source": [
        "b1.Country, c1.Country"
      ],
      "metadata": {
        "colab": {
          "base_uri": "https://localhost:8080/"
        },
        "id": "YkphSt_bLOfG",
        "outputId": "f02fbf64-675d-4dae-8fdf-2e6b172217a1"
      },
      "execution_count": 111,
      "outputs": [
        {
          "output_type": "execute_result",
          "data": {
            "text/plain": [
              "('India', 'India')"
            ]
          },
          "metadata": {},
          "execution_count": 111
        }
      ]
    },
    {
      "cell_type": "code",
      "source": [
        "b1.print_statics()"
      ],
      "metadata": {
        "colab": {
          "base_uri": "https://localhost:8080/",
          "height": 293
        },
        "id": "6gqUtALBLP8s",
        "outputId": "e501beb4-3eb1-47e1-d470-d92829720029"
      },
      "execution_count": 112,
      "outputs": [
        {
          "output_type": "stream",
          "name": "stdout",
          "text": [
            "India\n"
          ]
        },
        {
          "output_type": "error",
          "ename": "AttributeError",
          "evalue": "ignored",
          "traceback": [
            "\u001b[0;31m---------------------------------------------------------------------------\u001b[0m",
            "\u001b[0;31mAttributeError\u001b[0m                            Traceback (most recent call last)",
            "\u001b[0;32m<ipython-input-112-bbea95859fff>\u001b[0m in \u001b[0;36m<cell line: 1>\u001b[0;34m()\u001b[0m\n\u001b[0;32m----> 1\u001b[0;31m \u001b[0mb1\u001b[0m\u001b[0;34m.\u001b[0m\u001b[0mprint_statics\u001b[0m\u001b[0;34m(\u001b[0m\u001b[0;34m)\u001b[0m\u001b[0;34m\u001b[0m\u001b[0;34m\u001b[0m\u001b[0m\n\u001b[0m",
            "\u001b[0;32m<ipython-input-109-3d2dc500edaf>\u001b[0m in \u001b[0;36mprint_statics\u001b[0;34m(self)\u001b[0m\n\u001b[1;32m     26\u001b[0m     \u001b[0;32mdef\u001b[0m \u001b[0mprint_statics\u001b[0m\u001b[0;34m(\u001b[0m\u001b[0mself\u001b[0m\u001b[0;34m)\u001b[0m\u001b[0;34m:\u001b[0m\u001b[0;34m\u001b[0m\u001b[0;34m\u001b[0m\u001b[0m\n\u001b[1;32m     27\u001b[0m         \u001b[0mprint\u001b[0m\u001b[0;34m(\u001b[0m\u001b[0mself\u001b[0m\u001b[0;34m.\u001b[0m\u001b[0mCountry\u001b[0m\u001b[0;34m)\u001b[0m\u001b[0;34m\u001b[0m\u001b[0;34m\u001b[0m\u001b[0m\n\u001b[0;32m---> 28\u001b[0;31m         \u001b[0mprint\u001b[0m\u001b[0;34m(\u001b[0m\u001b[0mself\u001b[0m\u001b[0;34m.\u001b[0m\u001b[0m__State\u001b[0m\u001b[0;34m)\u001b[0m\u001b[0;34m\u001b[0m\u001b[0;34m\u001b[0m\u001b[0m\n\u001b[0m",
            "\u001b[0;31mAttributeError\u001b[0m: 'Bike' object has no attribute '_Bike__State'"
          ]
        }
      ]
    },
    {
      "cell_type": "markdown",
      "source": [
        "- Private vars are not inherited"
      ],
      "metadata": {
        "id": "xhhrsZqXMCKp"
      }
    },
    {
      "cell_type": "code",
      "source": [
        "class Vehicle:\n",
        "    Country = \"India\"  # known as class variable or static variable\n",
        "    __State = \"Telangana\"\n",
        "    def __init__(self, registration, color, model):\n",
        "        self.registration = registration\n",
        "        self.color = color\n",
        "        self.model = model\n",
        "\n",
        "    def display_r(self):\n",
        "        print(\"RC No: \",self.registration)\n",
        "\n",
        "class Car(Vehicle):\n",
        "    def __init__(self, registration, color, model):\n",
        "        super().__init__(registration, color, model)\n",
        "        self.wheel = 4\n",
        "        \n",
        "    def display_r(self):\n",
        "        print(\"Car RC No\", self.registration)\n",
        "        super().display_r() # to execute parent method manually\n",
        "\n",
        "class Bike(Vehicle):\n",
        "    def __init__(self, registration, color, model):\n",
        "        super().__init__(registration, color, model)\n",
        "        self.wheel = 2\n",
        "\n",
        "    def print_statics(self):\n",
        "        print(self.Country)\n",
        "        print(self.__State)"
      ],
      "metadata": {
        "id": "jrSpiZhaLbDs"
      },
      "execution_count": null,
      "outputs": []
    },
    {
      "cell_type": "code",
      "source": [
        "class Vehicle:\n",
        "    Country = \"India\"  # known as class variable or static variable\n",
        "    __State = \"Telangana\"\n",
        "    def __init__(self, registration, color, model):\n",
        "        self.registration = registration\n",
        "        self.color = color\n",
        "        self.model = model\n",
        "\n",
        "    def display_r(self):\n",
        "        print(\"Parent Class RC No: \",self.registration)\n",
        "\n",
        "class Car(Vehicle):\n",
        "    def __init__(self, registration, color, model):\n",
        "        super().__init__(registration, color, model)\n",
        "        self.wheel = 4\n",
        "        \n",
        "    def display_r(self):\n",
        "        print(\"Car RC No\", self.registration)\n",
        "        #super().display_r() # to execute parent method manually\n",
        "\n",
        "class Bike(Vehicle):\n",
        "    def __init__(self, registration, color, model):\n",
        "        super().__init__(registration, color, model)\n",
        "        self.wheel = 2\n",
        "\n",
        "    def print_statics(self):\n",
        "        print(self.Country)\n",
        "        print(self.__State)\n",
        "   \n",
        "    def display_r(self):\n",
        "        print(\"Bike RC No\", self.registration)\n",
        "        super().display_r() # to execute parent method manually\n",
        "\n",
        "class BiQuadVehicle(Car, Bike):\n",
        "      def __init__(self, registration, color, model):\n",
        "        super().__init__(registration, color, model)\n",
        "        self.wheel_op = 2\n",
        "        self.wheel_oc = 4\n",
        "\n",
        "bq = BiQuadVehicle(\"B101\", \"Red\", \"Harley\")\n",
        "bq.display_r()\n"
      ],
      "metadata": {
        "colab": {
          "base_uri": "https://localhost:8080/"
        },
        "id": "JO-PMkd7MeMG",
        "outputId": "8da63ead-38ec-4492-8637-c68a4e5be649"
      },
      "execution_count": 123,
      "outputs": [
        {
          "output_type": "stream",
          "name": "stdout",
          "text": [
            "Car RC No B101\n"
          ]
        }
      ]
    },
    {
      "cell_type": "code",
      "source": [
        "BiQuadVehicle.__mro__"
      ],
      "metadata": {
        "colab": {
          "base_uri": "https://localhost:8080/"
        },
        "id": "Qw_mdWuXMriP",
        "outputId": "54f62028-531b-4c5e-9e86-aaddd4a5daad"
      },
      "execution_count": 124,
      "outputs": [
        {
          "output_type": "execute_result",
          "data": {
            "text/plain": [
              "(__main__.BiQuadVehicle, __main__.Car, __main__.Bike, __main__.Vehicle, object)"
            ]
          },
          "metadata": {},
          "execution_count": 124
        }
      ]
    },
    {
      "cell_type": "code",
      "source": [
        "BiQuadVehicle.mro()"
      ],
      "metadata": {
        "colab": {
          "base_uri": "https://localhost:8080/"
        },
        "id": "hyfjqkvzQneC",
        "outputId": "7c591790-1b4d-4615-b34c-741f6387dcc2"
      },
      "execution_count": 125,
      "outputs": [
        {
          "output_type": "execute_result",
          "data": {
            "text/plain": [
              "[__main__.BiQuadVehicle, __main__.Car, __main__.Bike, __main__.Vehicle, object]"
            ]
          },
          "metadata": {},
          "execution_count": 125
        }
      ]
    },
    {
      "cell_type": "code",
      "source": [],
      "metadata": {
        "id": "0g9dkhkhQtNZ"
      },
      "execution_count": null,
      "outputs": []
    }
  ]
}