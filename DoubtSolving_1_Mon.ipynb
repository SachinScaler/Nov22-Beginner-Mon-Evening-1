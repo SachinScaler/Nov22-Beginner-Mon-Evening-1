{
  "nbformat": 4,
  "nbformat_minor": 0,
  "metadata": {
    "colab": {
      "provenance": [],
      "authorship_tag": "ABX9TyM/zvHn6kEfgN5Q6aG7vODV",
      "include_colab_link": true
    },
    "kernelspec": {
      "name": "python3",
      "display_name": "Python 3"
    },
    "language_info": {
      "name": "python"
    }
  },
  "cells": [
    {
      "cell_type": "markdown",
      "metadata": {
        "id": "view-in-github",
        "colab_type": "text"
      },
      "source": [
        "<a href=\"https://colab.research.google.com/github/SachinScaler/Nov22-Beginner-Mon-Evening-1/blob/main/DoubtSolving_1_Mon.ipynb\" target=\"_parent\"><img src=\"https://colab.research.google.com/assets/colab-badge.svg\" alt=\"Open In Colab\"/></a>"
      ]
    },
    {
      "cell_type": "code",
      "execution_count": 7,
      "metadata": {
        "id": "F4rQQkmMRbdW"
      },
      "outputs": [],
      "source": []
    },
    {
      "cell_type": "code",
      "source": [],
      "metadata": {
        "id": "b4eVvR15SPoL"
      },
      "execution_count": 8,
      "outputs": []
    },
    {
      "cell_type": "code",
      "source": [
        "with open(\"MyNewFile.txt\", 'w') as file:\n",
        "  file.write(\"ABCDE\")\n",
        "\n",
        "with open(\"MyNewFile.txt\", 'r') as file:\n",
        "  a = (file.read(5)) # line1 Both  lines are in with Block(Under Context of With Statement)\n",
        "  print(file.closed) # line2"
      ],
      "metadata": {
        "colab": {
          "base_uri": "https://localhost:8080/"
        },
        "id": "leFMuaR3Seki",
        "outputId": "4ed36629-0f66-4e93-8b31-36ff40e848a4"
      },
      "execution_count": 10,
      "outputs": [
        {
          "output_type": "stream",
          "name": "stdout",
          "text": [
            "False\n"
          ]
        }
      ]
    },
    {
      "cell_type": "code",
      "source": [
        "with open(\"MyNewFile.txt\", 'w') as file:\n",
        "  file.write(\"ABCDE\")\n",
        "\n",
        "with open(\"MyNewFile.txt\", 'r') as file:\n",
        "  a = (file.read(5))\n",
        "print(file.closed)\n"
      ],
      "metadata": {
        "colab": {
          "base_uri": "https://localhost:8080/"
        },
        "id": "g1ro-BahUXlT",
        "outputId": "38474a63-fabe-414c-da6a-5236dbfb9aaa"
      },
      "execution_count": 11,
      "outputs": [
        {
          "output_type": "stream",
          "name": "stdout",
          "text": [
            "True\n"
          ]
        }
      ]
    },
    {
      "cell_type": "code",
      "source": [
        "Try Try but never cry\n",
        "\n",
        "\n",
        "read(4)--> \"Try \"\n",
        "read(5)--> \"Try b\""
      ],
      "metadata": {
        "id": "DCAGfxc9U1pl"
      },
      "execution_count": null,
      "outputs": []
    },
    {
      "cell_type": "code",
      "source": [
        "with open(\"file1.txt\", \"w\" ) as f:\n",
        "    f.write(\"ABCD\")"
      ],
      "metadata": {
        "id": "Li5DureTVyC8"
      },
      "execution_count": 12,
      "outputs": []
    },
    {
      "cell_type": "code",
      "source": [
        "with open(\"file1.txt\", \"w\" ) as f:\n",
        "    f.write(\"A\\nB\\nC\\nD\\n\")"
      ],
      "metadata": {
        "id": "0TjO6_j-WH8W"
      },
      "execution_count": 13,
      "outputs": []
    },
    {
      "cell_type": "code",
      "source": [
        "with open(\"file2.txt\", \"w\" ) as f:\n",
        "    f.writelines([\"A\\n\" ,\"B\\n\",\"C\\n\", \"D\\n\"])"
      ],
      "metadata": {
        "id": "kJcOvyROWQ0u"
      },
      "execution_count": 14,
      "outputs": []
    },
    {
      "cell_type": "code",
      "source": [
        "with open(\"file2.txt\", \"w\" ) as f:\n",
        "    f.writelines([\"A \" ,\"B \",\"C \", \"D \"])"
      ],
      "metadata": {
        "id": "1ODdoNZgWjTH"
      },
      "execution_count": 29,
      "outputs": []
    },
    {
      "cell_type": "code",
      "source": [
        "output = \"\\n\".join([\"A\" ,\"B\",\"C\", \"D\"])\n",
        "output"
      ],
      "metadata": {
        "colab": {
          "base_uri": "https://localhost:8080/",
          "height": 36
        },
        "id": "axLAOdOWWv4S",
        "outputId": "433aebac-a03d-4364-e0c3-c53c590c9885"
      },
      "execution_count": 16,
      "outputs": [
        {
          "output_type": "execute_result",
          "data": {
            "text/plain": [
              "'A\\nB\\nC\\nD'"
            ],
            "application/vnd.google.colaboratory.intrinsic+json": {
              "type": "string"
            }
          },
          "metadata": {},
          "execution_count": 16
        }
      ]
    },
    {
      "cell_type": "code",
      "source": [
        "with open(\"file1.txt\", \"r\" ) as f:\n",
        "    print(f.readlines())"
      ],
      "metadata": {
        "colab": {
          "base_uri": "https://localhost:8080/"
        },
        "id": "OMfyTfdbXEL1",
        "outputId": "1fb7e52a-6018-4f96-a13b-8aee0ace80ed"
      },
      "execution_count": 17,
      "outputs": [
        {
          "output_type": "stream",
          "name": "stdout",
          "text": [
            "['A\\n', 'B\\n', 'C\\n', 'D\\n']\n"
          ]
        }
      ]
    },
    {
      "cell_type": "code",
      "source": [
        "with open(\"file1.txt\", \"r\" ) as f:\n",
        "    output_list = f.readlines()\n",
        "print(output_list)"
      ],
      "metadata": {
        "colab": {
          "base_uri": "https://localhost:8080/"
        },
        "id": "JzSIXFM7XbhX",
        "outputId": "abb72490-ab5a-4388-bd8d-b3bc18c77fd2"
      },
      "execution_count": 21,
      "outputs": [
        {
          "output_type": "stream",
          "name": "stdout",
          "text": [
            "['A\\n', 'B\\n', 'C\\n', 'D\\n']\n"
          ]
        }
      ]
    },
    {
      "cell_type": "code",
      "source": [
        "type(output_list)"
      ],
      "metadata": {
        "colab": {
          "base_uri": "https://localhost:8080/"
        },
        "id": "d5ulpxHJX4Vw",
        "outputId": "72ae4362-bb9c-4abc-9620-345a2f20f198"
      },
      "execution_count": 22,
      "outputs": [
        {
          "output_type": "execute_result",
          "data": {
            "text/plain": [
              "list"
            ]
          },
          "metadata": {},
          "execution_count": 22
        }
      ]
    },
    {
      "cell_type": "code",
      "source": [
        "with open(\"file1.txt\", \"r\" ) as f:\n",
        "    output_list = f.read()\n",
        "print(output_list)"
      ],
      "metadata": {
        "colab": {
          "base_uri": "https://localhost:8080/"
        },
        "id": "y0h3xk7_X13b",
        "outputId": "b9a700b9-8a69-48a7-adc1-e5b263f00a10"
      },
      "execution_count": 23,
      "outputs": [
        {
          "output_type": "stream",
          "name": "stdout",
          "text": [
            "A\n",
            "B\n",
            "C\n",
            "D\n",
            "\n"
          ]
        }
      ]
    },
    {
      "cell_type": "code",
      "source": [
        "type(output_list)"
      ],
      "metadata": {
        "colab": {
          "base_uri": "https://localhost:8080/"
        },
        "id": "VeUU0RUjXld7",
        "outputId": "54b7982e-3678-445e-d6c3-1e0ee473fa49"
      },
      "execution_count": 24,
      "outputs": [
        {
          "output_type": "execute_result",
          "data": {
            "text/plain": [
              "str"
            ]
          },
          "metadata": {},
          "execution_count": 24
        }
      ]
    },
    {
      "cell_type": "code",
      "source": [
        "with open(\"file1.txt\", \"r\" ) as f:\n",
        "    output_list = f.readline() # read only one row at a time into string\n",
        "print(output_list)"
      ],
      "metadata": {
        "colab": {
          "base_uri": "https://localhost:8080/"
        },
        "id": "HyTQ5PlxXw-Q",
        "outputId": "6eadb1e6-1eb9-4ee9-dd6f-6cdb9030b327"
      },
      "execution_count": 25,
      "outputs": [
        {
          "output_type": "stream",
          "name": "stdout",
          "text": [
            "A\n",
            "\n"
          ]
        }
      ]
    },
    {
      "cell_type": "code",
      "source": [
        "with open(\"file1.txt\", \"r\" ) as f:\n",
        "    print(\"reading: \", f.readline()) # read only one row at a time into string\n",
        "    print(\"reading again: \",f.readline()) # read only one row at a time into string\n"
      ],
      "metadata": {
        "colab": {
          "base_uri": "https://localhost:8080/"
        },
        "id": "QMVXtWgEYCDp",
        "outputId": "9e738a64-53bb-466f-9e21-e57df500d96a"
      },
      "execution_count": 27,
      "outputs": [
        {
          "output_type": "stream",
          "name": "stdout",
          "text": [
            "reading:  A\n",
            "\n",
            "reading again:  B\n",
            "\n"
          ]
        }
      ]
    },
    {
      "cell_type": "code",
      "source": [
        "students = [\"S ROY\" , \"B BOSE\" ,\"N KAR\" , \"C DUTTA\" ,\"G GHOSH\", \"B KAR\"]\n",
        "scores = [1 , 3 ,2, 1 , 1, 2]"
      ],
      "metadata": {
        "id": "OhSSjzwgYTxu"
      },
      "execution_count": 64,
      "outputs": []
    },
    {
      "cell_type": "code",
      "source": [
        "list(zip(students,scores))"
      ],
      "metadata": {
        "colab": {
          "base_uri": "https://localhost:8080/"
        },
        "id": "kFktg06VaCX_",
        "outputId": "1b473363-d47a-4fe2-f116-f0ede8568f18"
      },
      "execution_count": 65,
      "outputs": [
        {
          "output_type": "execute_result",
          "data": {
            "text/plain": [
              "[('S ROY', 1),\n",
              " ('B BOSE', 3),\n",
              " ('N KAR', 2),\n",
              " ('C DUTTA', 1),\n",
              " ('G GHOSH', 1),\n",
              " ('B KAR', 2)]"
            ]
          },
          "metadata": {},
          "execution_count": 65
        }
      ]
    },
    {
      "cell_type": "code",
      "source": [
        "student_data = list(map(list,zip(students,scores))) # line 1\n",
        "student_data"
      ],
      "metadata": {
        "colab": {
          "base_uri": "https://localhost:8080/"
        },
        "id": "BfauczcLaCVu",
        "outputId": "997e11dd-4f26-46d9-ceb8-8ef2c1a3b799"
      },
      "execution_count": 66,
      "outputs": [
        {
          "output_type": "execute_result",
          "data": {
            "text/plain": [
              "[['S ROY', 1],\n",
              " ['B BOSE', 3],\n",
              " ['N KAR', 2],\n",
              " ['C DUTTA', 1],\n",
              " ['G GHOSH', 1],\n",
              " ['B KAR', 2]]"
            ]
          },
          "metadata": {},
          "execution_count": 66
        }
      ]
    },
    {
      "cell_type": "code",
      "source": [
        "# second step to get second lowest marks\n",
        "second_low_score = sorted(list(set(scores)))[1] # line 2\n",
        "second_low_score"
      ],
      "metadata": {
        "colab": {
          "base_uri": "https://localhost:8080/"
        },
        "id": "l1Cl3qsaaCTn",
        "outputId": "67ed6d34-c35c-4d84-aea1-db16cc751243"
      },
      "execution_count": 67,
      "outputs": [
        {
          "output_type": "execute_result",
          "data": {
            "text/plain": [
              "2"
            ]
          },
          "metadata": {},
          "execution_count": 67
        }
      ]
    },
    {
      "cell_type": "code",
      "source": [
        "# second step to get second Higest marks\n",
        "# second_low_score = sorted(list(set(scores)))[-2] # replace -2  or set reverse = True"
      ],
      "metadata": {
        "id": "zHbO9JiqaCRP"
      },
      "execution_count": 68,
      "outputs": []
    },
    {
      "cell_type": "code",
      "source": [
        "list(filter(lambda x : x[1]==second_low_score, student_data ))"
      ],
      "metadata": {
        "colab": {
          "base_uri": "https://localhost:8080/"
        },
        "id": "wFBHd2ywaCPG",
        "outputId": "5df7ba11-b0c3-4121-f069-5ac75287fbf6"
      },
      "execution_count": 69,
      "outputs": [
        {
          "output_type": "execute_result",
          "data": {
            "text/plain": [
              "[['N KAR', 2], ['B KAR', 2]]"
            ]
          },
          "metadata": {},
          "execution_count": 69
        }
      ]
    },
    {
      "cell_type": "code",
      "source": [
        "list(filter(lambda x : x[1]==second_low_score, student_data ))"
      ],
      "metadata": {
        "colab": {
          "base_uri": "https://localhost:8080/"
        },
        "id": "VZgmVjxWaCMr",
        "outputId": "6ec52889-f3dc-4447-b0f2-ae35e123df2d"
      },
      "execution_count": 75,
      "outputs": [
        {
          "output_type": "execute_result",
          "data": {
            "text/plain": [
              "[['N KAR', 2], ['B KAR', 2]]"
            ]
          },
          "metadata": {},
          "execution_count": 75
        }
      ]
    },
    {
      "cell_type": "code",
      "source": [
        "list(map(lambda x: x[0], list(filter(lambda x : x[1]==second_low_score, student_data )))) # line 3"
      ],
      "metadata": {
        "colab": {
          "base_uri": "https://localhost:8080/"
        },
        "id": "GJKjXIbfdihR",
        "outputId": "7568028e-dd27-44a5-e55e-f9530fc7e0e2"
      },
      "execution_count": 76,
      "outputs": [
        {
          "output_type": "execute_result",
          "data": {
            "text/plain": [
              "['N KAR', 'B KAR']"
            ]
          },
          "metadata": {},
          "execution_count": 76
        }
      ]
    },
    {
      "cell_type": "code",
      "source": [],
      "metadata": {
        "id": "jfbapbZQdDqc"
      },
      "execution_count": null,
      "outputs": []
    },
    {
      "cell_type": "code",
      "source": [
        "output =list(filter(lambda x : x[1]==second_low_score, student_data ))\n",
        "print(output)"
      ],
      "metadata": {
        "colab": {
          "base_uri": "https://localhost:8080/"
        },
        "id": "M9wk-nPdd2pE",
        "outputId": "97921601-03ab-43fe-819e-f2d559dccede"
      },
      "execution_count": 77,
      "outputs": [
        {
          "output_type": "stream",
          "name": "stdout",
          "text": [
            "[['N KAR', 2], ['B KAR', 2]]\n"
          ]
        }
      ]
    },
    {
      "cell_type": "code",
      "source": [
        "for l in output:\n",
        "    print(l[0])"
      ],
      "metadata": {
        "colab": {
          "base_uri": "https://localhost:8080/"
        },
        "id": "ZI1Qbm2Ad2mb",
        "outputId": "9df17f84-c606-45b3-da19-24fe3c2a8027"
      },
      "execution_count": 79,
      "outputs": [
        {
          "output_type": "stream",
          "name": "stdout",
          "text": [
            "N KAR\n",
            "B KAR\n"
          ]
        }
      ]
    },
    {
      "cell_type": "code",
      "source": [
        "[i[0] for i in output]"
      ],
      "metadata": {
        "colab": {
          "base_uri": "https://localhost:8080/"
        },
        "id": "aFuh2GdDd2j9",
        "outputId": "2e54a477-6756-4716-c3fb-58b9ebbde922"
      },
      "execution_count": 81,
      "outputs": [
        {
          "output_type": "execute_result",
          "data": {
            "text/plain": [
              "['N KAR', 'B KAR']"
            ]
          },
          "metadata": {},
          "execution_count": 81
        }
      ]
    },
    {
      "cell_type": "code",
      "source": [
        "student_data[0]"
      ],
      "metadata": {
        "colab": {
          "base_uri": "https://localhost:8080/"
        },
        "id": "CBeDH2ZEcdS1",
        "outputId": "b901a582-8e36-47b1-8694-4b3689073647"
      },
      "execution_count": 61,
      "outputs": [
        {
          "output_type": "execute_result",
          "data": {
            "text/plain": [
              "['S ROY', 1]"
            ]
          },
          "metadata": {},
          "execution_count": 61
        }
      ]
    },
    {
      "cell_type": "code",
      "source": [
        "student_data[1]"
      ],
      "metadata": {
        "colab": {
          "base_uri": "https://localhost:8080/"
        },
        "id": "8Z9ftTMHb1aR",
        "outputId": "fb931df9-12d6-425f-a43c-568b910f07ed"
      },
      "execution_count": 60,
      "outputs": [
        {
          "output_type": "execute_result",
          "data": {
            "text/plain": [
              "['B BOSE', 3]"
            ]
          },
          "metadata": {},
          "execution_count": 60
        }
      ]
    },
    {
      "cell_type": "code",
      "source": [
        "(lambda x: x[1]==3) (student_data[1])"
      ],
      "metadata": {
        "colab": {
          "base_uri": "https://localhost:8080/"
        },
        "id": "r22tSDIZb1Xr",
        "outputId": "634ea25f-16d9-45bf-d580-79f532fdb936"
      },
      "execution_count": 63,
      "outputs": [
        {
          "output_type": "execute_result",
          "data": {
            "text/plain": [
              "True"
            ]
          },
          "metadata": {},
          "execution_count": 63
        }
      ]
    },
    {
      "cell_type": "code",
      "source": [],
      "metadata": {
        "id": "-TE4bLHnb1Vb"
      },
      "execution_count": null,
      "outputs": []
    },
    {
      "cell_type": "code",
      "source": [],
      "metadata": {
        "id": "woB8N8xOb1TC"
      },
      "execution_count": null,
      "outputs": []
    },
    {
      "cell_type": "code",
      "source": [
        "[['S ROY', 1.0], ['B BOSE', 3.0], ['N KAR', 2.0], ['C DUTTA', 1.0], ['G GHOSH', 1.0]]\n",
        "2.0\n",
        "[\"N KAR\"] # ?"
      ],
      "metadata": {
        "id": "dH1m0X8DZwap"
      },
      "execution_count": 29,
      "outputs": []
    },
    {
      "cell_type": "code",
      "source": [
        "def second_lowest(students, scores):\n",
        "    \n",
        "    student_data, second_low_score, second_names = None, None, None\n",
        "    \n",
        "    # Your code starts here\n",
        "    \n",
        "    \n",
        "    # Your code ends here\n",
        "    return student_data, second_low_score, second_name"
      ],
      "metadata": {
        "id": "ldCSWGoVZcQZ"
      },
      "execution_count": null,
      "outputs": []
    },
    {
      "cell_type": "code",
      "source": [],
      "metadata": {
        "id": "-DCSHfcWeuq3"
      },
      "execution_count": null,
      "outputs": []
    },
    {
      "cell_type": "code",
      "source": [],
      "metadata": {
        "id": "W-IXu12TeqDR"
      },
      "execution_count": null,
      "outputs": []
    },
    {
      "cell_type": "code",
      "source": [
        "students = [\"S ROY\" , \"B BOSE\" ,\"N KAR\" , \"C DUTTA\" ,\"G GHOSH\", \"B KAR\"]\n",
        "scores = [1 , 3 ,2, 1 , 1, 2]"
      ],
      "metadata": {
        "id": "oN1D_VBDevIp"
      },
      "execution_count": null,
      "outputs": []
    },
    {
      "cell_type": "code",
      "source": [
        "dict(zip(students,scores ))"
      ],
      "metadata": {
        "colab": {
          "base_uri": "https://localhost:8080/"
        },
        "id": "VPZPLfSYevGZ",
        "outputId": "0c060f46-cf94-4d3d-da3b-8fa5dfc4c85d"
      },
      "execution_count": 82,
      "outputs": [
        {
          "output_type": "execute_result",
          "data": {
            "text/plain": [
              "{'S ROY': 1, 'B BOSE': 3, 'N KAR': 2, 'C DUTTA': 1, 'G GHOSH': 1, 'B KAR': 2}"
            ]
          },
          "metadata": {},
          "execution_count": 82
        }
      ]
    },
    {
      "cell_type": "code",
      "source": [
        "dict(zip(scores,students))"
      ],
      "metadata": {
        "colab": {
          "base_uri": "https://localhost:8080/"
        },
        "id": "-KprdpAZevD_",
        "outputId": "0e9f6c04-7cc3-4e38-dfaa-1474de6ec1a8"
      },
      "execution_count": 83,
      "outputs": [
        {
          "output_type": "execute_result",
          "data": {
            "text/plain": [
              "{1: 'G GHOSH', 3: 'B BOSE', 2: 'B KAR'}"
            ]
          },
          "metadata": {},
          "execution_count": 83
        }
      ]
    },
    {
      "cell_type": "code",
      "source": [
        "# evaluate() printing the number of vowels if the Name is Smaller otherwise it prints the number of consonants.\"\n",
        "\n",
        "name = \"Sachini\"\n",
        "name = set(name)\n",
        "vowel_count = len(list(filter(lambda x :x in 'aeiouAEIOU',name )))\n",
        "vowel_count"
      ],
      "metadata": {
        "colab": {
          "base_uri": "https://localhost:8080/"
        },
        "id": "biiokw6ee9-L",
        "outputId": "8041dacc-9e2b-4ce6-87c8-8459e62941d9"
      },
      "execution_count": 92,
      "outputs": [
        {
          "output_type": "execute_result",
          "data": {
            "text/plain": [
              "2"
            ]
          },
          "metadata": {},
          "execution_count": 92
        }
      ]
    },
    {
      "cell_type": "code",
      "source": [
        "const_count =len(name)- vowel_count\n",
        "const_count"
      ],
      "metadata": {
        "colab": {
          "base_uri": "https://localhost:8080/"
        },
        "id": "0w70kvx3gaQa",
        "outputId": "d414f288-a37d-449c-81cc-2dab1c510f3c"
      },
      "execution_count": 90,
      "outputs": [
        {
          "output_type": "execute_result",
          "data": {
            "text/plain": [
              "4"
            ]
          },
          "metadata": {},
          "execution_count": 90
        }
      ]
    },
    {
      "cell_type": "code",
      "source": [],
      "metadata": {
        "id": "oIHq5PmtgJLb"
      },
      "execution_count": 90,
      "outputs": []
    },
    {
      "cell_type": "code",
      "source": [
        "### HOF: A fucntion that return a func\n",
        "\n",
        "def gen_mul(x):\n",
        "    def mul(y):\n",
        "        return x*y\n",
        "    return mul \n",
        "\n",
        "a  = gen_mul(5)\n",
        "\n",
        "### is this a HOF? Yes\n",
        "### Is this a generator? No"
      ],
      "metadata": {
        "id": "V79U2gRGgWgZ"
      },
      "execution_count": 93,
      "outputs": []
    },
    {
      "cell_type": "code",
      "source": [
        "print(a)\n",
        "\n",
        "\n",
        "'''\n",
        "def mul(y):\n",
        "    return 5*y\n",
        "'''"
      ],
      "metadata": {
        "colab": {
          "base_uri": "https://localhost:8080/"
        },
        "id": "USzYLloMlPDY",
        "outputId": "19c89415-dd0c-4c46-955d-f5592b963ee7"
      },
      "execution_count": 94,
      "outputs": [
        {
          "output_type": "stream",
          "name": "stdout",
          "text": [
            "<function gen_mul.<locals>.mul at 0x7f86ed31aca0>\n"
          ]
        }
      ]
    },
    {
      "cell_type": "code",
      "source": [
        "\n",
        "def mul(y):\n",
        "    return 5*y\n",
        "mul(2)"
      ],
      "metadata": {
        "colab": {
          "base_uri": "https://localhost:8080/"
        },
        "id": "UXJt8YPgloEW",
        "outputId": "fea3c17b-e9c1-4244-a0cf-f8cdc57a3a20"
      },
      "execution_count": 95,
      "outputs": [
        {
          "output_type": "execute_result",
          "data": {
            "text/plain": [
              "10"
            ]
          },
          "metadata": {},
          "execution_count": 95
        }
      ]
    },
    {
      "cell_type": "code",
      "source": [
        "a(2)"
      ],
      "metadata": {
        "colab": {
          "base_uri": "https://localhost:8080/"
        },
        "id": "PeUqO9qFlSun",
        "outputId": "95705113-3edf-46ef-84a9-9537b997d56a"
      },
      "execution_count": 96,
      "outputs": [
        {
          "output_type": "execute_result",
          "data": {
            "text/plain": [
              "10"
            ]
          },
          "metadata": {},
          "execution_count": 96
        }
      ]
    },
    {
      "cell_type": "code",
      "source": [
        "b = gen_mul(101)\n",
        "print(b)"
      ],
      "metadata": {
        "colab": {
          "base_uri": "https://localhost:8080/"
        },
        "id": "uUfGQ9eGlxQc",
        "outputId": "358d29ed-7372-4a94-f2a8-04602059059d"
      },
      "execution_count": 97,
      "outputs": [
        {
          "output_type": "stream",
          "name": "stdout",
          "text": [
            "<function gen_mul.<locals>.mul at 0x7f86ed3db4c0>\n"
          ]
        }
      ]
    },
    {
      "cell_type": "code",
      "source": [
        "def mul(y):\n",
        "    return 101*y"
      ],
      "metadata": {
        "id": "bchPdhQemGnt"
      },
      "execution_count": null,
      "outputs": []
    },
    {
      "cell_type": "code",
      "source": [
        "b(2)"
      ],
      "metadata": {
        "colab": {
          "base_uri": "https://localhost:8080/"
        },
        "id": "AyD-WlOjmQ35",
        "outputId": "fd1b8575-b3e4-4dad-9084-e87431673422"
      },
      "execution_count": 98,
      "outputs": [
        {
          "output_type": "execute_result",
          "data": {
            "text/plain": [
              "202"
            ]
          },
          "metadata": {},
          "execution_count": 98
        }
      ]
    },
    {
      "cell_type": "code",
      "source": [
        "b(3)"
      ],
      "metadata": {
        "colab": {
          "base_uri": "https://localhost:8080/"
        },
        "id": "eRC7t22Km2PZ",
        "outputId": "57be09fd-da0b-4cde-d562-b7c1c93bdccd"
      },
      "execution_count": 99,
      "outputs": [
        {
          "output_type": "execute_result",
          "data": {
            "text/plain": [
              "303"
            ]
          },
          "metadata": {},
          "execution_count": 99
        }
      ]
    },
    {
      "cell_type": "code",
      "source": [
        "b(4)"
      ],
      "metadata": {
        "colab": {
          "base_uri": "https://localhost:8080/"
        },
        "id": "TZaEv6z8m44R",
        "outputId": "9ebbaec5-6078-4fc4-d3e5-b754e48ffb3f"
      },
      "execution_count": 100,
      "outputs": [
        {
          "output_type": "execute_result",
          "data": {
            "text/plain": [
              "404"
            ]
          },
          "metadata": {},
          "execution_count": 100
        }
      ]
    },
    {
      "cell_type": "code",
      "source": [
        "# def funct():\n",
        "    \n",
        "\n",
        "\n",
        "#     return x\n",
        "#     # yeild x"
      ],
      "metadata": {
        "id": "NgDWoIummUSR"
      },
      "execution_count": null,
      "outputs": []
    },
    {
      "cell_type": "code",
      "source": [
        "range(1,6)"
      ],
      "metadata": {
        "colab": {
          "base_uri": "https://localhost:8080/"
        },
        "id": "Ujc_kPIBm-_o",
        "outputId": "05c6a07e-bfc4-4658-91c2-7d439a261ebd"
      },
      "execution_count": 101,
      "outputs": [
        {
          "output_type": "execute_result",
          "data": {
            "text/plain": [
              "range(1, 6)"
            ]
          },
          "metadata": {},
          "execution_count": 101
        }
      ]
    },
    {
      "cell_type": "code",
      "source": [
        "a = iter(range(1,6))"
      ],
      "metadata": {
        "id": "amYvzDyanAAn"
      },
      "execution_count": 104,
      "outputs": []
    },
    {
      "cell_type": "code",
      "source": [
        "a"
      ],
      "metadata": {
        "colab": {
          "base_uri": "https://localhost:8080/"
        },
        "id": "qY12y-cDnDwk",
        "outputId": "1a50f9c2-bc56-46c4-9dfd-ec4c00ccd590"
      },
      "execution_count": 105,
      "outputs": [
        {
          "output_type": "execute_result",
          "data": {
            "text/plain": [
              "<range_iterator at 0x7f86ed43a150>"
            ]
          },
          "metadata": {},
          "execution_count": 105
        }
      ]
    },
    {
      "cell_type": "code",
      "source": [
        "next(a)"
      ],
      "metadata": {
        "colab": {
          "base_uri": "https://localhost:8080/"
        },
        "id": "w4SPwTSVnIFM",
        "outputId": "bfa1663a-c944-4627-d46b-b82bb4b37b13"
      },
      "execution_count": 106,
      "outputs": [
        {
          "output_type": "execute_result",
          "data": {
            "text/plain": [
              "1"
            ]
          },
          "metadata": {},
          "execution_count": 106
        }
      ]
    },
    {
      "cell_type": "code",
      "source": [
        "next(a)"
      ],
      "metadata": {
        "colab": {
          "base_uri": "https://localhost:8080/"
        },
        "id": "h6SprDMInJeZ",
        "outputId": "884658e4-648f-4261-a46a-12fe7e76aa48"
      },
      "execution_count": 107,
      "outputs": [
        {
          "output_type": "execute_result",
          "data": {
            "text/plain": [
              "2"
            ]
          },
          "metadata": {},
          "execution_count": 107
        }
      ]
    },
    {
      "cell_type": "code",
      "source": [
        "next(a)"
      ],
      "metadata": {
        "colab": {
          "base_uri": "https://localhost:8080/"
        },
        "id": "LoLXy0YrnNDH",
        "outputId": "b0710f0e-c36e-45c4-949e-085e01520653"
      },
      "execution_count": 108,
      "outputs": [
        {
          "output_type": "execute_result",
          "data": {
            "text/plain": [
              "3"
            ]
          },
          "metadata": {},
          "execution_count": 108
        }
      ]
    },
    {
      "cell_type": "code",
      "source": [
        "next(a)"
      ],
      "metadata": {
        "colab": {
          "base_uri": "https://localhost:8080/"
        },
        "id": "dVecVp5snVH6",
        "outputId": "5127b0ac-d4e9-46f2-b86a-1244625a6c4a"
      },
      "execution_count": 109,
      "outputs": [
        {
          "output_type": "execute_result",
          "data": {
            "text/plain": [
              "4"
            ]
          },
          "metadata": {},
          "execution_count": 109
        }
      ]
    },
    {
      "cell_type": "code",
      "source": [
        "next(a)"
      ],
      "metadata": {
        "colab": {
          "base_uri": "https://localhost:8080/"
        },
        "id": "FSNcR7LRnXPH",
        "outputId": "6ba70258-95f7-47fd-bfe2-0cf9f4c59ab8"
      },
      "execution_count": 110,
      "outputs": [
        {
          "output_type": "execute_result",
          "data": {
            "text/plain": [
              "5"
            ]
          },
          "metadata": {},
          "execution_count": 110
        }
      ]
    },
    {
      "cell_type": "code",
      "source": [
        "next(a)"
      ],
      "metadata": {
        "colab": {
          "base_uri": "https://localhost:8080/",
          "height": 168
        },
        "id": "Qj5E_g6Un-z0",
        "outputId": "801cd837-45f9-49d5-946c-d802367e37bd"
      },
      "execution_count": 114,
      "outputs": [
        {
          "output_type": "error",
          "ename": "StopIteration",
          "evalue": "ignored",
          "traceback": [
            "\u001b[0;31m---------------------------------------------------------------------------\u001b[0m",
            "\u001b[0;31mStopIteration\u001b[0m                             Traceback (most recent call last)",
            "\u001b[0;32m<ipython-input-114-15841f3f11d4>\u001b[0m in \u001b[0;36m<cell line: 1>\u001b[0;34m()\u001b[0m\n\u001b[0;32m----> 1\u001b[0;31m \u001b[0mnext\u001b[0m\u001b[0;34m(\u001b[0m\u001b[0ma\u001b[0m\u001b[0;34m)\u001b[0m\u001b[0;34m\u001b[0m\u001b[0;34m\u001b[0m\u001b[0m\n\u001b[0m",
            "\u001b[0;31mStopIteration\u001b[0m: "
          ]
        }
      ]
    },
    {
      "cell_type": "code",
      "source": [
        "list1 = [1, 2, 3]\n",
        "print(list1.append(5))"
      ],
      "metadata": {
        "colab": {
          "base_uri": "https://localhost:8080/"
        },
        "id": "tGE_fIxpnYNF",
        "outputId": "e032966f-ff83-43bd-cb8b-40c4f598be30"
      },
      "execution_count": 111,
      "outputs": [
        {
          "output_type": "stream",
          "name": "stdout",
          "text": [
            "None\n"
          ]
        }
      ]
    },
    {
      "cell_type": "code",
      "source": [
        "str1 = \"abc\"\n",
        "str1 = str1+\"d\""
      ],
      "metadata": {
        "id": "1GJk_J3Rnv0m"
      },
      "execution_count": 112,
      "outputs": []
    },
    {
      "cell_type": "code",
      "source": [
        "str1"
      ],
      "metadata": {
        "colab": {
          "base_uri": "https://localhost:8080/",
          "height": 36
        },
        "id": "5-FE57zUn30u",
        "outputId": "9daefcbb-7de0-441a-9687-29986fc3322d"
      },
      "execution_count": 113,
      "outputs": [
        {
          "output_type": "execute_result",
          "data": {
            "text/plain": [
              "'abcd'"
            ],
            "application/vnd.google.colaboratory.intrinsic+json": {
              "type": "string"
            }
          },
          "metadata": {},
          "execution_count": 113
        }
      ]
    },
    {
      "cell_type": "code",
      "source": [
        "[ 1,2, 3,4,5,6]"
      ],
      "metadata": {
        "id": "Jrjdievsn4-v"
      },
      "execution_count": null,
      "outputs": []
    },
    {
      "cell_type": "code",
      "source": [
        "### decorator: decoratores accept function as input argument and return func \n",
        "def pretty(func):\n",
        "    def func2():\n",
        "        print(\"-\"*50)\n",
        "        func()\n",
        "        print(\"-\"*50)\n",
        "\n",
        "    return func2\n",
        "\n",
        "\n",
        "f1 = lambda : print(\" \"*25 + \"Hello\" + \" \"*25)\n",
        "\n",
        "a = pretty(f1)\n"
      ],
      "metadata": {
        "id": "Q6-x7K1zonMU"
      },
      "execution_count": 134,
      "outputs": []
    },
    {
      "cell_type": "code",
      "source": [
        "f1()"
      ],
      "metadata": {
        "colab": {
          "base_uri": "https://localhost:8080/"
        },
        "id": "1colNVyfp-SF",
        "outputId": "35eb8bd1-72e5-4419-e54b-0e96e25c2676"
      },
      "execution_count": 135,
      "outputs": [
        {
          "output_type": "stream",
          "name": "stdout",
          "text": [
            "                         Hello                         \n"
          ]
        }
      ]
    },
    {
      "cell_type": "code",
      "source": [
        "a()"
      ],
      "metadata": {
        "colab": {
          "base_uri": "https://localhost:8080/"
        },
        "id": "VQV60CTap-dl",
        "outputId": "893c6d03-a556-4ad1-bbbe-3edf66918e7d"
      },
      "execution_count": 136,
      "outputs": [
        {
          "output_type": "stream",
          "name": "stdout",
          "text": [
            "--------------------------------------------------\n",
            "                         Hello                         \n",
            "--------------------------------------------------\n"
          ]
        }
      ]
    },
    {
      "cell_type": "markdown",
      "source": [
        "``` \n",
        "-- helo -- \n",
        "```"
      ],
      "metadata": {
        "id": "tGYIWPLQrvws"
      }
    },
    {
      "cell_type": "code",
      "source": [
        "f2 = lambda : print(\"World\")\n",
        "b = pretty(f2)\n",
        "b()"
      ],
      "metadata": {
        "colab": {
          "base_uri": "https://localhost:8080/"
        },
        "id": "uI9VfU84qGwN",
        "outputId": "fdd5f4eb-3628-4721-ff9b-d3e5951c992e"
      },
      "execution_count": 123,
      "outputs": [
        {
          "output_type": "stream",
          "name": "stdout",
          "text": [
            "--------------------------------------------------\n",
            "World\n",
            "--------------------------------------------------\n"
          ]
        }
      ]
    },
    {
      "cell_type": "code",
      "source": [
        "@pretty\n",
        "def print_w():\n",
        "    print(\"World\")\n",
        "print_w()"
      ],
      "metadata": {
        "colab": {
          "base_uri": "https://localhost:8080/"
        },
        "id": "HHHtCRx9qTjC",
        "outputId": "393de3c0-1a96-4b7a-b200-62aefe060afa"
      },
      "execution_count": 125,
      "outputs": [
        {
          "output_type": "stream",
          "name": "stdout",
          "text": [
            "--------------------------------------------------\n",
            "World\n",
            "--------------------------------------------------\n"
          ]
        }
      ]
    },
    {
      "cell_type": "code",
      "source": [
        "def pretty2(func):\n",
        "    def func2():\n",
        "        print(\"#\"*50)\n",
        "        func()\n",
        "        print(\"#\"*50)\n",
        "\n",
        "    return func2"
      ],
      "metadata": {
        "id": "07GudoS5qftx"
      },
      "execution_count": 126,
      "outputs": []
    },
    {
      "cell_type": "code",
      "source": [
        "@pretty\n",
        "@pretty2\n",
        "def print_w():\n",
        "    string = \"Hello\"\n",
        "    hyp = 50\n",
        "    val = hyp//2 - len(string)//2\n",
        "    print(\" \"*val + \"Hello\" + \" \"*val)\n",
        "print_w()"
      ],
      "metadata": {
        "colab": {
          "base_uri": "https://localhost:8080/"
        },
        "id": "O0DTVQZiqva4",
        "outputId": "6c13355e-c9f3-4676-d932-cb746d070fda"
      },
      "execution_count": 138,
      "outputs": [
        {
          "output_type": "stream",
          "name": "stdout",
          "text": [
            "--------------------------------------------------\n",
            "##################################################\n",
            "                       Hello                       \n",
            "##################################################\n",
            "--------------------------------------------------\n"
          ]
        }
      ]
    },
    {
      "cell_type": "code",
      "source": [
        "##################################################\n",
        "                      World\n",
        "##################################################"
      ],
      "metadata": {
        "id": "CPuEWtfhsGZZ"
      },
      "execution_count": null,
      "outputs": []
    },
    {
      "cell_type": "code",
      "source": [
        "names = [\"Adam\",\"Millie\",\"Jacob\",\"Michael\",\"Maxine\"] \n",
        "loc = [(1,2),(5,4),(0,3),(2,3),(0,0)]"
      ],
      "metadata": {
        "id": "1wxnGz4Iq2YM"
      },
      "execution_count": 139,
      "outputs": []
    },
    {
      "cell_type": "code",
      "source": [
        "list1 = []\n",
        "for i in range(len(names)):\n",
        "    for j in range(i+1, len(names)):\n",
        "        x1, y1 = loc[i]\n",
        "        x2, y2 = loc[j]\n",
        "        distance = abs(x1-x2) + abs(y1 - y2)\n",
        "        print(names[i], names[j], distance)\n",
        "        list1.append(distance)\n",
        "print(list1)"
      ],
      "metadata": {
        "colab": {
          "base_uri": "https://localhost:8080/"
        },
        "id": "OPRNJ3Hvs_n6",
        "outputId": "b39aface-5132-43e1-f35d-df88b0381d9c"
      },
      "execution_count": 149,
      "outputs": [
        {
          "output_type": "stream",
          "name": "stdout",
          "text": [
            "Adam Millie 6\n",
            "Adam Jacob 2\n",
            "Adam Michael 2\n",
            "Adam Maxine 3\n",
            "Millie Jacob 6\n",
            "Millie Michael 4\n",
            "Millie Maxine 9\n",
            "Jacob Michael 2\n",
            "Jacob Maxine 3\n",
            "Michael Maxine 5\n",
            "[6, 2, 2, 3, 6, 4, 9, 2, 3, 5]\n"
          ]
        }
      ]
    },
    {
      "cell_type": "code",
      "source": [
        "[6, 2, 2, 3, 6, 4, 9, 2, 3, 5][::-1]"
      ],
      "metadata": {
        "colab": {
          "base_uri": "https://localhost:8080/"
        },
        "id": "q7Hk6AarwE-Y",
        "outputId": "99e7d294-c4d9-43bb-f807-c93aa2ca03b1"
      },
      "execution_count": 154,
      "outputs": [
        {
          "output_type": "execute_result",
          "data": {
            "text/plain": [
              "[5, 3, 2, 9, 4, 6, 3, 2, 2, 6]"
            ]
          },
          "metadata": {},
          "execution_count": 154
        }
      ]
    },
    {
      "cell_type": "code",
      "source": [
        "min(list1)"
      ],
      "metadata": {
        "colab": {
          "base_uri": "https://localhost:8080/"
        },
        "id": "JESL5Mr0tYmo",
        "outputId": "7ae0ccad-09e9-429a-db41-523e0927bb24"
      },
      "execution_count": 150,
      "outputs": [
        {
          "output_type": "execute_result",
          "data": {
            "text/plain": [
              "2"
            ]
          },
          "metadata": {},
          "execution_count": 150
        }
      ]
    },
    {
      "cell_type": "code",
      "source": [
        "list1 = []\n",
        "for i in range(len(names)):\n",
        "    for j in range(i+1, len(names)):\n",
        "        x1, y1 = loc[i]\n",
        "        x2, y2 = loc[j]\n",
        "        distance = abs(x1-x2) + abs(y1 - y2)\n",
        "        list1.append(distance)\n",
        "\n",
        "min_d = min(list1) # min element in all distances\n",
        "\n",
        "list_output = []\n",
        "for i in range(len(names)):\n",
        "    for j in range(i+1, len(names)):\n",
        "        x1, y1 = loc[i]\n",
        "        x2, y2 = loc[j]\n",
        "        distance = abs(x1-x2) + abs(y1 - y2)\n",
        "        if distance == min_d:\n",
        "            list_output.append([names[i], names[j]])\n",
        "\n",
        "list_output"
      ],
      "metadata": {
        "colab": {
          "base_uri": "https://localhost:8080/"
        },
        "id": "OXZEQBJAultB",
        "outputId": "0661641d-fa39-4900-e808-233ab379b115"
      },
      "execution_count": 153,
      "outputs": [
        {
          "output_type": "execute_result",
          "data": {
            "text/plain": [
              "[['Adam', 'Jacob'], ['Adam', 'Michael'], ['Jacob', 'Michael']]"
            ]
          },
          "metadata": {},
          "execution_count": 153
        }
      ]
    },
    {
      "cell_type": "code",
      "source": [],
      "metadata": {
        "id": "ktiXZseFu1TQ"
      },
      "execution_count": null,
      "outputs": []
    },
    {
      "cell_type": "markdown",
      "source": [
        "EXCEPTION HANDLING AND MODULES\n",
        "\n",
        "- TRY EXCEPT AND FINALLY\n",
        "\n",
        "- How to import modules"
      ],
      "metadata": {
        "id": "CL2O4ox6xNK0"
      }
    }
  ]
}